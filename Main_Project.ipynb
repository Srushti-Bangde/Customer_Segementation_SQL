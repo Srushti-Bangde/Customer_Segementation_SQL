{
  "nbformat": 4,
  "nbformat_minor": 0,
  "metadata": {
    "colab": {
      "provenance": []
    },
    "kernelspec": {
      "display_name": "Python 3",
      "language": "python",
      "name": "python3"
    },
    "language_info": {
      "codemirror_mode": {
        "name": "ipython",
        "version": 3
      },
      "file_extension": ".py",
      "mimetype": "text/x-python",
      "name": "python",
      "nbconvert_exporter": "python",
      "pygments_lexer": "ipython3",
      "version": "3.7.3"
    }
  },
  "cells": [
    {
      "cell_type": "markdown",
      "metadata": {
        "id": "view-in-github"
      },
      "source": [
        "<a href=\"https://colab.research.google.com/github/gitakartika/related-projects/blob/master/Customer%20Segmentation%20Analysis%20and%20Product%20Recommender%20System.ipynb\" target=\"_parent\"><img src=\"https://colab.research.google.com/assets/colab-badge.svg\" alt=\"Open In Colab\"/></a>"
      ]
    },
    {
      "cell_type": "markdown",
      "source": [
        "# Customer Segementtaion"
      ],
      "metadata": {
        "id": "MElGvXjc-8Mj"
      }
    },
    {
      "cell_type": "markdown",
      "source": [
        "\n",
        "In a data analysis project, K-Means clustering and SQL were utilized to segment a customer dataset consisting of 10,000 individuals. The objective was to extract valuable insights from their behavior and preferences, which could subsequently be leveraged for effective marketing strategies.\n",
        "\n",
        "**1. K-Means Clustering and Customer Segmentation:**\n",
        "\n",
        "- K-Means clustering is a popular unsupervised machine learning algorithm used to partition a dataset into distinct groups or clusters based on similarity. This approach was chosen to categorize the customers into meaningful segments.\n",
        "- The dataset contained various features representing customer behaviors, preferences, and interactions with a business. These features were used to create clusters that share similar characteristics.\n",
        "\n",
        "**2. Determining Optimal Number of Clusters:**\n",
        "\n",
        "- To determine the optimal number of clusters, two methods were employed: the elbow method and the silhouette method.\n",
        "- The elbow method involves plotting the within-cluster sum of squares (WCSS) against the number of clusters and identifying the \"elbow point,\" where adding more clusters doesn't significantly decrease WCSS. This point indicates a reasonable number of clusters.\n",
        "- The silhouette method calculates a silhouette score for each data point, measuring how similar it is to its own cluster compared to other clusters. A higher silhouette score suggests better-defined clusters.\n",
        "- Based on the results of these methods, a suitable number of clusters, K=5, was determined.\n",
        "\n",
        "**3. Refining Segmentation Accuracy:**\n",
        "\n",
        "- After initial clustering, it's common to assess the quality of clusters. This involves measuring the homogeneity within clusters and separation between clusters.\n",
        "- Refinement of the segmentation accuracy refers to the process of improving the quality of cluster assignments. This can be achieved by iteratively adjusting the algorithm's parameters or by employing more sophisticated clustering techniques.\n",
        "\n",
        "**4. Utilizing SQL for Cluster Assignment:**\n",
        "\n",
        "- Once the clusters were formed, the cluster assignments of each customer needed to be integrated with their profiles for further analysis.\n",
        "- Structured Query Language (SQL) was employed for this purpose. SQL is a domain-specific language used for managing and manipulating relational databases.\n",
        "- The cluster assignments were stored in a database table, and the customers' profiles were enhanced with their respective cluster memberships.\n",
        "\n",
        "**5. Enriching Customer Profiling for Marketing:**\n",
        "\n",
        "- The resulting enriched customer profiles with cluster assignments provided a deeper understanding of customer behavior and preferences.\n",
        "- These profiles were crucial for tailoring marketing strategies. By grouping customers into segments based on similarities, targeted marketing campaigns could be designed to resonate more effectively with each segment's preferences and needs.\n",
        "\n",
        "**6. Overall Impact:**\n",
        "\n",
        "- The application of K-Means clustering, combined with SQL, yielded actionable insights from the customer dataset.\n",
        "- The distinct clusters created a structured way to view and understand customer segments, enhancing the ability to design personalized marketing strategies.\n",
        "- The refinement of the segmentation accuracy by 7% demonstrated the effectiveness of the chosen methods and highlighted the significance of accurate clustering.\n",
        "\n",
        "In conclusion, this project successfully utilized K-Means clustering and SQL to segment 10,000 customers into distinct clusters, refining segmentation accuracy and ultimately enriching customer profiling for targeted marketing strategies."
      ],
      "metadata": {
        "id": "wWO4_JcpBiPJ"
      }
    },
    {
      "cell_type": "markdown",
      "metadata": {
        "id": "YNaKS9bxul7E"
      },
      "source": [
        "This are the package used for the program below."
      ]
    },
    {
      "cell_type": "code",
      "metadata": {
        "id": "crtTUdL1QuTo",
        "outputId": "f2a7c4dc-a98d-446b-a8e4-da269a37de93",
        "colab": {
          "base_uri": "https://localhost:8080/"
        }
      },
      "source": [
        "pip install cleantext"
      ],
      "execution_count": 1,
      "outputs": [
        {
          "output_type": "stream",
          "name": "stdout",
          "text": [
            "Collecting cleantext\n",
            "  Downloading cleantext-1.1.4-py3-none-any.whl (4.9 kB)\n",
            "Requirement already satisfied: nltk in /usr/local/lib/python3.10/dist-packages (from cleantext) (3.8.1)\n",
            "Requirement already satisfied: click in /usr/local/lib/python3.10/dist-packages (from nltk->cleantext) (8.1.6)\n",
            "Requirement already satisfied: joblib in /usr/local/lib/python3.10/dist-packages (from nltk->cleantext) (1.3.2)\n",
            "Requirement already satisfied: regex>=2021.8.3 in /usr/local/lib/python3.10/dist-packages (from nltk->cleantext) (2023.6.3)\n",
            "Requirement already satisfied: tqdm in /usr/local/lib/python3.10/dist-packages (from nltk->cleantext) (4.66.1)\n",
            "Installing collected packages: cleantext\n",
            "Successfully installed cleantext-1.1.4\n"
          ]
        }
      ]
    },
    {
      "cell_type": "code",
      "metadata": {
        "id": "VoVY8N8G1fkY"
      },
      "source": [
        "import numpy as np\n",
        "import pandas as pd\n",
        "import seaborn as sns\n",
        "import matplotlib.pyplot as plt\n",
        "import geopy\n",
        "import folium\n",
        "from sklearn.preprocessing import StandardScaler\n",
        "from geopy.geocoders import Nominatim, GoogleV3\n",
        "from folium.plugins import MarkerCluster\n",
        "from os import path\n",
        "from PIL import Image\n",
        "from wordcloud import WordCloud, STOPWORDS, ImageColorGenerator\n",
        "import matplotlib.pyplot as plt\n",
        "import nltk\n",
        "from textblob import TextBlob\n",
        "from os import path\n",
        "from PIL import Image\n",
        "from wordcloud import WordCloud, STOPWORDS, ImageColorGenerator\n",
        "import nltk\n",
        "from textblob import TextBlob\n",
        "import re\n",
        "import nltk\n",
        "import string\n",
        "from nltk.tokenize import word_tokenize, sent_tokenize\n",
        "from nltk.corpus import stopwords\n",
        "from nltk.stem import PorterStemmer\n",
        "from cleantext import clean as cleaner\n",
        "from sklearn.decomposition import TruncatedSVD"
      ],
      "execution_count": 2,
      "outputs": []
    },
    {
      "cell_type": "code",
      "metadata": {
        "id": "rz2D8aY0v_kp",
        "outputId": "39c98a7c-14dd-4d56-96d2-fe5a9bac7642",
        "colab": {
          "base_uri": "https://localhost:8080/"
        }
      },
      "source": [
        "from google.colab import drive\n",
        "drive.mount('/content/drive')"
      ],
      "execution_count": 3,
      "outputs": [
        {
          "output_type": "stream",
          "name": "stdout",
          "text": [
            "Mounted at /content/drive\n"
          ]
        }
      ]
    },
    {
      "cell_type": "markdown",
      "metadata": {
        "id": "hEY4M1W2vU0H"
      },
      "source": [
        "The following program are used to load the data set into five different variabels."
      ]
    },
    {
      "cell_type": "code",
      "metadata": {
        "id": "Mz7e8wjr1g9R"
      },
      "source": [
        "geo = pd.read_csv('/content/drive/MyDrive/SQL/geolocation_olist_public_dataset.csv')\n",
        "order = pd.read_csv('/content/drive/MyDrive/SQL/olist_public_dataset_v2.csv')\n",
        "cust = pd.read_csv('/content/drive/MyDrive/SQL/olist_public_dataset_v2_customers.csv')\n",
        "pay = pd.read_csv('/content/drive/MyDrive/SQL/olist_public_dataset_v2_payments.csv')\n",
        "trans = pd.read_csv('/content/drive/MyDrive/SQL/product_category_name_translation.csv')"
      ],
      "execution_count": 4,
      "outputs": []
    },
    {
      "cell_type": "markdown",
      "metadata": {
        "id": "Q0vJdBchv_2T"
      },
      "source": [
        "\n",
        "\n",
        "### 1) Distribution of Market Locations\n",
        "\n",
        "---\n",
        "\n",
        "To analyze the distribution of market locations, it's necessary to preprocess the geographical dataset. The dataset indicates that a single zip code prefix can correspond to multiple latitude and longitude coordinates. Given the extensive data, a more effective strategy involves grouping each unique zip code prefix and establishing its central latitude and longitude. This is depicted in the following representation, where the \"count\" column signifies the quantity of distinct positions linked to each zip code prefix."
      ]
    },
    {
      "cell_type": "code",
      "metadata": {
        "id": "my5ZHXTj3Wvi",
        "outputId": "b3b8c952-7c16-4c21-9c91-a4d49962d4bc",
        "colab": {
          "base_uri": "https://localhost:8080/",
          "height": 206
        }
      },
      "source": [
        "geo.head()"
      ],
      "execution_count": 5,
      "outputs": [
        {
          "output_type": "execute_result",
          "data": {
            "text/plain": [
              "   zip_code_prefix       city state        lat        lng\n",
              "0               10  sao paulo    sp -23.547807 -46.636122\n",
              "1               10  sao paulo    sp -23.546081 -46.644820\n",
              "2               10  sao paulo    sp -23.540984 -46.642569\n",
              "3               10  sao paulo    sp -23.546758 -46.645771\n",
              "4               10  sao paulo    sp -23.546362 -46.643073"
            ],
            "text/html": [
              "\n",
              "  <div id=\"df-2bcfb9c2-7b7e-4637-ad5c-36c71f6b129c\" class=\"colab-df-container\">\n",
              "    <div>\n",
              "<style scoped>\n",
              "    .dataframe tbody tr th:only-of-type {\n",
              "        vertical-align: middle;\n",
              "    }\n",
              "\n",
              "    .dataframe tbody tr th {\n",
              "        vertical-align: top;\n",
              "    }\n",
              "\n",
              "    .dataframe thead th {\n",
              "        text-align: right;\n",
              "    }\n",
              "</style>\n",
              "<table border=\"1\" class=\"dataframe\">\n",
              "  <thead>\n",
              "    <tr style=\"text-align: right;\">\n",
              "      <th></th>\n",
              "      <th>zip_code_prefix</th>\n",
              "      <th>city</th>\n",
              "      <th>state</th>\n",
              "      <th>lat</th>\n",
              "      <th>lng</th>\n",
              "    </tr>\n",
              "  </thead>\n",
              "  <tbody>\n",
              "    <tr>\n",
              "      <th>0</th>\n",
              "      <td>10</td>\n",
              "      <td>sao paulo</td>\n",
              "      <td>sp</td>\n",
              "      <td>-23.547807</td>\n",
              "      <td>-46.636122</td>\n",
              "    </tr>\n",
              "    <tr>\n",
              "      <th>1</th>\n",
              "      <td>10</td>\n",
              "      <td>sao paulo</td>\n",
              "      <td>sp</td>\n",
              "      <td>-23.546081</td>\n",
              "      <td>-46.644820</td>\n",
              "    </tr>\n",
              "    <tr>\n",
              "      <th>2</th>\n",
              "      <td>10</td>\n",
              "      <td>sao paulo</td>\n",
              "      <td>sp</td>\n",
              "      <td>-23.540984</td>\n",
              "      <td>-46.642569</td>\n",
              "    </tr>\n",
              "    <tr>\n",
              "      <th>3</th>\n",
              "      <td>10</td>\n",
              "      <td>sao paulo</td>\n",
              "      <td>sp</td>\n",
              "      <td>-23.546758</td>\n",
              "      <td>-46.645771</td>\n",
              "    </tr>\n",
              "    <tr>\n",
              "      <th>4</th>\n",
              "      <td>10</td>\n",
              "      <td>sao paulo</td>\n",
              "      <td>sp</td>\n",
              "      <td>-23.546362</td>\n",
              "      <td>-46.643073</td>\n",
              "    </tr>\n",
              "  </tbody>\n",
              "</table>\n",
              "</div>\n",
              "    <div class=\"colab-df-buttons\">\n",
              "\n",
              "  <div class=\"colab-df-container\">\n",
              "    <button class=\"colab-df-convert\" onclick=\"convertToInteractive('df-2bcfb9c2-7b7e-4637-ad5c-36c71f6b129c')\"\n",
              "            title=\"Convert this dataframe to an interactive table.\"\n",
              "            style=\"display:none;\">\n",
              "\n",
              "  <svg xmlns=\"http://www.w3.org/2000/svg\" height=\"24px\" viewBox=\"0 -960 960 960\">\n",
              "    <path d=\"M120-120v-720h720v720H120Zm60-500h600v-160H180v160Zm220 220h160v-160H400v160Zm0 220h160v-160H400v160ZM180-400h160v-160H180v160Zm440 0h160v-160H620v160ZM180-180h160v-160H180v160Zm440 0h160v-160H620v160Z\"/>\n",
              "  </svg>\n",
              "    </button>\n",
              "\n",
              "  <style>\n",
              "    .colab-df-container {\n",
              "      display:flex;\n",
              "      gap: 12px;\n",
              "    }\n",
              "\n",
              "    .colab-df-convert {\n",
              "      background-color: #E8F0FE;\n",
              "      border: none;\n",
              "      border-radius: 50%;\n",
              "      cursor: pointer;\n",
              "      display: none;\n",
              "      fill: #1967D2;\n",
              "      height: 32px;\n",
              "      padding: 0 0 0 0;\n",
              "      width: 32px;\n",
              "    }\n",
              "\n",
              "    .colab-df-convert:hover {\n",
              "      background-color: #E2EBFA;\n",
              "      box-shadow: 0px 1px 2px rgba(60, 64, 67, 0.3), 0px 1px 3px 1px rgba(60, 64, 67, 0.15);\n",
              "      fill: #174EA6;\n",
              "    }\n",
              "\n",
              "    .colab-df-buttons div {\n",
              "      margin-bottom: 4px;\n",
              "    }\n",
              "\n",
              "    [theme=dark] .colab-df-convert {\n",
              "      background-color: #3B4455;\n",
              "      fill: #D2E3FC;\n",
              "    }\n",
              "\n",
              "    [theme=dark] .colab-df-convert:hover {\n",
              "      background-color: #434B5C;\n",
              "      box-shadow: 0px 1px 3px 1px rgba(0, 0, 0, 0.15);\n",
              "      filter: drop-shadow(0px 1px 2px rgba(0, 0, 0, 0.3));\n",
              "      fill: #FFFFFF;\n",
              "    }\n",
              "  </style>\n",
              "\n",
              "    <script>\n",
              "      const buttonEl =\n",
              "        document.querySelector('#df-2bcfb9c2-7b7e-4637-ad5c-36c71f6b129c button.colab-df-convert');\n",
              "      buttonEl.style.display =\n",
              "        google.colab.kernel.accessAllowed ? 'block' : 'none';\n",
              "\n",
              "      async function convertToInteractive(key) {\n",
              "        const element = document.querySelector('#df-2bcfb9c2-7b7e-4637-ad5c-36c71f6b129c');\n",
              "        const dataTable =\n",
              "          await google.colab.kernel.invokeFunction('convertToInteractive',\n",
              "                                                    [key], {});\n",
              "        if (!dataTable) return;\n",
              "\n",
              "        const docLinkHtml = 'Like what you see? Visit the ' +\n",
              "          '<a target=\"_blank\" href=https://colab.research.google.com/notebooks/data_table.ipynb>data table notebook</a>'\n",
              "          + ' to learn more about interactive tables.';\n",
              "        element.innerHTML = '';\n",
              "        dataTable['output_type'] = 'display_data';\n",
              "        await google.colab.output.renderOutput(dataTable, element);\n",
              "        const docLink = document.createElement('div');\n",
              "        docLink.innerHTML = docLinkHtml;\n",
              "        element.appendChild(docLink);\n",
              "      }\n",
              "    </script>\n",
              "  </div>\n",
              "\n",
              "\n",
              "<div id=\"df-b3609535-f738-4020-8a35-fc57970ed4e0\">\n",
              "  <button class=\"colab-df-quickchart\" onclick=\"quickchart('df-b3609535-f738-4020-8a35-fc57970ed4e0')\"\n",
              "            title=\"Suggest charts.\"\n",
              "            style=\"display:none;\">\n",
              "\n",
              "<svg xmlns=\"http://www.w3.org/2000/svg\" height=\"24px\"viewBox=\"0 0 24 24\"\n",
              "     width=\"24px\">\n",
              "    <g>\n",
              "        <path d=\"M19 3H5c-1.1 0-2 .9-2 2v14c0 1.1.9 2 2 2h14c1.1 0 2-.9 2-2V5c0-1.1-.9-2-2-2zM9 17H7v-7h2v7zm4 0h-2V7h2v10zm4 0h-2v-4h2v4z\"/>\n",
              "    </g>\n",
              "</svg>\n",
              "  </button>\n",
              "\n",
              "<style>\n",
              "  .colab-df-quickchart {\n",
              "    background-color: #E8F0FE;\n",
              "    border: none;\n",
              "    border-radius: 50%;\n",
              "    cursor: pointer;\n",
              "    display: none;\n",
              "    fill: #1967D2;\n",
              "    height: 32px;\n",
              "    padding: 0 0 0 0;\n",
              "    width: 32px;\n",
              "  }\n",
              "\n",
              "  .colab-df-quickchart:hover {\n",
              "    background-color: #E2EBFA;\n",
              "    box-shadow: 0px 1px 2px rgba(60, 64, 67, 0.3), 0px 1px 3px 1px rgba(60, 64, 67, 0.15);\n",
              "    fill: #174EA6;\n",
              "  }\n",
              "\n",
              "  [theme=dark] .colab-df-quickchart {\n",
              "    background-color: #3B4455;\n",
              "    fill: #D2E3FC;\n",
              "  }\n",
              "\n",
              "  [theme=dark] .colab-df-quickchart:hover {\n",
              "    background-color: #434B5C;\n",
              "    box-shadow: 0px 1px 3px 1px rgba(0, 0, 0, 0.15);\n",
              "    filter: drop-shadow(0px 1px 2px rgba(0, 0, 0, 0.3));\n",
              "    fill: #FFFFFF;\n",
              "  }\n",
              "</style>\n",
              "\n",
              "  <script>\n",
              "    async function quickchart(key) {\n",
              "      const charts = await google.colab.kernel.invokeFunction(\n",
              "          'suggestCharts', [key], {});\n",
              "    }\n",
              "    (() => {\n",
              "      let quickchartButtonEl =\n",
              "        document.querySelector('#df-b3609535-f738-4020-8a35-fc57970ed4e0 button');\n",
              "      quickchartButtonEl.style.display =\n",
              "        google.colab.kernel.accessAllowed ? 'block' : 'none';\n",
              "    })();\n",
              "  </script>\n",
              "</div>\n",
              "    </div>\n",
              "  </div>\n"
            ]
          },
          "metadata": {},
          "execution_count": 5
        }
      ]
    },
    {
      "cell_type": "markdown",
      "metadata": {
        "id": "pivAlwBqvyj3"
      },
      "source": [
        "Before going any further, it seems that geo dataset contain several duplicates. Therefore, we gonna need to drop it first."
      ]
    },
    {
      "cell_type": "code",
      "metadata": {
        "id": "tGWXFrRyyGxN"
      },
      "source": [
        "geo = geo.drop_duplicates(subset=None, keep='first', inplace=False)"
      ],
      "execution_count": 6,
      "outputs": []
    },
    {
      "cell_type": "code",
      "metadata": {
        "id": "1BBk7fWmBHZB"
      },
      "source": [
        "centroid = geo.groupby('zip_code_prefix').agg({\n",
        "    'lat': 'median',\n",
        "    'lng': 'median',\n",
        "    'city': pd.Series.mode\n",
        "}).reset_index()\n",
        "centroid['count'] = geo.groupby('zip_code_prefix').size().reset_index(\n",
        "    name='counts')['counts']"
      ],
      "execution_count": 7,
      "outputs": []
    },
    {
      "cell_type": "markdown",
      "metadata": {
        "id": "3X6mPUrJ0lAO"
      },
      "source": [
        "The following map are the distribution of the market at Brazil:"
      ]
    },
    {
      "cell_type": "code",
      "metadata": {
        "id": "hLPD-i3hBSsl",
        "outputId": "ed832840-b91c-4dab-ad9e-4d5f2a41b713",
        "colab": {
          "base_uri": "https://localhost:8080/",
          "height": 542
        }
      },
      "source": [
        "import plotly\n",
        "import plotly.express as px\n",
        "\n",
        "token = 'pk.eyJ1IjoiZmFhdGhpcjk4IiwiYSI6ImNrMGVxMTl5dzBiZHYzYm1wMm15b2RhcXQifQ.InHG7-SGeNMtnnfkvIVCRg'\n",
        "fig = px.scatter_mapbox(centroid,\n",
        "                        lat=\"lat\",\n",
        "                        lon=\"lng\",\n",
        "                        size=\"count\",\n",
        "                        color=\"count\",\n",
        "                        size_max=8,\n",
        "                        color_continuous_scale=px.colors.sequential.Redor,\n",
        "                        zoom=2.7)\n",
        "fig.update_layout(mapbox_style=\"outdoors\", mapbox_accesstoken=token)\n",
        "fig.show()"
      ],
      "execution_count": 8,
      "outputs": [
        {
          "output_type": "display_data",
          "data": {
            "text/html": [
              "<html>\n",
              "<head><meta charset=\"utf-8\" /></head>\n",
              "<body>\n",
              "    <div>            <script src=\"https://cdnjs.cloudflare.com/ajax/libs/mathjax/2.7.5/MathJax.js?config=TeX-AMS-MML_SVG\"></script><script type=\"text/javascript\">if (window.MathJax && window.MathJax.Hub && window.MathJax.Hub.Config) {window.MathJax.Hub.Config({SVG: {font: \"STIX-Web\"}});}</script>                <script type=\"text/javascript\">window.PlotlyConfig = {MathJaxConfig: 'local'};</script>\n",
              "        <script charset=\"utf-8\" src=\"https://cdn.plot.ly/plotly-2.24.1.min.js\"></script>                <div id=\"5711d090-de81-4224-b433-59f3d5f40175\" class=\"plotly-graph-div\" style=\"height:525px; width:100%;\"></div>            <script type=\"text/javascript\">                                    window.PLOTLYENV=window.PLOTLYENV || {};                                    if (document.getElementById(\"5711d090-de81-4224-b433-59f3d5f40175\")) {                    Plotly.newPlot(                        \"5711d090-de81-4224-b433-59f3d5f40175\",                        [{\"hovertemplate\":\"count=%{marker.color}\\u003cbr\\u003elat=%{lat}\\u003cbr\\u003elng=%{lon}\\u003cextra\\u003e\\u003c\\u002fextra\\u003e\",\"lat\":[-23.545519993623355,-23.528065777410674,-23.54082191035259,-23.55682905467713,-23.567885434283873,-23.5678156827942,-23.50078725950717,-23.50807020843673,-23.480163000000005,-23.459965658895484,-23.481775760199668,-23.497717955868783,-23.463135717871786,-23.49516306273331,-23.465926414103496,-23.48185910713255,-23.535964728836067,-23.566203164823225,-23.59726695861339,-23.559114233887946,-23.55660851276761,-23.545919043020362,-23.523983190829632,-23.506961475373867,-23.497958021191764,-23.601207006939227,-23.60022643144441,-23.60827024269207,-23.604202524424366,-23.64549414916688,-23.685041104435385,-23.598856822926873,-23.641245408275115,-23.645210165798467,-23.74492988259566,-23.688839656529552,-23.53222232653355,-23.488618369135562,-23.414263129753586,-23.558686767887146,-23.557636310916727,-23.58504698050522,-23.60677075659299,-23.63290388565408,-23.66516238950137,-23.55053198529405,-23.547683847978497,-23.50731458479997,-23.543463596041377,-23.50097450702893,-23.45649748796858,-23.543839934576688,-23.614716709129212,-23.66915621422344,-23.837797733281196,-23.459548500000004,-23.430912087425714,-23.451636059668783,-23.40164602553523,-23.318414399471926,-23.322293426704924,-23.359908033812516,-23.321354280451892,-23.281361270789922,-23.50332944532287,-23.50234360090701,-23.5453317799065,-23.61154195303569,-23.54910057360541,-23.517571856367947,-23.546568080871015,-23.53570456790112,-23.50797964415117,-23.426648177294613,-23.658137204541585,-23.681304199001662,-23.63430156731484,-23.670451161549884,-23.711694719298848,-23.62462486115588,-23.663023664246506,-23.709901274770615,-23.723653249972493,-23.689101515537573,-23.964721727306845,-23.82618384454923,-23.964939403758365,-23.984500432685163,-23.899521417217176,-23.635274899432126,-24.031976919239384,-24.310241348239167,-24.705471846866363,-23.02673131493544,-22.98287316885024,-23.208189108243403,-23.301450544023904,-22.918612458651197,-22.81075432983546,-22.731185011656763,-22.573110043986986,-22.672529817110437,-23.053916050106373,-22.900949225667766,-22.824698949552676,-23.17672392268171,-23.1195875512042,-22.72687148516924,-22.066024380138046,-22.17467879765232,-21.588838513052828,-22.36400830295668,-22.60105370774424,-21.18093377908783,-21.1388907940591,-21.477416431557863,-20.8996500088542,-20.531576903740312,-20.314495085735537,-20.716827462376976,-20.808235393310813,-21.76862893907002,-21.616488043727557,-20.812241516724736,-20.808593654734743,-21.054924910769003,-20.507233612314824,-20.535875218100774,-20.419586620009728,-20.282271420470558,-20.230048208820502,-21.133392160424695,-21.407553212745416,-21.208117641410357,-20.935000656876376,-21.29703709144771,-21.44024422568529,-21.673659554800263,-21.808056727336684,-21.99581778821028,-21.252200664650708,-21.16688546250883,-20.89915185290549,-22.327785,-22.463046337868132,-22.291038324730216,-22.42774334648715,-22.290469441324888,-22.2138611873449,-21.930333539253926,-21.782494619636477,-21.66794273389646,-21.481509580035304,-23.49363494171619,-23.540756091869113,-23.56046099141129,-24.099287400187816,-23.98584888393571,-23.17290064389735,-22.86673479459283,-23.103476172355585,-23.209052573671876,-22.9048795045432,-22.121168374052505,-22.075670518945387,-22.4093269964106,-21.979068705517257,-21.87251276226975,-22.21090341407495,-22.23134865234548,-22.41320720112571,-22.662735770328975,-22.969809220093484,-22.904590782058108,-22.916438999999997,-22.762095815295158,-22.923520511800987,-22.89614655785111,-22.89786753292841,-22.8502943076491,-22.836248036355265,-22.879542981009557,-22.848506255900496,-22.839765726888487,-22.882926205666767,-22.876373855531227,-22.80790835609381,-22.97108348014892,-22.942673770182985,-22.98197770191585,-23.006529823224245,-22.95393489592587,-22.90322213849616,-22.925074615730892,-22.86833052479996,-23.005109346554285,-22.88973607185248,-22.878876474176316,-22.902607107744146,-22.932542858471077,-22.825268317765552,-22.82860706432428,-22.74576891378957,-22.918722281259587,-22.773788218830525,-22.665036453994574,-22.787490498153165,-22.511563683473305,-22.419081606263035,-22.11665061891994,-22.434840831004514,-22.727512499425654,-22.73717443287848,-22.759678383566204,-22.713507287201885,-22.672833870969356,-22.8021940080054,-22.61224378429343,-22.526974302742488,-22.4493464740505,-22.489521161425774,-22.50593236219632,-22.540570533166942,-22.42072361341672,-22.47012262269631,-22.24242429979369,-22.408906455174137,-22.380806819602647,-21.761887455886416,-21.49110895898501,-21.62472712270616,-21.19058558839277,-21.546601705165,-21.983211584862957,-22.28203975545734,-22.08758079899671,-22.525338400998045,-22.876439971721194,-20.2912134096601,-20.330735646489646,-20.671113527648963,-20.845870693976224,-21.060900912263072,-20.76646324889363,-19.93639598766012,-19.516081381805343,-18.696622269371403,-19.27578260078683,-19.912053624761928,-19.929102113105163,-19.925951333328555,-19.949670943101175,-19.937714243283683,-19.94999133347278,-19.989159535451066,-19.91206969178831,-19.900377686234055,-19.901598207744243,-19.887750042183647,-19.8654678910641,-19.872481389668074,-19.824857189651734,-19.8013118104334,-19.833053961971295,-19.840964658058777,-19.861710564386318,-19.919005274330104,-19.879523573218385,-19.961182358558883,-19.935948945339497,-20.0262193761578,-19.933961008050076,-19.950754305860094,-20.066496388672007,-19.76919950684299,-19.786821905723304,-19.74707676210683,-19.70834658039505,-19.638505137528643,-19.62921474349378,-19.61827302164001,-19.7658386611172,-19.794649581133065,-19.9917479117076,-20.088018939331818,-19.96692513186378,-19.88744479072245,-19.86522859613991,-19.87940311320534,-19.886311790271456,-19.72110367399926,-18.860097204588634,-19.474961694558267,-19.17092659289246,-19.794094470350963,-20.38229565168213,-20.149157398311996,-19.85240973911823,-19.45445502282141,-19.035154676964904,-19.810249789695145,-21.75841583152521,-21.479898593780643,-21.21873725164554,-21.127520860667115,-20.649789129767584,-20.870729755909306,-21.863067455547856,-21.398029447631444,-20.9078385970755,-20.251247300410117,-21.560169454338777,-21.369191016109866,-21.232651049099392,-21.74180514214963,-21.983817596548032,-22.277007895810204,-22.657694188516526,-21.789105540588015,-21.306699199001667,-20.7289911087685,-19.75186162975359,-19.59406009965015,-19.898788020410677,-18.969335213671943,-18.91444747238731,-18.723801839627868,-16.37059636071647,-18.58801184192626,-19.219760899047017,-20.00668005907805,-18.245080053082493,-17.586614469449543,-16.25489910294293,-16.719768366639723,-15.745174498056546,-17.216512265411165,-18.598615110590945,-17.84751188796608,-16.172105170306256,-12.980731937586565,-13.001296681705234,-12.990438041579472,-12.953599234664441,-12.929272919911908,-12.885617379791004,-12.836518743076692,-12.960368773780893,-12.931447761454749,-12.904865707200244,-12.919327240700014,-12.912559386981805,-12.940907742910326,-12.974628457672116,-12.994891595894154,-13.009096020423346,-12.74206884254438,-12.888337096586646,-12.695314708571601,-12.788217792923785,-12.670320796080581,-12.626301422668272,-12.252105838190316,-12.429037693474077,-12.39755501328423,-12.654551567717652,-12.978786122121864,-12.963946545142566,-11.710955014789995,-11.179942869023499,-11.72703245989953,-11.3051555898185,-14.855947237258576,-14.874363437134768,-14.012129586911344,-13.434813723796845,-13.454370000000004,-14.21257854144779,-14.795565738420082,-15.24897755747558,-16.385540277935117,-17.54075408347268,-14.2011491849954,-14.901205319552826,-14.503802572109738,-14.218275538829827,-13.027001232979618,-13.628145401334807,-13.006509941343507,-12.52706511498534,-12.418107766476943,-11.08780196519673,-9.621740304379438,-9.739764227967616,-10.823402732936266,-12.181424519180965,-13.382551683575732,-12.974473576578024,-12.128258954254983,-11.753135950663646,-12.136283673723073,-12.351548065706455,-12.530872663726951,-11.791521441941349,-10.837039912761224,-10.077496797490625,-9.402310044082247,-11.563040610149669,-10.754487136314587,-9.43801077634918,-10.933205323330908,-10.867365797569272,-11.271701673277963,-11.184499761882456,-10.911899324234763,-10.68500836824854,-10.218430771961557,-10.507750422868565,-9.666231531606297,-10.274804017653246,-8.061540422701842,-8.046395350539573,-8.051432741329542,-8.056531245917173,-8.076219653067113,-8.082961030526882,-8.120836995700827,-8.109106438802,-8.120661227180287,-8.111708929035874,-8.034123384673139,-8.016000004790326,-8.01550363368929,-7.973052022605982,-7.988464152374622,-8.006796953179887,-7.997069597057791,-7.933838532679113,-7.913454881641773,-7.83071075936294,-7.773695510620832,-7.742033957606787,-8.110763298084139,-8.109718281948348,-8.090714650845417,-8.160895372560805,-8.18711055117966,-8.287324737578633,-8.009681341782347,-8.117892133311077,-8.28140539885231,-8.03643131988301,-8.882241341997211,-8.734216236688294,-8.66766403314179,-8.516683085356835,-8.202462439003181,-7.865815099596729,-7.747388123494947,-7.5614046756881415,-8.073469368938401,-8.227867770975367,-7.758119673998479,-9.383143421943378,-8.972796333425762,-8.421152395028791,-8.078360012758093,-7.477408995087297,-7.803638454819046,-7.986459537789969,-9.645803096034435,-9.593277733766511,-10.125968638246245,-9.752286283308251,-9.537353721784038,-9.360938029498268,-9.415774465142151,-9.37848909829083,-9.160414329871273,-9.088993481816768,-7.124730569248079,-7.018717349619061,-6.832544640817329,-7.128097426173329,-7.232992015303509,-7.672414147389153,-6.997830163240426,-7.093120278106696,-6.555022957242163,-6.891631577391529,-5.824680160424698,-5.877825985636001,-6.226501759498418,-6.449527105357911,-5.900451140349413,-5.501153074229603,-5.191640253742511,-5.666107638774344,-6.027819262629616,-6.1947005643765936,-3.735929573102122,-3.7362372279993448,-3.7224074821361226,-3.754365462144178,-3.774084031149745,-3.801549939494493,-3.800431489058459,-3.738887129198341,-3.8798780866705975,-3.9714031145959643,-3.8756498372660193,-3.685944349572401,-3.7928791781380236,-4.336761005418047,-3.761849602138168,-2.913123256269205,-3.0536086269070664,-3.6709977959435722,-4.337347348320057,-4.186644554894781,-5.133551782152398,-7.2203821420150565,-7.2309539062117745,-7.489347825960264,-6.942367376090676,-6.392506984489927,-6.359268364094253,-5.746526421602799,-5.178589841096914,-5.130911422251152,-4.968615446090581,-5.078779541577439,-3.9028989778749468,-3.180431791278335,-5.832054674112545,-5.988779816540749,-7.017582674084056,-7.081134134926282,-8.363462905112865,-6.781729290078161,-9.82916886279047,-2.5313408913275235,-2.559384609951616,-2.4452816520363223,-3.662666999999997,-4.036880831208753,-3.3613360993496095,-5.09988921202937,-4.576410278520987,-7.5204793802784655,-5.5191605739289695,-1.4505412625655916,-1.4156008822031698,-1.4001805434243977,-1.3244242178968126,-1.1661591778152802,-1.3760015757332156,-1.3631947247093936,-1.3667551836294922,-2.432661578344335,-4.257695734574252,-1.9124732498891373,-3.221322012717903,-2.24394843749662,-6.07931563652907,-2.5578521068091886,-1.2844395984667698,-1.681880212494914,0.03263068878396085,-3.0855172781008804,-2.6942460190048823,-3.8894943281924066,2.823458536092981,-3.55238119585084,-3.3543916362996686,-4.240124134996824,-2.0477060881147806,-7.5135010106366735,-9.95560451457095,-15.821719993204432,-15.814805709165725,-15.802477586805972,-15.787883147931211,-15.757629850091522,-15.7623885,-15.828826950927354,-15.734822639603557,-15.853910553679128,-15.858260732668844,-15.885517897674116,-15.836407051618703,-15.840370204186762,-15.813094907421874,-15.816429661339903,-15.878784740978016,-16.029136659024317,-16.01651048333811,-15.912134161834317,-15.66786460733477,-16.0817898460413,-15.853917504543194,-15.647820932741318,-15.65924747941368,-15.687877462415646,-15.619759456314135,-14.13775046648485,-15.544546045056325,-14.09645641749945,-16.674418389899763,-16.687634855979248,-16.706842651613904,-16.721128896707583,-16.65922051540767,-16.650579751571392,-16.640441206951273,-16.67561383652654,-16.716799319627057,-16.7728742387288,-16.311500113482033,-16.353066287877326,-16.981633304605168,-16.647392079785362,-16.36901106148165,-18.412039497898675,-17.746519265110088,-18.163451695451066,-17.88913766788605,-17.79496358466878,-16.518837222572525,-16.203824633052633,-15.308523671561748,-14.313428543865086,-13.44932059151791,-15.93689830280329,-15.091736989145842,-8.79076180665226,-11.674921486998997,-10.201685528911135,-11.979005150615247,-11.730680063637344,-10.708549915141726,-10.159346418133994,-8.079043400778454,-7.190778450156136,-5.651534046079099,-15.600374178437754,-15.649444406724683,-15.62510591116231,-13.65791127277237,-13.45405269194706,-11.504746814489,-14.052743162895297,-16.46942804385708,-15.542592858402063,-20.474127067957134,-20.45233085179438,-21.127932260213544,-19.00896869906208,-18.916843498479157,-18.7971994284708,-20.79008309578196,-22.256168799239738,-22.22529584453434,-23.06116801229209,-25.42809101469902,-25.44675157119925,-25.46116749096897,-25.434698396329892,-25.412268865874115,-25.465716995556598,-25.433397360232053,-25.412600503750912,-25.48596840937806,-25.51121519133873,-25.45188562578724,-25.49179836491305,-25.561031930607683,-25.47519790478401,-25.492209883980642,-25.5143878529055,-25.520613999163285,-25.544630912574288,-25.41219701304174,-25.389110577298165,-25.378153459893824,-25.415211583126545,-25.387572533987644,-25.3978025696396,-25.38175890733748,-25.365106752910727,-25.419826655562943,-25.458015944630382,-25.528614814866973,-25.92054297326805,-25.56630010105942,-25.43862909267717,-25.357860034232672,-25.32610251067581,-25.46043911403141,-25.593662607692444,-25.68192647004309,-25.86813428419935,-25.09142231307345,-24.81501042496412,-24.32402162098524,-24.51243052130453,-25.20980364163107,-25.4782748934254,-26.225873678812764,-23.845652984414684,-25.39180019416623,-25.57594838241842,-24.759959455857754,-25.40543646129992,-24.7967713618605,-26.224337258700288,-26.05413125119615,-25.68430220746078,-25.144103593332567,-24.567181553665634,-23.315073790624936,-23.26631582347514,-23.27215416245734,-23.148892011392526,-23.297939251611485,-22.971250321897806,-23.39305842983744,-23.567259107554406,-23.588334745651586,-23.41965060217128,-23.43988391623799,-23.66779255519141,-24.057580764737157,-23.780726812773374,-23.76538622182577,-23.17018169275489,-23.086191016373725,-22.943753998405057,-22.928409731288617,-27.59098979877663,-27.59595616832063,-27.194836557313643,-26.927285553786977,-27.53161703727588,-27.811954000469377,-28.282946853769527,-28.466669498556183,-28.67906182345152,-28.997531412515198,-26.90638525326043,-26.94711180243599,-26.29687356513127,-26.13128926630312,-26.18702908684815,-27.002283856536494,-27.172828138513296,-27.22992897192745,-27.07187184180577,-26.5405973128398,-30.033462903543256,-30.052307620030064,-30.005261580679186,-30.032370408275114,-30.018657258122197,-30.051082487102484,-30.15809111507321,-30.07609574802368,-30.00630824257029,-29.99959867264458,-30.02368547292934,-30.022553545817047,-30.047761063693827,-30.069686636770655,-30.134908057173707,-30.106603692336567,-29.918925812828494,-29.948919539529253,-29.957293016374294,-29.90834841661366,-29.887338532315898,-30.116615029027756,-30.46075020668752,-29.99943038689719,-29.77062784904551,-29.727593254942477,-29.840449474528317,-29.68917401110937,-29.707646429251334,-29.682145031053256,-29.651989815310202,-29.67752577167267,-29.63607004755457,-29.59234281709849,-29.938500052455428,-29.925131684286484,-29.87903241450276,-30.081509855459093,-30.06232050784011,-30.12778541375078,-30.00524488083029,-29.93924243410754,-29.165445468495506,-29.23473286774503,-28.522229642627323,-28.763221417273314,-29.445442636510265,-29.812129499500845,-29.515222752554592,-29.354840929860032,-29.602984876428405,-29.440420273273077,-31.75607673827113,-30.91473773252969,-32.04631874796519,-32.55182795677749,-31.324199690217963,-30.03941580084497,-30.541875359489485,-30.090593631507723,-29.71604504294612,-29.426458066019947,-29.691640803797945,-29.703048730752975,-29.62296904735798,-30.33577595184496,-29.693834860708357,-29.799631847697167,-28.66849154885411,-29.19161811794376,-28.408317752039476,-28.144976135451493,-28.64451912660966,-29.087831058836358,-28.313396916794822,-27.89002658232723,-27.355271255911724,-27.67553811934423,-27.460154873714952,-28.379388813125484,-28.30042996749347,-27.781653619391648,-28.262275869237115,-28.446391605955,-28.753030396986247,-28.82964331642682,-28.630311358436916,-28.283429080407345,-27.643769467588594,-27.635799534237933,-27.77074779587531,-28.06040899335637],\"legendgroup\":\"\",\"lon\":[-46.63622549584506,-46.64921756053981,-46.65437333666112,-46.648643600193324,-46.66320747232752,-46.628559874689806,-46.61809169608748,-46.578197286773616,-46.58350586955393,-46.605700561198006,-46.63939234401869,-46.661967204411695,-46.65918999167579,-46.68271563219164,-46.69342974271453,-46.71490320330083,-46.59818387399732,-46.58508972300768,-46.545030321888134,-46.560082282748574,-46.53232386740434,-46.502425924995656,-46.510409496047075,-46.51874228635527,-46.4848310327486,-46.50070144025911,-46.64673306168847,-46.62533338807779,-46.60359870510416,-46.64419751415849,-46.65784985581968,-46.67708334928447,-46.67619099140167,-46.70338254247211,-46.69740791548847,-46.759251605064065,-46.688745659515874,-46.74698338884241,-46.75959517880435,-46.75089537108314,-46.69070634179699,-46.74183856443962,-46.72426299916328,-46.750490533585285,-46.76622784451242,-46.78012280267178,-46.804532633072355,-46.77830063687657,-46.83820227540252,-46.87512624011513,-46.88273007199326,-46.91956063928281,-46.84775280544172,-46.81993323411619,-46.82060483279709,-46.549731577990656,-46.50209375291419,-46.42498349486411,-46.32233407796951,-46.22738648152899,-46.58967680631659,-46.7497630840115,-46.72539287900226,-46.74387047428361,-46.43833174646542,-46.395051936161934,-46.45364082317029,-46.456425833054425,-46.407736812973,-46.35355217438327,-46.31200175704274,-46.19775729015144,-46.14473467292832,-46.03403965621088,-46.54081695198797,-46.51102427495553,-46.517139371775606,-46.44761187709919,-46.40498837607478,-46.56569101442672,-46.57547107507645,-46.5446269103832,-46.57398782096497,-46.61396019262502,-46.32663648264475,-46.11832861478902,-46.38572998906069,-46.27191707956683,-46.42408244808348,-45.398490242134045,-46.51259076380164,-47.62605854788088,-47.859540563563925,-45.56062378232818,-45.54245609702959,-45.89003193563078,-45.962760378988975,-45.46917202608873,-45.19800883930323,-45.11194992576025,-44.96258896414211,-44.448352032885545,-46.546446807664594,-47.066446187049316,-47.19032055324457,-46.89326054840386,-47.27997394123683,-47.41898637227073,-47.868236506787724,-47.39537588734774,-46.97123850000001,-46.94741272715315,-46.774546034034685,-47.805623077990646,-47.98862060838644,-47.372471352806734,-47.58584530074794,-47.40138461232209,-47.78671295826865,-47.870020821715286,-48.5031630919161,-48.17602798776023,-48.8289129576625,-49.380884637430384,-49.51161412213207,-49.77529039897198,-51.32808416243005,-49.06002068719613,-49.97351187130574,-50.25184789579505,-50.76390782417624,-48.976761038576974,-48.49088168726587,-50.4458465656414,-50.49511885224887,-50.34289850306981,-50.06724265017302,-49.75310614508127,-49.60259146858579,-49.44906318507949,-50.64648395550366,-51.04353755666272,-51.37820498064556,-49.06405354782176,-48.99117099532417,-48.572973982353695,-48.39328995169422,-49.64947128403911,-49.950945298776624,-50.51630271079769,-50.8783783746304,-51.16920592655684,-51.541588451943696,-47.469586371738366,-47.39492254943474,-48.0193307872535,-48.36519158935443,-48.89357013532448,-47.70450010072372,-48.46054284578599,-48.936234562768185,-49.39799959779834,-49.62636059280423,-51.400397128304945,-51.46446419118409,-51.90728923135967,-51.64412319198469,-51.84799079155796,-51.286929732385005,-50.8953156833489,-50.58206439467328,-50.41784638703906,-49.88216952484273,-43.1776659762681,-43.20735031008714,-43.10792485824341,-43.240786983625696,-43.28486353566277,-43.23558519601535,-43.265592945055786,-43.3114409074384,-43.34747758052292,-43.35351613266778,-43.39279019627447,-43.43015057667903,-43.470581974536884,-43.19158143879255,-43.18899344073525,-43.18386482292686,-43.219429627531895,-43.31742078365743,-43.38266436663972,-43.56741344324541,-43.68001339148247,-43.77776564407626,-44.35563823074694,-43.119717590339896,-43.09421395317764,-43.10666054506097,-43.06335936314921,-43.051531220231695,-42.992924855918695,-42.85823774578636,-42.82326450000001,-43.30715684058841,-43.277471554191784,-43.37339983286397,-43.185293178590896,-43.13514330853672,-43.20796396457922,-42.97854455542668,-43.457890646014526,-43.39349364562509,-43.470507007554765,-43.56134735153568,-43.616812475036404,-43.421318914438366,-43.70566429135911,-43.73638298926254,-43.461701085475184,-43.831531675031904,-44.09479154483804,-44.17335981467711,-44.25245324999999,-44.46310483199191,-43.70365327116128,-43.663993714121105,-41.78483329618026,-41.321969892353394,-41.61555639911381,-41.063245602631206,-41.889272277196476,-42.11876194967444,-42.35766347031152,-42.53333496363692,-41.86761658822329,-41.9768331802743,-42.04227750644125,-40.296127359474696,-40.29360269318523,-40.63928003367844,-41.1250077114105,-41.3645465152656,-41.5393262021003,-40.74187836369044,-40.63483050095044,-40.408070711481685,-40.054993153553575,-43.92874892402904,-43.93874800582837,-43.911734707672125,-43.9413495215823,-43.96635334139296,-43.988112458984986,-44.019617245718834,-43.973877680607686,-44.00670636636559,-43.915922169787635,-43.93354049999999,-43.953451006867105,-43.99466209742805,-43.98036016410487,-43.968334242858745,-43.94534937725775,-43.92254392634756,-43.90746098265909,-44.08980029007572,-44.02966100567741,-44.04487854410328,-44.04255282355258,-44.06805840564993,-44.107645526227714,-44.17309316234076,-44.2992416004731,-43.86714966908133,-43.929683464788965,-43.94358969102206,-43.97132141308425,-43.90094158809991,-43.98897268005168,-44.04018590977656,-44.08633039683435,-44.01651302070672,-43.88741243525833,-43.78968484094802,-43.80511160291337,-43.815263757530296,-43.86661020355892,-43.90139039383038,-43.66619123303619,-43.58435093618009,-41.950895101230245,-42.559398747444334,-41.234449116652186,-42.1478529397165,-43.504436661117175,-44.91547362990011,-44.61643688761223,-44.24629079931222,-43.4250620670516,-43.21634399080753,-43.35441488106646,-43.248227029288714,-43.77063048806322,-44.245266139782295,-43.784331699012725,-42.88176047285933,-42.96364524092098,-42.64644591501167,-42.204862118334766,-42.02438461764295,-45.43798309537101,-45.82733223144221,-45.01271686236553,-44.31371006726772,-45.056876464718016,-45.92258967428815,-46.13403142928302,-46.5599860791651,-46.70917174285874,-46.6106884056798,-47.93560043446406,-46.94751011163035,-49.3723704157333,-49.46551928974934,-48.273059864404985,-47.48752766558446,-46.87933125686007,-46.516948417835884,-46.05531832700629,-45.98304842333017,-43.596772239541835,-44.93232313279886,-44.43137521841042,-43.86579202498695,-42.58307753914023,-42.34769225950655,-42.748749524520534,-41.49901100442254,-40.696322845112604,-38.51298451332133,-38.52129287936679,-38.49131919983837,-38.486971996787105,-38.50033896209594,-38.47571324999999,-38.47036689513174,-38.46098085610876,-38.446008451527945,-38.43206003823674,-38.37057775557084,-38.356179627123396,-38.36165096142303,-38.43562185651219,-38.46109793907613,-38.48000722972316,-38.61571698534868,-38.315730286830146,-38.32405394731768,-38.39345916180969,-38.53818873906201,-38.67811291026383,-38.95695979782068,-39.24992872188821,-38.75349364327109,-39.09413001001925,-38.91178005071173,-39.258289243901736,-39.90339656382842,-40.5070881497491,-41.15691685569951,-41.85868918821489,-40.842060884802905,-40.62136811766183,-40.08887701993908,-39.9664664743582,-39.14647931173869,-39.52475124166358,-39.269225008018125,-40.22120074920175,-39.49780593450295,-39.73822378228387,-41.67864287683471,-41.93410096297185,-42.43266113681293,-42.78010213931806,-42.51944868108627,-41.327030403268346,-41.37298141198787,-40.315148328194944,-41.76841927469836,-43.54931781143554,-42.08514342557106,-41.877875538995156,-42.72625583620692,-43.1819736500748,-44.195853695046985,-44.04652544386415,-45.08524092091662,-44.90746082387957,-38.42243611838993,-38.331788315125834,-38.29735608401883,-37.94440075806931,-38.38054011316685,-38.89768077246266,-38.22297436375318,-39.00724947858188,-39.46223288562641,-40.49508108743207,-37.063767523890455,-37.093690563544314,-37.45261124999999,-37.99904031178235,-37.67483210979463,-37.43212025085721,-37.41598832969518,-37.02171171220937,-37.78403035111866,-36.83642880049895,-34.886820410352584,-34.88295805329215,-34.929756246321205,-34.93191773900229,-34.92537225100649,-34.95535975062839,-34.89961873019516,-34.90964858021235,-34.93914070038665,-34.946825897650456,-34.90330415098963,-34.899850091978344,-34.91170413244461,-34.84430382471587,-34.84468580821913,-34.87050687106691,-34.86009254489583,-34.84526377220266,-34.91105315759859,-34.91183272538151,-34.89835279961334,-34.828609580945724,-35.023336681149225,-35.01685189641074,-34.974599740781294,-34.93200819983839,-34.92127553876964,-35.02783823031136,-35.001318996537535,-35.09639665873476,-35.971315126645365,-36.212281665579695,-36.49377670218999,-36.45100811916726,-36.00526725,-35.22591993744328,-35.567999811406885,-35.60371155192708,-35.25844933811612,-35.008076067826735,-39.123637572312944,-39.37463910552574,-40.14944355481468,-40.497937438253736,-38.25077846422101,-37.06619376197672,-37.27337259434675,-37.31141153971917,-37.791908252022445,-38.29738732721192,-35.725020944139914,-35.85072023313385,-36.357228208984836,-36.659145585622525,-37.76046954682271,-37.35393573042239,-36.62752499999999,-36.24230689486404,-36.027145492587564,-35.50095432395763,-34.845932987422444,-35.92570289720844,-35.48959457246668,-35.03707572250666,-35.89450003025274,-36.885834069917706,-36.91066694016279,-37.59786189640948,-37.79413878129083,-38.546612213518586,-35.208509282107045,-35.25078269482964,-35.47894825627493,-36.81987269523392,-35.79408402095945,-36.50789840301908,-37.33906047500442,-37.713589873482064,-37.91061975374932,-38.21197642600761,-38.529054351232055,-38.49886165051707,-38.57716293203382,-38.55063602054357,-38.59489856939353,-38.56931798834324,-38.49211577022899,-38.6463113377668,-38.45217188508482,-38.53268787335746,-38.622237665573465,-40.353683128902645,-40.38542542244555,-40.56233620012412,-40.92094416304359,-40.843840403980025,-40.121629028661246,-39.27251055377316,-38.91996032617575,-38.12453850265161,-38.10058050749922,-39.315454595322066,-39.41794215814039,-38.988965759425206,-38.87016661534926,-38.8550326257149,-39.30127758940862,-39.71470841057279,-40.6690406285114,-39.57357126896489,-39.013462266035006,-42.79317736841658,-42.298366713426006,-41.76386844671035,-41.74047552074694,-42.691587273560714,-42.11648234740664,-41.460251978013595,-42.25305610058422,-43.026309464333735,-44.36503525850013,-44.249765695874316,-44.16388219329543,-45.09372184814144,-45.38408319671558,-44.131377068831824,-42.82571997468928,-43.35242484944471,-44.763465099091235,-46.0374208256274,-47.47091935017039,-48.47798608826243,-48.482483490968974,-48.44785430267178,-48.46769154159162,-48.46549841329544,-48.38987597314043,-48.41306185049755,-48.33893815466228,-54.719021155544986,-55.42122625264487,-55.51530014610924,-51.990601650072946,-49.50709277443419,-49.88763130422221,-47.36169402325452,-47.92010246086484,-50.47122044393838,-51.070968874454024,-60.007628601140034,-57.70941311934747,-59.593406382664526,-60.693522516060064,-62.604119994649,-64.71882605954008,-69.94071128378314,-60.02691998757295,-64.79035368662085,-67.83914468849882,-47.90146764398931,-47.90781616867679,-47.87471121064673,-47.934708055663656,-47.890568861814025,-47.87957024999999,-47.9791959700582,-47.85838198684687,-47.84577027538945,-47.952713164547696,-48.01949532614188,-48.01810895031453,-48.05143924433405,-48.08117276899979,-48.11892356462636,-48.08944199312944,-48.069089840051305,-48.0061491364403,-48.0703937612296,-48.19959653898259,-47.97525188290231,-48.70927942501808,-47.799315679939696,-47.85737738521165,-47.826839992898066,-47.64693741003978,-47.51923123245379,-47.33404507507646,-46.3637915830829,-49.259480582864995,-49.268265965726826,-49.277426897467,-49.31939300523151,-49.32532800217281,-49.286469268863144,-49.23981382520751,-49.21334696864949,-49.24361874294515,-49.27287811489562,-48.954837825332184,-48.9479220021144,-48.51085717225503,-49.449646758042114,-49.47744514827171,-49.22590646259081,-49.104140940600246,-47.947192642748746,-51.72001371665199,-50.9174824496106,-50.30843734273628,-51.120416299429166,-49.55569571319832,-48.88405894929661,-49.71543916661119,-49.94841796430223,-50.57439438532504,-63.86455586489005,-61.77607890911357,-48.32597897288484,-46.94381012986025,-49.07397724118833,-48.40895880597041,-48.88508644203544,-48.48713395315501,-48.208175536099645,-47.87571484406273,-56.07874454678521,-56.13104323841535,-58.17115138323041,-57.909053993936304,-56.07935786602016,-55.508396588520014,-52.23004349798399,-54.61910677296727,-54.97203785249597,-54.60743091339668,-54.65744396869418,-56.14345613469305,-57.64731814065178,-54.74031757573235,-52.618660544955404,-51.70698283549713,-53.3567821134243,-54.8082128332721,-54.82951626438312,-49.25806265716426,-49.27759815785677,-49.30097043741701,-49.283472108784494,-49.27017728351319,-49.286236905292554,-49.29872710185242,-49.2926967603439,-49.28930079017829,-49.30068101872589,-49.34470125207747,-49.32480638375013,-49.33673896464863,-49.22567608159733,-49.24891521397666,-49.241245590599696,-49.27401546364472,-49.26698760369683,-49.32776701082003,-49.28431263252354,-49.26677366472387,-49.35007158609351,-49.334677366041234,-49.23949589009749,-49.2215283491546,-49.25392819232483,-49.2085227387616,-49.208716656604224,-49.17931757291652,-49.1785147935393,-48.53576701026498,-49.1726093583012,-49.178225255558104,-49.300101577009706,-49.53056106345508,-49.39692158025869,-49.32765609524006,-50.38535865772567,-50.15917361518264,-50.005170386839566,-50.61436653167623,-50.84759194393435,-50.97015988216609,-50.656521435155305,-51.091276177775,-49.83043644153069,-51.468903294737245,-51.66226924859687,-51.76570290737747,-52.41088912238704,-52.99693541268717,-52.67043886508676,-53.05731534606869,-53.7244706890612,-54.07961843796455,-53.76982103284665,-51.16352871896687,-51.24170779032253,-50.91427078248451,-50.55154407739881,-49.97934331179332,-51.591470209008406,-51.44908323702103,-51.45807278049602,-51.69449974973171,-51.93355979106489,-52.03907438005413,-52.59245219370414,-52.418995107382685,-53.07297812136771,-53.31741369448615,-52.19491548871559,-52.460909568609836,-52.73827698337384,-53.13611533877219,-48.52244787010217,-48.63760744853509,-48.61759562949999,-48.67879193595708,-49.359103605925874,-50.32355973160601,-49.92467013685739,-49.00685179020998,-49.36945375954184,-49.63362979062212,-49.08562531063431,-49.382723767665084,-48.85116190466845,-49.823131890556525,-50.40043928549548,-51.00817895154663,-51.50701745976393,-52.03026232528818,-52.62852572807476,-53.512500396471225,-51.22409114731084,-51.22267087898896,-51.19807085811351,-51.19083695468581,-51.191152242368275,-51.196494870779965,-51.21417966481317,-51.226520616149244,-51.15999094976626,-51.122089131812274,-51.127218217251404,-51.158931695524885,-51.15141947162573,-51.16215449951761,-51.20476180870217,-51.246391831885774,-51.159212965794325,-51.1682409763061,-51.18564928913986,-51.19750602466077,-51.17053213310045,-51.327347000072116,-51.60033357381548,-51.30812960179512,-51.14036966545228,-51.16535549644732,-51.15212272859874,-51.13857254304592,-51.12367304080982,-51.11110166300717,-51.170857042547375,-51.05973809396401,-51.00138963795861,-51.11705480438275,-51.038602539773166,-51.01525557324217,-50.78452838759523,-51.06946435616028,-51.08379963205336,-50.823000726027,-51.07085330664626,-51.088260716199486,-51.17900064152856,-51.24040394138558,-50.94929714257773,-51.556744070909424,-50.57881528295764,-50.07133235042169,-50.80790353090535,-51.50524479942291,-51.9463795963125,-51.97177346889055,-52.34025851347443,-51.9647448201492,-52.12001474307376,-53.37237467128428,-54.107138087850224,-52.90678784181081,-52.5200174499004,-51.637588729603564,-52.43053313824552,-52.979544998636186,-53.809756527756925,-53.72376476787311,-53.43960820691422,-54.3158713981041,-54.67671116021542,-55.79082956022553,-56.005772050563536,-54.86414013402867,-54.961005958535175,-54.73790970084126,-53.605120489324825,-53.6888694525492,-53.492425228868186,-53.31098170294696,-53.39593836110661,-53.76357360685317,-53.94525850900288,-53.92953286839677,-54.26446319385549,-54.445101845525855,-52.40315585963567,-52.20103440524312,-51.89921406484605,-52.51169996908263,-52.8501413591433,-52.79651833933844,-52.805183646892736,-52.27299099123919,-51.807266737509664,-52.01624208384784],\"marker\":{\"color\":[323,316,419,348,414,365,395,382,459,431,389,420,350,368,431,429,343,385,394,428,382,432,450,420,437,472,434,424,386,434,428,420,387,394,471,442,412,418,430,385,419,384,407,389,457,375,428,435,466,406,399,450,443,479,372,391,450,437,408,256,354,447,436,432,466,472,465,434,450,468,444,445,287,269,423,416,449,458,469,422,369,370,421,426,456,378,423,453,439,474,479,131,447,449,263,478,441,452,454,435,424,107,476,470,478,466,483,483,460,470,475,483,469,461,460,384,429,474,461,466,485,469,464,455,464,427,420,454,461,420,461,467,464,437,12,431,459,441,125,193,188,276,451,457,254,472,464,440,459,458,441,444,446,473,478,476,424,454,460,468,464,420,443,456,128,435,218,362,280,234,316,468,465,310,394,16,452,433,386,446,415,432,419,430,435,450,450,413,427,419,289,431,459,462,429,426,291,320,344,367,437,425,286,291,448,442,469,410,345,421,440,467,455,440,422,222,468,225,74,309,410,465,448,85,434,296,182,431,426,50,224,452,433,327,445,268,444,470,442,459,425,449,176,229,357,451,410,453,2,440,408,426,372,434,476,428,432,436,423,438,408,452,439,422,447,432,449,448,437,452,445,1,470,206,291,391,302,63,245,27,249,411,403,372,49,61,277,54,119,233,22,460,486,439,452,473,490,477,484,220,481,479,418,474,447,476,459,426,450,459,457,448,468,472,180,477,478,450,469,433,486,473,469,455,453,468,409,475,462,408,327,418,448,426,481,452,453,418,453,448,298,369,403,444,417,231,57,329,420,272,31,90,341,343,370,311,33,204,426,159,152,35,395,50,179,249,138,206,266,366,152,253,432,152,383,239,337,234,465,278,459,443,281,68,117,405,123,77,98,274,157,107,76,36,62,143,311,77,396,53,250,182,47,138,360,167,377,329,187,452,419,196,119,49,109,153,52,45,40,90,241,49,250,419,197,177,378,277,159,138,407,233,93,163,172,119,68,350,90,91,13,12,37,100,121,187,292,130,267,50,426,248,320,263,169,388,440,226,266,126,66,105,191,409,126,175,66,115,99,123,440,113,214,225,147,94,123,58,79,148,468,211,239,326,454,100,67,295,259,182,431,416,197,300,26,206,363,74,78,140,251,424,423,407,238,415,444,143,78,50,195,229,110,187,233,123,297,164,165,253,231,304,283,126,54,111,196,172,96,94,81,444,158,452,108,82,141,210,142,254,97,436,142,380,335,274,286,358,408,197,449,439,149,365,118,13,131,123,45,413,285,142,346,436,463,445,398,97,454,454,68,26,447,46,32,23,17,62,421,148,246,1,101,258,153,338,174,337,159,146,137,146,431,478,365,72,240,265,89,359,124,244,17,10,190,91,436,186,244,227,257,376,415,280,344,179,355,390,310,352,180,177,146,334,434,378,455,454,231,353,410,329,230,125,65,414,424,440,142,322,88,201,247,417,204,440,317,432,433,429,468,429,454,451,472,458,395,406,432,422,365,436,449,457,382,382,297,322,329,314,318,103,356,317,358,263,301,419,356,407,419,429,221,227,171,217,152,394,313,104,434,412,449,13,461,455,442,353,379,427,420,142,452,388,453,159,239,311,410,398,445,183,200,163,423,451,443,315,480,468,444,451,312,454,437,428,444,454,442,469,438,447,418,188,436,170,446,204,311,465,457,420,476,302,465,148,465,453,427,458,462,489,295,383,456,442,419,449,433,408,293,354,388,372,371,1,368,347,359,368,354,218,360,422,322,352,237,156,343,263,308,17,95,411,268,440,375,162,389,94,263,267,291,437,406,6,441,82,4,450,423,480,444,433,442,92,457,478,454,441,424,437,415,455,246,444,438,245,422,428,158,429,200,92,285,120,437,434,304,187,167,292,188,418,223,299,190,195,454,432,440,444,212,343,179,285,394,172,423,217,309],\"coloraxis\":\"coloraxis\",\"size\":[323,316,419,348,414,365,395,382,459,431,389,420,350,368,431,429,343,385,394,428,382,432,450,420,437,472,434,424,386,434,428,420,387,394,471,442,412,418,430,385,419,384,407,389,457,375,428,435,466,406,399,450,443,479,372,391,450,437,408,256,354,447,436,432,466,472,465,434,450,468,444,445,287,269,423,416,449,458,469,422,369,370,421,426,456,378,423,453,439,474,479,131,447,449,263,478,441,452,454,435,424,107,476,470,478,466,483,483,460,470,475,483,469,461,460,384,429,474,461,466,485,469,464,455,464,427,420,454,461,420,461,467,464,437,12,431,459,441,125,193,188,276,451,457,254,472,464,440,459,458,441,444,446,473,478,476,424,454,460,468,464,420,443,456,128,435,218,362,280,234,316,468,465,310,394,16,452,433,386,446,415,432,419,430,435,450,450,413,427,419,289,431,459,462,429,426,291,320,344,367,437,425,286,291,448,442,469,410,345,421,440,467,455,440,422,222,468,225,74,309,410,465,448,85,434,296,182,431,426,50,224,452,433,327,445,268,444,470,442,459,425,449,176,229,357,451,410,453,2,440,408,426,372,434,476,428,432,436,423,438,408,452,439,422,447,432,449,448,437,452,445,1,470,206,291,391,302,63,245,27,249,411,403,372,49,61,277,54,119,233,22,460,486,439,452,473,490,477,484,220,481,479,418,474,447,476,459,426,450,459,457,448,468,472,180,477,478,450,469,433,486,473,469,455,453,468,409,475,462,408,327,418,448,426,481,452,453,418,453,448,298,369,403,444,417,231,57,329,420,272,31,90,341,343,370,311,33,204,426,159,152,35,395,50,179,249,138,206,266,366,152,253,432,152,383,239,337,234,465,278,459,443,281,68,117,405,123,77,98,274,157,107,76,36,62,143,311,77,396,53,250,182,47,138,360,167,377,329,187,452,419,196,119,49,109,153,52,45,40,90,241,49,250,419,197,177,378,277,159,138,407,233,93,163,172,119,68,350,90,91,13,12,37,100,121,187,292,130,267,50,426,248,320,263,169,388,440,226,266,126,66,105,191,409,126,175,66,115,99,123,440,113,214,225,147,94,123,58,79,148,468,211,239,326,454,100,67,295,259,182,431,416,197,300,26,206,363,74,78,140,251,424,423,407,238,415,444,143,78,50,195,229,110,187,233,123,297,164,165,253,231,304,283,126,54,111,196,172,96,94,81,444,158,452,108,82,141,210,142,254,97,436,142,380,335,274,286,358,408,197,449,439,149,365,118,13,131,123,45,413,285,142,346,436,463,445,398,97,454,454,68,26,447,46,32,23,17,62,421,148,246,1,101,258,153,338,174,337,159,146,137,146,431,478,365,72,240,265,89,359,124,244,17,10,190,91,436,186,244,227,257,376,415,280,344,179,355,390,310,352,180,177,146,334,434,378,455,454,231,353,410,329,230,125,65,414,424,440,142,322,88,201,247,417,204,440,317,432,433,429,468,429,454,451,472,458,395,406,432,422,365,436,449,457,382,382,297,322,329,314,318,103,356,317,358,263,301,419,356,407,419,429,221,227,171,217,152,394,313,104,434,412,449,13,461,455,442,353,379,427,420,142,452,388,453,159,239,311,410,398,445,183,200,163,423,451,443,315,480,468,444,451,312,454,437,428,444,454,442,469,438,447,418,188,436,170,446,204,311,465,457,420,476,302,465,148,465,453,427,458,462,489,295,383,456,442,419,449,433,408,293,354,388,372,371,1,368,347,359,368,354,218,360,422,322,352,237,156,343,263,308,17,95,411,268,440,375,162,389,94,263,267,291,437,406,6,441,82,4,450,423,480,444,433,442,92,457,478,454,441,424,437,415,455,246,444,438,245,422,428,158,429,200,92,285,120,437,434,304,187,167,292,188,418,223,299,190,195,454,432,440,444,212,343,179,285,394,172,423,217,309],\"sizemode\":\"area\",\"sizeref\":7.65625},\"mode\":\"markers\",\"name\":\"\",\"showlegend\":false,\"subplot\":\"mapbox\",\"type\":\"scattermapbox\"}],                        {\"template\":{\"data\":{\"histogram2dcontour\":[{\"type\":\"histogram2dcontour\",\"colorbar\":{\"outlinewidth\":0,\"ticks\":\"\"},\"colorscale\":[[0.0,\"#0d0887\"],[0.1111111111111111,\"#46039f\"],[0.2222222222222222,\"#7201a8\"],[0.3333333333333333,\"#9c179e\"],[0.4444444444444444,\"#bd3786\"],[0.5555555555555556,\"#d8576b\"],[0.6666666666666666,\"#ed7953\"],[0.7777777777777778,\"#fb9f3a\"],[0.8888888888888888,\"#fdca26\"],[1.0,\"#f0f921\"]]}],\"choropleth\":[{\"type\":\"choropleth\",\"colorbar\":{\"outlinewidth\":0,\"ticks\":\"\"}}],\"histogram2d\":[{\"type\":\"histogram2d\",\"colorbar\":{\"outlinewidth\":0,\"ticks\":\"\"},\"colorscale\":[[0.0,\"#0d0887\"],[0.1111111111111111,\"#46039f\"],[0.2222222222222222,\"#7201a8\"],[0.3333333333333333,\"#9c179e\"],[0.4444444444444444,\"#bd3786\"],[0.5555555555555556,\"#d8576b\"],[0.6666666666666666,\"#ed7953\"],[0.7777777777777778,\"#fb9f3a\"],[0.8888888888888888,\"#fdca26\"],[1.0,\"#f0f921\"]]}],\"heatmap\":[{\"type\":\"heatmap\",\"colorbar\":{\"outlinewidth\":0,\"ticks\":\"\"},\"colorscale\":[[0.0,\"#0d0887\"],[0.1111111111111111,\"#46039f\"],[0.2222222222222222,\"#7201a8\"],[0.3333333333333333,\"#9c179e\"],[0.4444444444444444,\"#bd3786\"],[0.5555555555555556,\"#d8576b\"],[0.6666666666666666,\"#ed7953\"],[0.7777777777777778,\"#fb9f3a\"],[0.8888888888888888,\"#fdca26\"],[1.0,\"#f0f921\"]]}],\"heatmapgl\":[{\"type\":\"heatmapgl\",\"colorbar\":{\"outlinewidth\":0,\"ticks\":\"\"},\"colorscale\":[[0.0,\"#0d0887\"],[0.1111111111111111,\"#46039f\"],[0.2222222222222222,\"#7201a8\"],[0.3333333333333333,\"#9c179e\"],[0.4444444444444444,\"#bd3786\"],[0.5555555555555556,\"#d8576b\"],[0.6666666666666666,\"#ed7953\"],[0.7777777777777778,\"#fb9f3a\"],[0.8888888888888888,\"#fdca26\"],[1.0,\"#f0f921\"]]}],\"contourcarpet\":[{\"type\":\"contourcarpet\",\"colorbar\":{\"outlinewidth\":0,\"ticks\":\"\"}}],\"contour\":[{\"type\":\"contour\",\"colorbar\":{\"outlinewidth\":0,\"ticks\":\"\"},\"colorscale\":[[0.0,\"#0d0887\"],[0.1111111111111111,\"#46039f\"],[0.2222222222222222,\"#7201a8\"],[0.3333333333333333,\"#9c179e\"],[0.4444444444444444,\"#bd3786\"],[0.5555555555555556,\"#d8576b\"],[0.6666666666666666,\"#ed7953\"],[0.7777777777777778,\"#fb9f3a\"],[0.8888888888888888,\"#fdca26\"],[1.0,\"#f0f921\"]]}],\"surface\":[{\"type\":\"surface\",\"colorbar\":{\"outlinewidth\":0,\"ticks\":\"\"},\"colorscale\":[[0.0,\"#0d0887\"],[0.1111111111111111,\"#46039f\"],[0.2222222222222222,\"#7201a8\"],[0.3333333333333333,\"#9c179e\"],[0.4444444444444444,\"#bd3786\"],[0.5555555555555556,\"#d8576b\"],[0.6666666666666666,\"#ed7953\"],[0.7777777777777778,\"#fb9f3a\"],[0.8888888888888888,\"#fdca26\"],[1.0,\"#f0f921\"]]}],\"mesh3d\":[{\"type\":\"mesh3d\",\"colorbar\":{\"outlinewidth\":0,\"ticks\":\"\"}}],\"scatter\":[{\"fillpattern\":{\"fillmode\":\"overlay\",\"size\":10,\"solidity\":0.2},\"type\":\"scatter\"}],\"parcoords\":[{\"type\":\"parcoords\",\"line\":{\"colorbar\":{\"outlinewidth\":0,\"ticks\":\"\"}}}],\"scatterpolargl\":[{\"type\":\"scatterpolargl\",\"marker\":{\"colorbar\":{\"outlinewidth\":0,\"ticks\":\"\"}}}],\"bar\":[{\"error_x\":{\"color\":\"#2a3f5f\"},\"error_y\":{\"color\":\"#2a3f5f\"},\"marker\":{\"line\":{\"color\":\"#E5ECF6\",\"width\":0.5},\"pattern\":{\"fillmode\":\"overlay\",\"size\":10,\"solidity\":0.2}},\"type\":\"bar\"}],\"scattergeo\":[{\"type\":\"scattergeo\",\"marker\":{\"colorbar\":{\"outlinewidth\":0,\"ticks\":\"\"}}}],\"scatterpolar\":[{\"type\":\"scatterpolar\",\"marker\":{\"colorbar\":{\"outlinewidth\":0,\"ticks\":\"\"}}}],\"histogram\":[{\"marker\":{\"pattern\":{\"fillmode\":\"overlay\",\"size\":10,\"solidity\":0.2}},\"type\":\"histogram\"}],\"scattergl\":[{\"type\":\"scattergl\",\"marker\":{\"colorbar\":{\"outlinewidth\":0,\"ticks\":\"\"}}}],\"scatter3d\":[{\"type\":\"scatter3d\",\"line\":{\"colorbar\":{\"outlinewidth\":0,\"ticks\":\"\"}},\"marker\":{\"colorbar\":{\"outlinewidth\":0,\"ticks\":\"\"}}}],\"scattermapbox\":[{\"type\":\"scattermapbox\",\"marker\":{\"colorbar\":{\"outlinewidth\":0,\"ticks\":\"\"}}}],\"scatterternary\":[{\"type\":\"scatterternary\",\"marker\":{\"colorbar\":{\"outlinewidth\":0,\"ticks\":\"\"}}}],\"scattercarpet\":[{\"type\":\"scattercarpet\",\"marker\":{\"colorbar\":{\"outlinewidth\":0,\"ticks\":\"\"}}}],\"carpet\":[{\"aaxis\":{\"endlinecolor\":\"#2a3f5f\",\"gridcolor\":\"white\",\"linecolor\":\"white\",\"minorgridcolor\":\"white\",\"startlinecolor\":\"#2a3f5f\"},\"baxis\":{\"endlinecolor\":\"#2a3f5f\",\"gridcolor\":\"white\",\"linecolor\":\"white\",\"minorgridcolor\":\"white\",\"startlinecolor\":\"#2a3f5f\"},\"type\":\"carpet\"}],\"table\":[{\"cells\":{\"fill\":{\"color\":\"#EBF0F8\"},\"line\":{\"color\":\"white\"}},\"header\":{\"fill\":{\"color\":\"#C8D4E3\"},\"line\":{\"color\":\"white\"}},\"type\":\"table\"}],\"barpolar\":[{\"marker\":{\"line\":{\"color\":\"#E5ECF6\",\"width\":0.5},\"pattern\":{\"fillmode\":\"overlay\",\"size\":10,\"solidity\":0.2}},\"type\":\"barpolar\"}],\"pie\":[{\"automargin\":true,\"type\":\"pie\"}]},\"layout\":{\"autotypenumbers\":\"strict\",\"colorway\":[\"#636efa\",\"#EF553B\",\"#00cc96\",\"#ab63fa\",\"#FFA15A\",\"#19d3f3\",\"#FF6692\",\"#B6E880\",\"#FF97FF\",\"#FECB52\"],\"font\":{\"color\":\"#2a3f5f\"},\"hovermode\":\"closest\",\"hoverlabel\":{\"align\":\"left\"},\"paper_bgcolor\":\"white\",\"plot_bgcolor\":\"#E5ECF6\",\"polar\":{\"bgcolor\":\"#E5ECF6\",\"angularaxis\":{\"gridcolor\":\"white\",\"linecolor\":\"white\",\"ticks\":\"\"},\"radialaxis\":{\"gridcolor\":\"white\",\"linecolor\":\"white\",\"ticks\":\"\"}},\"ternary\":{\"bgcolor\":\"#E5ECF6\",\"aaxis\":{\"gridcolor\":\"white\",\"linecolor\":\"white\",\"ticks\":\"\"},\"baxis\":{\"gridcolor\":\"white\",\"linecolor\":\"white\",\"ticks\":\"\"},\"caxis\":{\"gridcolor\":\"white\",\"linecolor\":\"white\",\"ticks\":\"\"}},\"coloraxis\":{\"colorbar\":{\"outlinewidth\":0,\"ticks\":\"\"}},\"colorscale\":{\"sequential\":[[0.0,\"#0d0887\"],[0.1111111111111111,\"#46039f\"],[0.2222222222222222,\"#7201a8\"],[0.3333333333333333,\"#9c179e\"],[0.4444444444444444,\"#bd3786\"],[0.5555555555555556,\"#d8576b\"],[0.6666666666666666,\"#ed7953\"],[0.7777777777777778,\"#fb9f3a\"],[0.8888888888888888,\"#fdca26\"],[1.0,\"#f0f921\"]],\"sequentialminus\":[[0.0,\"#0d0887\"],[0.1111111111111111,\"#46039f\"],[0.2222222222222222,\"#7201a8\"],[0.3333333333333333,\"#9c179e\"],[0.4444444444444444,\"#bd3786\"],[0.5555555555555556,\"#d8576b\"],[0.6666666666666666,\"#ed7953\"],[0.7777777777777778,\"#fb9f3a\"],[0.8888888888888888,\"#fdca26\"],[1.0,\"#f0f921\"]],\"diverging\":[[0,\"#8e0152\"],[0.1,\"#c51b7d\"],[0.2,\"#de77ae\"],[0.3,\"#f1b6da\"],[0.4,\"#fde0ef\"],[0.5,\"#f7f7f7\"],[0.6,\"#e6f5d0\"],[0.7,\"#b8e186\"],[0.8,\"#7fbc41\"],[0.9,\"#4d9221\"],[1,\"#276419\"]]},\"xaxis\":{\"gridcolor\":\"white\",\"linecolor\":\"white\",\"ticks\":\"\",\"title\":{\"standoff\":15},\"zerolinecolor\":\"white\",\"automargin\":true,\"zerolinewidth\":2},\"yaxis\":{\"gridcolor\":\"white\",\"linecolor\":\"white\",\"ticks\":\"\",\"title\":{\"standoff\":15},\"zerolinecolor\":\"white\",\"automargin\":true,\"zerolinewidth\":2},\"scene\":{\"xaxis\":{\"backgroundcolor\":\"#E5ECF6\",\"gridcolor\":\"white\",\"linecolor\":\"white\",\"showbackground\":true,\"ticks\":\"\",\"zerolinecolor\":\"white\",\"gridwidth\":2},\"yaxis\":{\"backgroundcolor\":\"#E5ECF6\",\"gridcolor\":\"white\",\"linecolor\":\"white\",\"showbackground\":true,\"ticks\":\"\",\"zerolinecolor\":\"white\",\"gridwidth\":2},\"zaxis\":{\"backgroundcolor\":\"#E5ECF6\",\"gridcolor\":\"white\",\"linecolor\":\"white\",\"showbackground\":true,\"ticks\":\"\",\"zerolinecolor\":\"white\",\"gridwidth\":2}},\"shapedefaults\":{\"line\":{\"color\":\"#2a3f5f\"}},\"annotationdefaults\":{\"arrowcolor\":\"#2a3f5f\",\"arrowhead\":0,\"arrowwidth\":1},\"geo\":{\"bgcolor\":\"white\",\"landcolor\":\"#E5ECF6\",\"subunitcolor\":\"white\",\"showland\":true,\"showlakes\":true,\"lakecolor\":\"white\"},\"title\":{\"x\":0.05},\"mapbox\":{\"style\":\"light\"}}},\"mapbox\":{\"domain\":{\"x\":[0.0,1.0],\"y\":[0.0,1.0]},\"center\":{\"lat\":-18.64465119332987,\"lon\":-45.90209251137577},\"zoom\":2.7,\"style\":\"outdoors\",\"accesstoken\":\"pk.eyJ1IjoiZmFhdGhpcjk4IiwiYSI6ImNrMGVxMTl5dzBiZHYzYm1wMm15b2RhcXQifQ.InHG7-SGeNMtnnfkvIVCRg\"},\"coloraxis\":{\"colorbar\":{\"title\":{\"text\":\"count\"}},\"colorscale\":[[0.0,\"rgb(246, 210, 169)\"],[0.16666666666666666,\"rgb(245, 183, 142)\"],[0.3333333333333333,\"rgb(241, 156, 124)\"],[0.5,\"rgb(234, 129, 113)\"],[0.6666666666666666,\"rgb(221, 104, 108)\"],[0.8333333333333334,\"rgb(202, 82, 104)\"],[1.0,\"rgb(177, 63, 100)\"]]},\"legend\":{\"tracegroupgap\":0,\"itemsizing\":\"constant\"},\"margin\":{\"t\":60}},                        {\"responsive\": true}                    ).then(function(){\n",
              "                            \n",
              "var gd = document.getElementById('5711d090-de81-4224-b433-59f3d5f40175');\n",
              "var x = new MutationObserver(function (mutations, observer) {{\n",
              "        var display = window.getComputedStyle(gd).display;\n",
              "        if (!display || display === 'none') {{\n",
              "            console.log([gd, 'removed!']);\n",
              "            Plotly.purge(gd);\n",
              "            observer.disconnect();\n",
              "        }}\n",
              "}});\n",
              "\n",
              "// Listen for the removal of the full notebook cells\n",
              "var notebookContainer = gd.closest('#notebook-container');\n",
              "if (notebookContainer) {{\n",
              "    x.observe(notebookContainer, {childList: true});\n",
              "}}\n",
              "\n",
              "// Listen for the clearing of the current output cell\n",
              "var outputEl = gd.closest('.output');\n",
              "if (outputEl) {{\n",
              "    x.observe(outputEl, {childList: true});\n",
              "}}\n",
              "\n",
              "                        })                };                            </script>        </div>\n",
              "</body>\n",
              "</html>"
            ]
          },
          "metadata": {}
        }
      ]
    },
    {
      "cell_type": "markdown",
      "metadata": {
        "id": "b42P7PVB1CB8"
      },
      "source": [
        "As we can see, the market distributed highly at south Brazil approximately around lat: -22 and lng: -46. Therefore, I suggest for the market distribution to be balanced. Moreover, if the company interested in expand the market to international, it is highly recommended to expand the market at north and west\n",
        "Brazil since there is only a few market around to focus on company's branding.  "
      ]
    },
    {
      "cell_type": "markdown",
      "metadata": {
        "id": "1N4s7u9L_U2R"
      },
      "source": [
        "## 2) Revenue Distribution\n",
        "\n",
        "\n",
        "---\n",
        "\n",
        "To explore the distribution of product revenue, we need to process the order dataset and clean the data from duplicate. However, the position for each order are contained on the geo dataset. Therefore, we need to join both dataset based on order id column."
      ]
    },
    {
      "cell_type": "code",
      "metadata": {
        "id": "O59Qv_tG3fVo",
        "outputId": "f9452c38-a5d7-45ea-fbe8-b1808775ab51",
        "colab": {
          "base_uri": "https://localhost:8080/",
          "height": 359
        }
      },
      "source": [
        "order.head()"
      ],
      "execution_count": 9,
      "outputs": [
        {
          "output_type": "execute_result",
          "data": {
            "text/plain": [
              "                           order_id order_status  order_products_value  \\\n",
              "0  b95df3cef5297e79ef709ba256518f6f    delivered                349.90   \n",
              "1  59af46052a799e80e2f0c665c587731d    delivered                 15.00   \n",
              "2  a3e6136894621db402a772c6bc72a12a    delivered                238.90   \n",
              "3  b675ea5a618922f6e679e30531b8957b    delivered                 29.99   \n",
              "4  195a8be6794c487fe6cfbb97b7c61902    delivered                295.99   \n",
              "\n",
              "   order_freight_value  order_items_qty  order_sellers_qty  \\\n",
              "0                13.84                1                  1   \n",
              "1                15.10                1                  1   \n",
              "2                18.00                1                  1   \n",
              "3                18.23                1                  1   \n",
              "4                47.65                1                  1   \n",
              "\n",
              "     order_purchase_timestamp            order_aproved_at  \\\n",
              "0  2017-01-31 17:19:01.000000  2017-02-01 02:41:21.549551   \n",
              "1  2017-09-09 19:52:54.000000  2017-09-10 20:03:31.535281   \n",
              "2  2017-01-30 17:00:09.000000  2017-01-30 17:31:25.438253   \n",
              "3  2018-03-11 18:18:36.000000  2018-03-11 18:30:37.931962   \n",
              "4  2017-04-20 08:01:08.000000  2017-04-25 08:05:40.405383   \n",
              "\n",
              "  order_estimated_delivery_date order_delivered_customer_date  ...  \\\n",
              "0    2017-03-15 00:00:00.000000    2017-02-06 11:04:24.154259  ...   \n",
              "1    2017-10-02 00:00:00.000000    2017-09-13 20:17:41.296915  ...   \n",
              "2    2017-03-07 00:00:00.000000    2017-02-06 15:43:04.758566  ...   \n",
              "3    2018-04-03 00:00:00.000000    2018-04-03 20:36:43.778451  ...   \n",
              "4    2017-05-24 00:00:00.000000    2017-05-04 18:47:45.721758  ...   \n",
              "\n",
              "  product_name_lenght product_description_lenght product_photos_qty  \\\n",
              "0                  51                        625                  1   \n",
              "1                  44                       1428                  2   \n",
              "2                  55                        637                  1   \n",
              "3                  55                        617                  1   \n",
              "4                  49                        558                  2   \n",
              "\n",
              "                         product_id                         review_id  \\\n",
              "0  6cdd53843498f92890544667809f1595  b95df3cef5297e79ef709ba256518f6f   \n",
              "1  ae5cad88462eb7b7b61401e31c45618e  59af46052a799e80e2f0c665c587731d   \n",
              "2  0c9ff9d8ed9b9bdd825487b3a66e05f5  a3e6136894621db402a772c6bc72a12a   \n",
              "3  ad0a798e7941f3a5a2fb8139cb62ad78  b675ea5a618922f6e679e30531b8957b   \n",
              "4  eaf2046d4c87809247a30050ea13df03  195a8be6794c487fe6cfbb97b7c61902   \n",
              "\n",
              "   review_score  review_comment_title  \\\n",
              "0             5                   NaN   \n",
              "1             5                   NaN   \n",
              "2             5                   NaN   \n",
              "3             4                   NaN   \n",
              "4             5                   NaN   \n",
              "\n",
              "                              review_comment_message  \\\n",
              "0                                                NaN   \n",
              "1  entrega em 2 dias produto c boa qualidade otim...   \n",
              "2  produto veio antes do prazo informado muito ob...   \n",
              "3                                                NaN   \n",
              "4                                                NaN   \n",
              "\n",
              "         review_creation_date    review_answer_timestamp  \n",
              "0  2017-02-07 00:00:00.000000  2017-02-09 02:37:37+00:00  \n",
              "1  2017-09-14 00:00:00.000000  2017-09-15 03:43:47+00:00  \n",
              "2  2017-02-07 00:00:00.000000  2017-02-10 14:18:53+00:00  \n",
              "3  2018-04-04 00:00:00.000000  2018-04-05 02:52:31+00:00  \n",
              "4  2017-05-05 00:00:00.000000  2017-05-08 15:20:18+00:00  \n",
              "\n",
              "[5 rows x 25 columns]"
            ],
            "text/html": [
              "\n",
              "  <div id=\"df-ecc82049-cd12-40f2-9693-a846e9da59cd\" class=\"colab-df-container\">\n",
              "    <div>\n",
              "<style scoped>\n",
              "    .dataframe tbody tr th:only-of-type {\n",
              "        vertical-align: middle;\n",
              "    }\n",
              "\n",
              "    .dataframe tbody tr th {\n",
              "        vertical-align: top;\n",
              "    }\n",
              "\n",
              "    .dataframe thead th {\n",
              "        text-align: right;\n",
              "    }\n",
              "</style>\n",
              "<table border=\"1\" class=\"dataframe\">\n",
              "  <thead>\n",
              "    <tr style=\"text-align: right;\">\n",
              "      <th></th>\n",
              "      <th>order_id</th>\n",
              "      <th>order_status</th>\n",
              "      <th>order_products_value</th>\n",
              "      <th>order_freight_value</th>\n",
              "      <th>order_items_qty</th>\n",
              "      <th>order_sellers_qty</th>\n",
              "      <th>order_purchase_timestamp</th>\n",
              "      <th>order_aproved_at</th>\n",
              "      <th>order_estimated_delivery_date</th>\n",
              "      <th>order_delivered_customer_date</th>\n",
              "      <th>...</th>\n",
              "      <th>product_name_lenght</th>\n",
              "      <th>product_description_lenght</th>\n",
              "      <th>product_photos_qty</th>\n",
              "      <th>product_id</th>\n",
              "      <th>review_id</th>\n",
              "      <th>review_score</th>\n",
              "      <th>review_comment_title</th>\n",
              "      <th>review_comment_message</th>\n",
              "      <th>review_creation_date</th>\n",
              "      <th>review_answer_timestamp</th>\n",
              "    </tr>\n",
              "  </thead>\n",
              "  <tbody>\n",
              "    <tr>\n",
              "      <th>0</th>\n",
              "      <td>b95df3cef5297e79ef709ba256518f6f</td>\n",
              "      <td>delivered</td>\n",
              "      <td>349.90</td>\n",
              "      <td>13.84</td>\n",
              "      <td>1</td>\n",
              "      <td>1</td>\n",
              "      <td>2017-01-31 17:19:01.000000</td>\n",
              "      <td>2017-02-01 02:41:21.549551</td>\n",
              "      <td>2017-03-15 00:00:00.000000</td>\n",
              "      <td>2017-02-06 11:04:24.154259</td>\n",
              "      <td>...</td>\n",
              "      <td>51</td>\n",
              "      <td>625</td>\n",
              "      <td>1</td>\n",
              "      <td>6cdd53843498f92890544667809f1595</td>\n",
              "      <td>b95df3cef5297e79ef709ba256518f6f</td>\n",
              "      <td>5</td>\n",
              "      <td>NaN</td>\n",
              "      <td>NaN</td>\n",
              "      <td>2017-02-07 00:00:00.000000</td>\n",
              "      <td>2017-02-09 02:37:37+00:00</td>\n",
              "    </tr>\n",
              "    <tr>\n",
              "      <th>1</th>\n",
              "      <td>59af46052a799e80e2f0c665c587731d</td>\n",
              "      <td>delivered</td>\n",
              "      <td>15.00</td>\n",
              "      <td>15.10</td>\n",
              "      <td>1</td>\n",
              "      <td>1</td>\n",
              "      <td>2017-09-09 19:52:54.000000</td>\n",
              "      <td>2017-09-10 20:03:31.535281</td>\n",
              "      <td>2017-10-02 00:00:00.000000</td>\n",
              "      <td>2017-09-13 20:17:41.296915</td>\n",
              "      <td>...</td>\n",
              "      <td>44</td>\n",
              "      <td>1428</td>\n",
              "      <td>2</td>\n",
              "      <td>ae5cad88462eb7b7b61401e31c45618e</td>\n",
              "      <td>59af46052a799e80e2f0c665c587731d</td>\n",
              "      <td>5</td>\n",
              "      <td>NaN</td>\n",
              "      <td>entrega em 2 dias produto c boa qualidade otim...</td>\n",
              "      <td>2017-09-14 00:00:00.000000</td>\n",
              "      <td>2017-09-15 03:43:47+00:00</td>\n",
              "    </tr>\n",
              "    <tr>\n",
              "      <th>2</th>\n",
              "      <td>a3e6136894621db402a772c6bc72a12a</td>\n",
              "      <td>delivered</td>\n",
              "      <td>238.90</td>\n",
              "      <td>18.00</td>\n",
              "      <td>1</td>\n",
              "      <td>1</td>\n",
              "      <td>2017-01-30 17:00:09.000000</td>\n",
              "      <td>2017-01-30 17:31:25.438253</td>\n",
              "      <td>2017-03-07 00:00:00.000000</td>\n",
              "      <td>2017-02-06 15:43:04.758566</td>\n",
              "      <td>...</td>\n",
              "      <td>55</td>\n",
              "      <td>637</td>\n",
              "      <td>1</td>\n",
              "      <td>0c9ff9d8ed9b9bdd825487b3a66e05f5</td>\n",
              "      <td>a3e6136894621db402a772c6bc72a12a</td>\n",
              "      <td>5</td>\n",
              "      <td>NaN</td>\n",
              "      <td>produto veio antes do prazo informado muito ob...</td>\n",
              "      <td>2017-02-07 00:00:00.000000</td>\n",
              "      <td>2017-02-10 14:18:53+00:00</td>\n",
              "    </tr>\n",
              "    <tr>\n",
              "      <th>3</th>\n",
              "      <td>b675ea5a618922f6e679e30531b8957b</td>\n",
              "      <td>delivered</td>\n",
              "      <td>29.99</td>\n",
              "      <td>18.23</td>\n",
              "      <td>1</td>\n",
              "      <td>1</td>\n",
              "      <td>2018-03-11 18:18:36.000000</td>\n",
              "      <td>2018-03-11 18:30:37.931962</td>\n",
              "      <td>2018-04-03 00:00:00.000000</td>\n",
              "      <td>2018-04-03 20:36:43.778451</td>\n",
              "      <td>...</td>\n",
              "      <td>55</td>\n",
              "      <td>617</td>\n",
              "      <td>1</td>\n",
              "      <td>ad0a798e7941f3a5a2fb8139cb62ad78</td>\n",
              "      <td>b675ea5a618922f6e679e30531b8957b</td>\n",
              "      <td>4</td>\n",
              "      <td>NaN</td>\n",
              "      <td>NaN</td>\n",
              "      <td>2018-04-04 00:00:00.000000</td>\n",
              "      <td>2018-04-05 02:52:31+00:00</td>\n",
              "    </tr>\n",
              "    <tr>\n",
              "      <th>4</th>\n",
              "      <td>195a8be6794c487fe6cfbb97b7c61902</td>\n",
              "      <td>delivered</td>\n",
              "      <td>295.99</td>\n",
              "      <td>47.65</td>\n",
              "      <td>1</td>\n",
              "      <td>1</td>\n",
              "      <td>2017-04-20 08:01:08.000000</td>\n",
              "      <td>2017-04-25 08:05:40.405383</td>\n",
              "      <td>2017-05-24 00:00:00.000000</td>\n",
              "      <td>2017-05-04 18:47:45.721758</td>\n",
              "      <td>...</td>\n",
              "      <td>49</td>\n",
              "      <td>558</td>\n",
              "      <td>2</td>\n",
              "      <td>eaf2046d4c87809247a30050ea13df03</td>\n",
              "      <td>195a8be6794c487fe6cfbb97b7c61902</td>\n",
              "      <td>5</td>\n",
              "      <td>NaN</td>\n",
              "      <td>NaN</td>\n",
              "      <td>2017-05-05 00:00:00.000000</td>\n",
              "      <td>2017-05-08 15:20:18+00:00</td>\n",
              "    </tr>\n",
              "  </tbody>\n",
              "</table>\n",
              "<p>5 rows × 25 columns</p>\n",
              "</div>\n",
              "    <div class=\"colab-df-buttons\">\n",
              "\n",
              "  <div class=\"colab-df-container\">\n",
              "    <button class=\"colab-df-convert\" onclick=\"convertToInteractive('df-ecc82049-cd12-40f2-9693-a846e9da59cd')\"\n",
              "            title=\"Convert this dataframe to an interactive table.\"\n",
              "            style=\"display:none;\">\n",
              "\n",
              "  <svg xmlns=\"http://www.w3.org/2000/svg\" height=\"24px\" viewBox=\"0 -960 960 960\">\n",
              "    <path d=\"M120-120v-720h720v720H120Zm60-500h600v-160H180v160Zm220 220h160v-160H400v160Zm0 220h160v-160H400v160ZM180-400h160v-160H180v160Zm440 0h160v-160H620v160ZM180-180h160v-160H180v160Zm440 0h160v-160H620v160Z\"/>\n",
              "  </svg>\n",
              "    </button>\n",
              "\n",
              "  <style>\n",
              "    .colab-df-container {\n",
              "      display:flex;\n",
              "      gap: 12px;\n",
              "    }\n",
              "\n",
              "    .colab-df-convert {\n",
              "      background-color: #E8F0FE;\n",
              "      border: none;\n",
              "      border-radius: 50%;\n",
              "      cursor: pointer;\n",
              "      display: none;\n",
              "      fill: #1967D2;\n",
              "      height: 32px;\n",
              "      padding: 0 0 0 0;\n",
              "      width: 32px;\n",
              "    }\n",
              "\n",
              "    .colab-df-convert:hover {\n",
              "      background-color: #E2EBFA;\n",
              "      box-shadow: 0px 1px 2px rgba(60, 64, 67, 0.3), 0px 1px 3px 1px rgba(60, 64, 67, 0.15);\n",
              "      fill: #174EA6;\n",
              "    }\n",
              "\n",
              "    .colab-df-buttons div {\n",
              "      margin-bottom: 4px;\n",
              "    }\n",
              "\n",
              "    [theme=dark] .colab-df-convert {\n",
              "      background-color: #3B4455;\n",
              "      fill: #D2E3FC;\n",
              "    }\n",
              "\n",
              "    [theme=dark] .colab-df-convert:hover {\n",
              "      background-color: #434B5C;\n",
              "      box-shadow: 0px 1px 3px 1px rgba(0, 0, 0, 0.15);\n",
              "      filter: drop-shadow(0px 1px 2px rgba(0, 0, 0, 0.3));\n",
              "      fill: #FFFFFF;\n",
              "    }\n",
              "  </style>\n",
              "\n",
              "    <script>\n",
              "      const buttonEl =\n",
              "        document.querySelector('#df-ecc82049-cd12-40f2-9693-a846e9da59cd button.colab-df-convert');\n",
              "      buttonEl.style.display =\n",
              "        google.colab.kernel.accessAllowed ? 'block' : 'none';\n",
              "\n",
              "      async function convertToInteractive(key) {\n",
              "        const element = document.querySelector('#df-ecc82049-cd12-40f2-9693-a846e9da59cd');\n",
              "        const dataTable =\n",
              "          await google.colab.kernel.invokeFunction('convertToInteractive',\n",
              "                                                    [key], {});\n",
              "        if (!dataTable) return;\n",
              "\n",
              "        const docLinkHtml = 'Like what you see? Visit the ' +\n",
              "          '<a target=\"_blank\" href=https://colab.research.google.com/notebooks/data_table.ipynb>data table notebook</a>'\n",
              "          + ' to learn more about interactive tables.';\n",
              "        element.innerHTML = '';\n",
              "        dataTable['output_type'] = 'display_data';\n",
              "        await google.colab.output.renderOutput(dataTable, element);\n",
              "        const docLink = document.createElement('div');\n",
              "        docLink.innerHTML = docLinkHtml;\n",
              "        element.appendChild(docLink);\n",
              "      }\n",
              "    </script>\n",
              "  </div>\n",
              "\n",
              "\n",
              "<div id=\"df-a89f5052-a8b3-46aa-9c6f-5f258ca312c0\">\n",
              "  <button class=\"colab-df-quickchart\" onclick=\"quickchart('df-a89f5052-a8b3-46aa-9c6f-5f258ca312c0')\"\n",
              "            title=\"Suggest charts.\"\n",
              "            style=\"display:none;\">\n",
              "\n",
              "<svg xmlns=\"http://www.w3.org/2000/svg\" height=\"24px\"viewBox=\"0 0 24 24\"\n",
              "     width=\"24px\">\n",
              "    <g>\n",
              "        <path d=\"M19 3H5c-1.1 0-2 .9-2 2v14c0 1.1.9 2 2 2h14c1.1 0 2-.9 2-2V5c0-1.1-.9-2-2-2zM9 17H7v-7h2v7zm4 0h-2V7h2v10zm4 0h-2v-4h2v4z\"/>\n",
              "    </g>\n",
              "</svg>\n",
              "  </button>\n",
              "\n",
              "<style>\n",
              "  .colab-df-quickchart {\n",
              "    background-color: #E8F0FE;\n",
              "    border: none;\n",
              "    border-radius: 50%;\n",
              "    cursor: pointer;\n",
              "    display: none;\n",
              "    fill: #1967D2;\n",
              "    height: 32px;\n",
              "    padding: 0 0 0 0;\n",
              "    width: 32px;\n",
              "  }\n",
              "\n",
              "  .colab-df-quickchart:hover {\n",
              "    background-color: #E2EBFA;\n",
              "    box-shadow: 0px 1px 2px rgba(60, 64, 67, 0.3), 0px 1px 3px 1px rgba(60, 64, 67, 0.15);\n",
              "    fill: #174EA6;\n",
              "  }\n",
              "\n",
              "  [theme=dark] .colab-df-quickchart {\n",
              "    background-color: #3B4455;\n",
              "    fill: #D2E3FC;\n",
              "  }\n",
              "\n",
              "  [theme=dark] .colab-df-quickchart:hover {\n",
              "    background-color: #434B5C;\n",
              "    box-shadow: 0px 1px 3px 1px rgba(0, 0, 0, 0.15);\n",
              "    filter: drop-shadow(0px 1px 2px rgba(0, 0, 0, 0.3));\n",
              "    fill: #FFFFFF;\n",
              "  }\n",
              "</style>\n",
              "\n",
              "  <script>\n",
              "    async function quickchart(key) {\n",
              "      const charts = await google.colab.kernel.invokeFunction(\n",
              "          'suggestCharts', [key], {});\n",
              "    }\n",
              "    (() => {\n",
              "      let quickchartButtonEl =\n",
              "        document.querySelector('#df-a89f5052-a8b3-46aa-9c6f-5f258ca312c0 button');\n",
              "      quickchartButtonEl.style.display =\n",
              "        google.colab.kernel.accessAllowed ? 'block' : 'none';\n",
              "    })();\n",
              "  </script>\n",
              "</div>\n",
              "    </div>\n",
              "  </div>\n"
            ]
          },
          "metadata": {},
          "execution_count": 9
        }
      ]
    },
    {
      "cell_type": "code",
      "metadata": {
        "id": "DBybWlkKyggB"
      },
      "source": [
        "order = order.drop_duplicates(subset=None, keep='first', inplace=False)"
      ],
      "execution_count": 10,
      "outputs": []
    },
    {
      "cell_type": "code",
      "metadata": {
        "id": "Bg6NI8kiLG8H"
      },
      "source": [
        "geo_order = pd.merge(centroid,\n",
        "                     order,\n",
        "                     how='right',\n",
        "                     left_on='zip_code_prefix',\n",
        "                     right_on='customer_zip_code_prefix')"
      ],
      "execution_count": 11,
      "outputs": []
    },
    {
      "cell_type": "markdown",
      "metadata": {
        "id": "5TOAXfMuAW8g"
      },
      "source": [
        "Same as the previous part, the dataset is grouped by customer zip code and for each group contain the sum of value ordered products."
      ]
    },
    {
      "cell_type": "code",
      "metadata": {
        "id": "3z1znXa5T-fE"
      },
      "source": [
        "geo_rev = geo_order.groupby('customer_zip_code_prefix').agg({\n",
        "    'lat':\n",
        "    'median',\n",
        "    'lng':\n",
        "    'median',\n",
        "    'order_products_value':\n",
        "    'sum'\n",
        "}).reset_index()"
      ],
      "execution_count": 12,
      "outputs": []
    },
    {
      "cell_type": "markdown",
      "metadata": {
        "id": "Jk0vSxi-Cohf"
      },
      "source": [
        "The following map are the distribution of the purchased procuts at Brazil:"
      ]
    },
    {
      "cell_type": "code",
      "metadata": {
        "id": "SwNMdHJFv6NB",
        "outputId": "09f6f371-2146-4dec-e6cc-401e4eddcaac",
        "colab": {
          "base_uri": "https://localhost:8080/",
          "height": 542
        }
      },
      "source": [
        "import plotly.graph_objects as go\n",
        "fig = go.Figure(\n",
        "    go.Densitymapbox(lat=geo_rev.lat,\n",
        "                     lon=geo_rev.lng,\n",
        "                     z=geo_rev.order_products_value,\n",
        "                     radius=10))\n",
        "fig.update_layout(mapbox_style=\"stamen-terrain\",\n",
        "                  mapbox_center_lon=-50,\n",
        "                  mapbox_center_lat=-16,\n",
        "                  mapbox_zoom=2.7)\n",
        "fig.update_layout(margin={\"r\": 0, \"t\": 0, \"l\": 0, \"b\": 0})\n",
        "fig.show()"
      ],
      "execution_count": 13,
      "outputs": [
        {
          "output_type": "display_data",
          "data": {
            "text/html": [
              "<html>\n",
              "<head><meta charset=\"utf-8\" /></head>\n",
              "<body>\n",
              "    <div>            <script src=\"https://cdnjs.cloudflare.com/ajax/libs/mathjax/2.7.5/MathJax.js?config=TeX-AMS-MML_SVG\"></script><script type=\"text/javascript\">if (window.MathJax && window.MathJax.Hub && window.MathJax.Hub.Config) {window.MathJax.Hub.Config({SVG: {font: \"STIX-Web\"}});}</script>                <script type=\"text/javascript\">window.PlotlyConfig = {MathJaxConfig: 'local'};</script>\n",
              "        <script charset=\"utf-8\" src=\"https://cdn.plot.ly/plotly-2.24.1.min.js\"></script>                <div id=\"d784d394-03f9-44fc-a111-4af4cec21c68\" class=\"plotly-graph-div\" style=\"height:525px; width:100%;\"></div>            <script type=\"text/javascript\">                                    window.PLOTLYENV=window.PLOTLYENV || {};                                    if (document.getElementById(\"d784d394-03f9-44fc-a111-4af4cec21c68\")) {                    Plotly.newPlot(                        \"d784d394-03f9-44fc-a111-4af4cec21c68\",                        [{\"lat\":[-23.545519993623355,-23.528065777410674,-23.54082191035259,-23.55682905467713,-23.567885434283873,-23.5678156827942,-23.50078725950717,-23.50807020843673,-23.480163000000005,-23.459965658895484,-23.481775760199668,-23.497717955868783,-23.463135717871786,-23.49516306273331,-23.465926414103496,-23.48185910713255,-23.535964728836067,-23.566203164823225,-23.59726695861339,-23.559114233887946,-23.55660851276761,-23.545919043020362,-23.523983190829632,-23.506961475373867,-23.497958021191764,-23.601207006939227,-23.60022643144441,-23.60827024269207,-23.604202524424366,-23.64549414916688,-23.685041104435385,-23.598856822926873,-23.641245408275115,-23.645210165798467,-23.74492988259566,-23.688839656529552,-23.53222232653355,-23.488618369135562,-23.414263129753586,-23.558686767887146,-23.557636310916727,-23.58504698050522,-23.60677075659299,-23.63290388565408,-23.66516238950137,-23.55053198529405,-23.547683847978497,-23.50731458479997,-23.543463596041377,-23.50097450702893,-23.45649748796858,-23.543839934576688,-23.614716709129212,-23.66915621422344,-23.837797733281196,-23.459548500000004,-23.430912087425714,-23.451636059668783,-23.40164602553523,-23.318414399471926,-23.322293426704924,-23.359908033812516,-23.321354280451892,-23.281361270789922,-23.50332944532287,-23.50234360090701,-23.5453317799065,-23.61154195303569,-23.54910057360541,-23.517571856367947,-23.546568080871015,-23.53570456790112,-23.50797964415117,-23.426648177294613,-23.658137204541585,-23.681304199001662,-23.63430156731484,-23.670451161549884,-23.711694719298848,-23.62462486115588,-23.663023664246506,-23.709901274770615,-23.723653249972493,-23.689101515537573,-23.964721727306845,-23.82618384454923,-23.964939403758365,-23.984500432685163,-23.899521417217176,-23.635274899432126,-24.031976919239384,-24.310241348239167,-24.705471846866363,-23.02673131493544,-22.98287316885024,-23.208189108243403,-23.301450544023904,-22.918612458651197,-22.81075432983546,-22.731185011656763,-22.573110043986986,-22.672529817110437,-23.053916050106373,-22.900949225667766,-22.824698949552676,-23.17672392268171,-23.1195875512042,-22.72687148516924,-22.066024380138046,-22.17467879765232,-21.588838513052828,-22.36400830295668,-22.60105370774424,-21.18093377908783,-21.1388907940591,-21.477416431557863,-20.8996500088542,-20.531576903740312,-20.314495085735537,-20.716827462376976,-20.808235393310813,-21.76862893907002,-21.616488043727557,-20.812241516724736,-20.808593654734743,-21.054924910769003,-20.507233612314824,-20.535875218100774,-20.419586620009728,-20.282271420470558,-20.230048208820502,-21.133392160424695,-21.407553212745416,-21.208117641410357,-21.29703709144771,-21.44024422568529,-21.673659554800263,-21.808056727336684,-21.99581778821028,-21.252200664650708,-21.16688546250883,-20.89915185290549,-22.327785,-22.463046337868132,-22.291038324730216,-22.42774334648715,-22.290469441324888,-22.2138611873449,-21.930333539253926,-21.782494619636477,-21.66794273389646,-21.481509580035304,-23.49363494171619,-23.540756091869113,-23.56046099141129,-24.099287400187816,-23.98584888393571,-23.17290064389735,-22.86673479459283,-23.103476172355585,-23.209052573671876,-22.9048795045432,-22.121168374052505,-22.075670518945387,-22.4093269964106,-21.979068705517257,-21.87251276226975,-22.21090341407495,-22.23134865234548,-22.41320720112571,-22.662735770328975,-22.969809220093484,-22.904590782058108,null,-22.916438999999997,-22.923520511800987,-22.89614655785111,-22.89786753292841,-22.8502943076491,-22.836248036355265,-22.879542981009557,-22.848506255900496,-22.839765726888487,-22.882926205666767,-22.876373855531227,-22.80790835609381,-22.97108348014892,-22.942673770182985,-22.98197770191585,-23.006529823224245,-22.95393489592587,-22.90322213849616,-22.925074615730892,-22.86833052479996,-23.005109346554285,-22.88973607185248,-22.878876474176316,-22.902607107744146,-22.932542858471077,-22.825268317765552,-22.82860706432428,-22.74576891378957,-22.918722281259587,-22.773788218830525,-22.665036453994574,-22.787490498153165,-22.511563683473305,-22.419081606263035,-22.11665061891994,-22.434840831004514,-22.727512499425654,-22.73717443287848,-22.759678383566204,-22.713507287201885,-22.672833870969356,-22.8021940080054,-22.61224378429343,-22.526974302742488,-22.4493464740505,-22.489521161425774,-22.50593236219632,-22.540570533166942,-22.42072361341672,-22.47012262269631,-22.24242429979369,-22.408906455174137,-22.380806819602647,-21.761887455886416,-21.49110895898501,-21.62472712270616,-21.19058558839277,-21.546601705165,-21.983211584862957,-22.28203975545734,-22.08758079899671,-22.525338400998045,-22.876439971721194,-20.2912134096601,-20.330735646489646,-20.671113527648963,-20.845870693976224,-21.060900912263072,-20.76646324889363,-19.93639598766012,-19.516081381805343,-18.696622269371403,-19.27578260078683,-19.929102113105163,-19.925951333328555,-19.949670943101175,-19.937714243283683,-19.94999133347278,-19.989159535451066,-19.91206969178831,-19.900377686234055,-19.901598207744243,-19.887750042183647,-19.8654678910641,-19.872481389668074,-19.824857189651734,-19.8013118104334,-19.833053961971295,-19.840964658058777,-19.861710564386318,-19.919005274330104,-19.879523573218385,-19.961182358558883,-19.935948945339497,-20.0262193761578,-19.950754305860094,-20.066496388672007,-19.76919950684299,-19.786821905723304,-19.74707676210683,-19.70834658039505,-19.638505137528643,-19.62921474349378,-19.61827302164001,-19.7658386611172,-19.794649581133065,-19.9917479117076,-20.088018939331818,-19.96692513186378,-19.88744479072245,-19.86522859613991,-19.87940311320534,-19.886311790271456,-19.72110367399926,-18.860097204588634,-19.474961694558267,-19.17092659289246,-19.794094470350963,-20.38229565168213,-20.149157398311996,-19.85240973911823,-19.45445502282141,-19.035154676964904,-19.810249789695145,-21.75841583152521,-21.479898593780643,-21.21873725164554,-21.127520860667115,-20.649789129767584,-20.870729755909306,-21.863067455547856,-21.398029447631444,-20.9078385970755,-20.251247300410117,-21.560169454338777,-21.369191016109866,-21.232651049099392,-21.74180514214963,-21.983817596548032,-22.277007895810204,-22.657694188516526,-21.789105540588015,-21.306699199001667,-20.7289911087685,-19.75186162975359,-19.59406009965015,-19.898788020410677,-18.969335213671943,-18.91444747238731,-18.723801839627868,-16.37059636071647,-18.58801184192626,-19.219760899047017,-20.00668005907805,-18.245080053082493,-17.586614469449543,-16.25489910294293,-16.719768366639723,-15.745174498056546,-17.216512265411165,-18.598615110590945,-17.84751188796608,-16.172105170306256,-12.980731937586565,-13.001296681705234,-12.990438041579472,-12.953599234664441,-12.929272919911908,-12.885617379791004,-12.836518743076692,null,-12.960368773780893,-12.931447761454749,-12.904865707200244,-12.919327240700014,-12.912559386981805,-12.940907742910326,-12.974628457672116,-12.994891595894154,-13.009096020423346,-12.74206884254438,-12.888337096586646,-12.695314708571601,-12.788217792923785,-12.670320796080581,-12.626301422668272,-12.252105838190316,-12.429037693474077,-12.39755501328423,-12.654551567717652,-12.978786122121864,-12.963946545142566,-11.710955014789995,-11.179942869023499,-11.72703245989953,-11.3051555898185,-14.855947237258576,-14.874363437134768,-14.012129586911344,-13.434813723796845,-13.454370000000004,-14.21257854144779,-14.795565738420082,-15.24897755747558,-16.385540277935117,-17.54075408347268,-14.2011491849954,-14.901205319552826,-14.503802572109738,-14.218275538829827,-13.027001232979618,-13.628145401334807,-13.006509941343507,-12.52706511498534,-12.418107766476943,-11.08780196519673,-9.621740304379438,-9.739764227967616,-10.823402732936266,-12.181424519180965,-13.382551683575732,-12.974473576578024,-12.128258954254983,-11.753135950663646,-12.136283673723073,-12.351548065706455,-12.530872663726951,-11.791521441941349,-10.837039912761224,-10.077496797490625,-9.402310044082247,-11.563040610149669,-10.754487136314587,-9.43801077634918,-10.933205323330908,-10.867365797569272,-11.271701673277963,-11.184499761882456,-10.911899324234763,-10.68500836824854,-10.218430771961557,-10.507750422868565,-9.666231531606297,-10.274804017653246,-8.061540422701842,-8.046395350539573,-8.051432741329542,-8.056531245917173,-8.076219653067113,-8.082961030526882,-8.120836995700827,-8.109106438802,-8.120661227180287,-8.111708929035874,-8.034123384673139,-8.016000004790326,-8.01550363368929,null,null,-7.973052022605982,-7.988464152374622,-8.006796953179887,-7.997069597057791,-7.933838532679113,-7.913454881641773,-7.83071075936294,-7.773695510620832,-7.742033957606787,-8.110763298084139,-8.109718281948348,-8.090714650845417,-8.160895372560805,-8.18711055117966,-8.287324737578633,-8.009681341782347,-8.117892133311077,-8.28140539885231,-8.03643131988301,-8.882241341997211,-8.734216236688294,-8.66766403314179,-8.516683085356835,-8.202462439003181,-7.865815099596729,-7.747388123494947,-7.5614046756881415,-8.073469368938401,-8.227867770975367,-7.758119673998479,-9.383143421943378,-8.972796333425762,-8.421152395028791,-8.078360012758093,-7.477408995087297,-7.803638454819046,-7.986459537789969,-9.645803096034435,-9.593277733766511,-10.125968638246245,-9.752286283308251,-9.537353721784038,-9.360938029498268,-9.415774465142151,-9.37848909829083,-9.160414329871273,-9.088993481816768,-7.124730569248079,-7.018717349619061,-6.832544640817329,-7.128097426173329,-7.232992015303509,-7.672414147389153,-6.997830163240426,-7.093120278106696,-6.555022957242163,-6.891631577391529,-5.824680160424698,-5.877825985636001,-6.226501759498418,-6.449527105357911,-5.900451140349413,-5.501153074229603,-5.191640253742511,-5.666107638774344,-6.027819262629616,-6.1947005643765936,-3.735929573102122,-3.7362372279993448,-3.7224074821361226,-3.754365462144178,-3.774084031149745,-3.801549939494493,-3.800431489058459,-3.738887129198341,-3.8798780866705975,-3.9714031145959643,-3.8756498372660193,-3.685944349572401,-3.7928791781380236,-4.336761005418047,-3.761849602138168,-2.913123256269205,-3.0536086269070664,-3.6709977959435722,-4.337347348320057,-4.186644554894781,-5.133551782152398,-7.2203821420150565,-7.2309539062117745,-7.489347825960264,-6.942367376090676,-6.392506984489927,-6.359268364094253,-5.746526421602799,-5.178589841096914,-5.130911422251152,-4.968615446090581,-5.078779541577439,-3.9028989778749468,-3.180431791278335,-5.832054674112545,-5.988779816540749,-7.017582674084056,-7.081134134926282,-8.363462905112865,-6.781729290078161,-9.82916886279047,-2.5313408913275235,-2.559384609951616,-2.4452816520363223,-3.662666999999997,-4.036880831208753,-3.3613360993496095,-5.09988921202937,-4.576410278520987,-7.5204793802784655,-5.5191605739289695,-1.4505412625655916,-1.4156008822031698,-1.4001805434243977,-1.3244242178968126,-1.1661591778152802,-1.3760015757332156,-1.3631947247093936,-1.3667551836294922,-2.432661578344335,-4.257695734574252,-1.9124732498891373,-3.221322012717903,-2.24394843749662,-6.07931563652907,-2.5578521068091886,-1.2844395984667698,-1.681880212494914,0.03263068878396085,-3.0855172781008804,-2.6942460190048823,2.823458536092981,-4.240124134996824,-7.5135010106366735,-9.95560451457095,null,null,-15.821719993204432,-15.814805709165725,-15.802477586805972,-15.787883147931211,-15.757629850091522,-15.7623885,null,-15.828826950927354,null,null,-15.734822639603557,-15.853910553679128,-15.858260732668844,-15.885517897674116,-15.836407051618703,-15.840370204186762,-15.813094907421874,-15.816429661339903,-15.878784740978016,-16.029136659024317,-16.01651048333811,-15.912134161834317,-15.66786460733477,-16.0817898460413,-15.853917504543194,-15.647820932741318,-15.65924747941368,-15.687877462415646,-15.619759456314135,null,-14.13775046648485,-15.544546045056325,-14.09645641749945,-16.674418389899763,-16.687634855979248,-16.706842651613904,-16.721128896707583,-16.65922051540767,-16.650579751571392,-16.640441206951273,-16.67561383652654,-16.716799319627057,-16.7728742387288,-16.311500113482033,-16.353066287877326,-16.981633304605168,-16.647392079785362,-16.36901106148165,-18.412039497898675,-17.746519265110088,-18.163451695451066,-17.88913766788605,-17.79496358466878,-16.518837222572525,-16.203824633052633,-15.308523671561748,-14.313428543865086,-13.44932059151791,-15.93689830280329,-15.091736989145842,-8.79076180665226,-11.674921486998997,-10.201685528911135,-11.979005150615247,-11.730680063637344,-10.708549915141726,-10.159346418133994,-8.079043400778454,-7.190778450156136,-5.651534046079099,-15.600374178437754,-15.649444406724683,-15.62510591116231,-13.65791127277237,-13.45405269194706,-11.504746814489,-14.052743162895297,-16.46942804385708,-15.542592858402063,-20.474127067957134,-20.45233085179438,-21.127932260213544,-19.00896869906208,-18.916843498479157,-18.7971994284708,-20.79008309578196,-22.256168799239738,-22.22529584453434,-23.06116801229209,-25.42809101469902,-25.44675157119925,-25.46116749096897,-25.434698396329892,-25.412268865874115,-25.465716995556598,-25.433397360232053,-25.412600503750912,-25.48596840937806,-25.51121519133873,-25.45188562578724,-25.49179836491305,-25.561031930607683,-25.47519790478401,-25.492209883980642,-25.5143878529055,-25.520613999163285,-25.544630912574288,-25.41219701304174,-25.389110577298165,-25.378153459893824,-25.415211583126545,-25.387572533987644,-25.3978025696396,-25.38175890733748,-25.365106752910727,-25.419826655562943,-25.458015944630382,-25.528614814866973,-25.56630010105942,-25.43862909267717,-25.357860034232672,-25.32610251067581,-25.46043911403141,-25.593662607692444,-25.68192647004309,-25.86813428419935,-25.09142231307345,-24.81501042496412,-24.32402162098524,-24.51243052130453,-25.20980364163107,-25.4782748934254,-26.225873678812764,-23.845652984414684,-25.39180019416623,-25.57594838241842,-24.759959455857754,-25.40543646129992,-24.7967713618605,-26.224337258700288,-26.05413125119615,-25.68430220746078,-25.144103593332567,-24.567181553665634,-23.315073790624936,-23.26631582347514,-23.27215416245734,-23.148892011392526,-23.297939251611485,-22.971250321897806,-23.39305842983744,-23.567259107554406,-23.588334745651586,-23.41965060217128,-23.43988391623799,-23.66779255519141,-24.057580764737157,-23.780726812773374,-23.76538622182577,-23.17018169275489,-23.086191016373725,-22.943753998405057,-22.928409731288617,-27.59098979877663,-27.59595616832063,-27.194836557313643,-26.927285553786977,-27.53161703727588,-27.811954000469377,-28.282946853769527,-28.466669498556183,-28.67906182345152,-28.997531412515198,-26.90638525326043,-26.94711180243599,-26.29687356513127,-26.13128926630312,-26.18702908684815,-27.002283856536494,-27.172828138513296,-27.22992897192745,-27.07187184180577,-26.5405973128398,-30.033462903543256,-30.052307620030064,-30.005261580679186,-30.032370408275114,-30.018657258122197,-30.051082487102484,-30.07609574802368,-30.00630824257029,-29.99959867264458,-30.02368547292934,-30.022553545817047,-30.047761063693827,-30.069686636770655,-30.134908057173707,-30.106603692336567,-29.918925812828494,-29.948919539529253,-29.957293016374294,-29.90834841661366,-29.887338532315898,-30.116615029027756,-30.46075020668752,-29.99943038689719,-29.77062784904551,-29.727593254942477,-29.840449474528317,-29.68917401110937,-29.707646429251334,-29.682145031053256,-29.651989815310202,-29.67752577167267,-29.63607004755457,-29.59234281709849,-29.938500052455428,-29.925131684286484,-29.87903241450276,-30.081509855459093,-30.06232050784011,-30.12778541375078,-30.00524488083029,-29.93924243410754,-29.165445468495506,-29.23473286774503,-28.522229642627323,-28.763221417273314,-29.445442636510265,-29.812129499500845,-29.515222752554592,-29.354840929860032,-29.602984876428405,-29.440420273273077,-31.75607673827113,-30.91473773252969,-32.04631874796519,-32.55182795677749,-31.324199690217963,-30.03941580084497,-30.541875359489485,-30.090593631507723,-29.71604504294612,-29.426458066019947,-29.691640803797945,-29.703048730752975,-29.62296904735798,-30.33577595184496,-29.693834860708357,-29.799631847697167,-28.66849154885411,-29.19161811794376,-28.408317752039476,-28.144976135451493,-28.64451912660966,-29.087831058836358,-28.313396916794822,-27.89002658232723,-27.355271255911724,-27.67553811934423,-27.460154873714952,-28.379388813125484,-28.30042996749347,-27.781653619391648,-28.262275869237115,-28.446391605955,-28.753030396986247,-28.82964331642682,-28.630311358436916,-28.283429080407345,-27.643769467588594,-27.635799534237933,-27.77074779587531,-28.06040899335637],\"lon\":[-46.63622549584506,-46.64921756053981,-46.65437333666112,-46.648643600193324,-46.66320747232752,-46.628559874689806,-46.61809169608748,-46.578197286773616,-46.58350586955393,-46.605700561198006,-46.63939234401869,-46.661967204411695,-46.65918999167579,-46.68271563219164,-46.69342974271453,-46.71490320330083,-46.59818387399732,-46.58508972300768,-46.545030321888134,-46.560082282748574,-46.53232386740434,-46.502425924995656,-46.510409496047075,-46.51874228635527,-46.4848310327486,-46.50070144025911,-46.64673306168847,-46.62533338807779,-46.60359870510416,-46.64419751415849,-46.65784985581968,-46.67708334928447,-46.67619099140167,-46.70338254247211,-46.69740791548847,-46.759251605064065,-46.688745659515874,-46.74698338884241,-46.75959517880435,-46.75089537108314,-46.69070634179699,-46.74183856443962,-46.72426299916328,-46.750490533585285,-46.76622784451242,-46.78012280267178,-46.804532633072355,-46.77830063687657,-46.83820227540252,-46.87512624011513,-46.88273007199326,-46.91956063928281,-46.84775280544172,-46.81993323411619,-46.82060483279709,-46.549731577990656,-46.50209375291419,-46.42498349486411,-46.32233407796951,-46.22738648152899,-46.58967680631659,-46.7497630840115,-46.72539287900226,-46.74387047428361,-46.43833174646542,-46.395051936161934,-46.45364082317029,-46.456425833054425,-46.407736812973,-46.35355217438327,-46.31200175704274,-46.19775729015144,-46.14473467292832,-46.03403965621088,-46.54081695198797,-46.51102427495553,-46.517139371775606,-46.44761187709919,-46.40498837607478,-46.56569101442672,-46.57547107507645,-46.5446269103832,-46.57398782096497,-46.61396019262502,-46.32663648264475,-46.11832861478902,-46.38572998906069,-46.27191707956683,-46.42408244808348,-45.398490242134045,-46.51259076380164,-47.62605854788088,-47.859540563563925,-45.56062378232818,-45.54245609702959,-45.89003193563078,-45.962760378988975,-45.46917202608873,-45.19800883930323,-45.11194992576025,-44.96258896414211,-44.448352032885545,-46.546446807664594,-47.066446187049316,-47.19032055324457,-46.89326054840386,-47.27997394123683,-47.41898637227073,-47.868236506787724,-47.39537588734774,-46.97123850000001,-46.94741272715315,-46.774546034034685,-47.805623077990646,-47.98862060838644,-47.372471352806734,-47.58584530074794,-47.40138461232209,-47.78671295826865,-47.870020821715286,-48.5031630919161,-48.17602798776023,-48.8289129576625,-49.380884637430384,-49.51161412213207,-49.77529039897198,-51.32808416243005,-49.06002068719613,-49.97351187130574,-50.25184789579505,-50.76390782417624,-48.976761038576974,-48.49088168726587,-50.4458465656414,-50.34289850306981,-50.06724265017302,-49.75310614508127,-49.60259146858579,-49.44906318507949,-50.64648395550366,-51.04353755666272,-51.37820498064556,-49.06405354782176,-48.99117099532417,-48.572973982353695,-48.39328995169422,-49.64947128403911,-49.950945298776624,-50.51630271079769,-50.8783783746304,-51.16920592655684,-51.541588451943696,-47.469586371738366,-47.39492254943474,-48.0193307872535,-48.36519158935443,-48.89357013532448,-47.70450010072372,-48.46054284578599,-48.936234562768185,-49.39799959779834,-49.62636059280423,-51.400397128304945,-51.46446419118409,-51.90728923135967,-51.64412319198469,-51.84799079155796,-51.286929732385005,-50.8953156833489,-50.58206439467328,-50.41784638703906,-49.88216952484273,-43.1776659762681,null,-43.20735031008714,-43.240786983625696,-43.28486353566277,-43.23558519601535,-43.265592945055786,-43.3114409074384,-43.34747758052292,-43.35351613266778,-43.39279019627447,-43.43015057667903,-43.470581974536884,-43.19158143879255,-43.18899344073525,-43.18386482292686,-43.219429627531895,-43.31742078365743,-43.38266436663972,-43.56741344324541,-43.68001339148247,-43.77776564407626,-44.35563823074694,-43.119717590339896,-43.09421395317764,-43.10666054506097,-43.06335936314921,-43.051531220231695,-42.992924855918695,-42.85823774578636,-42.82326450000001,-43.30715684058841,-43.277471554191784,-43.37339983286397,-43.185293178590896,-43.13514330853672,-43.20796396457922,-42.97854455542668,-43.457890646014526,-43.39349364562509,-43.470507007554765,-43.56134735153568,-43.616812475036404,-43.421318914438366,-43.70566429135911,-43.73638298926254,-43.461701085475184,-43.831531675031904,-44.09479154483804,-44.17335981467711,-44.25245324999999,-44.46310483199191,-43.70365327116128,-43.663993714121105,-41.78483329618026,-41.321969892353394,-41.61555639911381,-41.063245602631206,-41.889272277196476,-42.11876194967444,-42.35766347031152,-42.53333496363692,-41.86761658822329,-41.9768331802743,-42.04227750644125,-40.296127359474696,-40.29360269318523,-40.63928003367844,-41.1250077114105,-41.3645465152656,-41.5393262021003,-40.74187836369044,-40.63483050095044,-40.408070711481685,-40.054993153553575,-43.93874800582837,-43.911734707672125,-43.9413495215823,-43.96635334139296,-43.988112458984986,-44.019617245718834,-43.973877680607686,-44.00670636636559,-43.915922169787635,-43.93354049999999,-43.953451006867105,-43.99466209742805,-43.98036016410487,-43.968334242858745,-43.94534937725775,-43.92254392634756,-43.90746098265909,-44.08980029007572,-44.02966100567741,-44.04487854410328,-44.04255282355258,-44.06805840564993,-44.17309316234076,-44.2992416004731,-43.86714966908133,-43.929683464788965,-43.94358969102206,-43.97132141308425,-43.90094158809991,-43.98897268005168,-44.04018590977656,-44.08633039683435,-44.01651302070672,-43.88741243525833,-43.78968484094802,-43.80511160291337,-43.815263757530296,-43.86661020355892,-43.90139039383038,-43.66619123303619,-43.58435093618009,-41.950895101230245,-42.559398747444334,-41.234449116652186,-42.1478529397165,-43.504436661117175,-44.91547362990011,-44.61643688761223,-44.24629079931222,-43.4250620670516,-43.21634399080753,-43.35441488106646,-43.248227029288714,-43.77063048806322,-44.245266139782295,-43.784331699012725,-42.88176047285933,-42.96364524092098,-42.64644591501167,-42.204862118334766,-42.02438461764295,-45.43798309537101,-45.82733223144221,-45.01271686236553,-44.31371006726772,-45.056876464718016,-45.92258967428815,-46.13403142928302,-46.5599860791651,-46.70917174285874,-46.6106884056798,-47.93560043446406,-46.94751011163035,-49.3723704157333,-49.46551928974934,-48.273059864404985,-47.48752766558446,-46.87933125686007,-46.516948417835884,-46.05531832700629,-45.98304842333017,-43.596772239541835,-44.93232313279886,-44.43137521841042,-43.86579202498695,-42.58307753914023,-42.34769225950655,-42.748749524520534,-41.49901100442254,-40.696322845112604,-38.51298451332133,-38.52129287936679,-38.49131919983837,-38.486971996787105,-38.50033896209594,-38.47571324999999,-38.47036689513174,null,-38.46098085610876,-38.446008451527945,-38.43206003823674,-38.37057775557084,-38.356179627123396,-38.36165096142303,-38.43562185651219,-38.46109793907613,-38.48000722972316,-38.61571698534868,-38.315730286830146,-38.32405394731768,-38.39345916180969,-38.53818873906201,-38.67811291026383,-38.95695979782068,-39.24992872188821,-38.75349364327109,-39.09413001001925,-38.91178005071173,-39.258289243901736,-39.90339656382842,-40.5070881497491,-41.15691685569951,-41.85868918821489,-40.842060884802905,-40.62136811766183,-40.08887701993908,-39.9664664743582,-39.14647931173869,-39.52475124166358,-39.269225008018125,-40.22120074920175,-39.49780593450295,-39.73822378228387,-41.67864287683471,-41.93410096297185,-42.43266113681293,-42.78010213931806,-42.51944868108627,-41.327030403268346,-41.37298141198787,-40.315148328194944,-41.76841927469836,-43.54931781143554,-42.08514342557106,-41.877875538995156,-42.72625583620692,-43.1819736500748,-44.195853695046985,-44.04652544386415,-45.08524092091662,-44.90746082387957,-38.42243611838993,-38.331788315125834,-38.29735608401883,-37.94440075806931,-38.38054011316685,-38.89768077246266,-38.22297436375318,-39.00724947858188,-39.46223288562641,-40.49508108743207,-37.063767523890455,-37.093690563544314,-37.45261124999999,-37.99904031178235,-37.67483210979463,-37.43212025085721,-37.41598832969518,-37.02171171220937,-37.78403035111866,-36.83642880049895,-34.886820410352584,-34.88295805329215,-34.929756246321205,-34.93191773900229,-34.92537225100649,-34.95535975062839,-34.89961873019516,-34.90964858021235,-34.93914070038665,-34.946825897650456,-34.90330415098963,-34.899850091978344,-34.91170413244461,null,null,-34.84430382471587,-34.84468580821913,-34.87050687106691,-34.86009254489583,-34.84526377220266,-34.91105315759859,-34.91183272538151,-34.89835279961334,-34.828609580945724,-35.023336681149225,-35.01685189641074,-34.974599740781294,-34.93200819983839,-34.92127553876964,-35.02783823031136,-35.001318996537535,-35.09639665873476,-35.971315126645365,-36.212281665579695,-36.49377670218999,-36.45100811916726,-36.00526725,-35.22591993744328,-35.567999811406885,-35.60371155192708,-35.25844933811612,-35.008076067826735,-39.123637572312944,-39.37463910552574,-40.14944355481468,-40.497937438253736,-38.25077846422101,-37.06619376197672,-37.27337259434675,-37.31141153971917,-37.791908252022445,-38.29738732721192,-35.725020944139914,-35.85072023313385,-36.357228208984836,-36.659145585622525,-37.76046954682271,-37.35393573042239,-36.62752499999999,-36.24230689486404,-36.027145492587564,-35.50095432395763,-34.845932987422444,-35.92570289720844,-35.48959457246668,-35.03707572250666,-35.89450003025274,-36.885834069917706,-36.91066694016279,-37.59786189640948,-37.79413878129083,-38.546612213518586,-35.208509282107045,-35.25078269482964,-35.47894825627493,-36.81987269523392,-35.79408402095945,-36.50789840301908,-37.33906047500442,-37.713589873482064,-37.91061975374932,-38.21197642600761,-38.529054351232055,-38.49886165051707,-38.57716293203382,-38.55063602054357,-38.59489856939353,-38.56931798834324,-38.49211577022899,-38.6463113377668,-38.45217188508482,-38.53268787335746,-38.622237665573465,-40.353683128902645,-40.38542542244555,-40.56233620012412,-40.92094416304359,-40.843840403980025,-40.121629028661246,-39.27251055377316,-38.91996032617575,-38.12453850265161,-38.10058050749922,-39.315454595322066,-39.41794215814039,-38.988965759425206,-38.87016661534926,-38.8550326257149,-39.30127758940862,-39.71470841057279,-40.6690406285114,-39.57357126896489,-39.013462266035006,-42.79317736841658,-42.298366713426006,-41.76386844671035,-41.74047552074694,-42.691587273560714,-42.11648234740664,-41.460251978013595,-42.25305610058422,-43.026309464333735,-44.36503525850013,-44.249765695874316,-44.16388219329543,-45.09372184814144,-45.38408319671558,-44.131377068831824,-42.82571997468928,-43.35242484944471,-44.763465099091235,-46.0374208256274,-47.47091935017039,-48.47798608826243,-48.482483490968974,-48.44785430267178,-48.46769154159162,-48.46549841329544,-48.38987597314043,-48.41306185049755,-48.33893815466228,-54.719021155544986,-55.42122625264487,-55.51530014610924,-51.990601650072946,-49.50709277443419,-49.88763130422221,-47.36169402325452,-47.92010246086484,-50.47122044393838,-51.070968874454024,-60.007628601140034,-57.70941311934747,-60.693522516060064,-69.94071128378314,-64.79035368662085,-67.83914468849882,null,null,-47.90146764398931,-47.90781616867679,-47.87471121064673,-47.934708055663656,-47.890568861814025,-47.87957024999999,null,-47.9791959700582,null,null,-47.85838198684687,-47.84577027538945,-47.952713164547696,-48.01949532614188,-48.01810895031453,-48.05143924433405,-48.08117276899979,-48.11892356462636,-48.08944199312944,-48.069089840051305,-48.0061491364403,-48.0703937612296,-48.19959653898259,-47.97525188290231,-48.70927942501808,-47.799315679939696,-47.85737738521165,-47.826839992898066,-47.64693741003978,null,-47.51923123245379,-47.33404507507646,-46.3637915830829,-49.259480582864995,-49.268265965726826,-49.277426897467,-49.31939300523151,-49.32532800217281,-49.286469268863144,-49.23981382520751,-49.21334696864949,-49.24361874294515,-49.27287811489562,-48.954837825332184,-48.9479220021144,-48.51085717225503,-49.449646758042114,-49.47744514827171,-49.22590646259081,-49.104140940600246,-47.947192642748746,-51.72001371665199,-50.9174824496106,-50.30843734273628,-51.120416299429166,-49.55569571319832,-48.88405894929661,-49.71543916661119,-49.94841796430223,-50.57439438532504,-63.86455586489005,-61.77607890911357,-48.32597897288484,-46.94381012986025,-49.07397724118833,-48.40895880597041,-48.88508644203544,-48.48713395315501,-48.208175536099645,-47.87571484406273,-56.07874454678521,-56.13104323841535,-58.17115138323041,-57.909053993936304,-56.07935786602016,-55.508396588520014,-52.23004349798399,-54.61910677296727,-54.97203785249597,-54.60743091339668,-54.65744396869418,-56.14345613469305,-57.64731814065178,-54.74031757573235,-52.618660544955404,-51.70698283549713,-53.3567821134243,-54.8082128332721,-54.82951626438312,-49.25806265716426,-49.27759815785677,-49.30097043741701,-49.283472108784494,-49.27017728351319,-49.286236905292554,-49.29872710185242,-49.2926967603439,-49.28930079017829,-49.30068101872589,-49.34470125207747,-49.32480638375013,-49.33673896464863,-49.22567608159733,-49.24891521397666,-49.241245590599696,-49.27401546364472,-49.26698760369683,-49.32776701082003,-49.28431263252354,-49.26677366472387,-49.35007158609351,-49.334677366041234,-49.23949589009749,-49.2215283491546,-49.25392819232483,-49.2085227387616,-49.208716656604224,-49.17931757291652,-48.53576701026498,-49.1726093583012,-49.178225255558104,-49.300101577009706,-49.53056106345508,-49.39692158025869,-49.32765609524006,-50.38535865772567,-50.15917361518264,-50.005170386839566,-50.61436653167623,-50.84759194393435,-50.97015988216609,-50.656521435155305,-51.091276177775,-49.83043644153069,-51.468903294737245,-51.66226924859687,-51.76570290737747,-52.41088912238704,-52.99693541268717,-52.67043886508676,-53.05731534606869,-53.7244706890612,-54.07961843796455,-53.76982103284665,-51.16352871896687,-51.24170779032253,-50.91427078248451,-50.55154407739881,-49.97934331179332,-51.591470209008406,-51.44908323702103,-51.45807278049602,-51.69449974973171,-51.93355979106489,-52.03907438005413,-52.59245219370414,-52.418995107382685,-53.07297812136771,-53.31741369448615,-52.19491548871559,-52.460909568609836,-52.73827698337384,-53.13611533877219,-48.52244787010217,-48.63760744853509,-48.61759562949999,-48.67879193595708,-49.359103605925874,-50.32355973160601,-49.92467013685739,-49.00685179020998,-49.36945375954184,-49.63362979062212,-49.08562531063431,-49.382723767665084,-48.85116190466845,-49.823131890556525,-50.40043928549548,-51.00817895154663,-51.50701745976393,-52.03026232528818,-52.62852572807476,-53.512500396471225,-51.22409114731084,-51.22267087898896,-51.19807085811351,-51.19083695468581,-51.191152242368275,-51.196494870779965,-51.226520616149244,-51.15999094976626,-51.122089131812274,-51.127218217251404,-51.158931695524885,-51.15141947162573,-51.16215449951761,-51.20476180870217,-51.246391831885774,-51.159212965794325,-51.1682409763061,-51.18564928913986,-51.19750602466077,-51.17053213310045,-51.327347000072116,-51.60033357381548,-51.30812960179512,-51.14036966545228,-51.16535549644732,-51.15212272859874,-51.13857254304592,-51.12367304080982,-51.11110166300717,-51.170857042547375,-51.05973809396401,-51.00138963795861,-51.11705480438275,-51.038602539773166,-51.01525557324217,-50.78452838759523,-51.06946435616028,-51.08379963205336,-50.823000726027,-51.07085330664626,-51.088260716199486,-51.17900064152856,-51.24040394138558,-50.94929714257773,-51.556744070909424,-50.57881528295764,-50.07133235042169,-50.80790353090535,-51.50524479942291,-51.9463795963125,-51.97177346889055,-52.34025851347443,-51.9647448201492,-52.12001474307376,-53.37237467128428,-54.107138087850224,-52.90678784181081,-52.5200174499004,-51.637588729603564,-52.43053313824552,-52.979544998636186,-53.809756527756925,-53.72376476787311,-53.43960820691422,-54.3158713981041,-54.67671116021542,-55.79082956022553,-56.005772050563536,-54.86414013402867,-54.961005958535175,-54.73790970084126,-53.605120489324825,-53.6888694525492,-53.492425228868186,-53.31098170294696,-53.39593836110661,-53.76357360685317,-53.94525850900288,-53.92953286839677,-54.26446319385549,-54.445101845525855,-52.40315585963567,-52.20103440524312,-51.89921406484605,-52.51169996908263,-52.8501413591433,-52.79651833933844,-52.805183646892736,-52.27299099123919,-51.807266737509664,-52.01624208384784],\"radius\":10,\"z\":[22141.32,15824.35,49393.22,35587.63,50151.29,33019.37,25854.22,17080.68,34879.87,29796.19,37739.96,21682.07,11439.04,13849.05,25576.36,29168.25,34060.75,50848.01,30898.22,37467.74,23915.05,38210.42,32848.72,12669.86,26960.72,35401.89,66021.51,76220.29,39319.7,49883.65,28060.1,80666.91,48330.19,50776.46,56696.43,23439.9,58105.47,34609.85,10782.92,36053.57,40143.86,38547.27,29813.75,52484.46,44817.81,25083.82,30547.33,22893.38,31504.2,45696.05,22738.65,29219.0,62622.53,30120.56,7341.45,50630.66,70739.64,20531.12,8978.05,3253.05,9730.62,25948.01,12564.68,7583.33,29523.010000000002,20640.47,38929.2,17380.45,31618.93,40305.06,20566.38,49022.72,4452.27,4772.12,28231.15,33031.38,24390.97,38628.43,12060.57,28035.33,18891.87,37995.26,42334.32,33873.51,88273.02,7089.89,16994.31,26868.71,11009.28,38872.51,59673.05,2351.0299999999997,14064.0,29444.23,4466.78,81275.31,17565.78,17503.7,18852.49,12298.36,7133.52,1829.75,47041.090000000004,148903.86000000002,80668.25,132415.07,76228.59,103344.95,54986.3,36220.47,19624.16,43396.770000000004,39988.97,66652.83,21495.99,4793.85,9823.1,23155.79,6962.5,14602.970000000001,34057.78,35425.6,13916.41,38068.6,11967.7,4351.19,7865.56,11214.61,8074.3,8103.95,12560.34,17330.99,16784.48,14974.43,13027.92,7755.41,10715.92,1097.8799999999999,3687.33,1890.21,3841.11,10306.69,41600.38,4338.36,18245.85,7901.11,6977.900000000001,35278.7,9017.53,4929.76,6819.72,6912.22,68009.2,37691.31,26889.67,5056.6,11919.74,30453.31,26485.6,17284.24,5831.75,7644.14,23059.44,2450.01,8692.9,2004.77,6207.4,5214.4,3585.52,5154.58,16406.58,13960.48,47261.5,79.0,53982.38,77895.96,44405.15,21891.59,35499.73,28957.41,46980.22,11377.91,11743.05,18351.75,14658.31,26281.12,48808.75,81428.78,62054.16,28434.57,177081.38,94109.38,26211.55,11672.99,25532.5,12680.76,15053.16,46834.08,32299.22,34053.28,19856.75,9276.43,13560.35,19054.28,21063.94,14337.14,22657.46,15215.08,13330.72,29958.61,30283.52,12830.24,30527.09,9400.65,5455.5,24720.95,8991.66,1139.05,6538.47,17549.45,30576.78,16686.72,1864.77,20202.35,7702.62,3993.69,29480.11,32559.85,4577.17,4255.17,14786.539999999999,11392.0,7473.31,29735.74,4870.13,39267.35,66168.46,47184.0,107251.65,19262.3,21925.86,2556.63,6532.93,8194.24,17031.47,7895.15,23697.55,49737.77,22633.72,32310.45,20105.49,26560.08,19377.22,13784.93,17877.58,16335.0,17041.66,14365.52,11321.86,25707.74,7124.21,10501.68,9863.66,9820.210000000001,10510.81,11320.22,15520.66,9193.74,7678.96,30479.87,2730.23,13601.980000000001,6458.68,6483.14,1047.48,8304.82,149.89,3318.4500000000003,6063.73,8034.77,14565.84,876.43,910.4200000000001,4730.24,1168.65,2267.34,2925.4900000000002,480.7,18208.170000000002,45852.56,7648.88,17303.26,33771.68,51148.81,33285.520000000004,30140.6,2784.35,26871.49,66959.6,10421.210000000001,21946.62,11329.94,17616.33,26260.4,9332.11,13340.87,21382.98,19037.86,13409.89,19620.36,20915.69,1275.68,24817.58,53070.65,13929.0,24741.48,8963.91,19877.03,22032.920000000002,21867.07,7227.1,12806.42,60767.67,5619.34,20374.78,24394.09,9965.17,4347.44,6575.26,16480.18,4512.82,32150.96,17501.86,15261.85,9758.22,19107.96,9091.13,8244.33,10743.62,23911.29,9723.12,9523.04,5115.97,1539.99,57.9,10808.19,11421.85,8840.74,1094.49,2535.9500000000003,10756.37,23136.72,24939.45,5752.22,681.6400000000001,9963.07,12557.17,4342.02,2969.23,300.78000000000003,26184.72,2134.18,3149.1,4755.95,2797.46,6480.43,7063.96,7740.52,2019.36,5545.28,13231.3,2113.74,11497.57,2930.69,10101.78,3929.48,24484.83,4611.73,24846.170000000002,10791.2,6006.78,2638.31,1983.38,6460.6900000000005,1923.63,2315.37,548.78,4033.79,2372.5699999999997,723.26,870.5600000000001,2065.0,489.57,4501.7,5203.52,788.77,15889.75,1308.37,5711.13,3730.58,1636.6299999999999,3727.19,13796.99,4011.75,6191.27,6663.01,5459.59,14392.3,32432.78,5656.86,2823.35,417.89,2637.95,5704.66,918.55,308.1,2214.09,4254.87,5105.64,445.20000000000005,4284.61,13650.74,6547.46,2630.49,14652.84,5221.82,2816.88,1702.73,20862.63,4473.34,640.79,199.9,136.79,2578.65,2928.54,3050.7400000000002,834.6600000000001,6568.16,1231.84,2296.71,290.8,706.29,1810.3,1037.65,1511.52,4478.02,5667.18,2660.55,5622.28,1096.8799999999999,8707.460000000001,4391.93,9571.86,7547.97,5503.11,9089.77,10052.53,6882.08,4532.16,2069.72,2079.75,3994.0,11255.95,14277.21,5807.31,3111.36,1252.88,1666.9,3662.37,1948.28,46719.06,1685.94,8088.650000000001,14145.49,2559.0099999999998,2511.75,5439.2,978.78,868.49,5138.46,43227.73,3355.9,7070.26,9743.66,13696.1,633.59,1303.36,10116.57,10337.35,6338.47,26663.02,12658.69,3643.37,9989.94,331.52,7291.53,8165.24,1920.17,1993.07,2710.58,3638.42,21120.04,15903.48,7830.83,5695.56,14464.0,15606.37,6059.65,3211.9700000000003,3862.76,4058.34,8931.6,4890.26,8698.31,6132.47,3470.23,8070.54,6677.4800000000005,4804.5,7976.54,9976.11,8915.34,5839.7,3370.0699999999997,2793.5499999999997,2029.04,7551.75,4169.1,1168.3600000000001,2117.18,1477.98,37650.32,3814.5,9805.08,2498.21,1508.37,1441.78,5874.84,1604.8200000000002,7912.64,2044.8899999999999,49795.72,7560.28,9739.52,5289.2300000000005,8277.01,3715.66,9368.4,11966.61,4687.06,14362.81,56161.53,4168.400000000001,13924.22,5930.36,99.0,4155.15,14055.210000000001,2271.9300000000003,6599.26,4486.5,241.8,7371.91,13630.28,21575.54,17249.23,8309.04,332.79,13187.35,22136.02,264.8,7115.68,456.96,364.84999999999997,17374.68,1105.36,1678.9,9498.95,16272.92,597.99,22590.14,18745.04,11449.42,172.33,21949.74,1000.6,2033.26,7558.8,19439.52,5061.61,3857.37,36115.44,9300.55,12732.01,20533.78,14433.06,9432.77,8994.68,5201.39,1913.32,10295.69,5137.55,8084.7,1307.4,2529.84,4808.7,838.68,3260.55,6480.65,5567.849999999999,10529.82,4804.83,14809.48,12507.03,8662.93,7268.1900000000005,13755.4,4201.28,21115.7,13401.17,8310.65,9717.880000000001,7432.42,6047.84,3393.99,6043.89,10534.68,9823.86,22988.24,16365.82,5644.69,6522.5,7569.37,5645.02,6506.900000000001,3177.63,1870.1,32815.19,22899.77,13446.45,2712.2,9494.01,1735.05,2316.29,4463.81,5432.22,2545.43,34155.64,5804.2,9872.23,17710.83,8148.09,21413.75,18328.83,13526.710000000001,13396.01,38792.49,13824.16,3537.9700000000003,3873.74,6647.89,7097.0,10587.53,7477.26,7661.88,6952.55,25403.53,15472.6,5218.45,6099.95,8259.98,7375.89,6471.11,927.69,9451.77,5496.7,11064.59,3170.09,3279.79,8783.86,6258.03,5980.96,6954.77,5836.77,3333.37,3184.92,2420.48,2369.11,3220.0499999999997,8786.83,6159.05,1784.95,6859.84,4475.01,14120.29,18593.97,11633.78,10897.27,7304.61,6161.54,8129.63,5729.51,2902.14,20490.01,10783.64,7524.45,2711.11,3977.72,7892.7300000000005,6710.58,4787.71,7571.58,3076.3,3118.71,2705.2599999999998,3691.06,17181.23,10857.1,4198.04,50264.73,17347.23,45154.17,8575.31,2665.55,7289.42,6407.7,7810.25,8641.09,14016.54,9417.27,31101.21,7024.3,7316.48,13297.85,1620.57,8791.52,2420.2400000000002,10353.57,2068.98,4524.52,75843.94,39780.77,12913.19,53633.25,9534.7,15520.81,1542.67,24686.829999999998,26983.18,10440.91,30301.93,35488.45,60691.81,4592.87,6918.72,19684.44,17787.02,7060.05,38098.840000000004,9622.98,21705.07,9923.32,8970.7,18607.43,11049.82,15981.3,8642.13,6291.63,21343.28,7313.25,8793.15,5848.360000000001,13102.32,20776.3,6674.46,7210.35,2888.52,2912.24,5488.03,6603.68,6459.49,402.2,1058.29,8264.98,5277.9800000000005,10321.98,7047.9800000000005,3541.52,8598.87,2880.89,5598.22,4663.42,5495.72,5872.17,7873.530000000001,139.9,5751.22,1195.38,662.59,5700.820000000001,8753.43,28335.53,10013.26,6091.66,5723.42,1229.58,28152.39,17022.65,23064.55,13928.0,13900.64,25034.3,8812.09,19999.59,2085.62,13566.88,6134.03,3502.31,10124.81,18820.34,1266.75,18775.64,4647.37,1708.29,3965.43,2673.35,14262.33,2779.55,4007.47,3499.65,1971.27,3825.28,4812.54,6877.09,3416.25,2308.77,1845.53,3154.86,7727.85,8807.8,7680.3,16387.69,2681.13,5984.6,2574.91,4335.2300000000005,5238.34,6109.82,6727.22,1851.91,3655.38],\"type\":\"densitymapbox\"}],                        {\"template\":{\"data\":{\"histogram2dcontour\":[{\"type\":\"histogram2dcontour\",\"colorbar\":{\"outlinewidth\":0,\"ticks\":\"\"},\"colorscale\":[[0.0,\"#0d0887\"],[0.1111111111111111,\"#46039f\"],[0.2222222222222222,\"#7201a8\"],[0.3333333333333333,\"#9c179e\"],[0.4444444444444444,\"#bd3786\"],[0.5555555555555556,\"#d8576b\"],[0.6666666666666666,\"#ed7953\"],[0.7777777777777778,\"#fb9f3a\"],[0.8888888888888888,\"#fdca26\"],[1.0,\"#f0f921\"]]}],\"choropleth\":[{\"type\":\"choropleth\",\"colorbar\":{\"outlinewidth\":0,\"ticks\":\"\"}}],\"histogram2d\":[{\"type\":\"histogram2d\",\"colorbar\":{\"outlinewidth\":0,\"ticks\":\"\"},\"colorscale\":[[0.0,\"#0d0887\"],[0.1111111111111111,\"#46039f\"],[0.2222222222222222,\"#7201a8\"],[0.3333333333333333,\"#9c179e\"],[0.4444444444444444,\"#bd3786\"],[0.5555555555555556,\"#d8576b\"],[0.6666666666666666,\"#ed7953\"],[0.7777777777777778,\"#fb9f3a\"],[0.8888888888888888,\"#fdca26\"],[1.0,\"#f0f921\"]]}],\"heatmap\":[{\"type\":\"heatmap\",\"colorbar\":{\"outlinewidth\":0,\"ticks\":\"\"},\"colorscale\":[[0.0,\"#0d0887\"],[0.1111111111111111,\"#46039f\"],[0.2222222222222222,\"#7201a8\"],[0.3333333333333333,\"#9c179e\"],[0.4444444444444444,\"#bd3786\"],[0.5555555555555556,\"#d8576b\"],[0.6666666666666666,\"#ed7953\"],[0.7777777777777778,\"#fb9f3a\"],[0.8888888888888888,\"#fdca26\"],[1.0,\"#f0f921\"]]}],\"heatmapgl\":[{\"type\":\"heatmapgl\",\"colorbar\":{\"outlinewidth\":0,\"ticks\":\"\"},\"colorscale\":[[0.0,\"#0d0887\"],[0.1111111111111111,\"#46039f\"],[0.2222222222222222,\"#7201a8\"],[0.3333333333333333,\"#9c179e\"],[0.4444444444444444,\"#bd3786\"],[0.5555555555555556,\"#d8576b\"],[0.6666666666666666,\"#ed7953\"],[0.7777777777777778,\"#fb9f3a\"],[0.8888888888888888,\"#fdca26\"],[1.0,\"#f0f921\"]]}],\"contourcarpet\":[{\"type\":\"contourcarpet\",\"colorbar\":{\"outlinewidth\":0,\"ticks\":\"\"}}],\"contour\":[{\"type\":\"contour\",\"colorbar\":{\"outlinewidth\":0,\"ticks\":\"\"},\"colorscale\":[[0.0,\"#0d0887\"],[0.1111111111111111,\"#46039f\"],[0.2222222222222222,\"#7201a8\"],[0.3333333333333333,\"#9c179e\"],[0.4444444444444444,\"#bd3786\"],[0.5555555555555556,\"#d8576b\"],[0.6666666666666666,\"#ed7953\"],[0.7777777777777778,\"#fb9f3a\"],[0.8888888888888888,\"#fdca26\"],[1.0,\"#f0f921\"]]}],\"surface\":[{\"type\":\"surface\",\"colorbar\":{\"outlinewidth\":0,\"ticks\":\"\"},\"colorscale\":[[0.0,\"#0d0887\"],[0.1111111111111111,\"#46039f\"],[0.2222222222222222,\"#7201a8\"],[0.3333333333333333,\"#9c179e\"],[0.4444444444444444,\"#bd3786\"],[0.5555555555555556,\"#d8576b\"],[0.6666666666666666,\"#ed7953\"],[0.7777777777777778,\"#fb9f3a\"],[0.8888888888888888,\"#fdca26\"],[1.0,\"#f0f921\"]]}],\"mesh3d\":[{\"type\":\"mesh3d\",\"colorbar\":{\"outlinewidth\":0,\"ticks\":\"\"}}],\"scatter\":[{\"fillpattern\":{\"fillmode\":\"overlay\",\"size\":10,\"solidity\":0.2},\"type\":\"scatter\"}],\"parcoords\":[{\"type\":\"parcoords\",\"line\":{\"colorbar\":{\"outlinewidth\":0,\"ticks\":\"\"}}}],\"scatterpolargl\":[{\"type\":\"scatterpolargl\",\"marker\":{\"colorbar\":{\"outlinewidth\":0,\"ticks\":\"\"}}}],\"bar\":[{\"error_x\":{\"color\":\"#2a3f5f\"},\"error_y\":{\"color\":\"#2a3f5f\"},\"marker\":{\"line\":{\"color\":\"#E5ECF6\",\"width\":0.5},\"pattern\":{\"fillmode\":\"overlay\",\"size\":10,\"solidity\":0.2}},\"type\":\"bar\"}],\"scattergeo\":[{\"type\":\"scattergeo\",\"marker\":{\"colorbar\":{\"outlinewidth\":0,\"ticks\":\"\"}}}],\"scatterpolar\":[{\"type\":\"scatterpolar\",\"marker\":{\"colorbar\":{\"outlinewidth\":0,\"ticks\":\"\"}}}],\"histogram\":[{\"marker\":{\"pattern\":{\"fillmode\":\"overlay\",\"size\":10,\"solidity\":0.2}},\"type\":\"histogram\"}],\"scattergl\":[{\"type\":\"scattergl\",\"marker\":{\"colorbar\":{\"outlinewidth\":0,\"ticks\":\"\"}}}],\"scatter3d\":[{\"type\":\"scatter3d\",\"line\":{\"colorbar\":{\"outlinewidth\":0,\"ticks\":\"\"}},\"marker\":{\"colorbar\":{\"outlinewidth\":0,\"ticks\":\"\"}}}],\"scattermapbox\":[{\"type\":\"scattermapbox\",\"marker\":{\"colorbar\":{\"outlinewidth\":0,\"ticks\":\"\"}}}],\"scatterternary\":[{\"type\":\"scatterternary\",\"marker\":{\"colorbar\":{\"outlinewidth\":0,\"ticks\":\"\"}}}],\"scattercarpet\":[{\"type\":\"scattercarpet\",\"marker\":{\"colorbar\":{\"outlinewidth\":0,\"ticks\":\"\"}}}],\"carpet\":[{\"aaxis\":{\"endlinecolor\":\"#2a3f5f\",\"gridcolor\":\"white\",\"linecolor\":\"white\",\"minorgridcolor\":\"white\",\"startlinecolor\":\"#2a3f5f\"},\"baxis\":{\"endlinecolor\":\"#2a3f5f\",\"gridcolor\":\"white\",\"linecolor\":\"white\",\"minorgridcolor\":\"white\",\"startlinecolor\":\"#2a3f5f\"},\"type\":\"carpet\"}],\"table\":[{\"cells\":{\"fill\":{\"color\":\"#EBF0F8\"},\"line\":{\"color\":\"white\"}},\"header\":{\"fill\":{\"color\":\"#C8D4E3\"},\"line\":{\"color\":\"white\"}},\"type\":\"table\"}],\"barpolar\":[{\"marker\":{\"line\":{\"color\":\"#E5ECF6\",\"width\":0.5},\"pattern\":{\"fillmode\":\"overlay\",\"size\":10,\"solidity\":0.2}},\"type\":\"barpolar\"}],\"pie\":[{\"automargin\":true,\"type\":\"pie\"}]},\"layout\":{\"autotypenumbers\":\"strict\",\"colorway\":[\"#636efa\",\"#EF553B\",\"#00cc96\",\"#ab63fa\",\"#FFA15A\",\"#19d3f3\",\"#FF6692\",\"#B6E880\",\"#FF97FF\",\"#FECB52\"],\"font\":{\"color\":\"#2a3f5f\"},\"hovermode\":\"closest\",\"hoverlabel\":{\"align\":\"left\"},\"paper_bgcolor\":\"white\",\"plot_bgcolor\":\"#E5ECF6\",\"polar\":{\"bgcolor\":\"#E5ECF6\",\"angularaxis\":{\"gridcolor\":\"white\",\"linecolor\":\"white\",\"ticks\":\"\"},\"radialaxis\":{\"gridcolor\":\"white\",\"linecolor\":\"white\",\"ticks\":\"\"}},\"ternary\":{\"bgcolor\":\"#E5ECF6\",\"aaxis\":{\"gridcolor\":\"white\",\"linecolor\":\"white\",\"ticks\":\"\"},\"baxis\":{\"gridcolor\":\"white\",\"linecolor\":\"white\",\"ticks\":\"\"},\"caxis\":{\"gridcolor\":\"white\",\"linecolor\":\"white\",\"ticks\":\"\"}},\"coloraxis\":{\"colorbar\":{\"outlinewidth\":0,\"ticks\":\"\"}},\"colorscale\":{\"sequential\":[[0.0,\"#0d0887\"],[0.1111111111111111,\"#46039f\"],[0.2222222222222222,\"#7201a8\"],[0.3333333333333333,\"#9c179e\"],[0.4444444444444444,\"#bd3786\"],[0.5555555555555556,\"#d8576b\"],[0.6666666666666666,\"#ed7953\"],[0.7777777777777778,\"#fb9f3a\"],[0.8888888888888888,\"#fdca26\"],[1.0,\"#f0f921\"]],\"sequentialminus\":[[0.0,\"#0d0887\"],[0.1111111111111111,\"#46039f\"],[0.2222222222222222,\"#7201a8\"],[0.3333333333333333,\"#9c179e\"],[0.4444444444444444,\"#bd3786\"],[0.5555555555555556,\"#d8576b\"],[0.6666666666666666,\"#ed7953\"],[0.7777777777777778,\"#fb9f3a\"],[0.8888888888888888,\"#fdca26\"],[1.0,\"#f0f921\"]],\"diverging\":[[0,\"#8e0152\"],[0.1,\"#c51b7d\"],[0.2,\"#de77ae\"],[0.3,\"#f1b6da\"],[0.4,\"#fde0ef\"],[0.5,\"#f7f7f7\"],[0.6,\"#e6f5d0\"],[0.7,\"#b8e186\"],[0.8,\"#7fbc41\"],[0.9,\"#4d9221\"],[1,\"#276419\"]]},\"xaxis\":{\"gridcolor\":\"white\",\"linecolor\":\"white\",\"ticks\":\"\",\"title\":{\"standoff\":15},\"zerolinecolor\":\"white\",\"automargin\":true,\"zerolinewidth\":2},\"yaxis\":{\"gridcolor\":\"white\",\"linecolor\":\"white\",\"ticks\":\"\",\"title\":{\"standoff\":15},\"zerolinecolor\":\"white\",\"automargin\":true,\"zerolinewidth\":2},\"scene\":{\"xaxis\":{\"backgroundcolor\":\"#E5ECF6\",\"gridcolor\":\"white\",\"linecolor\":\"white\",\"showbackground\":true,\"ticks\":\"\",\"zerolinecolor\":\"white\",\"gridwidth\":2},\"yaxis\":{\"backgroundcolor\":\"#E5ECF6\",\"gridcolor\":\"white\",\"linecolor\":\"white\",\"showbackground\":true,\"ticks\":\"\",\"zerolinecolor\":\"white\",\"gridwidth\":2},\"zaxis\":{\"backgroundcolor\":\"#E5ECF6\",\"gridcolor\":\"white\",\"linecolor\":\"white\",\"showbackground\":true,\"ticks\":\"\",\"zerolinecolor\":\"white\",\"gridwidth\":2}},\"shapedefaults\":{\"line\":{\"color\":\"#2a3f5f\"}},\"annotationdefaults\":{\"arrowcolor\":\"#2a3f5f\",\"arrowhead\":0,\"arrowwidth\":1},\"geo\":{\"bgcolor\":\"white\",\"landcolor\":\"#E5ECF6\",\"subunitcolor\":\"white\",\"showland\":true,\"showlakes\":true,\"lakecolor\":\"white\"},\"title\":{\"x\":0.05},\"mapbox\":{\"style\":\"light\"}}},\"mapbox\":{\"center\":{\"lon\":-50,\"lat\":-16},\"style\":\"stamen-terrain\",\"zoom\":2.7},\"margin\":{\"r\":0,\"t\":0,\"l\":0,\"b\":0}},                        {\"responsive\": true}                    ).then(function(){\n",
              "                            \n",
              "var gd = document.getElementById('d784d394-03f9-44fc-a111-4af4cec21c68');\n",
              "var x = new MutationObserver(function (mutations, observer) {{\n",
              "        var display = window.getComputedStyle(gd).display;\n",
              "        if (!display || display === 'none') {{\n",
              "            console.log([gd, 'removed!']);\n",
              "            Plotly.purge(gd);\n",
              "            observer.disconnect();\n",
              "        }}\n",
              "}});\n",
              "\n",
              "// Listen for the removal of the full notebook cells\n",
              "var notebookContainer = gd.closest('#notebook-container');\n",
              "if (notebookContainer) {{\n",
              "    x.observe(notebookContainer, {childList: true});\n",
              "}}\n",
              "\n",
              "// Listen for the clearing of the current output cell\n",
              "var outputEl = gd.closest('.output');\n",
              "if (outputEl) {{\n",
              "    x.observe(outputEl, {childList: true});\n",
              "}}\n",
              "\n",
              "                        })                };                            </script>        </div>\n",
              "</body>\n",
              "</html>"
            ]
          },
          "metadata": {}
        }
      ]
    },
    {
      "cell_type": "markdown",
      "metadata": {
        "id": "TkPXisK-DjJp"
      },
      "source": [
        "As shown the map above, we can conclude there are three main hotspots which located at approximately:\n",
        "\n",
        "1.   lat:-24, lng:-46\n",
        "2.   lat:-22, lng:-43\n",
        "3. lat:-19, lng:-43\n",
        "\n",
        "These three places are the market with highest revenue. To raise company's revenue, it is highly recommended to add more market around these three hotspots since there's a lot of customer gladly spending their money there.\n",
        "\n"
      ]
    },
    {
      "cell_type": "markdown",
      "metadata": {
        "id": "kKlHMhSFKypt"
      },
      "source": [
        "# 3) Customer Distribution\n",
        "The same method is used to find the central of each zip code, additonally with defining number of customer id as count."
      ]
    },
    {
      "cell_type": "code",
      "metadata": {
        "id": "VWrJlFAgNMp2"
      },
      "source": [
        "geo_order = geo_order.dropna(subset=['zip_code_prefix'])\n",
        "geo_cust = geo_order.groupby('customer_zip_code_prefix').agg({\n",
        "    'lat':\n",
        "    'median',\n",
        "    'lng':\n",
        "    'median',\n",
        "    'customer_id':\n",
        "    'count'\n",
        "}).reset_index()"
      ],
      "execution_count": 14,
      "outputs": []
    },
    {
      "cell_type": "markdown",
      "metadata": {
        "id": "GFL9Uev3S5x2"
      },
      "source": [
        "The following map are the distribution of the customer products at Brazil:"
      ]
    },
    {
      "cell_type": "code",
      "metadata": {
        "id": "V_pzIuwxv6NL",
        "outputId": "3dd6b7ef-4be0-4c34-b92a-e78bbc6dd9af",
        "colab": {
          "base_uri": "https://localhost:8080/",
          "height": 542
        }
      },
      "source": [
        "import plotly.graph_objects as go\n",
        "fig = go.Figure(\n",
        "    go.Densitymapbox(lat=geo_cust.lat,\n",
        "                     lon=geo_cust.lng,\n",
        "                     z=geo_cust.customer_id,\n",
        "                     radius=10))\n",
        "fig.update_layout(mapbox_style=\"stamen-terrain\",\n",
        "                  mapbox_center_lon=-50,\n",
        "                  mapbox_center_lat=-16,\n",
        "                  mapbox_zoom=2.7)\n",
        "fig.update_layout(margin={\"r\": 0, \"t\": 0, \"l\": 0, \"b\": 0})\n",
        "fig.show()"
      ],
      "execution_count": 15,
      "outputs": [
        {
          "output_type": "display_data",
          "data": {
            "text/html": [
              "<html>\n",
              "<head><meta charset=\"utf-8\" /></head>\n",
              "<body>\n",
              "    <div>            <script src=\"https://cdnjs.cloudflare.com/ajax/libs/mathjax/2.7.5/MathJax.js?config=TeX-AMS-MML_SVG\"></script><script type=\"text/javascript\">if (window.MathJax && window.MathJax.Hub && window.MathJax.Hub.Config) {window.MathJax.Hub.Config({SVG: {font: \"STIX-Web\"}});}</script>                <script type=\"text/javascript\">window.PlotlyConfig = {MathJaxConfig: 'local'};</script>\n",
              "        <script charset=\"utf-8\" src=\"https://cdn.plot.ly/plotly-2.24.1.min.js\"></script>                <div id=\"caa08d80-73b0-41f3-8bea-0bc2ba9ddb83\" class=\"plotly-graph-div\" style=\"height:525px; width:100%;\"></div>            <script type=\"text/javascript\">                                    window.PLOTLYENV=window.PLOTLYENV || {};                                    if (document.getElementById(\"caa08d80-73b0-41f3-8bea-0bc2ba9ddb83\")) {                    Plotly.newPlot(                        \"caa08d80-73b0-41f3-8bea-0bc2ba9ddb83\",                        [{\"lat\":[-23.545519993623355,-23.528065777410674,-23.54082191035259,-23.55682905467713,-23.567885434283873,-23.5678156827942,-23.50078725950717,-23.50807020843673,-23.480163000000005,-23.459965658895484,-23.481775760199668,-23.497717955868783,-23.463135717871786,-23.49516306273331,-23.465926414103496,-23.48185910713255,-23.535964728836067,-23.566203164823225,-23.59726695861339,-23.559114233887946,-23.55660851276761,-23.545919043020362,-23.523983190829632,-23.506961475373867,-23.497958021191764,-23.601207006939227,-23.60022643144441,-23.60827024269207,-23.604202524424366,-23.64549414916688,-23.685041104435385,-23.598856822926873,-23.641245408275115,-23.645210165798467,-23.74492988259566,-23.688839656529552,-23.53222232653355,-23.488618369135562,-23.414263129753586,-23.558686767887146,-23.557636310916727,-23.58504698050522,-23.60677075659299,-23.63290388565408,-23.66516238950137,-23.55053198529405,-23.547683847978497,-23.50731458479997,-23.543463596041377,-23.50097450702893,-23.45649748796858,-23.543839934576688,-23.614716709129212,-23.66915621422344,-23.837797733281196,-23.459548500000004,-23.430912087425714,-23.451636059668783,-23.40164602553523,-23.318414399471926,-23.322293426704924,-23.359908033812516,-23.321354280451892,-23.281361270789922,-23.50332944532287,-23.50234360090701,-23.5453317799065,-23.61154195303569,-23.54910057360541,-23.517571856367947,-23.546568080871015,-23.53570456790112,-23.50797964415117,-23.426648177294613,-23.658137204541585,-23.681304199001662,-23.63430156731484,-23.670451161549884,-23.711694719298848,-23.62462486115588,-23.663023664246506,-23.709901274770615,-23.723653249972493,-23.689101515537573,-23.964721727306845,-23.82618384454923,-23.964939403758365,-23.984500432685163,-23.899521417217176,-23.635274899432126,-24.031976919239384,-24.310241348239167,-24.705471846866363,-23.02673131493544,-22.98287316885024,-23.208189108243403,-23.301450544023904,-22.918612458651197,-22.81075432983546,-22.731185011656763,-22.573110043986986,-22.672529817110437,-23.053916050106373,-22.900949225667766,-22.824698949552676,-23.17672392268171,-23.1195875512042,-22.72687148516924,-22.066024380138046,-22.17467879765232,-21.588838513052828,-22.36400830295668,-22.60105370774424,-21.18093377908783,-21.1388907940591,-21.477416431557863,-20.8996500088542,-20.531576903740312,-20.314495085735537,-20.716827462376976,-20.808235393310813,-21.76862893907002,-21.616488043727557,-20.812241516724736,-20.808593654734743,-21.054924910769003,-20.507233612314824,-20.535875218100774,-20.419586620009728,-20.282271420470558,-20.230048208820502,-21.133392160424695,-21.407553212745416,-21.208117641410357,-21.29703709144771,-21.44024422568529,-21.673659554800263,-21.808056727336684,-21.99581778821028,-21.252200664650708,-21.16688546250883,-20.89915185290549,-22.327785,-22.463046337868132,-22.291038324730216,-22.42774334648715,-22.290469441324888,-22.2138611873449,-21.930333539253926,-21.782494619636477,-21.66794273389646,-21.481509580035304,-23.49363494171619,-23.540756091869113,-23.56046099141129,-24.099287400187816,-23.98584888393571,-23.17290064389735,-22.86673479459283,-23.103476172355585,-23.209052573671876,-22.9048795045432,-22.121168374052505,-22.075670518945387,-22.4093269964106,-21.979068705517257,-21.87251276226975,-22.21090341407495,-22.23134865234548,-22.41320720112571,-22.662735770328975,-22.969809220093484,-22.904590782058108,-22.916438999999997,-22.923520511800987,-22.89614655785111,-22.89786753292841,-22.8502943076491,-22.836248036355265,-22.879542981009557,-22.848506255900496,-22.839765726888487,-22.882926205666767,-22.876373855531227,-22.80790835609381,-22.97108348014892,-22.942673770182985,-22.98197770191585,-23.006529823224245,-22.95393489592587,-22.90322213849616,-22.925074615730892,-22.86833052479996,-23.005109346554285,-22.88973607185248,-22.878876474176316,-22.902607107744146,-22.932542858471077,-22.825268317765552,-22.82860706432428,-22.74576891378957,-22.918722281259587,-22.773788218830525,-22.665036453994574,-22.787490498153165,-22.511563683473305,-22.419081606263035,-22.11665061891994,-22.434840831004514,-22.727512499425654,-22.73717443287848,-22.759678383566204,-22.713507287201885,-22.672833870969356,-22.8021940080054,-22.61224378429343,-22.526974302742488,-22.4493464740505,-22.489521161425774,-22.50593236219632,-22.540570533166942,-22.42072361341672,-22.47012262269631,-22.24242429979369,-22.408906455174137,-22.380806819602647,-21.761887455886416,-21.49110895898501,-21.62472712270616,-21.19058558839277,-21.546601705165,-21.983211584862957,-22.28203975545734,-22.08758079899671,-22.525338400998045,-22.876439971721194,-20.2912134096601,-20.330735646489646,-20.671113527648963,-20.845870693976224,-21.060900912263072,-20.76646324889363,-19.93639598766012,-19.516081381805343,-18.696622269371403,-19.27578260078683,-19.929102113105163,-19.925951333328555,-19.949670943101175,-19.937714243283683,-19.94999133347278,-19.989159535451066,-19.91206969178831,-19.900377686234055,-19.901598207744243,-19.887750042183647,-19.8654678910641,-19.872481389668074,-19.824857189651734,-19.8013118104334,-19.833053961971295,-19.840964658058777,-19.861710564386318,-19.919005274330104,-19.879523573218385,-19.961182358558883,-19.935948945339497,-20.0262193761578,-19.950754305860094,-20.066496388672007,-19.76919950684299,-19.786821905723304,-19.74707676210683,-19.70834658039505,-19.638505137528643,-19.62921474349378,-19.61827302164001,-19.7658386611172,-19.794649581133065,-19.9917479117076,-20.088018939331818,-19.96692513186378,-19.88744479072245,-19.86522859613991,-19.87940311320534,-19.886311790271456,-19.72110367399926,-18.860097204588634,-19.474961694558267,-19.17092659289246,-19.794094470350963,-20.38229565168213,-20.149157398311996,-19.85240973911823,-19.45445502282141,-19.035154676964904,-19.810249789695145,-21.75841583152521,-21.479898593780643,-21.21873725164554,-21.127520860667115,-20.649789129767584,-20.870729755909306,-21.863067455547856,-21.398029447631444,-20.9078385970755,-20.251247300410117,-21.560169454338777,-21.369191016109866,-21.232651049099392,-21.74180514214963,-21.983817596548032,-22.277007895810204,-22.657694188516526,-21.789105540588015,-21.306699199001667,-20.7289911087685,-19.75186162975359,-19.59406009965015,-19.898788020410677,-18.969335213671943,-18.91444747238731,-18.723801839627868,-16.37059636071647,-18.58801184192626,-19.219760899047017,-20.00668005907805,-18.245080053082493,-17.586614469449543,-16.25489910294293,-16.719768366639723,-15.745174498056546,-17.216512265411165,-18.598615110590945,-17.84751188796608,-16.172105170306256,-12.980731937586565,-13.001296681705234,-12.990438041579472,-12.953599234664441,-12.929272919911908,-12.885617379791004,-12.836518743076692,-12.960368773780893,-12.931447761454749,-12.904865707200244,-12.919327240700014,-12.912559386981805,-12.940907742910326,-12.974628457672116,-12.994891595894154,-13.009096020423346,-12.74206884254438,-12.888337096586646,-12.695314708571601,-12.788217792923785,-12.670320796080581,-12.626301422668272,-12.252105838190316,-12.429037693474077,-12.39755501328423,-12.654551567717652,-12.978786122121864,-12.963946545142566,-11.710955014789995,-11.179942869023499,-11.72703245989953,-11.3051555898185,-14.855947237258576,-14.874363437134768,-14.012129586911344,-13.434813723796845,-13.454370000000004,-14.21257854144779,-14.795565738420082,-15.24897755747558,-16.385540277935117,-17.54075408347268,-14.2011491849954,-14.901205319552826,-14.503802572109738,-14.218275538829827,-13.027001232979618,-13.628145401334807,-13.006509941343507,-12.52706511498534,-12.418107766476943,-11.08780196519673,-9.621740304379438,-9.739764227967616,-10.823402732936266,-12.181424519180965,-13.382551683575732,-12.974473576578024,-12.128258954254983,-11.753135950663646,-12.136283673723073,-12.351548065706455,-12.530872663726951,-11.791521441941349,-10.837039912761224,-10.077496797490625,-9.402310044082247,-11.563040610149669,-10.754487136314587,-9.43801077634918,-10.933205323330908,-10.867365797569272,-11.271701673277963,-11.184499761882456,-10.911899324234763,-10.68500836824854,-10.218430771961557,-10.507750422868565,-9.666231531606297,-10.274804017653246,-8.061540422701842,-8.046395350539573,-8.051432741329542,-8.056531245917173,-8.076219653067113,-8.082961030526882,-8.120836995700827,-8.109106438802,-8.120661227180287,-8.111708929035874,-8.034123384673139,-8.016000004790326,-8.01550363368929,-7.973052022605982,-7.988464152374622,-8.006796953179887,-7.997069597057791,-7.933838532679113,-7.913454881641773,-7.83071075936294,-7.773695510620832,-7.742033957606787,-8.110763298084139,-8.109718281948348,-8.090714650845417,-8.160895372560805,-8.18711055117966,-8.287324737578633,-8.009681341782347,-8.117892133311077,-8.28140539885231,-8.03643131988301,-8.882241341997211,-8.734216236688294,-8.66766403314179,-8.516683085356835,-8.202462439003181,-7.865815099596729,-7.747388123494947,-7.5614046756881415,-8.073469368938401,-8.227867770975367,-7.758119673998479,-9.383143421943378,-8.972796333425762,-8.421152395028791,-8.078360012758093,-7.477408995087297,-7.803638454819046,-7.986459537789969,-9.645803096034435,-9.593277733766511,-10.125968638246245,-9.752286283308251,-9.537353721784038,-9.360938029498268,-9.415774465142151,-9.37848909829083,-9.160414329871273,-9.088993481816768,-7.124730569248079,-7.018717349619061,-6.832544640817329,-7.128097426173329,-7.232992015303509,-7.672414147389153,-6.997830163240426,-7.093120278106696,-6.555022957242163,-6.891631577391529,-5.824680160424698,-5.877825985636001,-6.226501759498418,-6.449527105357911,-5.900451140349413,-5.501153074229603,-5.191640253742511,-5.666107638774344,-6.027819262629616,-6.1947005643765936,-3.735929573102122,-3.7362372279993448,-3.7224074821361226,-3.754365462144178,-3.774084031149745,-3.801549939494493,-3.800431489058459,-3.738887129198341,-3.8798780866705975,-3.9714031145959643,-3.8756498372660193,-3.685944349572401,-3.7928791781380236,-4.336761005418047,-3.761849602138168,-2.913123256269205,-3.0536086269070664,-3.6709977959435722,-4.337347348320057,-4.186644554894781,-5.133551782152398,-7.2203821420150565,-7.2309539062117745,-7.489347825960264,-6.942367376090676,-6.392506984489927,-6.359268364094253,-5.746526421602799,-5.178589841096914,-5.130911422251152,-4.968615446090581,-5.078779541577439,-3.9028989778749468,-3.180431791278335,-5.832054674112545,-5.988779816540749,-7.017582674084056,-7.081134134926282,-8.363462905112865,-6.781729290078161,-9.82916886279047,-2.5313408913275235,-2.559384609951616,-2.4452816520363223,-3.662666999999997,-4.036880831208753,-3.3613360993496095,-5.09988921202937,-4.576410278520987,-7.5204793802784655,-5.5191605739289695,-1.4505412625655916,-1.4156008822031698,-1.4001805434243977,-1.3244242178968126,-1.1661591778152802,-1.3760015757332156,-1.3631947247093936,-1.3667551836294922,-2.432661578344335,-4.257695734574252,-1.9124732498891373,-3.221322012717903,-2.24394843749662,-6.07931563652907,-2.5578521068091886,-1.2844395984667698,-1.681880212494914,0.03263068878396085,-3.0855172781008804,-2.6942460190048823,2.823458536092981,-4.240124134996824,-7.5135010106366735,-9.95560451457095,-15.821719993204432,-15.814805709165725,-15.802477586805972,-15.787883147931211,-15.757629850091522,-15.7623885,-15.828826950927354,-15.734822639603557,-15.853910553679128,-15.858260732668844,-15.885517897674116,-15.836407051618703,-15.840370204186762,-15.813094907421874,-15.816429661339903,-15.878784740978016,-16.029136659024317,-16.01651048333811,-15.912134161834317,-15.66786460733477,-16.0817898460413,-15.853917504543194,-15.647820932741318,-15.65924747941368,-15.687877462415646,-15.619759456314135,-14.13775046648485,-15.544546045056325,-14.09645641749945,-16.674418389899763,-16.687634855979248,-16.706842651613904,-16.721128896707583,-16.65922051540767,-16.650579751571392,-16.640441206951273,-16.67561383652654,-16.716799319627057,-16.7728742387288,-16.311500113482033,-16.353066287877326,-16.981633304605168,-16.647392079785362,-16.36901106148165,-18.412039497898675,-17.746519265110088,-18.163451695451066,-17.88913766788605,-17.79496358466878,-16.518837222572525,-16.203824633052633,-15.308523671561748,-14.313428543865086,-13.44932059151791,-15.93689830280329,-15.091736989145842,-8.79076180665226,-11.674921486998997,-10.201685528911135,-11.979005150615247,-11.730680063637344,-10.708549915141726,-10.159346418133994,-8.079043400778454,-7.190778450156136,-5.651534046079099,-15.600374178437754,-15.649444406724683,-15.62510591116231,-13.65791127277237,-13.45405269194706,-11.504746814489,-14.052743162895297,-16.46942804385708,-15.542592858402063,-20.474127067957134,-20.45233085179438,-21.127932260213544,-19.00896869906208,-18.916843498479157,-18.7971994284708,-20.79008309578196,-22.256168799239738,-22.22529584453434,-23.06116801229209,-25.42809101469902,-25.44675157119925,-25.46116749096897,-25.434698396329892,-25.412268865874115,-25.465716995556598,-25.433397360232053,-25.412600503750912,-25.48596840937806,-25.51121519133873,-25.45188562578724,-25.49179836491305,-25.561031930607683,-25.47519790478401,-25.492209883980642,-25.5143878529055,-25.520613999163285,-25.544630912574288,-25.41219701304174,-25.389110577298165,-25.378153459893824,-25.415211583126545,-25.387572533987644,-25.3978025696396,-25.38175890733748,-25.365106752910727,-25.419826655562943,-25.458015944630382,-25.528614814866973,-25.56630010105942,-25.43862909267717,-25.357860034232672,-25.32610251067581,-25.46043911403141,-25.593662607692444,-25.68192647004309,-25.86813428419935,-25.09142231307345,-24.81501042496412,-24.32402162098524,-24.51243052130453,-25.20980364163107,-25.4782748934254,-26.225873678812764,-23.845652984414684,-25.39180019416623,-25.57594838241842,-24.759959455857754,-25.40543646129992,-24.7967713618605,-26.224337258700288,-26.05413125119615,-25.68430220746078,-25.144103593332567,-24.567181553665634,-23.315073790624936,-23.26631582347514,-23.27215416245734,-23.148892011392526,-23.297939251611485,-22.971250321897806,-23.39305842983744,-23.567259107554406,-23.588334745651586,-23.41965060217128,-23.43988391623799,-23.66779255519141,-24.057580764737157,-23.780726812773374,-23.76538622182577,-23.17018169275489,-23.086191016373725,-22.943753998405057,-22.928409731288617,-27.59098979877663,-27.59595616832063,-27.194836557313643,-26.927285553786977,-27.53161703727588,-27.811954000469377,-28.282946853769527,-28.466669498556183,-28.67906182345152,-28.997531412515198,-26.90638525326043,-26.94711180243599,-26.29687356513127,-26.13128926630312,-26.18702908684815,-27.002283856536494,-27.172828138513296,-27.22992897192745,-27.07187184180577,-26.5405973128398,-30.033462903543256,-30.052307620030064,-30.005261580679186,-30.032370408275114,-30.018657258122197,-30.051082487102484,-30.07609574802368,-30.00630824257029,-29.99959867264458,-30.02368547292934,-30.022553545817047,-30.047761063693827,-30.069686636770655,-30.134908057173707,-30.106603692336567,-29.918925812828494,-29.948919539529253,-29.957293016374294,-29.90834841661366,-29.887338532315898,-30.116615029027756,-30.46075020668752,-29.99943038689719,-29.77062784904551,-29.727593254942477,-29.840449474528317,-29.68917401110937,-29.707646429251334,-29.682145031053256,-29.651989815310202,-29.67752577167267,-29.63607004755457,-29.59234281709849,-29.938500052455428,-29.925131684286484,-29.87903241450276,-30.081509855459093,-30.06232050784011,-30.12778541375078,-30.00524488083029,-29.93924243410754,-29.165445468495506,-29.23473286774503,-28.522229642627323,-28.763221417273314,-29.445442636510265,-29.812129499500845,-29.515222752554592,-29.354840929860032,-29.602984876428405,-29.440420273273077,-31.75607673827113,-30.91473773252969,-32.04631874796519,-32.55182795677749,-31.324199690217963,-30.03941580084497,-30.541875359489485,-30.090593631507723,-29.71604504294612,-29.426458066019947,-29.691640803797945,-29.703048730752975,-29.62296904735798,-30.33577595184496,-29.693834860708357,-29.799631847697167,-28.66849154885411,-29.19161811794376,-28.408317752039476,-28.144976135451493,-28.64451912660966,-29.087831058836358,-28.313396916794822,-27.89002658232723,-27.355271255911724,-27.67553811934423,-27.460154873714952,-28.379388813125484,-28.30042996749347,-27.781653619391648,-28.262275869237115,-28.446391605955,-28.753030396986247,-28.82964331642682,-28.630311358436916,-28.283429080407345,-27.643769467588594,-27.635799534237933,-27.77074779587531,-28.06040899335637],\"lon\":[-46.63622549584506,-46.64921756053981,-46.65437333666112,-46.648643600193324,-46.66320747232752,-46.628559874689806,-46.61809169608748,-46.578197286773616,-46.58350586955393,-46.605700561198006,-46.63939234401869,-46.661967204411695,-46.65918999167579,-46.68271563219164,-46.69342974271453,-46.71490320330083,-46.59818387399732,-46.58508972300768,-46.545030321888134,-46.560082282748574,-46.53232386740434,-46.502425924995656,-46.510409496047075,-46.51874228635527,-46.4848310327486,-46.50070144025911,-46.64673306168847,-46.62533338807779,-46.60359870510416,-46.64419751415849,-46.65784985581968,-46.67708334928447,-46.67619099140167,-46.70338254247211,-46.69740791548847,-46.759251605064065,-46.688745659515874,-46.74698338884241,-46.75959517880435,-46.75089537108314,-46.69070634179699,-46.74183856443962,-46.72426299916328,-46.750490533585285,-46.76622784451242,-46.78012280267178,-46.804532633072355,-46.77830063687657,-46.83820227540252,-46.87512624011513,-46.88273007199326,-46.91956063928281,-46.84775280544172,-46.81993323411619,-46.82060483279709,-46.549731577990656,-46.50209375291419,-46.42498349486411,-46.32233407796951,-46.22738648152899,-46.58967680631659,-46.7497630840115,-46.72539287900226,-46.74387047428361,-46.43833174646542,-46.395051936161934,-46.45364082317029,-46.456425833054425,-46.407736812973,-46.35355217438327,-46.31200175704274,-46.19775729015144,-46.14473467292832,-46.03403965621088,-46.54081695198797,-46.51102427495553,-46.517139371775606,-46.44761187709919,-46.40498837607478,-46.56569101442672,-46.57547107507645,-46.5446269103832,-46.57398782096497,-46.61396019262502,-46.32663648264475,-46.11832861478902,-46.38572998906069,-46.27191707956683,-46.42408244808348,-45.398490242134045,-46.51259076380164,-47.62605854788088,-47.859540563563925,-45.56062378232818,-45.54245609702959,-45.89003193563078,-45.962760378988975,-45.46917202608873,-45.19800883930323,-45.11194992576025,-44.96258896414211,-44.448352032885545,-46.546446807664594,-47.066446187049316,-47.19032055324457,-46.89326054840386,-47.27997394123683,-47.41898637227073,-47.868236506787724,-47.39537588734774,-46.97123850000001,-46.94741272715315,-46.774546034034685,-47.805623077990646,-47.98862060838644,-47.372471352806734,-47.58584530074794,-47.40138461232209,-47.78671295826865,-47.870020821715286,-48.5031630919161,-48.17602798776023,-48.8289129576625,-49.380884637430384,-49.51161412213207,-49.77529039897198,-51.32808416243005,-49.06002068719613,-49.97351187130574,-50.25184789579505,-50.76390782417624,-48.976761038576974,-48.49088168726587,-50.4458465656414,-50.34289850306981,-50.06724265017302,-49.75310614508127,-49.60259146858579,-49.44906318507949,-50.64648395550366,-51.04353755666272,-51.37820498064556,-49.06405354782176,-48.99117099532417,-48.572973982353695,-48.39328995169422,-49.64947128403911,-49.950945298776624,-50.51630271079769,-50.8783783746304,-51.16920592655684,-51.541588451943696,-47.469586371738366,-47.39492254943474,-48.0193307872535,-48.36519158935443,-48.89357013532448,-47.70450010072372,-48.46054284578599,-48.936234562768185,-49.39799959779834,-49.62636059280423,-51.400397128304945,-51.46446419118409,-51.90728923135967,-51.64412319198469,-51.84799079155796,-51.286929732385005,-50.8953156833489,-50.58206439467328,-50.41784638703906,-49.88216952484273,-43.1776659762681,-43.20735031008714,-43.240786983625696,-43.28486353566277,-43.23558519601535,-43.265592945055786,-43.3114409074384,-43.34747758052292,-43.35351613266778,-43.39279019627447,-43.43015057667903,-43.470581974536884,-43.19158143879255,-43.18899344073525,-43.18386482292686,-43.219429627531895,-43.31742078365743,-43.38266436663972,-43.56741344324541,-43.68001339148247,-43.77776564407626,-44.35563823074694,-43.119717590339896,-43.09421395317764,-43.10666054506097,-43.06335936314921,-43.051531220231695,-42.992924855918695,-42.85823774578636,-42.82326450000001,-43.30715684058841,-43.277471554191784,-43.37339983286397,-43.185293178590896,-43.13514330853672,-43.20796396457922,-42.97854455542668,-43.457890646014526,-43.39349364562509,-43.470507007554765,-43.56134735153568,-43.616812475036404,-43.421318914438366,-43.70566429135911,-43.73638298926254,-43.461701085475184,-43.831531675031904,-44.09479154483804,-44.17335981467711,-44.25245324999999,-44.46310483199191,-43.70365327116128,-43.663993714121105,-41.78483329618026,-41.321969892353394,-41.61555639911381,-41.063245602631206,-41.889272277196476,-42.11876194967444,-42.35766347031152,-42.53333496363692,-41.86761658822329,-41.9768331802743,-42.04227750644125,-40.296127359474696,-40.29360269318523,-40.63928003367844,-41.1250077114105,-41.3645465152656,-41.5393262021003,-40.74187836369044,-40.63483050095044,-40.408070711481685,-40.054993153553575,-43.93874800582837,-43.911734707672125,-43.9413495215823,-43.96635334139296,-43.988112458984986,-44.019617245718834,-43.973877680607686,-44.00670636636559,-43.915922169787635,-43.93354049999999,-43.953451006867105,-43.99466209742805,-43.98036016410487,-43.968334242858745,-43.94534937725775,-43.92254392634756,-43.90746098265909,-44.08980029007572,-44.02966100567741,-44.04487854410328,-44.04255282355258,-44.06805840564993,-44.17309316234076,-44.2992416004731,-43.86714966908133,-43.929683464788965,-43.94358969102206,-43.97132141308425,-43.90094158809991,-43.98897268005168,-44.04018590977656,-44.08633039683435,-44.01651302070672,-43.88741243525833,-43.78968484094802,-43.80511160291337,-43.815263757530296,-43.86661020355892,-43.90139039383038,-43.66619123303619,-43.58435093618009,-41.950895101230245,-42.559398747444334,-41.234449116652186,-42.1478529397165,-43.504436661117175,-44.91547362990011,-44.61643688761223,-44.24629079931222,-43.4250620670516,-43.21634399080753,-43.35441488106646,-43.248227029288714,-43.77063048806322,-44.245266139782295,-43.784331699012725,-42.88176047285933,-42.96364524092098,-42.64644591501167,-42.204862118334766,-42.02438461764295,-45.43798309537101,-45.82733223144221,-45.01271686236553,-44.31371006726772,-45.056876464718016,-45.92258967428815,-46.13403142928302,-46.5599860791651,-46.70917174285874,-46.6106884056798,-47.93560043446406,-46.94751011163035,-49.3723704157333,-49.46551928974934,-48.273059864404985,-47.48752766558446,-46.87933125686007,-46.516948417835884,-46.05531832700629,-45.98304842333017,-43.596772239541835,-44.93232313279886,-44.43137521841042,-43.86579202498695,-42.58307753914023,-42.34769225950655,-42.748749524520534,-41.49901100442254,-40.696322845112604,-38.51298451332133,-38.52129287936679,-38.49131919983837,-38.486971996787105,-38.50033896209594,-38.47571324999999,-38.47036689513174,-38.46098085610876,-38.446008451527945,-38.43206003823674,-38.37057775557084,-38.356179627123396,-38.36165096142303,-38.43562185651219,-38.46109793907613,-38.48000722972316,-38.61571698534868,-38.315730286830146,-38.32405394731768,-38.39345916180969,-38.53818873906201,-38.67811291026383,-38.95695979782068,-39.24992872188821,-38.75349364327109,-39.09413001001925,-38.91178005071173,-39.258289243901736,-39.90339656382842,-40.5070881497491,-41.15691685569951,-41.85868918821489,-40.842060884802905,-40.62136811766183,-40.08887701993908,-39.9664664743582,-39.14647931173869,-39.52475124166358,-39.269225008018125,-40.22120074920175,-39.49780593450295,-39.73822378228387,-41.67864287683471,-41.93410096297185,-42.43266113681293,-42.78010213931806,-42.51944868108627,-41.327030403268346,-41.37298141198787,-40.315148328194944,-41.76841927469836,-43.54931781143554,-42.08514342557106,-41.877875538995156,-42.72625583620692,-43.1819736500748,-44.195853695046985,-44.04652544386415,-45.08524092091662,-44.90746082387957,-38.42243611838993,-38.331788315125834,-38.29735608401883,-37.94440075806931,-38.38054011316685,-38.89768077246266,-38.22297436375318,-39.00724947858188,-39.46223288562641,-40.49508108743207,-37.063767523890455,-37.093690563544314,-37.45261124999999,-37.99904031178235,-37.67483210979463,-37.43212025085721,-37.41598832969518,-37.02171171220937,-37.78403035111866,-36.83642880049895,-34.886820410352584,-34.88295805329215,-34.929756246321205,-34.93191773900229,-34.92537225100649,-34.95535975062839,-34.89961873019516,-34.90964858021235,-34.93914070038665,-34.946825897650456,-34.90330415098963,-34.899850091978344,-34.91170413244461,-34.84430382471587,-34.84468580821913,-34.87050687106691,-34.86009254489583,-34.84526377220266,-34.91105315759859,-34.91183272538151,-34.89835279961334,-34.828609580945724,-35.023336681149225,-35.01685189641074,-34.974599740781294,-34.93200819983839,-34.92127553876964,-35.02783823031136,-35.001318996537535,-35.09639665873476,-35.971315126645365,-36.212281665579695,-36.49377670218999,-36.45100811916726,-36.00526725,-35.22591993744328,-35.567999811406885,-35.60371155192708,-35.25844933811612,-35.008076067826735,-39.123637572312944,-39.37463910552574,-40.14944355481468,-40.497937438253736,-38.25077846422101,-37.06619376197672,-37.27337259434675,-37.31141153971917,-37.791908252022445,-38.29738732721192,-35.725020944139914,-35.85072023313385,-36.357228208984836,-36.659145585622525,-37.76046954682271,-37.35393573042239,-36.62752499999999,-36.24230689486404,-36.027145492587564,-35.50095432395763,-34.845932987422444,-35.92570289720844,-35.48959457246668,-35.03707572250666,-35.89450003025274,-36.885834069917706,-36.91066694016279,-37.59786189640948,-37.79413878129083,-38.546612213518586,-35.208509282107045,-35.25078269482964,-35.47894825627493,-36.81987269523392,-35.79408402095945,-36.50789840301908,-37.33906047500442,-37.713589873482064,-37.91061975374932,-38.21197642600761,-38.529054351232055,-38.49886165051707,-38.57716293203382,-38.55063602054357,-38.59489856939353,-38.56931798834324,-38.49211577022899,-38.6463113377668,-38.45217188508482,-38.53268787335746,-38.622237665573465,-40.353683128902645,-40.38542542244555,-40.56233620012412,-40.92094416304359,-40.843840403980025,-40.121629028661246,-39.27251055377316,-38.91996032617575,-38.12453850265161,-38.10058050749922,-39.315454595322066,-39.41794215814039,-38.988965759425206,-38.87016661534926,-38.8550326257149,-39.30127758940862,-39.71470841057279,-40.6690406285114,-39.57357126896489,-39.013462266035006,-42.79317736841658,-42.298366713426006,-41.76386844671035,-41.74047552074694,-42.691587273560714,-42.11648234740664,-41.460251978013595,-42.25305610058422,-43.026309464333735,-44.36503525850013,-44.249765695874316,-44.16388219329543,-45.09372184814144,-45.38408319671558,-44.131377068831824,-42.82571997468928,-43.35242484944471,-44.763465099091235,-46.0374208256274,-47.47091935017039,-48.47798608826243,-48.482483490968974,-48.44785430267178,-48.46769154159162,-48.46549841329544,-48.38987597314043,-48.41306185049755,-48.33893815466228,-54.719021155544986,-55.42122625264487,-55.51530014610924,-51.990601650072946,-49.50709277443419,-49.88763130422221,-47.36169402325452,-47.92010246086484,-50.47122044393838,-51.070968874454024,-60.007628601140034,-57.70941311934747,-60.693522516060064,-69.94071128378314,-64.79035368662085,-67.83914468849882,-47.90146764398931,-47.90781616867679,-47.87471121064673,-47.934708055663656,-47.890568861814025,-47.87957024999999,-47.9791959700582,-47.85838198684687,-47.84577027538945,-47.952713164547696,-48.01949532614188,-48.01810895031453,-48.05143924433405,-48.08117276899979,-48.11892356462636,-48.08944199312944,-48.069089840051305,-48.0061491364403,-48.0703937612296,-48.19959653898259,-47.97525188290231,-48.70927942501808,-47.799315679939696,-47.85737738521165,-47.826839992898066,-47.64693741003978,-47.51923123245379,-47.33404507507646,-46.3637915830829,-49.259480582864995,-49.268265965726826,-49.277426897467,-49.31939300523151,-49.32532800217281,-49.286469268863144,-49.23981382520751,-49.21334696864949,-49.24361874294515,-49.27287811489562,-48.954837825332184,-48.9479220021144,-48.51085717225503,-49.449646758042114,-49.47744514827171,-49.22590646259081,-49.104140940600246,-47.947192642748746,-51.72001371665199,-50.9174824496106,-50.30843734273628,-51.120416299429166,-49.55569571319832,-48.88405894929661,-49.71543916661119,-49.94841796430223,-50.57439438532504,-63.86455586489005,-61.77607890911357,-48.32597897288484,-46.94381012986025,-49.07397724118833,-48.40895880597041,-48.88508644203544,-48.48713395315501,-48.208175536099645,-47.87571484406273,-56.07874454678521,-56.13104323841535,-58.17115138323041,-57.909053993936304,-56.07935786602016,-55.508396588520014,-52.23004349798399,-54.61910677296727,-54.97203785249597,-54.60743091339668,-54.65744396869418,-56.14345613469305,-57.64731814065178,-54.74031757573235,-52.618660544955404,-51.70698283549713,-53.3567821134243,-54.8082128332721,-54.82951626438312,-49.25806265716426,-49.27759815785677,-49.30097043741701,-49.283472108784494,-49.27017728351319,-49.286236905292554,-49.29872710185242,-49.2926967603439,-49.28930079017829,-49.30068101872589,-49.34470125207747,-49.32480638375013,-49.33673896464863,-49.22567608159733,-49.24891521397666,-49.241245590599696,-49.27401546364472,-49.26698760369683,-49.32776701082003,-49.28431263252354,-49.26677366472387,-49.35007158609351,-49.334677366041234,-49.23949589009749,-49.2215283491546,-49.25392819232483,-49.2085227387616,-49.208716656604224,-49.17931757291652,-48.53576701026498,-49.1726093583012,-49.178225255558104,-49.300101577009706,-49.53056106345508,-49.39692158025869,-49.32765609524006,-50.38535865772567,-50.15917361518264,-50.005170386839566,-50.61436653167623,-50.84759194393435,-50.97015988216609,-50.656521435155305,-51.091276177775,-49.83043644153069,-51.468903294737245,-51.66226924859687,-51.76570290737747,-52.41088912238704,-52.99693541268717,-52.67043886508676,-53.05731534606869,-53.7244706890612,-54.07961843796455,-53.76982103284665,-51.16352871896687,-51.24170779032253,-50.91427078248451,-50.55154407739881,-49.97934331179332,-51.591470209008406,-51.44908323702103,-51.45807278049602,-51.69449974973171,-51.93355979106489,-52.03907438005413,-52.59245219370414,-52.418995107382685,-53.07297812136771,-53.31741369448615,-52.19491548871559,-52.460909568609836,-52.73827698337384,-53.13611533877219,-48.52244787010217,-48.63760744853509,-48.61759562949999,-48.67879193595708,-49.359103605925874,-50.32355973160601,-49.92467013685739,-49.00685179020998,-49.36945375954184,-49.63362979062212,-49.08562531063431,-49.382723767665084,-48.85116190466845,-49.823131890556525,-50.40043928549548,-51.00817895154663,-51.50701745976393,-52.03026232528818,-52.62852572807476,-53.512500396471225,-51.22409114731084,-51.22267087898896,-51.19807085811351,-51.19083695468581,-51.191152242368275,-51.196494870779965,-51.226520616149244,-51.15999094976626,-51.122089131812274,-51.127218217251404,-51.158931695524885,-51.15141947162573,-51.16215449951761,-51.20476180870217,-51.246391831885774,-51.159212965794325,-51.1682409763061,-51.18564928913986,-51.19750602466077,-51.17053213310045,-51.327347000072116,-51.60033357381548,-51.30812960179512,-51.14036966545228,-51.16535549644732,-51.15212272859874,-51.13857254304592,-51.12367304080982,-51.11110166300717,-51.170857042547375,-51.05973809396401,-51.00138963795861,-51.11705480438275,-51.038602539773166,-51.01525557324217,-50.78452838759523,-51.06946435616028,-51.08379963205336,-50.823000726027,-51.07085330664626,-51.088260716199486,-51.17900064152856,-51.24040394138558,-50.94929714257773,-51.556744070909424,-50.57881528295764,-50.07133235042169,-50.80790353090535,-51.50524479942291,-51.9463795963125,-51.97177346889055,-52.34025851347443,-51.9647448201492,-52.12001474307376,-53.37237467128428,-54.107138087850224,-52.90678784181081,-52.5200174499004,-51.637588729603564,-52.43053313824552,-52.979544998636186,-53.809756527756925,-53.72376476787311,-53.43960820691422,-54.3158713981041,-54.67671116021542,-55.79082956022553,-56.005772050563536,-54.86414013402867,-54.961005958535175,-54.73790970084126,-53.605120489324825,-53.6888694525492,-53.492425228868186,-53.31098170294696,-53.39593836110661,-53.76357360685317,-53.94525850900288,-53.92953286839677,-54.26446319385549,-54.445101845525855,-52.40315585963567,-52.20103440524312,-51.89921406484605,-52.51169996908263,-52.8501413591433,-52.79651833933844,-52.805183646892736,-52.27299099123919,-51.807266737509664,-52.01624208384784],\"radius\":10,\"z\":[132,136,392,307,367,302,248,157,296,263,296,184,109,135,202,272,271,434,255,348,205,322,260,136,203,258,510,622,338,431,294,620,370,352,541,250,522,320,121,333,353,336,250,495,430,254,270,238,305,396,173,269,564,284,68,402,582,190,71,28,81,218,113,90,284,210,347,157,250,385,212,327,56,35,250,301,251,301,131,245,186,342,387,328,698,49,146,243,93,284,470,20,125,275,39,755,174,153,155,116,66,15,387,1309,657,1157,599,904,460,297,142,401,265,514,148,50,48,175,63,100,271,272,100,301,108,34,73,91,76,60,82,137,142,143,88,70,79,14,24,25,36,66,279,38,134,73,61,206,87,48,58,53,587,339,215,43,102,202,182,140,47,67,154,13,63,25,58,35,34,31,127,116,275,415,579,328,178,260,214,351,97,102,142,126,188,388,634,437,241,1295,667,240,89,146,96,131,386,244,273,175,64,123,157,162,119,163,118,87,246,244,111,233,68,31,203,51,11,55,108,248,119,18,161,40,44,244,238,44,36,120,101,73,235,28,254,431,396,794,151,184,27,51,66,124,69,178,382,171,273,188,219,195,101,140,129,156,146,108,176,69,104,73,99,113,99,113,83,65,198,26,41,58,68,10,61,2,34,48,57,101,11,12,28,8,21,24,3,137,358,71,138,269,376,283,243,28,250,474,62,173,106,171,227,73,133,150,137,90,165,156,17,231,400,117,209,77,152,164,155,69,102,484,49,158,188,57,37,58,105,45,286,117,99,78,170,70,50,81,155,80,69,44,15,76,97,77,10,23,91,155,154,44,8,80,104,22,24,4,192,10,21,44,18,46,32,60,20,32,86,13,63,25,61,34,153,42,135,68,44,12,14,57,21,20,7,39,14,8,10,12,7,13,43,11,89,9,41,28,14,21,60,21,48,52,28,97,211,31,17,3,19,26,4,6,8,14,32,6,49,109,28,23,103,38,19,13,144,40,6,22,24,18,8,52,13,15,3,5,9,10,16,21,45,20,44,9,60,36,59,36,28,66,70,40,32,14,17,22,34,74,33,23,8,15,14,11,263,13,32,37,21,13,30,4,7,20,254,30,33,37,68,7,13,39,36,25,184,114,27,52,5,38,49,14,15,21,30,139,103,56,48,95,122,39,17,13,37,40,26,33,32,21,52,32,25,55,51,46,44,22,12,20,46,34,13,13,11,250,17,57,16,11,15,30,14,33,11,344,38,41,39,35,29,56,64,27,90,276,23,95,54,1,36,66,18,42,28,2,40,64,121,94,58,5,68,146,3,46,3,4,86,70,82,3,178,150,77,141,61,125,38,43,264,70,102,156,83,80,62,49,22,80,42,67,7,24,43,36,57,26,59,45,76,88,82,55,107,29,123,102,60,72,46,48,24,49,80,75,156,94,48,50,70,46,44,24,18,168,119,87,17,45,15,20,22,37,18,241,39,65,103,54,150,115,65,90,257,88,23,34,45,56,51,46,68,57,195,118,49,45,47,71,58,7,74,57,84,30,25,70,50,44,59,42,25,19,27,25,23,72,54,15,56,37,122,117,99,100,60,46,57,61,20,142,61,70,21,31,43,49,39,56,32,21,21,38,132,97,39,328,154,323,61,22,72,58,54,61,88,61,261,37,60,100,17,72,17,67,25,37,578,311,102,400,61,118,14,171,184,76,223,246,474,41,49,159,127,71,261,81,189,47,67,140,84,107,72,49,98,71,89,34,88,162,55,69,26,19,49,63,37,4,11,76,39,91,45,21,56,21,37,26,37,47,59,1,68,8,6,53,63,221,86,43,61,10,205,132,173,96,105,209,55,158,19,90,49,33,62,90,12,148,27,9,32,10,100,34,39,30,22,34,29,44,23,27,18,19,80,67,65,119,29,44,25,34,40,21,72,18,34],\"type\":\"densitymapbox\"}],                        {\"template\":{\"data\":{\"histogram2dcontour\":[{\"type\":\"histogram2dcontour\",\"colorbar\":{\"outlinewidth\":0,\"ticks\":\"\"},\"colorscale\":[[0.0,\"#0d0887\"],[0.1111111111111111,\"#46039f\"],[0.2222222222222222,\"#7201a8\"],[0.3333333333333333,\"#9c179e\"],[0.4444444444444444,\"#bd3786\"],[0.5555555555555556,\"#d8576b\"],[0.6666666666666666,\"#ed7953\"],[0.7777777777777778,\"#fb9f3a\"],[0.8888888888888888,\"#fdca26\"],[1.0,\"#f0f921\"]]}],\"choropleth\":[{\"type\":\"choropleth\",\"colorbar\":{\"outlinewidth\":0,\"ticks\":\"\"}}],\"histogram2d\":[{\"type\":\"histogram2d\",\"colorbar\":{\"outlinewidth\":0,\"ticks\":\"\"},\"colorscale\":[[0.0,\"#0d0887\"],[0.1111111111111111,\"#46039f\"],[0.2222222222222222,\"#7201a8\"],[0.3333333333333333,\"#9c179e\"],[0.4444444444444444,\"#bd3786\"],[0.5555555555555556,\"#d8576b\"],[0.6666666666666666,\"#ed7953\"],[0.7777777777777778,\"#fb9f3a\"],[0.8888888888888888,\"#fdca26\"],[1.0,\"#f0f921\"]]}],\"heatmap\":[{\"type\":\"heatmap\",\"colorbar\":{\"outlinewidth\":0,\"ticks\":\"\"},\"colorscale\":[[0.0,\"#0d0887\"],[0.1111111111111111,\"#46039f\"],[0.2222222222222222,\"#7201a8\"],[0.3333333333333333,\"#9c179e\"],[0.4444444444444444,\"#bd3786\"],[0.5555555555555556,\"#d8576b\"],[0.6666666666666666,\"#ed7953\"],[0.7777777777777778,\"#fb9f3a\"],[0.8888888888888888,\"#fdca26\"],[1.0,\"#f0f921\"]]}],\"heatmapgl\":[{\"type\":\"heatmapgl\",\"colorbar\":{\"outlinewidth\":0,\"ticks\":\"\"},\"colorscale\":[[0.0,\"#0d0887\"],[0.1111111111111111,\"#46039f\"],[0.2222222222222222,\"#7201a8\"],[0.3333333333333333,\"#9c179e\"],[0.4444444444444444,\"#bd3786\"],[0.5555555555555556,\"#d8576b\"],[0.6666666666666666,\"#ed7953\"],[0.7777777777777778,\"#fb9f3a\"],[0.8888888888888888,\"#fdca26\"],[1.0,\"#f0f921\"]]}],\"contourcarpet\":[{\"type\":\"contourcarpet\",\"colorbar\":{\"outlinewidth\":0,\"ticks\":\"\"}}],\"contour\":[{\"type\":\"contour\",\"colorbar\":{\"outlinewidth\":0,\"ticks\":\"\"},\"colorscale\":[[0.0,\"#0d0887\"],[0.1111111111111111,\"#46039f\"],[0.2222222222222222,\"#7201a8\"],[0.3333333333333333,\"#9c179e\"],[0.4444444444444444,\"#bd3786\"],[0.5555555555555556,\"#d8576b\"],[0.6666666666666666,\"#ed7953\"],[0.7777777777777778,\"#fb9f3a\"],[0.8888888888888888,\"#fdca26\"],[1.0,\"#f0f921\"]]}],\"surface\":[{\"type\":\"surface\",\"colorbar\":{\"outlinewidth\":0,\"ticks\":\"\"},\"colorscale\":[[0.0,\"#0d0887\"],[0.1111111111111111,\"#46039f\"],[0.2222222222222222,\"#7201a8\"],[0.3333333333333333,\"#9c179e\"],[0.4444444444444444,\"#bd3786\"],[0.5555555555555556,\"#d8576b\"],[0.6666666666666666,\"#ed7953\"],[0.7777777777777778,\"#fb9f3a\"],[0.8888888888888888,\"#fdca26\"],[1.0,\"#f0f921\"]]}],\"mesh3d\":[{\"type\":\"mesh3d\",\"colorbar\":{\"outlinewidth\":0,\"ticks\":\"\"}}],\"scatter\":[{\"fillpattern\":{\"fillmode\":\"overlay\",\"size\":10,\"solidity\":0.2},\"type\":\"scatter\"}],\"parcoords\":[{\"type\":\"parcoords\",\"line\":{\"colorbar\":{\"outlinewidth\":0,\"ticks\":\"\"}}}],\"scatterpolargl\":[{\"type\":\"scatterpolargl\",\"marker\":{\"colorbar\":{\"outlinewidth\":0,\"ticks\":\"\"}}}],\"bar\":[{\"error_x\":{\"color\":\"#2a3f5f\"},\"error_y\":{\"color\":\"#2a3f5f\"},\"marker\":{\"line\":{\"color\":\"#E5ECF6\",\"width\":0.5},\"pattern\":{\"fillmode\":\"overlay\",\"size\":10,\"solidity\":0.2}},\"type\":\"bar\"}],\"scattergeo\":[{\"type\":\"scattergeo\",\"marker\":{\"colorbar\":{\"outlinewidth\":0,\"ticks\":\"\"}}}],\"scatterpolar\":[{\"type\":\"scatterpolar\",\"marker\":{\"colorbar\":{\"outlinewidth\":0,\"ticks\":\"\"}}}],\"histogram\":[{\"marker\":{\"pattern\":{\"fillmode\":\"overlay\",\"size\":10,\"solidity\":0.2}},\"type\":\"histogram\"}],\"scattergl\":[{\"type\":\"scattergl\",\"marker\":{\"colorbar\":{\"outlinewidth\":0,\"ticks\":\"\"}}}],\"scatter3d\":[{\"type\":\"scatter3d\",\"line\":{\"colorbar\":{\"outlinewidth\":0,\"ticks\":\"\"}},\"marker\":{\"colorbar\":{\"outlinewidth\":0,\"ticks\":\"\"}}}],\"scattermapbox\":[{\"type\":\"scattermapbox\",\"marker\":{\"colorbar\":{\"outlinewidth\":0,\"ticks\":\"\"}}}],\"scatterternary\":[{\"type\":\"scatterternary\",\"marker\":{\"colorbar\":{\"outlinewidth\":0,\"ticks\":\"\"}}}],\"scattercarpet\":[{\"type\":\"scattercarpet\",\"marker\":{\"colorbar\":{\"outlinewidth\":0,\"ticks\":\"\"}}}],\"carpet\":[{\"aaxis\":{\"endlinecolor\":\"#2a3f5f\",\"gridcolor\":\"white\",\"linecolor\":\"white\",\"minorgridcolor\":\"white\",\"startlinecolor\":\"#2a3f5f\"},\"baxis\":{\"endlinecolor\":\"#2a3f5f\",\"gridcolor\":\"white\",\"linecolor\":\"white\",\"minorgridcolor\":\"white\",\"startlinecolor\":\"#2a3f5f\"},\"type\":\"carpet\"}],\"table\":[{\"cells\":{\"fill\":{\"color\":\"#EBF0F8\"},\"line\":{\"color\":\"white\"}},\"header\":{\"fill\":{\"color\":\"#C8D4E3\"},\"line\":{\"color\":\"white\"}},\"type\":\"table\"}],\"barpolar\":[{\"marker\":{\"line\":{\"color\":\"#E5ECF6\",\"width\":0.5},\"pattern\":{\"fillmode\":\"overlay\",\"size\":10,\"solidity\":0.2}},\"type\":\"barpolar\"}],\"pie\":[{\"automargin\":true,\"type\":\"pie\"}]},\"layout\":{\"autotypenumbers\":\"strict\",\"colorway\":[\"#636efa\",\"#EF553B\",\"#00cc96\",\"#ab63fa\",\"#FFA15A\",\"#19d3f3\",\"#FF6692\",\"#B6E880\",\"#FF97FF\",\"#FECB52\"],\"font\":{\"color\":\"#2a3f5f\"},\"hovermode\":\"closest\",\"hoverlabel\":{\"align\":\"left\"},\"paper_bgcolor\":\"white\",\"plot_bgcolor\":\"#E5ECF6\",\"polar\":{\"bgcolor\":\"#E5ECF6\",\"angularaxis\":{\"gridcolor\":\"white\",\"linecolor\":\"white\",\"ticks\":\"\"},\"radialaxis\":{\"gridcolor\":\"white\",\"linecolor\":\"white\",\"ticks\":\"\"}},\"ternary\":{\"bgcolor\":\"#E5ECF6\",\"aaxis\":{\"gridcolor\":\"white\",\"linecolor\":\"white\",\"ticks\":\"\"},\"baxis\":{\"gridcolor\":\"white\",\"linecolor\":\"white\",\"ticks\":\"\"},\"caxis\":{\"gridcolor\":\"white\",\"linecolor\":\"white\",\"ticks\":\"\"}},\"coloraxis\":{\"colorbar\":{\"outlinewidth\":0,\"ticks\":\"\"}},\"colorscale\":{\"sequential\":[[0.0,\"#0d0887\"],[0.1111111111111111,\"#46039f\"],[0.2222222222222222,\"#7201a8\"],[0.3333333333333333,\"#9c179e\"],[0.4444444444444444,\"#bd3786\"],[0.5555555555555556,\"#d8576b\"],[0.6666666666666666,\"#ed7953\"],[0.7777777777777778,\"#fb9f3a\"],[0.8888888888888888,\"#fdca26\"],[1.0,\"#f0f921\"]],\"sequentialminus\":[[0.0,\"#0d0887\"],[0.1111111111111111,\"#46039f\"],[0.2222222222222222,\"#7201a8\"],[0.3333333333333333,\"#9c179e\"],[0.4444444444444444,\"#bd3786\"],[0.5555555555555556,\"#d8576b\"],[0.6666666666666666,\"#ed7953\"],[0.7777777777777778,\"#fb9f3a\"],[0.8888888888888888,\"#fdca26\"],[1.0,\"#f0f921\"]],\"diverging\":[[0,\"#8e0152\"],[0.1,\"#c51b7d\"],[0.2,\"#de77ae\"],[0.3,\"#f1b6da\"],[0.4,\"#fde0ef\"],[0.5,\"#f7f7f7\"],[0.6,\"#e6f5d0\"],[0.7,\"#b8e186\"],[0.8,\"#7fbc41\"],[0.9,\"#4d9221\"],[1,\"#276419\"]]},\"xaxis\":{\"gridcolor\":\"white\",\"linecolor\":\"white\",\"ticks\":\"\",\"title\":{\"standoff\":15},\"zerolinecolor\":\"white\",\"automargin\":true,\"zerolinewidth\":2},\"yaxis\":{\"gridcolor\":\"white\",\"linecolor\":\"white\",\"ticks\":\"\",\"title\":{\"standoff\":15},\"zerolinecolor\":\"white\",\"automargin\":true,\"zerolinewidth\":2},\"scene\":{\"xaxis\":{\"backgroundcolor\":\"#E5ECF6\",\"gridcolor\":\"white\",\"linecolor\":\"white\",\"showbackground\":true,\"ticks\":\"\",\"zerolinecolor\":\"white\",\"gridwidth\":2},\"yaxis\":{\"backgroundcolor\":\"#E5ECF6\",\"gridcolor\":\"white\",\"linecolor\":\"white\",\"showbackground\":true,\"ticks\":\"\",\"zerolinecolor\":\"white\",\"gridwidth\":2},\"zaxis\":{\"backgroundcolor\":\"#E5ECF6\",\"gridcolor\":\"white\",\"linecolor\":\"white\",\"showbackground\":true,\"ticks\":\"\",\"zerolinecolor\":\"white\",\"gridwidth\":2}},\"shapedefaults\":{\"line\":{\"color\":\"#2a3f5f\"}},\"annotationdefaults\":{\"arrowcolor\":\"#2a3f5f\",\"arrowhead\":0,\"arrowwidth\":1},\"geo\":{\"bgcolor\":\"white\",\"landcolor\":\"#E5ECF6\",\"subunitcolor\":\"white\",\"showland\":true,\"showlakes\":true,\"lakecolor\":\"white\"},\"title\":{\"x\":0.05},\"mapbox\":{\"style\":\"light\"}}},\"mapbox\":{\"center\":{\"lon\":-50,\"lat\":-16},\"style\":\"stamen-terrain\",\"zoom\":2.7},\"margin\":{\"r\":0,\"t\":0,\"l\":0,\"b\":0}},                        {\"responsive\": true}                    ).then(function(){\n",
              "                            \n",
              "var gd = document.getElementById('caa08d80-73b0-41f3-8bea-0bc2ba9ddb83');\n",
              "var x = new MutationObserver(function (mutations, observer) {{\n",
              "        var display = window.getComputedStyle(gd).display;\n",
              "        if (!display || display === 'none') {{\n",
              "            console.log([gd, 'removed!']);\n",
              "            Plotly.purge(gd);\n",
              "            observer.disconnect();\n",
              "        }}\n",
              "}});\n",
              "\n",
              "// Listen for the removal of the full notebook cells\n",
              "var notebookContainer = gd.closest('#notebook-container');\n",
              "if (notebookContainer) {{\n",
              "    x.observe(notebookContainer, {childList: true});\n",
              "}}\n",
              "\n",
              "// Listen for the clearing of the current output cell\n",
              "var outputEl = gd.closest('.output');\n",
              "if (outputEl) {{\n",
              "    x.observe(outputEl, {childList: true});\n",
              "}}\n",
              "\n",
              "                        })                };                            </script>        </div>\n",
              "</body>\n",
              "</html>"
            ]
          },
          "metadata": {}
        }
      ]
    },
    {
      "cell_type": "markdown",
      "metadata": {
        "id": "mKlTvNLbUp6t"
      },
      "source": [
        "As shown above, there are three main hotspots with highest number of customer. These hotspots are located at approximately:\n",
        "\n",
        "\n",
        "1.   lat:-23, lng:-46\n",
        "2.   lat: -22, lng:-43\n",
        "3.   lat: -19, lng:-43\n",
        "\n",
        "Note that the location of these hotspots approximately near with the previous hotspots, so we can assume that these hotspots are simmiliarly the same. With higher number of customer, these places would great place to expand your market because of customer's interest with this market.\n",
        "\n",
        "\n",
        "---\n",
        "# Conclusion\n",
        "\n",
        "In this geological approach, there are a few things i would like to recommend:\n",
        "\n",
        "\n",
        "1.   For **branding expansion**, it is best for the company to expand the market at **the west and north Brazil**. However, with low income from these location, it would be better to **build only a few market** for each city or area since the interest of the customer is currently low.\n",
        "2.   For **increase in revenue**, it is best for the company to expand the market at these three hotspots:\n",
        "  1.  **lat:-23, lng:-46**\n",
        "  2.  **lat: -22, lng:-43**\n",
        "  3.   **lat: -19, lng:-43**\n",
        "\n",
        "Since these hotspots have highest number of customer and revenue, it shows that the customer around these hotspots interested with the market.\n",
        "\n",
        "\n"
      ]
    },
    {
      "cell_type": "markdown",
      "metadata": {
        "id": "fU8GLhv4b2Pk"
      },
      "source": [
        "# II. Time Period Exploration\n",
        "\n",
        "\n",
        "---\n",
        "\n",
        "\n",
        "At this section, I would like to explore the market and customer interest based on timing approach."
      ]
    },
    {
      "cell_type": "markdown",
      "metadata": {
        "id": "gRb7yws_cp0e"
      },
      "source": [
        "## 1) Accuracy of Delivery Estimation\n",
        "\n",
        "\n",
        "---\n",
        "\n",
        "\n",
        "This section will analyze the accuracy that company estimate for delivery time. Moreover, I will divide the case when the delivery is late and early. We will start by cleaning the data by changing the variable type of delivery date and estimated date to datetime type."
      ]
    },
    {
      "cell_type": "code",
      "metadata": {
        "id": "qeiZ1WatigqH"
      },
      "source": [
        "geo_order['order_delivered_customer_date'] = pd.to_datetime(\n",
        "    geo_order['order_delivered_customer_date'])\n",
        "geo_order['order_estimated_delivery_date'] = pd.to_datetime(\n",
        "    geo_order['order_estimated_delivery_date'])"
      ],
      "execution_count": 16,
      "outputs": []
    },
    {
      "cell_type": "markdown",
      "metadata": {
        "id": "y1MT-wvoeDhN"
      },
      "source": [
        "Since the order can be canceled after the purchase, there are empty element on delivery date column. Therefore, we will drop the empty column."
      ]
    },
    {
      "cell_type": "code",
      "metadata": {
        "id": "5LNQJw72XkK4"
      },
      "source": [
        "geo_order = geo_order.dropna(subset=['order_delivered_customer_date'])"
      ],
      "execution_count": 17,
      "outputs": []
    },
    {
      "cell_type": "markdown",
      "metadata": {
        "id": "qmfaVR1legL0"
      },
      "source": [
        "Next, we will find the range time from the estimated delivery date and the delivery date, which measured on day."
      ]
    },
    {
      "cell_type": "code",
      "metadata": {
        "id": "9eH1_RrtYIEX"
      },
      "source": [
        "geo_order['range_time'] = (\n",
        "    geo_order['order_delivered_customer_date'] -\n",
        "    geo_order['order_estimated_delivery_date']).astype('timedelta64[D]')"
      ],
      "execution_count": 18,
      "outputs": []
    },
    {
      "cell_type": "markdown",
      "metadata": {
        "id": "eA_m4Mw3fDmD"
      },
      "source": [
        "Furthermore, we define which customer got the product early and delayed. Since we define it as time interval, we absolute the negative time on early variables."
      ]
    },
    {
      "cell_type": "code",
      "metadata": {
        "id": "s44FLUnvYa1z"
      },
      "source": [
        "delay = geo_order['range_time'][geo_order['range_time'] > 0]\n",
        "early = abs(geo_order['range_time'][geo_order['range_time'] < 0])"
      ],
      "execution_count": 19,
      "outputs": []
    },
    {
      "cell_type": "markdown",
      "metadata": {
        "id": "jJvPHBYufPVN"
      },
      "source": [
        "### A. Early Delivery Exploration\n",
        "\n",
        "\n",
        "---\n",
        "\n",
        "First, we divide the early dataset into five categories."
      ]
    },
    {
      "cell_type": "code",
      "metadata": {
        "id": "jbOYwy50ivVd"
      },
      "source": [
        "bins = [0, 3, 7, 14, 30, 90]\n",
        "labels = [\n",
        "    '1-3 days', '4-7 days', '7-14 days', '14-30 days', 'More than 1 month'\n",
        "]\n",
        "early = pd.cut(early, bins=bins, labels=labels)"
      ],
      "execution_count": 20,
      "outputs": []
    },
    {
      "cell_type": "markdown",
      "metadata": {
        "id": "GQ7GTBhogpHx"
      },
      "source": [
        "The following bar chart is the number of customer got an early delivery categorized by how long it is early."
      ]
    },
    {
      "cell_type": "code",
      "metadata": {
        "id": "Gmu7kFp1i0MZ",
        "outputId": "a8ea9538-0694-4dcc-bb5c-2fd8b91017db",
        "colab": {
          "base_uri": "https://localhost:8080/",
          "height": 466
        }
      },
      "source": [
        "sns.countplot(y=early)"
      ],
      "execution_count": 21,
      "outputs": [
        {
          "output_type": "execute_result",
          "data": {
            "text/plain": [
              "<Axes: xlabel='count', ylabel='range_time'>"
            ]
          },
          "metadata": {},
          "execution_count": 21
        },
        {
          "output_type": "display_data",
          "data": {
            "text/plain": [
              "<Figure size 640x480 with 1 Axes>"
            ],
            "image/png": "[encoded data removed]"
          },
          "metadata": {}
        }
      ]
    },
    {
      "cell_type": "markdown",
      "metadata": {
        "id": "PhguNwfOg9es"
      },
      "source": [
        "It is shown above, that the early delivery mainly in 7-14 days and 14-30 days. However, even it is might be good for the customer to got an early delivery, it also shows the high inaccuracy of the delivery estimation. This issue also can impacting customer to consider cancel the order due to longer estimated delivery date."
      ]
    },
    {
      "cell_type": "markdown",
      "metadata": {
        "id": "LkbXDVytjkju"
      },
      "source": [
        "### B) Delay Delivery Estimation\n",
        "\n",
        "---\n",
        "\n",
        "Same as the section above, we divide the delay dataset into six categories."
      ]
    },
    {
      "cell_type": "code",
      "metadata": {
        "id": "GTQKI_c_fSqw"
      },
      "source": [
        "bins = [0, 3, 7, 14, 30, 90, 300]\n",
        "labels = [\n",
        "    '1-3 days', '4-7 days', '7-14 days', '14-30 days', '1-3 month',\n",
        "    'More than 3 months'\n",
        "]\n",
        "delay = pd.cut(delay, bins=bins, labels=labels)"
      ],
      "execution_count": 22,
      "outputs": []
    },
    {
      "cell_type": "markdown",
      "metadata": {
        "id": "j_M2yLS_kFug"
      },
      "source": [
        "The following bar chart is the number of customer got an delay delivery categorized by how long it is early."
      ]
    },
    {
      "cell_type": "code",
      "metadata": {
        "id": "CngLOuymh7p0",
        "outputId": "cd7f7be4-ec8d-449d-a875-bee71a8873bc",
        "colab": {
          "base_uri": "https://localhost:8080/",
          "height": 466
        }
      },
      "source": [
        "sns.countplot(y=delay)"
      ],
      "execution_count": 23,
      "outputs": [
        {
          "output_type": "execute_result",
          "data": {
            "text/plain": [
              "<Axes: xlabel='count', ylabel='range_time'>"
            ]
          },
          "metadata": {},
          "execution_count": 23
        },
        {
          "output_type": "display_data",
          "data": {
            "text/plain": [
              "<Figure size 640x480 with 1 Axes>"
            ],
            "image/png": "[encoded data removed]"
          },
          "metadata": {}
        }
      ]
    },
    {
      "cell_type": "markdown",
      "metadata": {
        "id": "6weqw7g1kMjE"
      },
      "source": [
        "It is shown above, that the delivery delay mainly in 4-7 days and 1-3 days. This is could be company consideration to check the delivery estimator, since there is a lot day customer in 4-7 days. Moreover, there are some delayed delivery above 1 month, this would reduce customer satisfaction significanlly."
      ]
    },
    {
      "cell_type": "markdown",
      "metadata": {
        "id": "ZfoQP05OlW_F"
      },
      "source": [
        "\n",
        "\n",
        "---\n",
        "\n",
        "\n",
        "Next, we will see which location has high rates of delayed delivery. We will define delay default is 1 if it is delayed and 0 if it is not."
      ]
    },
    {
      "cell_type": "code",
      "metadata": {
        "id": "-1LnKiPaz3dL"
      },
      "source": [
        "geo_order['range_time_default'] = geo_order['range_time'].apply(\n",
        "    lambda x: 1 if x > 0 else 0)"
      ],
      "execution_count": 24,
      "outputs": []
    },
    {
      "cell_type": "markdown",
      "metadata": {
        "id": "AjV2jTEkmCn4"
      },
      "source": [
        "Furthermore, we will group the dataset based on zip code and determine the center of each zip code with addition mean of range time default for each center zip code area."
      ]
    },
    {
      "cell_type": "code",
      "metadata": {
        "id": "IJ0kMlxQwMeb"
      },
      "source": [
        "delay_place = geo_order.groupby('zip_code_prefix').agg({\n",
        "    'lat':\n",
        "    'median',\n",
        "    'lng':\n",
        "    'median',\n",
        "    'range_time_default':\n",
        "    'mean'\n",
        "})"
      ],
      "execution_count": 25,
      "outputs": []
    },
    {
      "cell_type": "markdown",
      "metadata": {
        "id": "ff9682kemtoc"
      },
      "source": [
        "The following map plot show the high rate delayed delivery area."
      ]
    },
    {
      "cell_type": "code",
      "metadata": {
        "id": "yBZxY8iFv6N4",
        "outputId": "0f5dcc73-91ff-495c-8816-869737e49f59",
        "colab": {
          "base_uri": "https://localhost:8080/",
          "height": 542
        }
      },
      "source": [
        "fig = go.Figure(\n",
        "    go.Densitymapbox(lat=delay_place.lat,\n",
        "                     lon=delay_place.lng,\n",
        "                     z=delay_place.range_time_default,\n",
        "                     radius=10))\n",
        "fig.update_layout(mapbox_style=\"stamen-terrain\",\n",
        "                  mapbox_center_lon=-50,\n",
        "                  mapbox_center_lat=-16,\n",
        "                  mapbox_zoom=2.8)\n",
        "fig.update_layout(margin={\"r\": 0, \"t\": 0, \"l\": 0, \"b\": 0})\n",
        "fig.show()"
      ],
      "execution_count": 26,
      "outputs": [
        {
          "output_type": "display_data",
          "data": {
            "text/html": [
              "<html>\n",
              "<head><meta charset=\"utf-8\" /></head>\n",
              "<body>\n",
              "    <div>            <script src=\"https://cdnjs.cloudflare.com/ajax/libs/mathjax/2.7.5/MathJax.js?config=TeX-AMS-MML_SVG\"></script><script type=\"text/javascript\">if (window.MathJax && window.MathJax.Hub && window.MathJax.Hub.Config) {window.MathJax.Hub.Config({SVG: {font: \"STIX-Web\"}});}</script>                <script type=\"text/javascript\">window.PlotlyConfig = {MathJaxConfig: 'local'};</script>\n",
              "        <script charset=\"utf-8\" src=\"https://cdn.plot.ly/plotly-2.24.1.min.js\"></script>                <div id=\"f41130c7-f2d3-44fd-ad55-4ac8227eca5b\" class=\"plotly-graph-div\" style=\"height:525px; width:100%;\"></div>            <script type=\"text/javascript\">                                    window.PLOTLYENV=window.PLOTLYENV || {};                                    if (document.getElementById(\"f41130c7-f2d3-44fd-ad55-4ac8227eca5b\")) {                    Plotly.newPlot(                        \"f41130c7-f2d3-44fd-ad55-4ac8227eca5b\",                        [{\"lat\":[-23.545519993623355,-23.528065777410674,-23.54082191035259,-23.55682905467713,-23.567885434283873,-23.5678156827942,-23.50078725950717,-23.50807020843673,-23.480163000000005,-23.459965658895484,-23.481775760199668,-23.497717955868783,-23.463135717871786,-23.49516306273331,-23.465926414103496,-23.48185910713255,-23.535964728836067,-23.566203164823225,-23.59726695861339,-23.559114233887946,-23.55660851276761,-23.545919043020362,-23.523983190829632,-23.506961475373867,-23.497958021191764,-23.601207006939227,-23.60022643144441,-23.60827024269207,-23.604202524424366,-23.64549414916688,-23.685041104435385,-23.598856822926873,-23.641245408275115,-23.645210165798467,-23.74492988259566,-23.688839656529552,-23.53222232653355,-23.488618369135562,-23.414263129753586,-23.558686767887146,-23.557636310916727,-23.58504698050522,-23.60677075659299,-23.63290388565408,-23.66516238950137,-23.55053198529405,-23.547683847978497,-23.50731458479997,-23.543463596041377,-23.50097450702893,-23.45649748796858,-23.543839934576688,-23.614716709129212,-23.66915621422344,-23.837797733281196,-23.459548500000004,-23.430912087425714,-23.451636059668783,-23.40164602553523,-23.318414399471926,-23.322293426704924,-23.359908033812516,-23.321354280451892,-23.281361270789922,-23.50332944532287,-23.50234360090701,-23.5453317799065,-23.61154195303569,-23.54910057360541,-23.517571856367947,-23.546568080871015,-23.53570456790112,-23.50797964415117,-23.426648177294613,-23.658137204541585,-23.681304199001662,-23.63430156731484,-23.670451161549884,-23.711694719298848,-23.62462486115588,-23.663023664246506,-23.709901274770615,-23.723653249972493,-23.689101515537573,-23.964721727306845,-23.82618384454923,-23.964939403758365,-23.984500432685163,-23.899521417217176,-23.635274899432126,-24.031976919239384,-24.310241348239167,-24.705471846866363,-23.02673131493544,-22.98287316885024,-23.208189108243403,-23.301450544023904,-22.918612458651197,-22.81075432983546,-22.731185011656763,-22.573110043986986,-22.672529817110437,-23.053916050106373,-22.900949225667766,-22.824698949552676,-23.17672392268171,-23.1195875512042,-22.72687148516924,-22.066024380138046,-22.17467879765232,-21.588838513052828,-22.36400830295668,-22.60105370774424,-21.18093377908783,-21.1388907940591,-21.477416431557863,-20.8996500088542,-20.531576903740312,-20.314495085735537,-20.716827462376976,-20.808235393310813,-21.76862893907002,-21.616488043727557,-20.812241516724736,-20.808593654734743,-21.054924910769003,-20.507233612314824,-20.535875218100774,-20.419586620009728,-20.282271420470558,-20.230048208820502,-21.133392160424695,-21.407553212745416,-21.208117641410357,-21.29703709144771,-21.44024422568529,-21.673659554800263,-21.808056727336684,-21.99581778821028,-21.252200664650708,-21.16688546250883,-20.89915185290549,-22.327785,-22.463046337868132,-22.291038324730216,-22.42774334648715,-22.290469441324888,-22.2138611873449,-21.930333539253926,-21.782494619636477,-21.66794273389646,-21.481509580035304,-23.49363494171619,-23.540756091869113,-23.56046099141129,-24.099287400187816,-23.98584888393571,-23.17290064389735,-22.86673479459283,-23.103476172355585,-23.209052573671876,-22.9048795045432,-22.121168374052505,-22.075670518945387,-22.4093269964106,-21.979068705517257,-21.87251276226975,-22.21090341407495,-22.23134865234548,-22.41320720112571,-22.662735770328975,-22.969809220093484,-22.904590782058108,-22.916438999999997,-22.923520511800987,-22.89614655785111,-22.89786753292841,-22.8502943076491,-22.836248036355265,-22.879542981009557,-22.848506255900496,-22.839765726888487,-22.882926205666767,-22.876373855531227,-22.80790835609381,-22.97108348014892,-22.942673770182985,-22.98197770191585,-23.006529823224245,-22.95393489592587,-22.90322213849616,-22.925074615730892,-22.86833052479996,-23.005109346554285,-22.88973607185248,-22.878876474176316,-22.902607107744146,-22.932542858471077,-22.825268317765552,-22.82860706432428,-22.74576891378957,-22.918722281259587,-22.773788218830525,-22.665036453994574,-22.787490498153165,-22.511563683473305,-22.419081606263035,-22.11665061891994,-22.434840831004514,-22.727512499425654,-22.73717443287848,-22.759678383566204,-22.713507287201885,-22.672833870969356,-22.8021940080054,-22.61224378429343,-22.526974302742488,-22.4493464740505,-22.489521161425774,-22.50593236219632,-22.540570533166942,-22.42072361341672,-22.47012262269631,-22.24242429979369,-22.408906455174137,-22.380806819602647,-21.761887455886416,-21.49110895898501,-21.62472712270616,-21.19058558839277,-21.546601705165,-21.983211584862957,-22.28203975545734,-22.08758079899671,-22.525338400998045,-22.876439971721194,-20.2912134096601,-20.330735646489646,-20.671113527648963,-20.845870693976224,-21.060900912263072,-20.76646324889363,-19.93639598766012,-19.516081381805343,-18.696622269371403,-19.27578260078683,-19.929102113105163,-19.925951333328555,-19.949670943101175,-19.937714243283683,-19.94999133347278,-19.989159535451066,-19.91206969178831,-19.900377686234055,-19.901598207744243,-19.887750042183647,-19.8654678910641,-19.872481389668074,-19.824857189651734,-19.8013118104334,-19.833053961971295,-19.840964658058777,-19.861710564386318,-19.919005274330104,-19.879523573218385,-19.961182358558883,-19.935948945339497,-20.0262193761578,-19.950754305860094,-20.066496388672007,-19.76919950684299,-19.786821905723304,-19.74707676210683,-19.70834658039505,-19.638505137528643,-19.62921474349378,-19.61827302164001,-19.7658386611172,-19.794649581133065,-19.9917479117076,-20.088018939331818,-19.96692513186378,-19.88744479072245,-19.86522859613991,-19.87940311320534,-19.886311790271456,-19.72110367399926,-18.860097204588634,-19.474961694558267,-19.17092659289246,-19.794094470350963,-20.38229565168213,-20.149157398311996,-19.85240973911823,-19.45445502282141,-19.035154676964904,-19.810249789695145,-21.75841583152521,-21.479898593780643,-21.21873725164554,-21.127520860667115,-20.649789129767584,-20.870729755909306,-21.863067455547856,-21.398029447631444,-20.9078385970755,-20.251247300410117,-21.560169454338777,-21.369191016109866,-21.232651049099392,-21.74180514214963,-21.983817596548032,-22.277007895810204,-22.657694188516526,-21.789105540588015,-21.306699199001667,-20.7289911087685,-19.75186162975359,-19.59406009965015,-19.898788020410677,-18.969335213671943,-18.91444747238731,-18.723801839627868,-16.37059636071647,-18.58801184192626,-19.219760899047017,-20.00668005907805,-18.245080053082493,-17.586614469449543,-16.25489910294293,-16.719768366639723,-15.745174498056546,-17.216512265411165,-18.598615110590945,-17.84751188796608,-16.172105170306256,-12.980731937586565,-13.001296681705234,-12.990438041579472,-12.953599234664441,-12.929272919911908,-12.885617379791004,-12.836518743076692,-12.960368773780893,-12.931447761454749,-12.904865707200244,-12.919327240700014,-12.912559386981805,-12.940907742910326,-12.974628457672116,-12.994891595894154,-13.009096020423346,-12.74206884254438,-12.888337096586646,-12.695314708571601,-12.788217792923785,-12.670320796080581,-12.626301422668272,-12.252105838190316,-12.429037693474077,-12.39755501328423,-12.654551567717652,-12.978786122121864,-12.963946545142566,-11.710955014789995,-11.179942869023499,-11.72703245989953,-11.3051555898185,-14.855947237258576,-14.874363437134768,-14.012129586911344,-13.434813723796845,-13.454370000000004,-14.21257854144779,-14.795565738420082,-15.24897755747558,-16.385540277935117,-17.54075408347268,-14.2011491849954,-14.901205319552826,-14.503802572109738,-14.218275538829827,-13.027001232979618,-13.628145401334807,-13.006509941343507,-12.52706511498534,-12.418107766476943,-11.08780196519673,-9.621740304379438,-9.739764227967616,-10.823402732936266,-12.181424519180965,-13.382551683575732,-12.974473576578024,-12.128258954254983,-11.753135950663646,-12.136283673723073,-12.351548065706455,-12.530872663726951,-11.791521441941349,-10.837039912761224,-10.077496797490625,-9.402310044082247,-11.563040610149669,-10.754487136314587,-9.43801077634918,-10.933205323330908,-10.867365797569272,-11.271701673277963,-11.184499761882456,-10.911899324234763,-10.68500836824854,-10.218430771961557,-10.507750422868565,-9.666231531606297,-10.274804017653246,-8.061540422701842,-8.046395350539573,-8.051432741329542,-8.056531245917173,-8.076219653067113,-8.082961030526882,-8.120836995700827,-8.109106438802,-8.120661227180287,-8.111708929035874,-8.034123384673139,-8.016000004790326,-8.01550363368929,-7.973052022605982,-7.988464152374622,-8.006796953179887,-7.997069597057791,-7.933838532679113,-7.913454881641773,-7.83071075936294,-7.773695510620832,-7.742033957606787,-8.110763298084139,-8.109718281948348,-8.090714650845417,-8.160895372560805,-8.18711055117966,-8.287324737578633,-8.009681341782347,-8.117892133311077,-8.28140539885231,-8.03643131988301,-8.882241341997211,-8.734216236688294,-8.66766403314179,-8.516683085356835,-8.202462439003181,-7.865815099596729,-7.747388123494947,-7.5614046756881415,-8.073469368938401,-8.227867770975367,-7.758119673998479,-9.383143421943378,-8.972796333425762,-8.421152395028791,-8.078360012758093,-7.477408995087297,-7.803638454819046,-7.986459537789969,-9.645803096034435,-9.593277733766511,-10.125968638246245,-9.752286283308251,-9.537353721784038,-9.360938029498268,-9.415774465142151,-9.37848909829083,-9.160414329871273,-9.088993481816768,-7.124730569248079,-7.018717349619061,-6.832544640817329,-7.128097426173329,-7.232992015303509,-7.672414147389153,-6.997830163240426,-7.093120278106696,-6.555022957242163,-6.891631577391529,-5.824680160424698,-5.877825985636001,-6.226501759498418,-6.449527105357911,-5.900451140349413,-5.501153074229603,-5.191640253742511,-5.666107638774344,-6.027819262629616,-6.1947005643765936,-3.735929573102122,-3.7362372279993448,-3.7224074821361226,-3.754365462144178,-3.774084031149745,-3.801549939494493,-3.800431489058459,-3.738887129198341,-3.8798780866705975,-3.9714031145959643,-3.8756498372660193,-3.685944349572401,-3.7928791781380236,-4.336761005418047,-3.761849602138168,-2.913123256269205,-3.0536086269070664,-3.6709977959435722,-4.337347348320057,-4.186644554894781,-5.133551782152398,-7.2203821420150565,-7.2309539062117745,-7.489347825960264,-6.942367376090676,-6.392506984489927,-6.359268364094253,-5.746526421602799,-5.178589841096914,-5.130911422251152,-4.968615446090581,-5.078779541577439,-3.9028989778749468,-3.180431791278335,-5.832054674112545,-5.988779816540749,-7.017582674084056,-7.081134134926282,-8.363462905112865,-6.781729290078161,-9.82916886279047,-2.5313408913275235,-2.559384609951616,-2.4452816520363223,-3.662666999999997,-4.036880831208753,-3.3613360993496095,-5.09988921202937,-4.576410278520987,-7.5204793802784655,-5.5191605739289695,-1.4505412625655916,-1.4156008822031698,-1.4001805434243977,-1.3244242178968126,-1.1661591778152802,-1.3760015757332156,-1.3631947247093936,-1.3667551836294922,-2.432661578344335,-4.257695734574252,-1.9124732498891373,-3.221322012717903,-2.24394843749662,-6.07931563652907,-2.5578521068091886,-1.2844395984667698,-1.681880212494914,0.03263068878396085,-3.0855172781008804,-2.6942460190048823,2.823458536092981,-4.240124134996824,-7.5135010106366735,-9.95560451457095,-15.821719993204432,-15.814805709165725,-15.802477586805972,-15.787883147931211,-15.757629850091522,-15.7623885,-15.828826950927354,-15.734822639603557,-15.853910553679128,-15.858260732668844,-15.885517897674116,-15.836407051618703,-15.840370204186762,-15.813094907421874,-15.816429661339903,-15.878784740978016,-16.029136659024317,-16.01651048333811,-15.912134161834317,-15.66786460733477,-16.0817898460413,-15.853917504543194,-15.647820932741318,-15.65924747941368,-15.687877462415646,-15.619759456314135,-14.13775046648485,-15.544546045056325,-14.09645641749945,-16.674418389899763,-16.687634855979248,-16.706842651613904,-16.721128896707583,-16.65922051540767,-16.650579751571392,-16.640441206951273,-16.67561383652654,-16.716799319627057,-16.7728742387288,-16.311500113482033,-16.353066287877326,-16.981633304605168,-16.647392079785362,-16.36901106148165,-18.412039497898675,-17.746519265110088,-18.163451695451066,-17.88913766788605,-17.79496358466878,-16.518837222572525,-16.203824633052633,-15.308523671561748,-14.313428543865086,-13.44932059151791,-15.93689830280329,-15.091736989145842,-8.79076180665226,-11.674921486998997,-10.201685528911135,-11.979005150615247,-11.730680063637344,-10.708549915141726,-10.159346418133994,-8.079043400778454,-7.190778450156136,-5.651534046079099,-15.600374178437754,-15.649444406724683,-15.62510591116231,-13.65791127277237,-13.45405269194706,-11.504746814489,-14.052743162895297,-16.46942804385708,-15.542592858402063,-20.474127067957134,-20.45233085179438,-21.127932260213544,-19.00896869906208,-18.916843498479157,-18.7971994284708,-20.79008309578196,-22.256168799239738,-22.22529584453434,-23.06116801229209,-25.42809101469902,-25.44675157119925,-25.46116749096897,-25.434698396329892,-25.412268865874115,-25.465716995556598,-25.433397360232053,-25.412600503750912,-25.48596840937806,-25.51121519133873,-25.45188562578724,-25.49179836491305,-25.561031930607683,-25.47519790478401,-25.492209883980642,-25.5143878529055,-25.520613999163285,-25.544630912574288,-25.41219701304174,-25.389110577298165,-25.378153459893824,-25.415211583126545,-25.387572533987644,-25.3978025696396,-25.38175890733748,-25.365106752910727,-25.419826655562943,-25.458015944630382,-25.528614814866973,-25.56630010105942,-25.43862909267717,-25.357860034232672,-25.32610251067581,-25.46043911403141,-25.593662607692444,-25.68192647004309,-25.86813428419935,-25.09142231307345,-24.81501042496412,-24.32402162098524,-24.51243052130453,-25.20980364163107,-25.4782748934254,-26.225873678812764,-23.845652984414684,-25.39180019416623,-25.57594838241842,-24.759959455857754,-25.40543646129992,-24.7967713618605,-26.224337258700288,-26.05413125119615,-25.68430220746078,-25.144103593332567,-24.567181553665634,-23.315073790624936,-23.26631582347514,-23.27215416245734,-23.148892011392526,-23.297939251611485,-22.971250321897806,-23.39305842983744,-23.567259107554406,-23.588334745651586,-23.41965060217128,-23.43988391623799,-23.66779255519141,-24.057580764737157,-23.780726812773374,-23.76538622182577,-23.17018169275489,-23.086191016373725,-22.943753998405057,-22.928409731288617,-27.59098979877663,-27.59595616832063,-27.194836557313643,-26.927285553786977,-27.53161703727588,-27.811954000469377,-28.282946853769527,-28.466669498556183,-28.67906182345152,-28.997531412515198,-26.90638525326043,-26.94711180243599,-26.29687356513127,-26.13128926630312,-26.18702908684815,-27.002283856536494,-27.172828138513296,-27.22992897192745,-27.07187184180577,-26.5405973128398,-30.033462903543256,-30.052307620030064,-30.005261580679186,-30.032370408275114,-30.018657258122197,-30.051082487102484,-30.07609574802368,-30.00630824257029,-29.99959867264458,-30.02368547292934,-30.022553545817047,-30.047761063693827,-30.069686636770655,-30.134908057173707,-30.106603692336567,-29.918925812828494,-29.948919539529253,-29.957293016374294,-29.90834841661366,-29.887338532315898,-30.116615029027756,-30.46075020668752,-29.99943038689719,-29.77062784904551,-29.727593254942477,-29.840449474528317,-29.68917401110937,-29.707646429251334,-29.682145031053256,-29.651989815310202,-29.67752577167267,-29.63607004755457,-29.59234281709849,-29.938500052455428,-29.925131684286484,-29.87903241450276,-30.081509855459093,-30.06232050784011,-30.12778541375078,-30.00524488083029,-29.93924243410754,-29.165445468495506,-29.23473286774503,-28.522229642627323,-28.763221417273314,-29.445442636510265,-29.812129499500845,-29.515222752554592,-29.354840929860032,-29.602984876428405,-29.440420273273077,-31.75607673827113,-30.91473773252969,-32.04631874796519,-32.55182795677749,-31.324199690217963,-30.03941580084497,-30.541875359489485,-30.090593631507723,-29.71604504294612,-29.426458066019947,-29.691640803797945,-29.703048730752975,-29.62296904735798,-30.33577595184496,-29.693834860708357,-29.799631847697167,-28.66849154885411,-29.19161811794376,-28.408317752039476,-28.144976135451493,-28.64451912660966,-29.087831058836358,-28.313396916794822,-27.89002658232723,-27.355271255911724,-27.67553811934423,-27.460154873714952,-28.379388813125484,-28.30042996749347,-27.781653619391648,-28.262275869237115,-28.446391605955,-28.753030396986247,-28.82964331642682,-28.630311358436916,-28.283429080407345,-27.643769467588594,-27.635799534237933,-27.77074779587531,-28.06040899335637],\"lon\":[-46.63622549584506,-46.64921756053981,-46.65437333666112,-46.648643600193324,-46.66320747232752,-46.628559874689806,-46.61809169608748,-46.578197286773616,-46.58350586955393,-46.605700561198006,-46.63939234401869,-46.661967204411695,-46.65918999167579,-46.68271563219164,-46.69342974271453,-46.71490320330083,-46.59818387399732,-46.58508972300768,-46.545030321888134,-46.560082282748574,-46.53232386740434,-46.502425924995656,-46.510409496047075,-46.51874228635527,-46.4848310327486,-46.50070144025911,-46.64673306168847,-46.62533338807779,-46.60359870510416,-46.64419751415849,-46.65784985581968,-46.67708334928447,-46.67619099140167,-46.70338254247211,-46.69740791548847,-46.759251605064065,-46.688745659515874,-46.74698338884241,-46.75959517880435,-46.75089537108314,-46.69070634179699,-46.74183856443962,-46.72426299916328,-46.750490533585285,-46.76622784451242,-46.78012280267178,-46.804532633072355,-46.77830063687657,-46.83820227540252,-46.87512624011513,-46.88273007199326,-46.91956063928281,-46.84775280544172,-46.81993323411619,-46.82060483279709,-46.549731577990656,-46.50209375291419,-46.42498349486411,-46.32233407796951,-46.22738648152899,-46.58967680631659,-46.7497630840115,-46.72539287900226,-46.74387047428361,-46.43833174646542,-46.395051936161934,-46.45364082317029,-46.456425833054425,-46.407736812973,-46.35355217438327,-46.31200175704274,-46.19775729015144,-46.14473467292832,-46.03403965621088,-46.54081695198797,-46.51102427495553,-46.517139371775606,-46.44761187709919,-46.40498837607478,-46.56569101442672,-46.57547107507645,-46.5446269103832,-46.57398782096497,-46.61396019262502,-46.32663648264475,-46.11832861478902,-46.38572998906069,-46.27191707956683,-46.42408244808348,-45.398490242134045,-46.51259076380164,-47.62605854788088,-47.859540563563925,-45.56062378232818,-45.54245609702959,-45.89003193563078,-45.962760378988975,-45.46917202608873,-45.19800883930323,-45.11194992576025,-44.96258896414211,-44.448352032885545,-46.546446807664594,-47.066446187049316,-47.19032055324457,-46.89326054840386,-47.27997394123683,-47.41898637227073,-47.868236506787724,-47.39537588734774,-46.97123850000001,-46.94741272715315,-46.774546034034685,-47.805623077990646,-47.98862060838644,-47.372471352806734,-47.58584530074794,-47.40138461232209,-47.78671295826865,-47.870020821715286,-48.5031630919161,-48.17602798776023,-48.8289129576625,-49.380884637430384,-49.51161412213207,-49.77529039897198,-51.32808416243005,-49.06002068719613,-49.97351187130574,-50.25184789579505,-50.76390782417624,-48.976761038576974,-48.49088168726587,-50.4458465656414,-50.34289850306981,-50.06724265017302,-49.75310614508127,-49.60259146858579,-49.44906318507949,-50.64648395550366,-51.04353755666272,-51.37820498064556,-49.06405354782176,-48.99117099532417,-48.572973982353695,-48.39328995169422,-49.64947128403911,-49.950945298776624,-50.51630271079769,-50.8783783746304,-51.16920592655684,-51.541588451943696,-47.469586371738366,-47.39492254943474,-48.0193307872535,-48.36519158935443,-48.89357013532448,-47.70450010072372,-48.46054284578599,-48.936234562768185,-49.39799959779834,-49.62636059280423,-51.400397128304945,-51.46446419118409,-51.90728923135967,-51.64412319198469,-51.84799079155796,-51.286929732385005,-50.8953156833489,-50.58206439467328,-50.41784638703906,-49.88216952484273,-43.1776659762681,-43.20735031008714,-43.240786983625696,-43.28486353566277,-43.23558519601535,-43.265592945055786,-43.3114409074384,-43.34747758052292,-43.35351613266778,-43.39279019627447,-43.43015057667903,-43.470581974536884,-43.19158143879255,-43.18899344073525,-43.18386482292686,-43.219429627531895,-43.31742078365743,-43.38266436663972,-43.56741344324541,-43.68001339148247,-43.77776564407626,-44.35563823074694,-43.119717590339896,-43.09421395317764,-43.10666054506097,-43.06335936314921,-43.051531220231695,-42.992924855918695,-42.85823774578636,-42.82326450000001,-43.30715684058841,-43.277471554191784,-43.37339983286397,-43.185293178590896,-43.13514330853672,-43.20796396457922,-42.97854455542668,-43.457890646014526,-43.39349364562509,-43.470507007554765,-43.56134735153568,-43.616812475036404,-43.421318914438366,-43.70566429135911,-43.73638298926254,-43.461701085475184,-43.831531675031904,-44.09479154483804,-44.17335981467711,-44.25245324999999,-44.46310483199191,-43.70365327116128,-43.663993714121105,-41.78483329618026,-41.321969892353394,-41.61555639911381,-41.063245602631206,-41.889272277196476,-42.11876194967444,-42.35766347031152,-42.53333496363692,-41.86761658822329,-41.9768331802743,-42.04227750644125,-40.296127359474696,-40.29360269318523,-40.63928003367844,-41.1250077114105,-41.3645465152656,-41.5393262021003,-40.74187836369044,-40.63483050095044,-40.408070711481685,-40.054993153553575,-43.93874800582837,-43.911734707672125,-43.9413495215823,-43.96635334139296,-43.988112458984986,-44.019617245718834,-43.973877680607686,-44.00670636636559,-43.915922169787635,-43.93354049999999,-43.953451006867105,-43.99466209742805,-43.98036016410487,-43.968334242858745,-43.94534937725775,-43.92254392634756,-43.90746098265909,-44.08980029007572,-44.02966100567741,-44.04487854410328,-44.04255282355258,-44.06805840564993,-44.17309316234076,-44.2992416004731,-43.86714966908133,-43.929683464788965,-43.94358969102206,-43.97132141308425,-43.90094158809991,-43.98897268005168,-44.04018590977656,-44.08633039683435,-44.01651302070672,-43.88741243525833,-43.78968484094802,-43.80511160291337,-43.815263757530296,-43.86661020355892,-43.90139039383038,-43.66619123303619,-43.58435093618009,-41.950895101230245,-42.559398747444334,-41.234449116652186,-42.1478529397165,-43.504436661117175,-44.91547362990011,-44.61643688761223,-44.24629079931222,-43.4250620670516,-43.21634399080753,-43.35441488106646,-43.248227029288714,-43.77063048806322,-44.245266139782295,-43.784331699012725,-42.88176047285933,-42.96364524092098,-42.64644591501167,-42.204862118334766,-42.02438461764295,-45.43798309537101,-45.82733223144221,-45.01271686236553,-44.31371006726772,-45.056876464718016,-45.92258967428815,-46.13403142928302,-46.5599860791651,-46.70917174285874,-46.6106884056798,-47.93560043446406,-46.94751011163035,-49.3723704157333,-49.46551928974934,-48.273059864404985,-47.48752766558446,-46.87933125686007,-46.516948417835884,-46.05531832700629,-45.98304842333017,-43.596772239541835,-44.93232313279886,-44.43137521841042,-43.86579202498695,-42.58307753914023,-42.34769225950655,-42.748749524520534,-41.49901100442254,-40.696322845112604,-38.51298451332133,-38.52129287936679,-38.49131919983837,-38.486971996787105,-38.50033896209594,-38.47571324999999,-38.47036689513174,-38.46098085610876,-38.446008451527945,-38.43206003823674,-38.37057775557084,-38.356179627123396,-38.36165096142303,-38.43562185651219,-38.46109793907613,-38.48000722972316,-38.61571698534868,-38.315730286830146,-38.32405394731768,-38.39345916180969,-38.53818873906201,-38.67811291026383,-38.95695979782068,-39.24992872188821,-38.75349364327109,-39.09413001001925,-38.91178005071173,-39.258289243901736,-39.90339656382842,-40.5070881497491,-41.15691685569951,-41.85868918821489,-40.842060884802905,-40.62136811766183,-40.08887701993908,-39.9664664743582,-39.14647931173869,-39.52475124166358,-39.269225008018125,-40.22120074920175,-39.49780593450295,-39.73822378228387,-41.67864287683471,-41.93410096297185,-42.43266113681293,-42.78010213931806,-42.51944868108627,-41.327030403268346,-41.37298141198787,-40.315148328194944,-41.76841927469836,-43.54931781143554,-42.08514342557106,-41.877875538995156,-42.72625583620692,-43.1819736500748,-44.195853695046985,-44.04652544386415,-45.08524092091662,-44.90746082387957,-38.42243611838993,-38.331788315125834,-38.29735608401883,-37.94440075806931,-38.38054011316685,-38.89768077246266,-38.22297436375318,-39.00724947858188,-39.46223288562641,-40.49508108743207,-37.063767523890455,-37.093690563544314,-37.45261124999999,-37.99904031178235,-37.67483210979463,-37.43212025085721,-37.41598832969518,-37.02171171220937,-37.78403035111866,-36.83642880049895,-34.886820410352584,-34.88295805329215,-34.929756246321205,-34.93191773900229,-34.92537225100649,-34.95535975062839,-34.89961873019516,-34.90964858021235,-34.93914070038665,-34.946825897650456,-34.90330415098963,-34.899850091978344,-34.91170413244461,-34.84430382471587,-34.84468580821913,-34.87050687106691,-34.86009254489583,-34.84526377220266,-34.91105315759859,-34.91183272538151,-34.89835279961334,-34.828609580945724,-35.023336681149225,-35.01685189641074,-34.974599740781294,-34.93200819983839,-34.92127553876964,-35.02783823031136,-35.001318996537535,-35.09639665873476,-35.971315126645365,-36.212281665579695,-36.49377670218999,-36.45100811916726,-36.00526725,-35.22591993744328,-35.567999811406885,-35.60371155192708,-35.25844933811612,-35.008076067826735,-39.123637572312944,-39.37463910552574,-40.14944355481468,-40.497937438253736,-38.25077846422101,-37.06619376197672,-37.27337259434675,-37.31141153971917,-37.791908252022445,-38.29738732721192,-35.725020944139914,-35.85072023313385,-36.357228208984836,-36.659145585622525,-37.76046954682271,-37.35393573042239,-36.62752499999999,-36.24230689486404,-36.027145492587564,-35.50095432395763,-34.845932987422444,-35.92570289720844,-35.48959457246668,-35.03707572250666,-35.89450003025274,-36.885834069917706,-36.91066694016279,-37.59786189640948,-37.79413878129083,-38.546612213518586,-35.208509282107045,-35.25078269482964,-35.47894825627493,-36.81987269523392,-35.79408402095945,-36.50789840301908,-37.33906047500442,-37.713589873482064,-37.91061975374932,-38.21197642600761,-38.529054351232055,-38.49886165051707,-38.57716293203382,-38.55063602054357,-38.59489856939353,-38.56931798834324,-38.49211577022899,-38.6463113377668,-38.45217188508482,-38.53268787335746,-38.622237665573465,-40.353683128902645,-40.38542542244555,-40.56233620012412,-40.92094416304359,-40.843840403980025,-40.121629028661246,-39.27251055377316,-38.91996032617575,-38.12453850265161,-38.10058050749922,-39.315454595322066,-39.41794215814039,-38.988965759425206,-38.87016661534926,-38.8550326257149,-39.30127758940862,-39.71470841057279,-40.6690406285114,-39.57357126896489,-39.013462266035006,-42.79317736841658,-42.298366713426006,-41.76386844671035,-41.74047552074694,-42.691587273560714,-42.11648234740664,-41.460251978013595,-42.25305610058422,-43.026309464333735,-44.36503525850013,-44.249765695874316,-44.16388219329543,-45.09372184814144,-45.38408319671558,-44.131377068831824,-42.82571997468928,-43.35242484944471,-44.763465099091235,-46.0374208256274,-47.47091935017039,-48.47798608826243,-48.482483490968974,-48.44785430267178,-48.46769154159162,-48.46549841329544,-48.38987597314043,-48.41306185049755,-48.33893815466228,-54.719021155544986,-55.42122625264487,-55.51530014610924,-51.990601650072946,-49.50709277443419,-49.88763130422221,-47.36169402325452,-47.92010246086484,-50.47122044393838,-51.070968874454024,-60.007628601140034,-57.70941311934747,-60.693522516060064,-69.94071128378314,-64.79035368662085,-67.83914468849882,-47.90146764398931,-47.90781616867679,-47.87471121064673,-47.934708055663656,-47.890568861814025,-47.87957024999999,-47.9791959700582,-47.85838198684687,-47.84577027538945,-47.952713164547696,-48.01949532614188,-48.01810895031453,-48.05143924433405,-48.08117276899979,-48.11892356462636,-48.08944199312944,-48.069089840051305,-48.0061491364403,-48.0703937612296,-48.19959653898259,-47.97525188290231,-48.70927942501808,-47.799315679939696,-47.85737738521165,-47.826839992898066,-47.64693741003978,-47.51923123245379,-47.33404507507646,-46.3637915830829,-49.259480582864995,-49.268265965726826,-49.277426897467,-49.31939300523151,-49.32532800217281,-49.286469268863144,-49.23981382520751,-49.21334696864949,-49.24361874294515,-49.27287811489562,-48.954837825332184,-48.9479220021144,-48.51085717225503,-49.449646758042114,-49.47744514827171,-49.22590646259081,-49.104140940600246,-47.947192642748746,-51.72001371665199,-50.9174824496106,-50.30843734273628,-51.120416299429166,-49.55569571319832,-48.88405894929661,-49.71543916661119,-49.94841796430223,-50.57439438532504,-63.86455586489005,-61.77607890911357,-48.32597897288484,-46.94381012986025,-49.07397724118833,-48.40895880597041,-48.88508644203544,-48.48713395315501,-48.208175536099645,-47.87571484406273,-56.07874454678521,-56.13104323841535,-58.17115138323041,-57.909053993936304,-56.07935786602016,-55.508396588520014,-52.23004349798399,-54.61910677296727,-54.97203785249597,-54.60743091339668,-54.65744396869418,-56.14345613469305,-57.64731814065178,-54.74031757573235,-52.618660544955404,-51.70698283549713,-53.3567821134243,-54.8082128332721,-54.82951626438312,-49.25806265716426,-49.27759815785677,-49.30097043741701,-49.283472108784494,-49.27017728351319,-49.286236905292554,-49.29872710185242,-49.2926967603439,-49.28930079017829,-49.30068101872589,-49.34470125207747,-49.32480638375013,-49.33673896464863,-49.22567608159733,-49.24891521397666,-49.241245590599696,-49.27401546364472,-49.26698760369683,-49.32776701082003,-49.28431263252354,-49.26677366472387,-49.35007158609351,-49.334677366041234,-49.23949589009749,-49.2215283491546,-49.25392819232483,-49.2085227387616,-49.208716656604224,-49.17931757291652,-48.53576701026498,-49.1726093583012,-49.178225255558104,-49.300101577009706,-49.53056106345508,-49.39692158025869,-49.32765609524006,-50.38535865772567,-50.15917361518264,-50.005170386839566,-50.61436653167623,-50.84759194393435,-50.97015988216609,-50.656521435155305,-51.091276177775,-49.83043644153069,-51.468903294737245,-51.66226924859687,-51.76570290737747,-52.41088912238704,-52.99693541268717,-52.67043886508676,-53.05731534606869,-53.7244706890612,-54.07961843796455,-53.76982103284665,-51.16352871896687,-51.24170779032253,-50.91427078248451,-50.55154407739881,-49.97934331179332,-51.591470209008406,-51.44908323702103,-51.45807278049602,-51.69449974973171,-51.93355979106489,-52.03907438005413,-52.59245219370414,-52.418995107382685,-53.07297812136771,-53.31741369448615,-52.19491548871559,-52.460909568609836,-52.73827698337384,-53.13611533877219,-48.52244787010217,-48.63760744853509,-48.61759562949999,-48.67879193595708,-49.359103605925874,-50.32355973160601,-49.92467013685739,-49.00685179020998,-49.36945375954184,-49.63362979062212,-49.08562531063431,-49.382723767665084,-48.85116190466845,-49.823131890556525,-50.40043928549548,-51.00817895154663,-51.50701745976393,-52.03026232528818,-52.62852572807476,-53.512500396471225,-51.22409114731084,-51.22267087898896,-51.19807085811351,-51.19083695468581,-51.191152242368275,-51.196494870779965,-51.226520616149244,-51.15999094976626,-51.122089131812274,-51.127218217251404,-51.158931695524885,-51.15141947162573,-51.16215449951761,-51.20476180870217,-51.246391831885774,-51.159212965794325,-51.1682409763061,-51.18564928913986,-51.19750602466077,-51.17053213310045,-51.327347000072116,-51.60033357381548,-51.30812960179512,-51.14036966545228,-51.16535549644732,-51.15212272859874,-51.13857254304592,-51.12367304080982,-51.11110166300717,-51.170857042547375,-51.05973809396401,-51.00138963795861,-51.11705480438275,-51.038602539773166,-51.01525557324217,-50.78452838759523,-51.06946435616028,-51.08379963205336,-50.823000726027,-51.07085330664626,-51.088260716199486,-51.17900064152856,-51.24040394138558,-50.94929714257773,-51.556744070909424,-50.57881528295764,-50.07133235042169,-50.80790353090535,-51.50524479942291,-51.9463795963125,-51.97177346889055,-52.34025851347443,-51.9647448201492,-52.12001474307376,-53.37237467128428,-54.107138087850224,-52.90678784181081,-52.5200174499004,-51.637588729603564,-52.43053313824552,-52.979544998636186,-53.809756527756925,-53.72376476787311,-53.43960820691422,-54.3158713981041,-54.67671116021542,-55.79082956022553,-56.005772050563536,-54.86414013402867,-54.961005958535175,-54.73790970084126,-53.605120489324825,-53.6888694525492,-53.492425228868186,-53.31098170294696,-53.39593836110661,-53.76357360685317,-53.94525850900288,-53.92953286839677,-54.26446319385549,-54.445101845525855,-52.40315585963567,-52.20103440524312,-51.89921406484605,-52.51169996908263,-52.8501413591433,-52.79651833933844,-52.805183646892736,-52.27299099123919,-51.807266737509664,-52.01624208384784],\"radius\":10,\"z\":[0.046153846153846156,0.007407407407407408,0.028720626631853787,0.0231023102310231,0.03081232492997199,0.013513513513513514,0.0411522633744856,0.013071895424836602,0.06315789473684211,0.0859375,0.020689655172413793,0.02247191011235955,0.05555555555555555,0.06015037593984962,0.16494845360824742,0.042801556420233464,0.026217228464419477,0.03278688524590164,0.02390438247011952,0.01775147928994083,0.024752475247524754,0.022222222222222223,0.06201550387596899,0.022222222222222223,0.065,0.08695652173913043,0.018036072144288578,0.029315960912052116,0.03323262839879154,0.01909307875894988,0.0812720848056537,0.018121911037891267,0.0332409972299169,0.020527859237536656,0.13446969696969696,0.07692307692307693,0.01972386587771203,0.02875399361022364,0.06896551724137931,0.039755351681957186,0.04597701149425287,0.01529051987767584,0.020161290322580645,0.04149377593360996,0.08353221957040573,0.04032258064516129,0.03435114503816794,0.038461538461538464,0.024054982817869417,0.023195876288659795,0.023529411764705882,0.04119850187265917,0.018148820326678767,0.07352941176470588,0.0,0.0379746835443038,0.043010752688172046,0.05,0.0,0.0,0.037037037037037035,0.02336448598130841,0.02727272727272727,0.033707865168539325,0.06884057971014493,0.04950495049504951,0.09937888198757763,0.10204081632653061,0.09349593495934959,0.06631299734748011,0.029556650246305417,0.043343653250773995,0.017857142857142856,0.05714285714285714,0.0205761316872428,0.047619047619047616,0.03614457831325301,0.050335570469798654,0.023255813953488372,0.03347280334728033,0.0223463687150838,0.06865671641791045,0.05511811023622047,0.054140127388535034,0.06140350877192982,0.10638297872340426,0.05673758865248227,0.004291845493562232,0.053763440860215055,0.058394160583941604,0.05470459518599562,0.0,0.03278688524590164,0.026217228464419477,0.07692307692307693,0.036635006784260515,0.04142011834319527,0.06040268456375839,0.013071895424836602,0.03571428571428571,0.030303030303030304,0.0,0.03430079155672823,0.07507739938080496,0.09090909090909091,0.038834951456310676,0.04251700680272109,0.024830699774266364,0.04424778761061947,0.04421768707482993,0.02857142857142857,0.027918781725888325,0.042801556420233464,0.04790419161676647,0.0410958904109589,0.04081632653061224,0.041666666666666664,0.03550295857988166,0.03225806451612903,0.04040404040404041,0.0149812734082397,0.04182509505703422,0.020618556701030927,0.04054054054054054,0.01904761904761905,0.058823529411764705,0.028169014084507043,0.03333333333333333,0.0,0.016666666666666666,0.0,0.007633587786259542,0.014184397163120567,0.028169014084507043,0.045454545454545456,0.0,0.05263157894736842,0.0,0.0,0.04,0.0,0.015625,0.01838235294117647,0.0,0.0,0.014084507042253521,0.01694915254237288,0.024875621890547265,0.034482758620689655,0.021739130434782608,0.0,0.07692307692307693,0.024518388791593695,0.03343465045592705,0.05188679245283019,0.0,0.0297029702970297,0.03608247422680412,0.04419889502762431,0.0661764705882353,0.0425531914893617,0.0,0.026143790849673203,0.15384615384615385,0.01639344262295082,0.0,0.03636363636363636,0.0,0.0,0.0,0.015873015873015872,0.008695652173913044,0.051094890510948905,0.05185185185185185,0.07773851590106007,0.06070287539936102,0.07058823529411765,0.0963855421686747,0.0970873786407767,0.11275964391691394,0.11458333333333333,0.16,0.13138686131386862,0.16101694915254236,0.06557377049180328,0.0582010582010582,0.0641025641025641,0.056074766355140186,0.1111111111111111,0.16858552631578946,0.1181959564541213,0.09913793103448276,0.058823529411764705,0.1527777777777778,0.16483516483516483,0.13178294573643412,0.1220159151193634,0.10655737704918032,0.15444015444015444,0.1927710843373494,0.14516129032258066,0.13793103448275862,0.13793103448275862,0.13291139240506328,0.09345794392523364,0.1111111111111111,0.14035087719298245,0.06976744186046512,0.11475409836065574,0.11914893617021277,0.06666666666666667,0.11659192825112108,0.07462686567164178,0.0967741935483871,0.11794871794871795,0.0392156862745098,0.09090909090909091,0.07407407407407407,0.10576923076923077,0.18218623481781376,0.10434782608695652,0.05555555555555555,0.14556962025316456,0.125,0.11627906976744186,0.14468085106382977,0.12173913043478261,0.19047619047619047,0.17647058823529413,0.226890756302521,0.12,0.1095890410958904,0.15695067264573992,0.12,0.14979757085020243,0.1867612293144208,0.07633587786259542,0.1093951093951094,0.11333333333333333,0.05555555555555555,0.07692307692307693,0.0392156862745098,0.12307692307692308,0.06557377049180328,0.10294117647058823,0.08670520231213873,0.04,0.029585798816568046,0.055970149253731345,0.0106951871657754,0.05555555555555555,0.021052631578947368,0.05102040816326531,0.03571428571428571,0.0390625,0.032467532467532464,0.027777777777777776,0.037383177570093455,0.05917159763313609,0.014925373134328358,0.04,0.056338028169014086,0.05263157894736842,0.05504587155963303,0.031578947368421054,0.045454545454545456,0.04819277108433735,0.0,0.04568527918781726,0.04,0.0,0.03508771929824561,0.0625,0.0,0.016666666666666666,0.0,0.058823529411764705,0.08333333333333333,0.017857142857142856,0.06060606060606061,0.0,0.0,0.03571428571428571,0.125,0.05,0.125,0.3333333333333333,0.03731343283582089,0.023121387283236993,0.04225352112676056,0.037037037037037035,0.045454545454545456,0.027472527472527472,0.02857142857142857,0.04602510460251046,0.037037037037037035,0.05263157894736842,0.036170212765957444,0.04918032786885246,0.041176470588235294,0.11428571428571428,0.06470588235294118,0.049107142857142856,0.0,0.03076923076923077,0.041379310344827586,0.014814814814814815,0.033707865168539325,0.030864197530864196,0.06040268456375839,0.058823529411764705,0.017777777777777778,0.06870229007633588,0.08695652173913043,0.07,0.039473684210526314,0.046357615894039736,0.05625,0.05921052631578947,0.04477611940298507,0.05,0.03571428571428571,0.08333333333333333,0.01935483870967742,0.059782608695652176,0.017857142857142856,0.05405405405405406,0.06896551724137931,0.057692307692307696,0.0,0.014234875444839857,0.03418803418803419,0.04040404040404041,0.02666666666666667,0.029585798816568046,0.014705882352941176,0.10204081632653061,0.15584415584415584,0.1342281879194631,0.15789473684210525,0.046875,0.14285714285714285,0.07142857142857142,0.18055555555555555,0.2111111111111111,0.1506849315068493,0.0,0.08695652173913043,0.13333333333333333,0.1342281879194631,0.11764705882352941,0.0975609756097561,0.0,0.16883116883116883,0.13131313131313133,0.045454545454545456,0.16666666666666666,0.0,0.043478260869565216,0.1,0.09523809523809523,0.13636363636363635,0.2777777777777778,0.1111111111111111,0.03125,0.07142857142857142,0.0,0.0967741935483871,0.047619047619047616,0.0,0.09523809523809523,0.12,0.10344827586206896,0.0625,0.10810810810810811,0.04878048780487805,0.13076923076923078,0.1044776119402985,0.09302325581395349,0.08333333333333333,0.15384615384615385,0.08928571428571429,0.21052631578947367,0.05,0.14285714285714285,0.02702702702702703,0.0,0.25,0.0,0.0,0.0,0.0,0.16279069767441862,0.0,0.1348314606741573,0.2222222222222222,0.125,0.21428571428571427,0.0,0.14285714285714285,0.16666666666666666,0.09523809523809523,0.06382978723404255,0.0784313725490196,0.03571428571428571,0.1276595744680851,0.1262135922330097,0.16129032258064516,0.25,0.0,0.10526315789473684,0.2,0.25,0.0,0.0,0.2857142857142857,0.03225806451612903,0.0,0.0,0.1509433962264151,0.07692307692307693,0.09523809523809523,0.06,0.027777777777777776,0.0,0.07692307692307693,0.1357142857142857,0.375,0.5,0.1,0.13043478260869565,0.2777777777777778,0.0,0.0784313725490196,0.23076923076923078,0.07692307692307693,0.0,0.4,0.125,0.0,0.0,0.05,0.11363636363636363,0.10526315789473684,0.15,0.0,0.05084745762711865,0.058823529411764705,0.07017543859649122,0.0,0.03571428571428571,0.09375,0.12307692307692308,0.07894736842105263,0.06451612903225806,0.0,0.058823529411764705,0.045454545454545456,0.18181818181818182,0.08333333333333333,0.06451612903225806,0.13043478260869565,0.0,0.06666666666666667,0.0,0.0,0.20948616600790515,0.23076923076923078,0.0967741935483871,0.19444444444444445,0.047619047619047616,0.3333333333333333,0.1111111111111111,0.0,0.0,0.10526315789473684,0.14979757085020243,0.15384615384615385,0.06451612903225806,0.08108108108108109,0.05970149253731343,0.0,0.08333333333333333,0.07894736842105263,0.029411764705882353,0.0,0.06557377049180328,0.05357142857142857,0.037037037037037035,0.11764705882352941,0.0,0.18421052631578946,0.061224489795918366,0.14285714285714285,0.0,0.047619047619047616,0.06896551724137931,0.1417910447761194,0.16326530612244897,0.1111111111111111,0.13043478260869565,0.12087912087912088,0.13675213675213677,0.20512820512820512,0.0,0.0,0.1388888888888889,0.15789473684210525,0.0,0.0625,0.15625,0.15,0.11764705882352941,0.125,0.08333333333333333,0.07547169811320754,0.08,0.06818181818181818,0.07142857142857142,0.045454545454545456,0.08333333333333333,0.15,0.06818181818181818,0.06060606060606061,0.07692307692307693,0.3076923076923077,0.0,0.13559322033898305,0.17647058823529413,0.037037037037037035,0.07142857142857142,0.1,0.06666666666666667,0.13793103448275862,0.0,0.06451612903225806,0.3,0.16363636363636364,0.2702702702702703,0.24390243902439024,0.10526315789473684,0.06060606060606061,0.13793103448275862,0.2,0.22950819672131148,0.14814814814814814,0.13333333333333333,0.05185185185185185,0.043478260869565216,0.11956521739130435,0.11320754716981132,1.0,0.14705882352941177,0.109375,0.05555555555555555,0.2926829268292683,0.10714285714285714,0.0,0.10256410256410256,0.07936507936507936,0.12931034482758622,0.08602150537634409,0.10526315789473684,0.0,0.030303030303030304,0.05555555555555555,0.0,0.09523809523809523,0.3333333333333333,0.0,0.03488372093023256,0.07575757575757576,0.0875,0.0,0.05084745762711865,0.02702702702702703,0.05263157894736842,0.11764705882352941,0.06557377049180328,0.02459016393442623,0.08333333333333333,0.047619047619047616,0.04230769230769231,0.029850746268656716,0.0392156862745098,0.045454545454545456,0.02531645569620253,0.03896103896103896,0.06451612903225806,0.10869565217391304,0.0,0.05194805194805195,0.07142857142857142,0.03076923076923077,0.14285714285714285,0.0,0.023809523809523808,0.05555555555555555,0.07017543859649122,0.08,0.10344827586206896,0.13953488372093023,0.08450704225352113,0.03614457831325301,0.10526315789473684,0.16,0.07766990291262135,0.07142857142857142,0.1206896551724138,0.042105263157894736,0.06779661016949153,0.07042253521126761,0.08695652173913043,0.06382978723404255,0.08333333333333333,0.041666666666666664,0.07692307692307693,0.06756756756756757,0.032467532467532464,0.021505376344086023,0.0851063829787234,0.061224489795918366,0.08823529411764706,0.0,0.045454545454545456,0.0,0.0,0.012048192771084338,0.04310344827586207,0.07228915662650602,0.058823529411764705,0.0,0.0,0.1,0.047619047619047616,0.14285714285714285,0.1111111111111111,0.05084745762711865,0.17647058823529413,0.09523809523809523,0.0594059405940594,0.1320754716981132,0.05442176870748299,0.05309734513274336,0.015384615384615385,0.044444444444444446,0.09881422924901186,0.08045977011494253,0.043478260869565216,0.058823529411764705,0.06818181818181818,0.14545454545454545,0.06,0.022222222222222223,0.04477611940298507,0.09090909090909091,0.020512820512820513,0.0,0.0,0.06666666666666667,0.02127659574468085,0.015384615384615385,0.017543859649122806,0.0,0.0136986301369863,0.05454545454545454,0.012195121951219513,0.03333333333333333,0.0,0.014285714285714285,0.041666666666666664,0.0,0.034482758620689655,0.025,0.04,0.0,0.0,0.0,0.13043478260869565,0.04225352112676056,0.037037037037037035,0.2,0.0,0.05555555555555555,0.0,0.043478260869565216,0.030612244897959183,0.020833333333333332,0.05084745762711865,0.023255813953488372,0.017543859649122806,0.06779661016949153,0.0,0.02127659574468085,0.05172413793103448,0.043478260869565216,0.047619047619047616,0.0,0.0,0.061224489795918366,0.02564102564102564,0.0,0.09375,0.047619047619047616,0.0,0.0,0.022900763358778626,0.05319148936170213,0.0,0.037267080745341616,0.06622516556291391,0.031545741324921134,0.0,0.047619047619047616,0.0,0.05263157894736842,0.0,0.03333333333333333,0.03409090909090909,0.0,0.023529411764705882,0.02702702702702703,0.034482758620689655,0.07,0.0,0.06944444444444445,0.0,0.04477611940298507,0.04,0.0,0.10106382978723404,0.10927152317880795,0.049019607843137254,0.08461538461538462,0.01639344262295082,0.059322033898305086,0.0,0.07228915662650602,0.09944751381215469,0.013333333333333334,0.03211009174311927,0.07346938775510205,0.07792207792207792,0.024390243902439025,0.041666666666666664,0.033112582781456956,0.07936507936507936,0.1076923076923077,0.08494208494208494,0.0379746835443038,0.0374331550802139,0.0425531914893617,0.014925373134328358,0.051470588235294115,0.024390243902439025,0.22115384615384615,0.10294117647058823,0.10204081632653061,0.16326530612244897,0.11594202898550725,0.06976744186046512,0.0967741935483871,0.19767441860465115,0.13924050632911392,0.07272727272727272,0.14492753623188406,0.19230769230769232,0.0,0.1836734693877551,0.06349206349206349,0.08333333333333333,0.0,0.09090909090909091,0.02666666666666667,0.07692307692307693,0.10112359550561797,0.022222222222222223,0.14285714285714285,0.05454545454545454,0.0,0.027777777777777776,0.0,0.05405405405405406,0.0425531914893617,0.034482758620689655,0.0,0.1076923076923077,0.125,0.16666666666666666,0.07692307692307693,0.031746031746031744,0.05555555555555555,0.04878048780487805,0.0,0.0,0.1,0.01951219512195122,0.0,0.028901734104046242,0.07368421052631578,0.019230769230769232,0.052884615384615384,0.05555555555555555,0.07142857142857142,0.05555555555555555,0.0449438202247191,0.04081632653061224,0.0,0.016129032258064516,0.033707865168539325,0.0,0.06802721088435375,0.07692307692307693,0.0,0.0625,0.0,0.04081632653061224,0.030303030303030304,0.02564102564102564,0.0,0.0,0.03125,0.034482758620689655,0.022727272727272728,0.0,0.037037037037037035,0.058823529411764705,0.05263157894736842,0.0,0.014925373134328358,0.015384615384615385,0.0423728813559322,0.034482758620689655,0.0,0.08,0.06060606060606061,0.02564102564102564,0.0,0.056338028169014086,0.05555555555555555,0.0],\"type\":\"densitymapbox\"}],                        {\"template\":{\"data\":{\"histogram2dcontour\":[{\"type\":\"histogram2dcontour\",\"colorbar\":{\"outlinewidth\":0,\"ticks\":\"\"},\"colorscale\":[[0.0,\"#0d0887\"],[0.1111111111111111,\"#46039f\"],[0.2222222222222222,\"#7201a8\"],[0.3333333333333333,\"#9c179e\"],[0.4444444444444444,\"#bd3786\"],[0.5555555555555556,\"#d8576b\"],[0.6666666666666666,\"#ed7953\"],[0.7777777777777778,\"#fb9f3a\"],[0.8888888888888888,\"#fdca26\"],[1.0,\"#f0f921\"]]}],\"choropleth\":[{\"type\":\"choropleth\",\"colorbar\":{\"outlinewidth\":0,\"ticks\":\"\"}}],\"histogram2d\":[{\"type\":\"histogram2d\",\"colorbar\":{\"outlinewidth\":0,\"ticks\":\"\"},\"colorscale\":[[0.0,\"#0d0887\"],[0.1111111111111111,\"#46039f\"],[0.2222222222222222,\"#7201a8\"],[0.3333333333333333,\"#9c179e\"],[0.4444444444444444,\"#bd3786\"],[0.5555555555555556,\"#d8576b\"],[0.6666666666666666,\"#ed7953\"],[0.7777777777777778,\"#fb9f3a\"],[0.8888888888888888,\"#fdca26\"],[1.0,\"#f0f921\"]]}],\"heatmap\":[{\"type\":\"heatmap\",\"colorbar\":{\"outlinewidth\":0,\"ticks\":\"\"},\"colorscale\":[[0.0,\"#0d0887\"],[0.1111111111111111,\"#46039f\"],[0.2222222222222222,\"#7201a8\"],[0.3333333333333333,\"#9c179e\"],[0.4444444444444444,\"#bd3786\"],[0.5555555555555556,\"#d8576b\"],[0.6666666666666666,\"#ed7953\"],[0.7777777777777778,\"#fb9f3a\"],[0.8888888888888888,\"#fdca26\"],[1.0,\"#f0f921\"]]}],\"heatmapgl\":[{\"type\":\"heatmapgl\",\"colorbar\":{\"outlinewidth\":0,\"ticks\":\"\"},\"colorscale\":[[0.0,\"#0d0887\"],[0.1111111111111111,\"#46039f\"],[0.2222222222222222,\"#7201a8\"],[0.3333333333333333,\"#9c179e\"],[0.4444444444444444,\"#bd3786\"],[0.5555555555555556,\"#d8576b\"],[0.6666666666666666,\"#ed7953\"],[0.7777777777777778,\"#fb9f3a\"],[0.8888888888888888,\"#fdca26\"],[1.0,\"#f0f921\"]]}],\"contourcarpet\":[{\"type\":\"contourcarpet\",\"colorbar\":{\"outlinewidth\":0,\"ticks\":\"\"}}],\"contour\":[{\"type\":\"contour\",\"colorbar\":{\"outlinewidth\":0,\"ticks\":\"\"},\"colorscale\":[[0.0,\"#0d0887\"],[0.1111111111111111,\"#46039f\"],[0.2222222222222222,\"#7201a8\"],[0.3333333333333333,\"#9c179e\"],[0.4444444444444444,\"#bd3786\"],[0.5555555555555556,\"#d8576b\"],[0.6666666666666666,\"#ed7953\"],[0.7777777777777778,\"#fb9f3a\"],[0.8888888888888888,\"#fdca26\"],[1.0,\"#f0f921\"]]}],\"surface\":[{\"type\":\"surface\",\"colorbar\":{\"outlinewidth\":0,\"ticks\":\"\"},\"colorscale\":[[0.0,\"#0d0887\"],[0.1111111111111111,\"#46039f\"],[0.2222222222222222,\"#7201a8\"],[0.3333333333333333,\"#9c179e\"],[0.4444444444444444,\"#bd3786\"],[0.5555555555555556,\"#d8576b\"],[0.6666666666666666,\"#ed7953\"],[0.7777777777777778,\"#fb9f3a\"],[0.8888888888888888,\"#fdca26\"],[1.0,\"#f0f921\"]]}],\"mesh3d\":[{\"type\":\"mesh3d\",\"colorbar\":{\"outlinewidth\":0,\"ticks\":\"\"}}],\"scatter\":[{\"fillpattern\":{\"fillmode\":\"overlay\",\"size\":10,\"solidity\":0.2},\"type\":\"scatter\"}],\"parcoords\":[{\"type\":\"parcoords\",\"line\":{\"colorbar\":{\"outlinewidth\":0,\"ticks\":\"\"}}}],\"scatterpolargl\":[{\"type\":\"scatterpolargl\",\"marker\":{\"colorbar\":{\"outlinewidth\":0,\"ticks\":\"\"}}}],\"bar\":[{\"error_x\":{\"color\":\"#2a3f5f\"},\"error_y\":{\"color\":\"#2a3f5f\"},\"marker\":{\"line\":{\"color\":\"#E5ECF6\",\"width\":0.5},\"pattern\":{\"fillmode\":\"overlay\",\"size\":10,\"solidity\":0.2}},\"type\":\"bar\"}],\"scattergeo\":[{\"type\":\"scattergeo\",\"marker\":{\"colorbar\":{\"outlinewidth\":0,\"ticks\":\"\"}}}],\"scatterpolar\":[{\"type\":\"scatterpolar\",\"marker\":{\"colorbar\":{\"outlinewidth\":0,\"ticks\":\"\"}}}],\"histogram\":[{\"marker\":{\"pattern\":{\"fillmode\":\"overlay\",\"size\":10,\"solidity\":0.2}},\"type\":\"histogram\"}],\"scattergl\":[{\"type\":\"scattergl\",\"marker\":{\"colorbar\":{\"outlinewidth\":0,\"ticks\":\"\"}}}],\"scatter3d\":[{\"type\":\"scatter3d\",\"line\":{\"colorbar\":{\"outlinewidth\":0,\"ticks\":\"\"}},\"marker\":{\"colorbar\":{\"outlinewidth\":0,\"ticks\":\"\"}}}],\"scattermapbox\":[{\"type\":\"scattermapbox\",\"marker\":{\"colorbar\":{\"outlinewidth\":0,\"ticks\":\"\"}}}],\"scatterternary\":[{\"type\":\"scatterternary\",\"marker\":{\"colorbar\":{\"outlinewidth\":0,\"ticks\":\"\"}}}],\"scattercarpet\":[{\"type\":\"scattercarpet\",\"marker\":{\"colorbar\":{\"outlinewidth\":0,\"ticks\":\"\"}}}],\"carpet\":[{\"aaxis\":{\"endlinecolor\":\"#2a3f5f\",\"gridcolor\":\"white\",\"linecolor\":\"white\",\"minorgridcolor\":\"white\",\"startlinecolor\":\"#2a3f5f\"},\"baxis\":{\"endlinecolor\":\"#2a3f5f\",\"gridcolor\":\"white\",\"linecolor\":\"white\",\"minorgridcolor\":\"white\",\"startlinecolor\":\"#2a3f5f\"},\"type\":\"carpet\"}],\"table\":[{\"cells\":{\"fill\":{\"color\":\"#EBF0F8\"},\"line\":{\"color\":\"white\"}},\"header\":{\"fill\":{\"color\":\"#C8D4E3\"},\"line\":{\"color\":\"white\"}},\"type\":\"table\"}],\"barpolar\":[{\"marker\":{\"line\":{\"color\":\"#E5ECF6\",\"width\":0.5},\"pattern\":{\"fillmode\":\"overlay\",\"size\":10,\"solidity\":0.2}},\"type\":\"barpolar\"}],\"pie\":[{\"automargin\":true,\"type\":\"pie\"}]},\"layout\":{\"autotypenumbers\":\"strict\",\"colorway\":[\"#636efa\",\"#EF553B\",\"#00cc96\",\"#ab63fa\",\"#FFA15A\",\"#19d3f3\",\"#FF6692\",\"#B6E880\",\"#FF97FF\",\"#FECB52\"],\"font\":{\"color\":\"#2a3f5f\"},\"hovermode\":\"closest\",\"hoverlabel\":{\"align\":\"left\"},\"paper_bgcolor\":\"white\",\"plot_bgcolor\":\"#E5ECF6\",\"polar\":{\"bgcolor\":\"#E5ECF6\",\"angularaxis\":{\"gridcolor\":\"white\",\"linecolor\":\"white\",\"ticks\":\"\"},\"radialaxis\":{\"gridcolor\":\"white\",\"linecolor\":\"white\",\"ticks\":\"\"}},\"ternary\":{\"bgcolor\":\"#E5ECF6\",\"aaxis\":{\"gridcolor\":\"white\",\"linecolor\":\"white\",\"ticks\":\"\"},\"baxis\":{\"gridcolor\":\"white\",\"linecolor\":\"white\",\"ticks\":\"\"},\"caxis\":{\"gridcolor\":\"white\",\"linecolor\":\"white\",\"ticks\":\"\"}},\"coloraxis\":{\"colorbar\":{\"outlinewidth\":0,\"ticks\":\"\"}},\"colorscale\":{\"sequential\":[[0.0,\"#0d0887\"],[0.1111111111111111,\"#46039f\"],[0.2222222222222222,\"#7201a8\"],[0.3333333333333333,\"#9c179e\"],[0.4444444444444444,\"#bd3786\"],[0.5555555555555556,\"#d8576b\"],[0.6666666666666666,\"#ed7953\"],[0.7777777777777778,\"#fb9f3a\"],[0.8888888888888888,\"#fdca26\"],[1.0,\"#f0f921\"]],\"sequentialminus\":[[0.0,\"#0d0887\"],[0.1111111111111111,\"#46039f\"],[0.2222222222222222,\"#7201a8\"],[0.3333333333333333,\"#9c179e\"],[0.4444444444444444,\"#bd3786\"],[0.5555555555555556,\"#d8576b\"],[0.6666666666666666,\"#ed7953\"],[0.7777777777777778,\"#fb9f3a\"],[0.8888888888888888,\"#fdca26\"],[1.0,\"#f0f921\"]],\"diverging\":[[0,\"#8e0152\"],[0.1,\"#c51b7d\"],[0.2,\"#de77ae\"],[0.3,\"#f1b6da\"],[0.4,\"#fde0ef\"],[0.5,\"#f7f7f7\"],[0.6,\"#e6f5d0\"],[0.7,\"#b8e186\"],[0.8,\"#7fbc41\"],[0.9,\"#4d9221\"],[1,\"#276419\"]]},\"xaxis\":{\"gridcolor\":\"white\",\"linecolor\":\"white\",\"ticks\":\"\",\"title\":{\"standoff\":15},\"zerolinecolor\":\"white\",\"automargin\":true,\"zerolinewidth\":2},\"yaxis\":{\"gridcolor\":\"white\",\"linecolor\":\"white\",\"ticks\":\"\",\"title\":{\"standoff\":15},\"zerolinecolor\":\"white\",\"automargin\":true,\"zerolinewidth\":2},\"scene\":{\"xaxis\":{\"backgroundcolor\":\"#E5ECF6\",\"gridcolor\":\"white\",\"linecolor\":\"white\",\"showbackground\":true,\"ticks\":\"\",\"zerolinecolor\":\"white\",\"gridwidth\":2},\"yaxis\":{\"backgroundcolor\":\"#E5ECF6\",\"gridcolor\":\"white\",\"linecolor\":\"white\",\"showbackground\":true,\"ticks\":\"\",\"zerolinecolor\":\"white\",\"gridwidth\":2},\"zaxis\":{\"backgroundcolor\":\"#E5ECF6\",\"gridcolor\":\"white\",\"linecolor\":\"white\",\"showbackground\":true,\"ticks\":\"\",\"zerolinecolor\":\"white\",\"gridwidth\":2}},\"shapedefaults\":{\"line\":{\"color\":\"#2a3f5f\"}},\"annotationdefaults\":{\"arrowcolor\":\"#2a3f5f\",\"arrowhead\":0,\"arrowwidth\":1},\"geo\":{\"bgcolor\":\"white\",\"landcolor\":\"#E5ECF6\",\"subunitcolor\":\"white\",\"showland\":true,\"showlakes\":true,\"lakecolor\":\"white\"},\"title\":{\"x\":0.05},\"mapbox\":{\"style\":\"light\"}}},\"mapbox\":{\"center\":{\"lon\":-50,\"lat\":-16},\"style\":\"stamen-terrain\",\"zoom\":2.8},\"margin\":{\"r\":0,\"t\":0,\"l\":0,\"b\":0}},                        {\"responsive\": true}                    ).then(function(){\n",
              "                            \n",
              "var gd = document.getElementById('f41130c7-f2d3-44fd-ad55-4ac8227eca5b');\n",
              "var x = new MutationObserver(function (mutations, observer) {{\n",
              "        var display = window.getComputedStyle(gd).display;\n",
              "        if (!display || display === 'none') {{\n",
              "            console.log([gd, 'removed!']);\n",
              "            Plotly.purge(gd);\n",
              "            observer.disconnect();\n",
              "        }}\n",
              "}});\n",
              "\n",
              "// Listen for the removal of the full notebook cells\n",
              "var notebookContainer = gd.closest('#notebook-container');\n",
              "if (notebookContainer) {{\n",
              "    x.observe(notebookContainer, {childList: true});\n",
              "}}\n",
              "\n",
              "// Listen for the clearing of the current output cell\n",
              "var outputEl = gd.closest('.output');\n",
              "if (outputEl) {{\n",
              "    x.observe(outputEl, {childList: true});\n",
              "}}\n",
              "\n",
              "                        })                };                            </script>        </div>\n",
              "</body>\n",
              "</html>"
            ]
          },
          "metadata": {}
        }
      ]
    },
    {
      "cell_type": "markdown",
      "metadata": {
        "id": "-TKnoom6nwTY"
      },
      "source": [
        "As shown above, there are five hotspots with high rates of delayed delivery, which located at:\n",
        "\n",
        "\n",
        "1.   lat:-22, lng:-43\n",
        "2.   lat:-23, lng:-46\n",
        "3.   lat:-8, lng:-35\n",
        "4.   lat:-29, lng:-52\n",
        "5.   lat:-12, lng:-38\n",
        "\n",
        "These hotspots must be the company concern."
      ]
    },
    {
      "cell_type": "markdown",
      "metadata": {
        "id": "dak23iEat15B"
      },
      "source": [
        "## Conclusion\n",
        "\n",
        "\n",
        "---\n",
        "\n",
        "\n",
        "Below, is percentage of early, normal, and delay delivery."
      ]
    },
    {
      "cell_type": "code",
      "metadata": {
        "id": "mq8rSEb8r61B",
        "outputId": "c50876ea-7a5b-48d9-c6b4-42fcff151a5e",
        "colab": {
          "base_uri": "https://localhost:8080/"
        }
      },
      "source": [
        "normal = geo_order['range_time'][geo_order['range_time'] == 0]\n",
        "print('normal:',\n",
        "      round(normal.count() * 100 / geo_order['range_time'].count(),\n",
        "            3), '%', '\\nearly:',\n",
        "      round(early.count() * 100 / geo_order['range_time'].count(), 3), '%',\n",
        "      '\\ndelay:',\n",
        "      round(delay.count() * 100 / geo_order['range_time'].count(), 3), '%')"
      ],
      "execution_count": 27,
      "outputs": [
        {
          "output_type": "stream",
          "name": "stdout",
          "text": [
            "normal: 1.259 % \n",
            "early: 92.44 % \n",
            "delay: 6.293 %\n"
          ]
        }
      ]
    },
    {
      "cell_type": "markdown",
      "metadata": {
        "id": "ulz0G-lKuHcM"
      },
      "source": [
        "As we can see, the number of exact the percentage on early product is very high, approximately 92,5%. High number of early delivery might satisfy the customer, but **shows inaccuracy of delivery time estimator**. Moreover, even if the delay percentage is low, this should be the company concern since there are some order that have **delayed delivery more than one month**. As an analyst, I strongly suggest the company to **improve the delivery time estimator** since only 1% of customer predicted accurately."
      ]
    },
    {
      "cell_type": "markdown",
      "metadata": {
        "id": "6gPa7VBpwkD4"
      },
      "source": [
        "# 2) Promotion Timing\n",
        "\n",
        "\n",
        "---\n",
        "\n",
        "This section will analyze the best time to promote company's product or to release new product. First, we change the purchase time data type to datetime type."
      ]
    },
    {
      "cell_type": "code",
      "metadata": {
        "id": "zNBTCrtXnzKo"
      },
      "source": [
        "order['order_purchase_timestamp'] = pd.to_datetime(\n",
        "    order['order_purchase_timestamp'])"
      ],
      "execution_count": 28,
      "outputs": []
    },
    {
      "cell_type": "markdown",
      "metadata": {
        "id": "MVWnSSp8ysLt"
      },
      "source": [
        "### A. *Best Hour*\n",
        "\n",
        "\n",
        "---\n",
        "\n",
        "\n",
        "Next, we take only the hour part from the purchase time."
      ]
    },
    {
      "cell_type": "code",
      "metadata": {
        "id": "OlF05VfPod2m"
      },
      "source": [
        "best_time_hours = (order.order_purchase_timestamp).dt.hour"
      ],
      "execution_count": 29,
      "outputs": []
    },
    {
      "cell_type": "markdown",
      "metadata": {
        "id": "a2GNfO8kzP5j"
      },
      "source": [
        "The following graph shows purchase time in hour."
      ]
    },
    {
      "cell_type": "code",
      "metadata": {
        "id": "4TJqqA6mo-xH",
        "outputId": "aeee04a0-2b2f-4fad-a497-e710307b0a2f",
        "colab": {
          "base_uri": "https://localhost:8080/",
          "height": 693
        }
      },
      "source": [
        "sns.distplot(best_time_hours)"
      ],
      "execution_count": 30,
      "outputs": [
        {
          "output_type": "stream",
          "name": "stderr",
          "text": [
            "<ipython-input-30-d302ddd6c726>:1: UserWarning:\n",
            "\n",
            "\n",
            "\n",
            "`distplot` is a deprecated function and will be removed in seaborn v0.14.0.\n",
            "\n",
            "Please adapt your code to use either `displot` (a figure-level function with\n",
            "similar flexibility) or `histplot` (an axes-level function for histograms).\n",
            "\n",
            "For a guide to updating your code to use the new functions, please see\n",
            "https://gist.github.com/mwaskom/de44147ed2974457ad6372750bbe5751\n",
            "\n",
            "\n"
          ]
        },
        {
          "output_type": "execute_result",
          "data": {
            "text/plain": [
              "<Axes: xlabel='order_purchase_timestamp', ylabel='Density'>"
            ]
          },
          "metadata": {},
          "execution_count": 30
        },
        {
          "output_type": "display_data",
          "data": {
            "text/plain": [
              "<Figure size 640x480 with 1 Axes>"
            ],
            "image/png": "[encoded data removed]"
          },
          "metadata": {}
        }
      ]
    },
    {
      "cell_type": "markdown",
      "metadata": {
        "id": "qUkX5sKwzVZk"
      },
      "source": [
        "As shown above, most of the customers purchase products around 10 am until 22 pm."
      ]
    },
    {
      "cell_type": "markdown",
      "metadata": {
        "id": "L1sDBY7yz0Cp"
      },
      "source": [
        "### B. *Best Day*\n",
        "\n",
        "\n",
        "---\n",
        "\n",
        "At this part, we only take the day part from each purcahse date."
      ]
    },
    {
      "cell_type": "code",
      "metadata": {
        "id": "3eQMP2a9plnZ"
      },
      "source": [
        "best_time_day = order.order_purchase_timestamp.apply(lambda x: x.weekday())"
      ],
      "execution_count": 31,
      "outputs": []
    },
    {
      "cell_type": "markdown",
      "metadata": {
        "id": "19A8vNV-0Ykz"
      },
      "source": [
        "The following graph shows purchase time in day."
      ]
    },
    {
      "cell_type": "code",
      "metadata": {
        "id": "GOHhpfpZprRs",
        "outputId": "a69729f1-eb40-4c9e-f685-bea44280536e",
        "colab": {
          "base_uri": "https://localhost:8080/",
          "height": 693
        }
      },
      "source": [
        "sns.distplot(best_time_day)"
      ],
      "execution_count": 32,
      "outputs": [
        {
          "output_type": "stream",
          "name": "stderr",
          "text": [
            "<ipython-input-32-014a3ced15dd>:1: UserWarning:\n",
            "\n",
            "\n",
            "\n",
            "`distplot` is a deprecated function and will be removed in seaborn v0.14.0.\n",
            "\n",
            "Please adapt your code to use either `displot` (a figure-level function with\n",
            "similar flexibility) or `histplot` (an axes-level function for histograms).\n",
            "\n",
            "For a guide to updating your code to use the new functions, please see\n",
            "https://gist.github.com/mwaskom/de44147ed2974457ad6372750bbe5751\n",
            "\n",
            "\n"
          ]
        },
        {
          "output_type": "execute_result",
          "data": {
            "text/plain": [
              "<Axes: xlabel='order_purchase_timestamp', ylabel='Density'>"
            ]
          },
          "metadata": {},
          "execution_count": 32
        },
        {
          "output_type": "display_data",
          "data": {
            "text/plain": [
              "<Figure size 640x480 with 1 Axes>"
            ],
            "image/png": "[encoded data removed]"
          },
          "metadata": {}
        }
      ]
    },
    {
      "cell_type": "markdown",
      "metadata": {
        "id": "dai_6-Zi0jVn"
      },
      "source": [
        "As we can see, the highest number of purchase is on Tuesday(1), then Monday(0). However, even in other days the number of purchase not significanlly low, I recommend to avoid promote products in Saturday (5), since it is the lowest."
      ]
    },
    {
      "cell_type": "markdown",
      "metadata": {
        "id": "ay4qtwsp1qfU"
      },
      "source": [
        "### 3) *Best Month*\n",
        "\n",
        "\n",
        "---\n",
        "First, we only take the month part from each purchase date."
      ]
    },
    {
      "cell_type": "code",
      "metadata": {
        "id": "XsWA_71OpZbF"
      },
      "source": [
        "best_time_month = (order.order_purchase_timestamp).dt.month"
      ],
      "execution_count": 33,
      "outputs": []
    },
    {
      "cell_type": "markdown",
      "metadata": {
        "id": "IDLU52CB2ASv"
      },
      "source": [
        "The following graph is the purchase time in month."
      ]
    },
    {
      "cell_type": "code",
      "metadata": {
        "id": "ApE2MzjVpeUn",
        "outputId": "e09ddfbe-43e0-4e9b-ba1b-4feb09093485",
        "colab": {
          "base_uri": "https://localhost:8080/",
          "height": 693
        }
      },
      "source": [
        "sns.distplot(best_time_month)"
      ],
      "execution_count": 34,
      "outputs": [
        {
          "output_type": "stream",
          "name": "stderr",
          "text": [
            "<ipython-input-34-fb69fefdd1bb>:1: UserWarning:\n",
            "\n",
            "\n",
            "\n",
            "`distplot` is a deprecated function and will be removed in seaborn v0.14.0.\n",
            "\n",
            "Please adapt your code to use either `displot` (a figure-level function with\n",
            "similar flexibility) or `histplot` (an axes-level function for histograms).\n",
            "\n",
            "For a guide to updating your code to use the new functions, please see\n",
            "https://gist.github.com/mwaskom/de44147ed2974457ad6372750bbe5751\n",
            "\n",
            "\n"
          ]
        },
        {
          "output_type": "execute_result",
          "data": {
            "text/plain": [
              "<Axes: xlabel='order_purchase_timestamp', ylabel='Density'>"
            ]
          },
          "metadata": {},
          "execution_count": 34
        },
        {
          "output_type": "display_data",
          "data": {
            "text/plain": [
              "<Figure size 640x480 with 1 Axes>"
            ],
            "image/png": "[encoded data removed]"
          },
          "metadata": {}
        }
      ]
    },
    {
      "cell_type": "markdown",
      "metadata": {
        "id": "UBBJM9Vz2H9f"
      },
      "source": [
        "As shown above, the highest number of purchase in August (8). However, even in other days the number of purchase not significanlly low, I recommend to avoid promote products in December (12), since it is the lowest."
      ]
    },
    {
      "cell_type": "markdown",
      "metadata": {
        "id": "jxJZoevh2mhB"
      },
      "source": [
        "# *Conclusion*\n",
        "\n",
        "\n",
        "---\n",
        "Based on the previous analysis, I **recommend** the company to promote or release new products on:\n",
        "- Hour: Around 10 am - 22 pm\n",
        "- Day: Tuesday, Monday\n",
        "- Month: August, February\n",
        "\n",
        "It might be okay to promote on another time besides the time I mentioned above, since it is not significanlly different. However, there are some time with low number of purchase which the company should **avoid**:\n",
        "- Hour: Around 3 am - 5 am\n",
        "- Day: Saturday\n",
        "- Month: December, October\n"
      ]
    },
    {
      "cell_type": "markdown",
      "metadata": {
        "id": "ZmGYrSPG46xO"
      },
      "source": [
        "# *III. Customer Behaviour Exploration*\n",
        "\n",
        "\n",
        "---\n",
        "\n",
        "This section will analyze the behaviour of customer and catagorize each customer to be paid attention furtherly. Let's look at the customer dataset."
      ]
    },
    {
      "cell_type": "code",
      "metadata": {
        "id": "0M0XTUXa3cWg",
        "outputId": "c36586a4-c4f5-4f60-88eb-2c3c457e3267",
        "colab": {
          "base_uri": "https://localhost:8080/",
          "height": 206
        }
      },
      "source": [
        "cust.head()"
      ],
      "execution_count": 35,
      "outputs": [
        {
          "output_type": "execute_result",
          "data": {
            "text/plain": [
              "                        customer_id                customer_unique_id\n",
              "0  0000ca4ff2795842fd6b122c6d974468  ac0e5d7f07043dd32831bdad3b99ad26\n",
              "1  00010f206878ba01f199aec4237de72e  4ed24aaed4079fe0661c0e4b3b420dff\n",
              "2  00012a2ce6f8dcda20d059ce98491703  7e0e291c0f4fc2d69208954d26ed0586\n",
              "3  000161a058600d5901f007fab4c27140  ff1dcb27ea444eddb94ea5fea77b875c\n",
              "4  00017f1d6cce0d56046219a2cfabcbbb  237130c4b6717031ed62d9d0b16fd94f"
            ],
            "text/html": [
              "\n",
              "  <div id=\"df-2e9770f5-3a98-418e-a3bb-64f8add2ef32\" class=\"colab-df-container\">\n",
              "    <div>\n",
              "<style scoped>\n",
              "    .dataframe tbody tr th:only-of-type {\n",
              "        vertical-align: middle;\n",
              "    }\n",
              "\n",
              "    .dataframe tbody tr th {\n",
              "        vertical-align: top;\n",
              "    }\n",
              "\n",
              "    .dataframe thead th {\n",
              "        text-align: right;\n",
              "    }\n",
              "</style>\n",
              "<table border=\"1\" class=\"dataframe\">\n",
              "  <thead>\n",
              "    <tr style=\"text-align: right;\">\n",
              "      <th></th>\n",
              "      <th>customer_id</th>\n",
              "      <th>customer_unique_id</th>\n",
              "    </tr>\n",
              "  </thead>\n",
              "  <tbody>\n",
              "    <tr>\n",
              "      <th>0</th>\n",
              "      <td>0000ca4ff2795842fd6b122c6d974468</td>\n",
              "      <td>ac0e5d7f07043dd32831bdad3b99ad26</td>\n",
              "    </tr>\n",
              "    <tr>\n",
              "      <th>1</th>\n",
              "      <td>00010f206878ba01f199aec4237de72e</td>\n",
              "      <td>4ed24aaed4079fe0661c0e4b3b420dff</td>\n",
              "    </tr>\n",
              "    <tr>\n",
              "      <th>2</th>\n",
              "      <td>00012a2ce6f8dcda20d059ce98491703</td>\n",
              "      <td>7e0e291c0f4fc2d69208954d26ed0586</td>\n",
              "    </tr>\n",
              "    <tr>\n",
              "      <th>3</th>\n",
              "      <td>000161a058600d5901f007fab4c27140</td>\n",
              "      <td>ff1dcb27ea444eddb94ea5fea77b875c</td>\n",
              "    </tr>\n",
              "    <tr>\n",
              "      <th>4</th>\n",
              "      <td>00017f1d6cce0d56046219a2cfabcbbb</td>\n",
              "      <td>237130c4b6717031ed62d9d0b16fd94f</td>\n",
              "    </tr>\n",
              "  </tbody>\n",
              "</table>\n",
              "</div>\n",
              "    <div class=\"colab-df-buttons\">\n",
              "\n",
              "  <div class=\"colab-df-container\">\n",
              "    <button class=\"colab-df-convert\" onclick=\"convertToInteractive('df-2e9770f5-3a98-418e-a3bb-64f8add2ef32')\"\n",
              "            title=\"Convert this dataframe to an interactive table.\"\n",
              "            style=\"display:none;\">\n",
              "\n",
              "  <svg xmlns=\"http://www.w3.org/2000/svg\" height=\"24px\" viewBox=\"0 -960 960 960\">\n",
              "    <path d=\"M120-120v-720h720v720H120Zm60-500h600v-160H180v160Zm220 220h160v-160H400v160Zm0 220h160v-160H400v160ZM180-400h160v-160H180v160Zm440 0h160v-160H620v160ZM180-180h160v-160H180v160Zm440 0h160v-160H620v160Z\"/>\n",
              "  </svg>\n",
              "    </button>\n",
              "\n",
              "  <style>\n",
              "    .colab-df-container {\n",
              "      display:flex;\n",
              "      gap: 12px;\n",
              "    }\n",
              "\n",
              "    .colab-df-convert {\n",
              "      background-color: #E8F0FE;\n",
              "      border: none;\n",
              "      border-radius: 50%;\n",
              "      cursor: pointer;\n",
              "      display: none;\n",
              "      fill: #1967D2;\n",
              "      height: 32px;\n",
              "      padding: 0 0 0 0;\n",
              "      width: 32px;\n",
              "    }\n",
              "\n",
              "    .colab-df-convert:hover {\n",
              "      background-color: #E2EBFA;\n",
              "      box-shadow: 0px 1px 2px rgba(60, 64, 67, 0.3), 0px 1px 3px 1px rgba(60, 64, 67, 0.15);\n",
              "      fill: #174EA6;\n",
              "    }\n",
              "\n",
              "    .colab-df-buttons div {\n",
              "      margin-bottom: 4px;\n",
              "    }\n",
              "\n",
              "    [theme=dark] .colab-df-convert {\n",
              "      background-color: #3B4455;\n",
              "      fill: #D2E3FC;\n",
              "    }\n",
              "\n",
              "    [theme=dark] .colab-df-convert:hover {\n",
              "      background-color: #434B5C;\n",
              "      box-shadow: 0px 1px 3px 1px rgba(0, 0, 0, 0.15);\n",
              "      filter: drop-shadow(0px 1px 2px rgba(0, 0, 0, 0.3));\n",
              "      fill: #FFFFFF;\n",
              "    }\n",
              "  </style>\n",
              "\n",
              "    <script>\n",
              "      const buttonEl =\n",
              "        document.querySelector('#df-2e9770f5-3a98-418e-a3bb-64f8add2ef32 button.colab-df-convert');\n",
              "      buttonEl.style.display =\n",
              "        google.colab.kernel.accessAllowed ? 'block' : 'none';\n",
              "\n",
              "      async function convertToInteractive(key) {\n",
              "        const element = document.querySelector('#df-2e9770f5-3a98-418e-a3bb-64f8add2ef32');\n",
              "        const dataTable =\n",
              "          await google.colab.kernel.invokeFunction('convertToInteractive',\n",
              "                                                    [key], {});\n",
              "        if (!dataTable) return;\n",
              "\n",
              "        const docLinkHtml = 'Like what you see? Visit the ' +\n",
              "          '<a target=\"_blank\" href=https://colab.research.google.com/notebooks/data_table.ipynb>data table notebook</a>'\n",
              "          + ' to learn more about interactive tables.';\n",
              "        element.innerHTML = '';\n",
              "        dataTable['output_type'] = 'display_data';\n",
              "        await google.colab.output.renderOutput(dataTable, element);\n",
              "        const docLink = document.createElement('div');\n",
              "        docLink.innerHTML = docLinkHtml;\n",
              "        element.appendChild(docLink);\n",
              "      }\n",
              "    </script>\n",
              "  </div>\n",
              "\n",
              "\n",
              "<div id=\"df-48b78c46-f7a7-4560-8bf9-30f7f5e05d9c\">\n",
              "  <button class=\"colab-df-quickchart\" onclick=\"quickchart('df-48b78c46-f7a7-4560-8bf9-30f7f5e05d9c')\"\n",
              "            title=\"Suggest charts.\"\n",
              "            style=\"display:none;\">\n",
              "\n",
              "<svg xmlns=\"http://www.w3.org/2000/svg\" height=\"24px\"viewBox=\"0 0 24 24\"\n",
              "     width=\"24px\">\n",
              "    <g>\n",
              "        <path d=\"M19 3H5c-1.1 0-2 .9-2 2v14c0 1.1.9 2 2 2h14c1.1 0 2-.9 2-2V5c0-1.1-.9-2-2-2zM9 17H7v-7h2v7zm4 0h-2V7h2v10zm4 0h-2v-4h2v4z\"/>\n",
              "    </g>\n",
              "</svg>\n",
              "  </button>\n",
              "\n",
              "<style>\n",
              "  .colab-df-quickchart {\n",
              "    background-color: #E8F0FE;\n",
              "    border: none;\n",
              "    border-radius: 50%;\n",
              "    cursor: pointer;\n",
              "    display: none;\n",
              "    fill: #1967D2;\n",
              "    height: 32px;\n",
              "    padding: 0 0 0 0;\n",
              "    width: 32px;\n",
              "  }\n",
              "\n",
              "  .colab-df-quickchart:hover {\n",
              "    background-color: #E2EBFA;\n",
              "    box-shadow: 0px 1px 2px rgba(60, 64, 67, 0.3), 0px 1px 3px 1px rgba(60, 64, 67, 0.15);\n",
              "    fill: #174EA6;\n",
              "  }\n",
              "\n",
              "  [theme=dark] .colab-df-quickchart {\n",
              "    background-color: #3B4455;\n",
              "    fill: #D2E3FC;\n",
              "  }\n",
              "\n",
              "  [theme=dark] .colab-df-quickchart:hover {\n",
              "    background-color: #434B5C;\n",
              "    box-shadow: 0px 1px 3px 1px rgba(0, 0, 0, 0.15);\n",
              "    filter: drop-shadow(0px 1px 2px rgba(0, 0, 0, 0.3));\n",
              "    fill: #FFFFFF;\n",
              "  }\n",
              "</style>\n",
              "\n",
              "  <script>\n",
              "    async function quickchart(key) {\n",
              "      const charts = await google.colab.kernel.invokeFunction(\n",
              "          'suggestCharts', [key], {});\n",
              "    }\n",
              "    (() => {\n",
              "      let quickchartButtonEl =\n",
              "        document.querySelector('#df-48b78c46-f7a7-4560-8bf9-30f7f5e05d9c button');\n",
              "      quickchartButtonEl.style.display =\n",
              "        google.colab.kernel.accessAllowed ? 'block' : 'none';\n",
              "    })();\n",
              "  </script>\n",
              "</div>\n",
              "    </div>\n",
              "  </div>\n"
            ]
          },
          "metadata": {},
          "execution_count": 35
        }
      ]
    },
    {
      "cell_type": "markdown",
      "metadata": {
        "id": "x4ZUmS9Q6SOp"
      },
      "source": [
        "To reduce error, it would be best to drop duplicates."
      ]
    },
    {
      "cell_type": "code",
      "metadata": {
        "id": "IDHeciGywL1d"
      },
      "source": [
        "cust = cust.drop_duplicates(subset=None, keep='first', inplace=False)"
      ],
      "execution_count": 36,
      "outputs": []
    },
    {
      "cell_type": "markdown",
      "metadata": {
        "id": "M4Bxfs4I6jra"
      },
      "source": [
        "The following program will catagorize customer based on recency, frequency, monetary, and tenure. It seems that we need order dataset, so we need to join cust and order dataset based on customer id."
      ]
    },
    {
      "cell_type": "code",
      "metadata": {
        "id": "tpE6PsMSC3Pp"
      },
      "source": [
        "order_cust = pd.merge(cust,\n",
        "                      order,\n",
        "                      how='right',\n",
        "                      left_on='customer_id',\n",
        "                      right_on='customer_id')"
      ],
      "execution_count": 37,
      "outputs": []
    },
    {
      "cell_type": "markdown",
      "metadata": {
        "id": "_rf0N57x7LQt"
      },
      "source": [
        "Next, to define recency, we need to find the range of time from latest purchase to each purchase time on the dataset. Moreover, we define recent as the latest time each customer purchase at this market."
      ]
    },
    {
      "cell_type": "code",
      "metadata": {
        "id": "VlzWu4m2GS7j"
      },
      "source": [
        "order_cust = order_cust.dropna(subset=['order_aproved_at'])\n",
        "order_cust['order_aproved_at'] = pd.to_datetime(order_cust['order_aproved_at'])\n",
        "order_cust['latest'] = max(order_cust.order_aproved_at)\n",
        "order_cust[\n",
        "    'range_time'] = order_cust['latest'] - order_cust['order_aproved_at']\n",
        "recent = order_cust.groupby('customer_unique_id').agg({\n",
        "    'range_time': 'min'\n",
        "}).astype('timedelta64[D]')"
      ],
      "execution_count": 38,
      "outputs": []
    },
    {
      "cell_type": "markdown",
      "metadata": {
        "id": "_0X-t_KA75OZ"
      },
      "source": [
        "After that, we define frequent by summing up ordered items of each customer."
      ]
    },
    {
      "cell_type": "code",
      "metadata": {
        "id": "SsRRGvxE7Edt"
      },
      "source": [
        "frequent = order_cust.groupby('customer_unique_id').agg(\n",
        "    {'order_items_qty': 'sum'})"
      ],
      "execution_count": 39,
      "outputs": []
    },
    {
      "cell_type": "markdown",
      "metadata": {
        "id": "dfSdZg5d8NeL"
      },
      "source": [
        " To define monetary we sum up ordered items values of each customer."
      ]
    },
    {
      "cell_type": "code",
      "metadata": {
        "id": "G_eQTDAKJnU5"
      },
      "source": [
        "monetary = order_cust.groupby('customer_unique_id').agg(\n",
        "    {'order_products_value': 'sum'})"
      ],
      "execution_count": 40,
      "outputs": []
    },
    {
      "cell_type": "markdown",
      "metadata": {
        "id": "yl2cnB7n8jvH"
      },
      "source": [
        "Next, we define tenure by find the earliest purchase time from each customer."
      ]
    },
    {
      "cell_type": "code",
      "metadata": {
        "id": "dx7M7ALfMEpX"
      },
      "source": [
        "tenure = order_cust.groupby('customer_unique_id').agg({\n",
        "    'range_time': 'max'\n",
        "}).astype('timedelta64[D]')"
      ],
      "execution_count": 41,
      "outputs": []
    },
    {
      "cell_type": "markdown",
      "metadata": {
        "id": "aH5-YM9E80Zs"
      },
      "source": [
        "Below, we concatenate the criteria into table."
      ]
    },
    {
      "cell_type": "code",
      "metadata": {
        "id": "NcUngpWzNJ3x"
      },
      "source": [
        "rfmt = pd.concat([recent, frequent, monetary, tenure], axis=1)\n",
        "rfmt.columns = ['recency', 'frequency', 'monatary', 'tenure']"
      ],
      "execution_count": 42,
      "outputs": []
    },
    {
      "cell_type": "markdown",
      "metadata": {
        "id": "BdEw12wO9E1N"
      },
      "source": [
        "This is the description of each criteria."
      ]
    },
    {
      "cell_type": "code",
      "metadata": {
        "id": "ICUU__IvSEM_",
        "outputId": "83cf7a83-f864-49f7-b990-b60bf2e0f166",
        "colab": {
          "base_uri": "https://localhost:8080/",
          "height": 300
        }
      },
      "source": [
        "rfmt.describe()"
      ],
      "execution_count": 43,
      "outputs": [
        {
          "output_type": "execute_result",
          "data": {
            "text/plain": [
              "            recency     frequency      monatary       tenure\n",
              "count  92499.000000  92499.000000  92499.000000  92499.00000\n",
              "mean     307.114390      1.189094    139.651706    310.23637\n",
              "std      157.680732      0.668378    212.647446    157.82497\n",
              "min        0.000000      1.000000      2.000000      0.00000\n",
              "25%      188.000000      1.000000     49.000000    191.00000\n",
              "50%      305.000000      1.000000     89.900000    307.00000\n",
              "75%      428.000000      1.000000    155.420000    432.00000\n",
              "max      742.000000     25.000000  14776.000000    742.00000"
            ],
            "text/html": [
              "\n",
              "  <div id=\"df-311b3f8c-68ff-4612-b5cb-48a13b6d99a7\" class=\"colab-df-container\">\n",
              "    <div>\n",
              "<style scoped>\n",
              "    .dataframe tbody tr th:only-of-type {\n",
              "        vertical-align: middle;\n",
              "    }\n",
              "\n",
              "    .dataframe tbody tr th {\n",
              "        vertical-align: top;\n",
              "    }\n",
              "\n",
              "    .dataframe thead th {\n",
              "        text-align: right;\n",
              "    }\n",
              "</style>\n",
              "<table border=\"1\" class=\"dataframe\">\n",
              "  <thead>\n",
              "    <tr style=\"text-align: right;\">\n",
              "      <th></th>\n",
              "      <th>recency</th>\n",
              "      <th>frequency</th>\n",
              "      <th>monatary</th>\n",
              "      <th>tenure</th>\n",
              "    </tr>\n",
              "  </thead>\n",
              "  <tbody>\n",
              "    <tr>\n",
              "      <th>count</th>\n",
              "      <td>92499.000000</td>\n",
              "      <td>92499.000000</td>\n",
              "      <td>92499.000000</td>\n",
              "      <td>92499.00000</td>\n",
              "    </tr>\n",
              "    <tr>\n",
              "      <th>mean</th>\n",
              "      <td>307.114390</td>\n",
              "      <td>1.189094</td>\n",
              "      <td>139.651706</td>\n",
              "      <td>310.23637</td>\n",
              "    </tr>\n",
              "    <tr>\n",
              "      <th>std</th>\n",
              "      <td>157.680732</td>\n",
              "      <td>0.668378</td>\n",
              "      <td>212.647446</td>\n",
              "      <td>157.82497</td>\n",
              "    </tr>\n",
              "    <tr>\n",
              "      <th>min</th>\n",
              "      <td>0.000000</td>\n",
              "      <td>1.000000</td>\n",
              "      <td>2.000000</td>\n",
              "      <td>0.00000</td>\n",
              "    </tr>\n",
              "    <tr>\n",
              "      <th>25%</th>\n",
              "      <td>188.000000</td>\n",
              "      <td>1.000000</td>\n",
              "      <td>49.000000</td>\n",
              "      <td>191.00000</td>\n",
              "    </tr>\n",
              "    <tr>\n",
              "      <th>50%</th>\n",
              "      <td>305.000000</td>\n",
              "      <td>1.000000</td>\n",
              "      <td>89.900000</td>\n",
              "      <td>307.00000</td>\n",
              "    </tr>\n",
              "    <tr>\n",
              "      <th>75%</th>\n",
              "      <td>428.000000</td>\n",
              "      <td>1.000000</td>\n",
              "      <td>155.420000</td>\n",
              "      <td>432.00000</td>\n",
              "    </tr>\n",
              "    <tr>\n",
              "      <th>max</th>\n",
              "      <td>742.000000</td>\n",
              "      <td>25.000000</td>\n",
              "      <td>14776.000000</td>\n",
              "      <td>742.00000</td>\n",
              "    </tr>\n",
              "  </tbody>\n",
              "</table>\n",
              "</div>\n",
              "    <div class=\"colab-df-buttons\">\n",
              "\n",
              "  <div class=\"colab-df-container\">\n",
              "    <button class=\"colab-df-convert\" onclick=\"convertToInteractive('df-311b3f8c-68ff-4612-b5cb-48a13b6d99a7')\"\n",
              "            title=\"Convert this dataframe to an interactive table.\"\n",
              "            style=\"display:none;\">\n",
              "\n",
              "  <svg xmlns=\"http://www.w3.org/2000/svg\" height=\"24px\" viewBox=\"0 -960 960 960\">\n",
              "    <path d=\"M120-120v-720h720v720H120Zm60-500h600v-160H180v160Zm220 220h160v-160H400v160Zm0 220h160v-160H400v160ZM180-400h160v-160H180v160Zm440 0h160v-160H620v160ZM180-180h160v-160H180v160Zm440 0h160v-160H620v160Z\"/>\n",
              "  </svg>\n",
              "    </button>\n",
              "\n",
              "  <style>\n",
              "    .colab-df-container {\n",
              "      display:flex;\n",
              "      gap: 12px;\n",
              "    }\n",
              "\n",
              "    .colab-df-convert {\n",
              "      background-color: #E8F0FE;\n",
              "      border: none;\n",
              "      border-radius: 50%;\n",
              "      cursor: pointer;\n",
              "      display: none;\n",
              "      fill: #1967D2;\n",
              "      height: 32px;\n",
              "      padding: 0 0 0 0;\n",
              "      width: 32px;\n",
              "    }\n",
              "\n",
              "    .colab-df-convert:hover {\n",
              "      background-color: #E2EBFA;\n",
              "      box-shadow: 0px 1px 2px rgba(60, 64, 67, 0.3), 0px 1px 3px 1px rgba(60, 64, 67, 0.15);\n",
              "      fill: #174EA6;\n",
              "    }\n",
              "\n",
              "    .colab-df-buttons div {\n",
              "      margin-bottom: 4px;\n",
              "    }\n",
              "\n",
              "    [theme=dark] .colab-df-convert {\n",
              "      background-color: #3B4455;\n",
              "      fill: #D2E3FC;\n",
              "    }\n",
              "\n",
              "    [theme=dark] .colab-df-convert:hover {\n",
              "      background-color: #434B5C;\n",
              "      box-shadow: 0px 1px 3px 1px rgba(0, 0, 0, 0.15);\n",
              "      filter: drop-shadow(0px 1px 2px rgba(0, 0, 0, 0.3));\n",
              "      fill: #FFFFFF;\n",
              "    }\n",
              "  </style>\n",
              "\n",
              "    <script>\n",
              "      const buttonEl =\n",
              "        document.querySelector('#df-311b3f8c-68ff-4612-b5cb-48a13b6d99a7 button.colab-df-convert');\n",
              "      buttonEl.style.display =\n",
              "        google.colab.kernel.accessAllowed ? 'block' : 'none';\n",
              "\n",
              "      async function convertToInteractive(key) {\n",
              "        const element = document.querySelector('#df-311b3f8c-68ff-4612-b5cb-48a13b6d99a7');\n",
              "        const dataTable =\n",
              "          await google.colab.kernel.invokeFunction('convertToInteractive',\n",
              "                                                    [key], {});\n",
              "        if (!dataTable) return;\n",
              "\n",
              "        const docLinkHtml = 'Like what you see? Visit the ' +\n",
              "          '<a target=\"_blank\" href=https://colab.research.google.com/notebooks/data_table.ipynb>data table notebook</a>'\n",
              "          + ' to learn more about interactive tables.';\n",
              "        element.innerHTML = '';\n",
              "        dataTable['output_type'] = 'display_data';\n",
              "        await google.colab.output.renderOutput(dataTable, element);\n",
              "        const docLink = document.createElement('div');\n",
              "        docLink.innerHTML = docLinkHtml;\n",
              "        element.appendChild(docLink);\n",
              "      }\n",
              "    </script>\n",
              "  </div>\n",
              "\n",
              "\n",
              "<div id=\"df-86d9faae-6901-4955-8302-75252028c697\">\n",
              "  <button class=\"colab-df-quickchart\" onclick=\"quickchart('df-86d9faae-6901-4955-8302-75252028c697')\"\n",
              "            title=\"Suggest charts.\"\n",
              "            style=\"display:none;\">\n",
              "\n",
              "<svg xmlns=\"http://www.w3.org/2000/svg\" height=\"24px\"viewBox=\"0 0 24 24\"\n",
              "     width=\"24px\">\n",
              "    <g>\n",
              "        <path d=\"M19 3H5c-1.1 0-2 .9-2 2v14c0 1.1.9 2 2 2h14c1.1 0 2-.9 2-2V5c0-1.1-.9-2-2-2zM9 17H7v-7h2v7zm4 0h-2V7h2v10zm4 0h-2v-4h2v4z\"/>\n",
              "    </g>\n",
              "</svg>\n",
              "  </button>\n",
              "\n",
              "<style>\n",
              "  .colab-df-quickchart {\n",
              "    background-color: #E8F0FE;\n",
              "    border: none;\n",
              "    border-radius: 50%;\n",
              "    cursor: pointer;\n",
              "    display: none;\n",
              "    fill: #1967D2;\n",
              "    height: 32px;\n",
              "    padding: 0 0 0 0;\n",
              "    width: 32px;\n",
              "  }\n",
              "\n",
              "  .colab-df-quickchart:hover {\n",
              "    background-color: #E2EBFA;\n",
              "    box-shadow: 0px 1px 2px rgba(60, 64, 67, 0.3), 0px 1px 3px 1px rgba(60, 64, 67, 0.15);\n",
              "    fill: #174EA6;\n",
              "  }\n",
              "\n",
              "  [theme=dark] .colab-df-quickchart {\n",
              "    background-color: #3B4455;\n",
              "    fill: #D2E3FC;\n",
              "  }\n",
              "\n",
              "  [theme=dark] .colab-df-quickchart:hover {\n",
              "    background-color: #434B5C;\n",
              "    box-shadow: 0px 1px 3px 1px rgba(0, 0, 0, 0.15);\n",
              "    filter: drop-shadow(0px 1px 2px rgba(0, 0, 0, 0.3));\n",
              "    fill: #FFFFFF;\n",
              "  }\n",
              "</style>\n",
              "\n",
              "  <script>\n",
              "    async function quickchart(key) {\n",
              "      const charts = await google.colab.kernel.invokeFunction(\n",
              "          'suggestCharts', [key], {});\n",
              "    }\n",
              "    (() => {\n",
              "      let quickchartButtonEl =\n",
              "        document.querySelector('#df-86d9faae-6901-4955-8302-75252028c697 button');\n",
              "      quickchartButtonEl.style.display =\n",
              "        google.colab.kernel.accessAllowed ? 'block' : 'none';\n",
              "    })();\n",
              "  </script>\n",
              "</div>\n",
              "    </div>\n",
              "  </div>\n"
            ]
          },
          "metadata": {},
          "execution_count": 43
        }
      ]
    },
    {
      "cell_type": "markdown",
      "metadata": {
        "id": "aFS4c6kq9Tua"
      },
      "source": [
        "Next, we want to rank each customer for each criteria. There will be rank 1 to 5, with rank 1 as the highest and rank 5 as the lowest."
      ]
    },
    {
      "cell_type": "code",
      "metadata": {
        "id": "YOX-aBJ_QbbQ"
      },
      "source": [
        "label1 = [5, 4, 3, 2, 1]\n",
        "label2 = [1, 2, 3, 4, 5]\n",
        "rfmt['R'] = pd.qcut(rfmt['recency'],\n",
        "                    q=[0, 0.2, 0.4, 0.6, 0.8, 1],\n",
        "                    labels=label1)\n",
        "rfmt['F'] = pd.cut(rfmt['frequency'], bins=[0, 1, 2, 3, 5, 900], labels=label2)\n",
        "rfmt['M'] = pd.qcut(rfmt['monatary'],\n",
        "                    q=[0, 0.2, 0.4, 0.6, 0.8, 1],\n",
        "                    labels=label2)\n",
        "rfmt['T'] = pd.qcut(rfmt['tenure'],\n",
        "                    q=[0, 0.2, 0.4, 0.6, 0.8, 1],\n",
        "                    labels=label2)"
      ],
      "execution_count": 44,
      "outputs": []
    },
    {
      "cell_type": "code",
      "metadata": {
        "id": "NUGAbCFiV8AJ"
      },
      "source": [
        "rfmt = rfmt.reset_index()"
      ],
      "execution_count": 45,
      "outputs": []
    },
    {
      "cell_type": "code",
      "metadata": {
        "id": "o1s3spU8vNra",
        "outputId": "25bad35d-b1d1-4cc6-f04b-fc287ae7c282",
        "colab": {
          "base_uri": "https://localhost:8080/"
        }
      },
      "source": [
        "best = rfmt[rfmt.R.isin([4, 5]) & rfmt.F.isin([4, 5]) & rfmt.M.isin([4, 5])]\n",
        "best['segment'] = 'BEST'"
      ],
      "execution_count": 46,
      "outputs": [
        {
          "output_type": "stream",
          "name": "stderr",
          "text": [
            "<ipython-input-46-30df329666ed>:2: SettingWithCopyWarning:\n",
            "\n",
            "\n",
            "A value is trying to be set on a copy of a slice from a DataFrame.\n",
            "Try using .loc[row_indexer,col_indexer] = value instead\n",
            "\n",
            "See the caveats in the documentation: https://pandas.pydata.org/pandas-docs/stable/user_guide/indexing.html#returning-a-view-versus-a-copy\n",
            "\n"
          ]
        }
      ]
    },
    {
      "cell_type": "code",
      "metadata": {
        "id": "ikhrQj13bEYp",
        "outputId": "7c92bab3-ea6d-4d4e-9731-058f6e8a6828",
        "colab": {
          "base_uri": "https://localhost:8080/"
        }
      },
      "source": [
        "loyal_spender = rfmt[rfmt['R'].isin([4, 5]) & rfmt['F'].isin([2, 3])\n",
        "                     & rfmt['M'].isin([2, 3]) & rfmt['T'].isin([3, 4, 5])]\n",
        "loyal_spender['segment'] = 'LOYAL SPENDER'"
      ],
      "execution_count": 47,
      "outputs": [
        {
          "output_type": "stream",
          "name": "stderr",
          "text": [
            "<ipython-input-47-3848ca97717d>:3: SettingWithCopyWarning:\n",
            "\n",
            "\n",
            "A value is trying to be set on a copy of a slice from a DataFrame.\n",
            "Try using .loc[row_indexer,col_indexer] = value instead\n",
            "\n",
            "See the caveats in the documentation: https://pandas.pydata.org/pandas-docs/stable/user_guide/indexing.html#returning-a-view-versus-a-copy\n",
            "\n"
          ]
        }
      ]
    },
    {
      "cell_type": "code",
      "metadata": {
        "id": "Ml5RCVNTf-2o",
        "outputId": "db6530e4-384b-4b56-e72b-cd3fae78cdc4",
        "colab": {
          "base_uri": "https://localhost:8080/"
        }
      },
      "source": [
        "potential_loyal = rfmt[rfmt['R'].isin([4, 5]) & rfmt['F'].isin([2, 3])\n",
        "                       & rfmt['M'].isin([2, 3]) & rfmt['T'].isin([1, 2])]\n",
        "potential_loyal['segment'] = 'POTENTIAL LOYAL'"
      ],
      "execution_count": 48,
      "outputs": [
        {
          "output_type": "stream",
          "name": "stderr",
          "text": [
            "<ipython-input-48-af2d8fbc3806>:3: SettingWithCopyWarning:\n",
            "\n",
            "\n",
            "A value is trying to be set on a copy of a slice from a DataFrame.\n",
            "Try using .loc[row_indexer,col_indexer] = value instead\n",
            "\n",
            "See the caveats in the documentation: https://pandas.pydata.org/pandas-docs/stable/user_guide/indexing.html#returning-a-view-versus-a-copy\n",
            "\n"
          ]
        }
      ]
    },
    {
      "cell_type": "code",
      "metadata": {
        "id": "Wdrq0yGrgIBq",
        "outputId": "ffb090c0-1ab5-4d18-cdc7-6a720336d9d6",
        "colab": {
          "base_uri": "https://localhost:8080/"
        }
      },
      "source": [
        "new_cust = rfmt[rfmt['R'].isin([4, 5]) & rfmt['F'].isin([1])\n",
        "                & rfmt['M'].isin([1]) & rfmt['T'].isin([1, 2])]\n",
        "new_cust['segment'] = 'NEW CUSTOMER'"
      ],
      "execution_count": 49,
      "outputs": [
        {
          "output_type": "stream",
          "name": "stderr",
          "text": [
            "<ipython-input-49-9ef4f29c15ea>:3: SettingWithCopyWarning:\n",
            "\n",
            "\n",
            "A value is trying to be set on a copy of a slice from a DataFrame.\n",
            "Try using .loc[row_indexer,col_indexer] = value instead\n",
            "\n",
            "See the caveats in the documentation: https://pandas.pydata.org/pandas-docs/stable/user_guide/indexing.html#returning-a-view-versus-a-copy\n",
            "\n"
          ]
        }
      ]
    },
    {
      "cell_type": "code",
      "metadata": {
        "id": "re2HMXBwgPOS"
      },
      "source": [
        "loyal_cust = rfmt[rfmt['R'].isin([4, 5]) & rfmt['F'].isin([1])\n",
        "                  & rfmt['M'].isin([1]) & rfmt['T'].isin([3, 5])]\n",
        "loyal_cust['segment'] = 'LOYAL CUSTOMER'"
      ],
      "execution_count": 50,
      "outputs": []
    },
    {
      "cell_type": "code",
      "metadata": {
        "id": "EPq6uJE9gXlj",
        "outputId": "74c28720-c353-44b8-bc98-3adaa5a7b4a1",
        "colab": {
          "base_uri": "https://localhost:8080/"
        }
      },
      "source": [
        "promising = rfmt[rfmt['R'].isin([2, 3]) & rfmt['F'].isin([3, 5])\n",
        "                 & rfmt['M'].isin([3, 5])]\n",
        "promising['segment'] = 'PROMISING'"
      ],
      "execution_count": 51,
      "outputs": [
        {
          "output_type": "stream",
          "name": "stderr",
          "text": [
            "<ipython-input-51-9e25dbeef804>:3: SettingWithCopyWarning:\n",
            "\n",
            "\n",
            "A value is trying to be set on a copy of a slice from a DataFrame.\n",
            "Try using .loc[row_indexer,col_indexer] = value instead\n",
            "\n",
            "See the caveats in the documentation: https://pandas.pydata.org/pandas-docs/stable/user_guide/indexing.html#returning-a-view-versus-a-copy\n",
            "\n"
          ]
        }
      ]
    },
    {
      "cell_type": "code",
      "metadata": {
        "id": "HWJz4RNCgqge",
        "outputId": "f986f09b-744b-4037-d877-d5d00a44a08c",
        "colab": {
          "base_uri": "https://localhost:8080/"
        }
      },
      "source": [
        "cant_lose = rfmt[rfmt['R'].isin([1]) & rfmt['F'].isin([4, 5])\n",
        "                 & rfmt['M'].isin([4, 5])]\n",
        "cant_lose['segment'] = 'CAN NOT LOSE'"
      ],
      "execution_count": 52,
      "outputs": [
        {
          "output_type": "stream",
          "name": "stderr",
          "text": [
            "<ipython-input-52-f82cae00334a>:3: SettingWithCopyWarning:\n",
            "\n",
            "\n",
            "A value is trying to be set on a copy of a slice from a DataFrame.\n",
            "Try using .loc[row_indexer,col_indexer] = value instead\n",
            "\n",
            "See the caveats in the documentation: https://pandas.pydata.org/pandas-docs/stable/user_guide/indexing.html#returning-a-view-versus-a-copy\n",
            "\n"
          ]
        }
      ]
    },
    {
      "cell_type": "code",
      "metadata": {
        "id": "EuRX-qEFg0bt",
        "outputId": "e68461c6-dbd2-4285-a937-b7b2c1511552",
        "colab": {
          "base_uri": "https://localhost:8080/"
        }
      },
      "source": [
        "about_to_sleep = rfmt[rfmt['R'].isin([1]) & rfmt['F'].isin([4, 5])\n",
        "                      & rfmt['M'].isin([4, 5])]\n",
        "about_to_sleep['segment'] = 'ABOUT TO SLEEP'"
      ],
      "execution_count": 53,
      "outputs": [
        {
          "output_type": "stream",
          "name": "stderr",
          "text": [
            "<ipython-input-53-3a1891ece5e0>:3: SettingWithCopyWarning:\n",
            "\n",
            "\n",
            "A value is trying to be set on a copy of a slice from a DataFrame.\n",
            "Try using .loc[row_indexer,col_indexer] = value instead\n",
            "\n",
            "See the caveats in the documentation: https://pandas.pydata.org/pandas-docs/stable/user_guide/indexing.html#returning-a-view-versus-a-copy\n",
            "\n"
          ]
        }
      ]
    },
    {
      "cell_type": "code",
      "metadata": {
        "id": "JcQBCHB5hMjZ",
        "outputId": "e713b09e-25e5-45da-a9f7-73683d242296",
        "colab": {
          "base_uri": "https://localhost:8080/"
        }
      },
      "source": [
        "hibernating = rfmt[rfmt['R'].isin([1]) & rfmt['F'].isin([2, 3])\n",
        "                   & rfmt['M'].isin([2, 3])]\n",
        "hibernating['segment'] = 'HIBERNATING'"
      ],
      "execution_count": 54,
      "outputs": [
        {
          "output_type": "stream",
          "name": "stderr",
          "text": [
            "<ipython-input-54-bf27bc16bda2>:3: SettingWithCopyWarning:\n",
            "\n",
            "\n",
            "A value is trying to be set on a copy of a slice from a DataFrame.\n",
            "Try using .loc[row_indexer,col_indexer] = value instead\n",
            "\n",
            "See the caveats in the documentation: https://pandas.pydata.org/pandas-docs/stable/user_guide/indexing.html#returning-a-view-versus-a-copy\n",
            "\n"
          ]
        }
      ]
    },
    {
      "cell_type": "code",
      "metadata": {
        "id": "KosSo4nCyAmZ"
      },
      "source": [
        "lost = rfmt[rfmt['R'].isin([1]) & rfmt['F'].isin([1]) & rfmt['M'].isin([1])\n",
        "            & rfmt['T'].isin([1])]\n",
        "lost['segment'] = 'HIBERNATING'"
      ],
      "execution_count": 55,
      "outputs": []
    },
    {
      "cell_type": "code",
      "metadata": {
        "id": "BxDiIRL0g_fN"
      },
      "source": [
        "rfmt_segment = pd.concat([\n",
        "    best, loyal_spender, potential_loyal, new_cust, loyal_cust, promising,\n",
        "    cant_lose, about_to_sleep, hibernating, lost\n",
        "])"
      ],
      "execution_count": 56,
      "outputs": []
    },
    {
      "cell_type": "code",
      "metadata": {
        "id": "6_CFJfLBQfqN",
        "outputId": "a5b5e6c7-ce84-41d6-bd6d-a81b985e2ac1",
        "colab": {
          "base_uri": "https://localhost:8080/",
          "height": 363
        }
      },
      "source": [
        "rfmt_segment.sample(10)"
      ],
      "execution_count": 57,
      "outputs": [
        {
          "output_type": "execute_result",
          "data": {
            "text/plain": [
              "                     customer_unique_id  recency  frequency  monatary  tenure  \\\n",
              "14933  2968939f4622c8fbfbcb05af7b5c335e    247.0          1     29.90   247.0   \n",
              "41465  72a0b16af552719ca31e688af504dd9a    330.0          6    518.20   330.0   \n",
              "54704  9734190cf2c24a6171bf446a256c6fd1    208.0          1     19.90   208.0   \n",
              "87551  f2324810516d9257a360a6082ac82578     29.0          4    364.00    29.0   \n",
              "9961   1b9401cc33b37bd68eae68fe63ec33ac    191.0          1     21.00   191.0   \n",
              "41410  726eb1c689f41ab4b75087df6e37c97b    560.0          2     49.96   560.0   \n",
              "59717  a53fcf8a6a0fe6b98afd231e4f38db9c     45.0          1     29.00    45.0   \n",
              "44142  79e565e00329b0eb7819ded170c7e6f6      4.0          1     28.90     4.0   \n",
              "72321  c83fa8ef1c6002de08ba840cfd2757b3    610.0          2     57.80   610.0   \n",
              "24943  44de14beeb7a9177a849b754f2daf032     13.0          2    106.90   613.0   \n",
              "\n",
              "       R  F  M  T        segment  \n",
              "14933  4  1  1  2   NEW CUSTOMER  \n",
              "41465  3  5  5  3      PROMISING  \n",
              "54704  4  1  1  2   NEW CUSTOMER  \n",
              "87551  5  4  5  1           BEST  \n",
              "9961   4  1  1  2   NEW CUSTOMER  \n",
              "41410  1  2  2  5    HIBERNATING  \n",
              "59717  5  1  1  1   NEW CUSTOMER  \n",
              "44142  5  1  1  1   NEW CUSTOMER  \n",
              "72321  1  2  2  5    HIBERNATING  \n",
              "24943  5  2  3  5  LOYAL SPENDER  "
            ],
            "text/html": [
              "\n",
              "  <div id=\"df-ac949c54-ab1b-4af6-acf1-7cc1b160c71e\" class=\"colab-df-container\">\n",
              "    <div>\n",
              "<style scoped>\n",
              "    .dataframe tbody tr th:only-of-type {\n",
              "        vertical-align: middle;\n",
              "    }\n",
              "\n",
              "    .dataframe tbody tr th {\n",
              "        vertical-align: top;\n",
              "    }\n",
              "\n",
              "    .dataframe thead th {\n",
              "        text-align: right;\n",
              "    }\n",
              "</style>\n",
              "<table border=\"1\" class=\"dataframe\">\n",
              "  <thead>\n",
              "    <tr style=\"text-align: right;\">\n",
              "      <th></th>\n",
              "      <th>customer_unique_id</th>\n",
              "      <th>recency</th>\n",
              "      <th>frequency</th>\n",
              "      <th>monatary</th>\n",
              "      <th>tenure</th>\n",
              "      <th>R</th>\n",
              "      <th>F</th>\n",
              "      <th>M</th>\n",
              "      <th>T</th>\n",
              "      <th>segment</th>\n",
              "    </tr>\n",
              "  </thead>\n",
              "  <tbody>\n",
              "    <tr>\n",
              "      <th>14933</th>\n",
              "      <td>2968939f4622c8fbfbcb05af7b5c335e</td>\n",
              "      <td>247.0</td>\n",
              "      <td>1</td>\n",
              "      <td>29.90</td>\n",
              "      <td>247.0</td>\n",
              "      <td>4</td>\n",
              "      <td>1</td>\n",
              "      <td>1</td>\n",
              "      <td>2</td>\n",
              "      <td>NEW CUSTOMER</td>\n",
              "    </tr>\n",
              "    <tr>\n",
              "      <th>41465</th>\n",
              "      <td>72a0b16af552719ca31e688af504dd9a</td>\n",
              "      <td>330.0</td>\n",
              "      <td>6</td>\n",
              "      <td>518.20</td>\n",
              "      <td>330.0</td>\n",
              "      <td>3</td>\n",
              "      <td>5</td>\n",
              "      <td>5</td>\n",
              "      <td>3</td>\n",
              "      <td>PROMISING</td>\n",
              "    </tr>\n",
              "    <tr>\n",
              "      <th>54704</th>\n",
              "      <td>9734190cf2c24a6171bf446a256c6fd1</td>\n",
              "      <td>208.0</td>\n",
              "      <td>1</td>\n",
              "      <td>19.90</td>\n",
              "      <td>208.0</td>\n",
              "      <td>4</td>\n",
              "      <td>1</td>\n",
              "      <td>1</td>\n",
              "      <td>2</td>\n",
              "      <td>NEW CUSTOMER</td>\n",
              "    </tr>\n",
              "    <tr>\n",
              "      <th>87551</th>\n",
              "      <td>f2324810516d9257a360a6082ac82578</td>\n",
              "      <td>29.0</td>\n",
              "      <td>4</td>\n",
              "      <td>364.00</td>\n",
              "      <td>29.0</td>\n",
              "      <td>5</td>\n",
              "      <td>4</td>\n",
              "      <td>5</td>\n",
              "      <td>1</td>\n",
              "      <td>BEST</td>\n",
              "    </tr>\n",
              "    <tr>\n",
              "      <th>9961</th>\n",
              "      <td>1b9401cc33b37bd68eae68fe63ec33ac</td>\n",
              "      <td>191.0</td>\n",
              "      <td>1</td>\n",
              "      <td>21.00</td>\n",
              "      <td>191.0</td>\n",
              "      <td>4</td>\n",
              "      <td>1</td>\n",
              "      <td>1</td>\n",
              "      <td>2</td>\n",
              "      <td>NEW CUSTOMER</td>\n",
              "    </tr>\n",
              "    <tr>\n",
              "      <th>41410</th>\n",
              "      <td>726eb1c689f41ab4b75087df6e37c97b</td>\n",
              "      <td>560.0</td>\n",
              "      <td>2</td>\n",
              "      <td>49.96</td>\n",
              "      <td>560.0</td>\n",
              "      <td>1</td>\n",
              "      <td>2</td>\n",
              "      <td>2</td>\n",
              "      <td>5</td>\n",
              "      <td>HIBERNATING</td>\n",
              "    </tr>\n",
              "    <tr>\n",
              "      <th>59717</th>\n",
              "      <td>a53fcf8a6a0fe6b98afd231e4f38db9c</td>\n",
              "      <td>45.0</td>\n",
              "      <td>1</td>\n",
              "      <td>29.00</td>\n",
              "      <td>45.0</td>\n",
              "      <td>5</td>\n",
              "      <td>1</td>\n",
              "      <td>1</td>\n",
              "      <td>1</td>\n",
              "      <td>NEW CUSTOMER</td>\n",
              "    </tr>\n",
              "    <tr>\n",
              "      <th>44142</th>\n",
              "      <td>79e565e00329b0eb7819ded170c7e6f6</td>\n",
              "      <td>4.0</td>\n",
              "      <td>1</td>\n",
              "      <td>28.90</td>\n",
              "      <td>4.0</td>\n",
              "      <td>5</td>\n",
              "      <td>1</td>\n",
              "      <td>1</td>\n",
              "      <td>1</td>\n",
              "      <td>NEW CUSTOMER</td>\n",
              "    </tr>\n",
              "    <tr>\n",
              "      <th>72321</th>\n",
              "      <td>c83fa8ef1c6002de08ba840cfd2757b3</td>\n",
              "      <td>610.0</td>\n",
              "      <td>2</td>\n",
              "      <td>57.80</td>\n",
              "      <td>610.0</td>\n",
              "      <td>1</td>\n",
              "      <td>2</td>\n",
              "      <td>2</td>\n",
              "      <td>5</td>\n",
              "      <td>HIBERNATING</td>\n",
              "    </tr>\n",
              "    <tr>\n",
              "      <th>24943</th>\n",
              "      <td>44de14beeb7a9177a849b754f2daf032</td>\n",
              "      <td>13.0</td>\n",
              "      <td>2</td>\n",
              "      <td>106.90</td>\n",
              "      <td>613.0</td>\n",
              "      <td>5</td>\n",
              "      <td>2</td>\n",
              "      <td>3</td>\n",
              "      <td>5</td>\n",
              "      <td>LOYAL SPENDER</td>\n",
              "    </tr>\n",
              "  </tbody>\n",
              "</table>\n",
              "</div>\n",
              "    <div class=\"colab-df-buttons\">\n",
              "\n",
              "  <div class=\"colab-df-container\">\n",
              "    <button class=\"colab-df-convert\" onclick=\"convertToInteractive('df-ac949c54-ab1b-4af6-acf1-7cc1b160c71e')\"\n",
              "            title=\"Convert this dataframe to an interactive table.\"\n",
              "            style=\"display:none;\">\n",
              "\n",
              "  <svg xmlns=\"http://www.w3.org/2000/svg\" height=\"24px\" viewBox=\"0 -960 960 960\">\n",
              "    <path d=\"M120-120v-720h720v720H120Zm60-500h600v-160H180v160Zm220 220h160v-160H400v160Zm0 220h160v-160H400v160ZM180-400h160v-160H180v160Zm440 0h160v-160H620v160ZM180-180h160v-160H180v160Zm440 0h160v-160H620v160Z\"/>\n",
              "  </svg>\n",
              "    </button>\n",
              "\n",
              "  <style>\n",
              "    .colab-df-container {\n",
              "      display:flex;\n",
              "      gap: 12px;\n",
              "    }\n",
              "\n",
              "    .colab-df-convert {\n",
              "      background-color: #E8F0FE;\n",
              "      border: none;\n",
              "      border-radius: 50%;\n",
              "      cursor: pointer;\n",
              "      display: none;\n",
              "      fill: #1967D2;\n",
              "      height: 32px;\n",
              "      padding: 0 0 0 0;\n",
              "      width: 32px;\n",
              "    }\n",
              "\n",
              "    .colab-df-convert:hover {\n",
              "      background-color: #E2EBFA;\n",
              "      box-shadow: 0px 1px 2px rgba(60, 64, 67, 0.3), 0px 1px 3px 1px rgba(60, 64, 67, 0.15);\n",
              "      fill: #174EA6;\n",
              "    }\n",
              "\n",
              "    .colab-df-buttons div {\n",
              "      margin-bottom: 4px;\n",
              "    }\n",
              "\n",
              "    [theme=dark] .colab-df-convert {\n",
              "      background-color: #3B4455;\n",
              "      fill: #D2E3FC;\n",
              "    }\n",
              "\n",
              "    [theme=dark] .colab-df-convert:hover {\n",
              "      background-color: #434B5C;\n",
              "      box-shadow: 0px 1px 3px 1px rgba(0, 0, 0, 0.15);\n",
              "      filter: drop-shadow(0px 1px 2px rgba(0, 0, 0, 0.3));\n",
              "      fill: #FFFFFF;\n",
              "    }\n",
              "  </style>\n",
              "\n",
              "    <script>\n",
              "      const buttonEl =\n",
              "        document.querySelector('#df-ac949c54-ab1b-4af6-acf1-7cc1b160c71e button.colab-df-convert');\n",
              "      buttonEl.style.display =\n",
              "        google.colab.kernel.accessAllowed ? 'block' : 'none';\n",
              "\n",
              "      async function convertToInteractive(key) {\n",
              "        const element = document.querySelector('#df-ac949c54-ab1b-4af6-acf1-7cc1b160c71e');\n",
              "        const dataTable =\n",
              "          await google.colab.kernel.invokeFunction('convertToInteractive',\n",
              "                                                    [key], {});\n",
              "        if (!dataTable) return;\n",
              "\n",
              "        const docLinkHtml = 'Like what you see? Visit the ' +\n",
              "          '<a target=\"_blank\" href=https://colab.research.google.com/notebooks/data_table.ipynb>data table notebook</a>'\n",
              "          + ' to learn more about interactive tables.';\n",
              "        element.innerHTML = '';\n",
              "        dataTable['output_type'] = 'display_data';\n",
              "        await google.colab.output.renderOutput(dataTable, element);\n",
              "        const docLink = document.createElement('div');\n",
              "        docLink.innerHTML = docLinkHtml;\n",
              "        element.appendChild(docLink);\n",
              "      }\n",
              "    </script>\n",
              "  </div>\n",
              "\n",
              "\n",
              "<div id=\"df-208eaa24-59f7-4b85-a1d7-d8a01088b5c0\">\n",
              "  <button class=\"colab-df-quickchart\" onclick=\"quickchart('df-208eaa24-59f7-4b85-a1d7-d8a01088b5c0')\"\n",
              "            title=\"Suggest charts.\"\n",
              "            style=\"display:none;\">\n",
              "\n",
              "<svg xmlns=\"http://www.w3.org/2000/svg\" height=\"24px\"viewBox=\"0 0 24 24\"\n",
              "     width=\"24px\">\n",
              "    <g>\n",
              "        <path d=\"M19 3H5c-1.1 0-2 .9-2 2v14c0 1.1.9 2 2 2h14c1.1 0 2-.9 2-2V5c0-1.1-.9-2-2-2zM9 17H7v-7h2v7zm4 0h-2V7h2v10zm4 0h-2v-4h2v4z\"/>\n",
              "    </g>\n",
              "</svg>\n",
              "  </button>\n",
              "\n",
              "<style>\n",
              "  .colab-df-quickchart {\n",
              "    background-color: #E8F0FE;\n",
              "    border: none;\n",
              "    border-radius: 50%;\n",
              "    cursor: pointer;\n",
              "    display: none;\n",
              "    fill: #1967D2;\n",
              "    height: 32px;\n",
              "    padding: 0 0 0 0;\n",
              "    width: 32px;\n",
              "  }\n",
              "\n",
              "  .colab-df-quickchart:hover {\n",
              "    background-color: #E2EBFA;\n",
              "    box-shadow: 0px 1px 2px rgba(60, 64, 67, 0.3), 0px 1px 3px 1px rgba(60, 64, 67, 0.15);\n",
              "    fill: #174EA6;\n",
              "  }\n",
              "\n",
              "  [theme=dark] .colab-df-quickchart {\n",
              "    background-color: #3B4455;\n",
              "    fill: #D2E3FC;\n",
              "  }\n",
              "\n",
              "  [theme=dark] .colab-df-quickchart:hover {\n",
              "    background-color: #434B5C;\n",
              "    box-shadow: 0px 1px 3px 1px rgba(0, 0, 0, 0.15);\n",
              "    filter: drop-shadow(0px 1px 2px rgba(0, 0, 0, 0.3));\n",
              "    fill: #FFFFFF;\n",
              "  }\n",
              "</style>\n",
              "\n",
              "  <script>\n",
              "    async function quickchart(key) {\n",
              "      const charts = await google.colab.kernel.invokeFunction(\n",
              "          'suggestCharts', [key], {});\n",
              "    }\n",
              "    (() => {\n",
              "      let quickchartButtonEl =\n",
              "        document.querySelector('#df-208eaa24-59f7-4b85-a1d7-d8a01088b5c0 button');\n",
              "      quickchartButtonEl.style.display =\n",
              "        google.colab.kernel.accessAllowed ? 'block' : 'none';\n",
              "    })();\n",
              "  </script>\n",
              "</div>\n",
              "    </div>\n",
              "  </div>\n"
            ]
          },
          "metadata": {},
          "execution_count": 57
        }
      ]
    },
    {
      "cell_type": "markdown",
      "metadata": {
        "id": "NMZ6rH11pFoX"
      },
      "source": [
        "I am gonna give suggestion for each category of customer.\n",
        "### i. <em>Best Customer</em>\n",
        "\n",
        "---\n",
        "For this category, to keep this customer interest with your company, It is recommended to **give award for any purchased product**, such as **point** that may interest them to buy things at your company. This point can be exhange with **discount** or any other things that may interest them.  \n",
        "\n",
        "### ii. <em>Loyal Spender</em>\n",
        "\n",
        "---\n",
        "Same as previous category, to keep the customer spending on your company, you can **give points for particular purchase**. With particular point accumulation, they can **ranked up** to 'best customer' category.\n",
        "\n",
        "### iii. <em>Potential Loyal</em>\n",
        "\n",
        "---\n",
        "Same as previous category, this kind of customer which new customer with frequent purchase. To keep the customer spending on your company, you can **give points** for every purchase. With particular point accumulation, they can **ranked up to 'loyal spender'** category, before they grow interest to another company.\n",
        "\n",
        "### iv. <em>New Customer</em>\n",
        "\n",
        "---\n",
        "For new customer, we do not really understand their behaviour. Therefore, the company may **promote things** that interest this customer from their previous purchase.\n",
        "\n",
        "### v. <em>Loyal Customer</em>\n",
        "\n",
        "---\n",
        "This customer have been loyal to the company.However, this customer better to be appriciated, I suggest the company may **give** this customer **few incentive**.\n",
        "\n",
        "### vi. <em>About To Sleep</em>\n",
        "\n",
        "---\n",
        "This customer have frequently purchased at this company. However, it is been a long time since this customer purchased at this company. I recommend the company to **promote the company or the product** to notify this customer to shop more at this company.\n",
        "\n",
        "### vii. <em>Can Not Lose Them & Hibernating</em>\n",
        "\n",
        "---\n",
        "The customer not so different with the previous category. However, this customer may not visit the website or application of this company longer. Therefore, it might be better for the company to **promote** its company or product by **sending it to the email** of the customer.\n",
        "\n",
        "### viii. <em>Lost</em>\n",
        "\n",
        "---\n",
        "For this kind of customer, the customer is too far to approach because of lack interest at this company. So, I suggest to **not promote** the company to this category of customer, since the **customer have already lost** and **cost of promotion** to get them back will be **high.**\n",
        "\n",
        "---\n",
        "# *Conclusion*\n",
        "\n",
        "---\n",
        "I recommend to take appropriate **marketing action** based on the **segment of customer** to keep them enganged and keep generating profit."
      ]
    },
    {
      "cell_type": "markdown",
      "metadata": {
        "id": "QIihG1Kq-DD9"
      },
      "source": [
        "# IV. Product Exploration\n",
        "\n",
        "\n",
        "---\n",
        "At this section, we will explore the product from the market.\n",
        "\n",
        "## 1) *Popularity Analysis*\n",
        "This section will focus on exploring the popularity of product. Before we analyze, let's take a look at product translation dataset."
      ]
    },
    {
      "cell_type": "code",
      "metadata": {
        "id": "M-nQOonD1SbH",
        "outputId": "32e0224c-d910-4abc-cc17-72f21062a09b",
        "colab": {
          "base_uri": "https://localhost:8080/",
          "height": 206
        }
      },
      "source": [
        "trans.head()"
      ],
      "execution_count": 58,
      "outputs": [
        {
          "output_type": "execute_result",
          "data": {
            "text/plain": [
              "    product_category_name product_category_name_english\n",
              "0            beleza_saude                 health_beauty\n",
              "1  informatica_acessorios         computers_accessories\n",
              "2              automotivo                          auto\n",
              "3         cama_mesa_banho                bed_bath_table\n",
              "4        moveis_decoracao               furniture_decor"
            ],
            "text/html": [
              "\n",
              "  <div id=\"df-1498467d-fd38-4510-99d9-062181c0525c\" class=\"colab-df-container\">\n",
              "    <div>\n",
              "<style scoped>\n",
              "    .dataframe tbody tr th:only-of-type {\n",
              "        vertical-align: middle;\n",
              "    }\n",
              "\n",
              "    .dataframe tbody tr th {\n",
              "        vertical-align: top;\n",
              "    }\n",
              "\n",
              "    .dataframe thead th {\n",
              "        text-align: right;\n",
              "    }\n",
              "</style>\n",
              "<table border=\"1\" class=\"dataframe\">\n",
              "  <thead>\n",
              "    <tr style=\"text-align: right;\">\n",
              "      <th></th>\n",
              "      <th>product_category_name</th>\n",
              "      <th>product_category_name_english</th>\n",
              "    </tr>\n",
              "  </thead>\n",
              "  <tbody>\n",
              "    <tr>\n",
              "      <th>0</th>\n",
              "      <td>beleza_saude</td>\n",
              "      <td>health_beauty</td>\n",
              "    </tr>\n",
              "    <tr>\n",
              "      <th>1</th>\n",
              "      <td>informatica_acessorios</td>\n",
              "      <td>computers_accessories</td>\n",
              "    </tr>\n",
              "    <tr>\n",
              "      <th>2</th>\n",
              "      <td>automotivo</td>\n",
              "      <td>auto</td>\n",
              "    </tr>\n",
              "    <tr>\n",
              "      <th>3</th>\n",
              "      <td>cama_mesa_banho</td>\n",
              "      <td>bed_bath_table</td>\n",
              "    </tr>\n",
              "    <tr>\n",
              "      <th>4</th>\n",
              "      <td>moveis_decoracao</td>\n",
              "      <td>furniture_decor</td>\n",
              "    </tr>\n",
              "  </tbody>\n",
              "</table>\n",
              "</div>\n",
              "    <div class=\"colab-df-buttons\">\n",
              "\n",
              "  <div class=\"colab-df-container\">\n",
              "    <button class=\"colab-df-convert\" onclick=\"convertToInteractive('df-1498467d-fd38-4510-99d9-062181c0525c')\"\n",
              "            title=\"Convert this dataframe to an interactive table.\"\n",
              "            style=\"display:none;\">\n",
              "\n",
              "  <svg xmlns=\"http://www.w3.org/2000/svg\" height=\"24px\" viewBox=\"0 -960 960 960\">\n",
              "    <path d=\"M120-120v-720h720v720H120Zm60-500h600v-160H180v160Zm220 220h160v-160H400v160Zm0 220h160v-160H400v160ZM180-400h160v-160H180v160Zm440 0h160v-160H620v160ZM180-180h160v-160H180v160Zm440 0h160v-160H620v160Z\"/>\n",
              "  </svg>\n",
              "    </button>\n",
              "\n",
              "  <style>\n",
              "    .colab-df-container {\n",
              "      display:flex;\n",
              "      gap: 12px;\n",
              "    }\n",
              "\n",
              "    .colab-df-convert {\n",
              "      background-color: #E8F0FE;\n",
              "      border: none;\n",
              "      border-radius: 50%;\n",
              "      cursor: pointer;\n",
              "      display: none;\n",
              "      fill: #1967D2;\n",
              "      height: 32px;\n",
              "      padding: 0 0 0 0;\n",
              "      width: 32px;\n",
              "    }\n",
              "\n",
              "    .colab-df-convert:hover {\n",
              "      background-color: #E2EBFA;\n",
              "      box-shadow: 0px 1px 2px rgba(60, 64, 67, 0.3), 0px 1px 3px 1px rgba(60, 64, 67, 0.15);\n",
              "      fill: #174EA6;\n",
              "    }\n",
              "\n",
              "    .colab-df-buttons div {\n",
              "      margin-bottom: 4px;\n",
              "    }\n",
              "\n",
              "    [theme=dark] .colab-df-convert {\n",
              "      background-color: #3B4455;\n",
              "      fill: #D2E3FC;\n",
              "    }\n",
              "\n",
              "    [theme=dark] .colab-df-convert:hover {\n",
              "      background-color: #434B5C;\n",
              "      box-shadow: 0px 1px 3px 1px rgba(0, 0, 0, 0.15);\n",
              "      filter: drop-shadow(0px 1px 2px rgba(0, 0, 0, 0.3));\n",
              "      fill: #FFFFFF;\n",
              "    }\n",
              "  </style>\n",
              "\n",
              "    <script>\n",
              "      const buttonEl =\n",
              "        document.querySelector('#df-1498467d-fd38-4510-99d9-062181c0525c button.colab-df-convert');\n",
              "      buttonEl.style.display =\n",
              "        google.colab.kernel.accessAllowed ? 'block' : 'none';\n",
              "\n",
              "      async function convertToInteractive(key) {\n",
              "        const element = document.querySelector('#df-1498467d-fd38-4510-99d9-062181c0525c');\n",
              "        const dataTable =\n",
              "          await google.colab.kernel.invokeFunction('convertToInteractive',\n",
              "                                                    [key], {});\n",
              "        if (!dataTable) return;\n",
              "\n",
              "        const docLinkHtml = 'Like what you see? Visit the ' +\n",
              "          '<a target=\"_blank\" href=https://colab.research.google.com/notebooks/data_table.ipynb>data table notebook</a>'\n",
              "          + ' to learn more about interactive tables.';\n",
              "        element.innerHTML = '';\n",
              "        dataTable['output_type'] = 'display_data';\n",
              "        await google.colab.output.renderOutput(dataTable, element);\n",
              "        const docLink = document.createElement('div');\n",
              "        docLink.innerHTML = docLinkHtml;\n",
              "        element.appendChild(docLink);\n",
              "      }\n",
              "    </script>\n",
              "  </div>\n",
              "\n",
              "\n",
              "<div id=\"df-5d47263e-2353-4e4f-a674-f05c03bf7100\">\n",
              "  <button class=\"colab-df-quickchart\" onclick=\"quickchart('df-5d47263e-2353-4e4f-a674-f05c03bf7100')\"\n",
              "            title=\"Suggest charts.\"\n",
              "            style=\"display:none;\">\n",
              "\n",
              "<svg xmlns=\"http://www.w3.org/2000/svg\" height=\"24px\"viewBox=\"0 0 24 24\"\n",
              "     width=\"24px\">\n",
              "    <g>\n",
              "        <path d=\"M19 3H5c-1.1 0-2 .9-2 2v14c0 1.1.9 2 2 2h14c1.1 0 2-.9 2-2V5c0-1.1-.9-2-2-2zM9 17H7v-7h2v7zm4 0h-2V7h2v10zm4 0h-2v-4h2v4z\"/>\n",
              "    </g>\n",
              "</svg>\n",
              "  </button>\n",
              "\n",
              "<style>\n",
              "  .colab-df-quickchart {\n",
              "    background-color: #E8F0FE;\n",
              "    border: none;\n",
              "    border-radius: 50%;\n",
              "    cursor: pointer;\n",
              "    display: none;\n",
              "    fill: #1967D2;\n",
              "    height: 32px;\n",
              "    padding: 0 0 0 0;\n",
              "    width: 32px;\n",
              "  }\n",
              "\n",
              "  .colab-df-quickchart:hover {\n",
              "    background-color: #E2EBFA;\n",
              "    box-shadow: 0px 1px 2px rgba(60, 64, 67, 0.3), 0px 1px 3px 1px rgba(60, 64, 67, 0.15);\n",
              "    fill: #174EA6;\n",
              "  }\n",
              "\n",
              "  [theme=dark] .colab-df-quickchart {\n",
              "    background-color: #3B4455;\n",
              "    fill: #D2E3FC;\n",
              "  }\n",
              "\n",
              "  [theme=dark] .colab-df-quickchart:hover {\n",
              "    background-color: #434B5C;\n",
              "    box-shadow: 0px 1px 3px 1px rgba(0, 0, 0, 0.15);\n",
              "    filter: drop-shadow(0px 1px 2px rgba(0, 0, 0, 0.3));\n",
              "    fill: #FFFFFF;\n",
              "  }\n",
              "</style>\n",
              "\n",
              "  <script>\n",
              "    async function quickchart(key) {\n",
              "      const charts = await google.colab.kernel.invokeFunction(\n",
              "          'suggestCharts', [key], {});\n",
              "    }\n",
              "    (() => {\n",
              "      let quickchartButtonEl =\n",
              "        document.querySelector('#df-5d47263e-2353-4e4f-a674-f05c03bf7100 button');\n",
              "      quickchartButtonEl.style.display =\n",
              "        google.colab.kernel.accessAllowed ? 'block' : 'none';\n",
              "    })();\n",
              "  </script>\n",
              "</div>\n",
              "    </div>\n",
              "  </div>\n"
            ]
          },
          "metadata": {},
          "execution_count": 58
        }
      ]
    },
    {
      "cell_type": "markdown",
      "metadata": {
        "id": "sQ4JQObS-v5l"
      },
      "source": [
        "I would like to translate the product category from portugese to english. So, I will join the order and trans dataset based on product category name."
      ]
    },
    {
      "cell_type": "code",
      "metadata": {
        "id": "-odDh4uGR-A5"
      },
      "source": [
        "order_trans = pd.merge(trans,\n",
        "                       order,\n",
        "                       how='right',\n",
        "                       on=['product_category_name', 'product_category_name'])\n",
        "order_en = order_trans.drop(['product_category_name'], axis=1)"
      ],
      "execution_count": 59,
      "outputs": []
    },
    {
      "cell_type": "markdown",
      "metadata": {
        "id": "PmfOo_7YtFoE"
      },
      "source": [
        "We can see below is the joined dataset, with english translation for product category."
      ]
    },
    {
      "cell_type": "code",
      "metadata": {
        "id": "kIrp-RzFWCEp",
        "outputId": "9ae2b1ba-f7af-43dc-b0b4-7c5b8719ac0c",
        "colab": {
          "base_uri": "https://localhost:8080/",
          "height": 359
        }
      },
      "source": [
        "order_en.head()"
      ],
      "execution_count": 60,
      "outputs": [
        {
          "output_type": "execute_result",
          "data": {
            "text/plain": [
              "  product_category_name_english                          order_id  \\\n",
              "0                 health_beauty  b95df3cef5297e79ef709ba256518f6f   \n",
              "1         computers_accessories  59af46052a799e80e2f0c665c587731d   \n",
              "2                          auto  a3e6136894621db402a772c6bc72a12a   \n",
              "3                bed_bath_table  b675ea5a618922f6e679e30531b8957b   \n",
              "4               furniture_decor  195a8be6794c487fe6cfbb97b7c61902   \n",
              "\n",
              "  order_status  order_products_value  order_freight_value  order_items_qty  \\\n",
              "0    delivered                349.90                13.84                1   \n",
              "1    delivered                 15.00                15.10                1   \n",
              "2    delivered                238.90                18.00                1   \n",
              "3    delivered                 29.99                18.23                1   \n",
              "4    delivered                295.99                47.65                1   \n",
              "\n",
              "   order_sellers_qty order_purchase_timestamp            order_aproved_at  \\\n",
              "0                  1      2017-01-31 17:19:01  2017-02-01 02:41:21.549551   \n",
              "1                  1      2017-09-09 19:52:54  2017-09-10 20:03:31.535281   \n",
              "2                  1      2017-01-30 17:00:09  2017-01-30 17:31:25.438253   \n",
              "3                  1      2018-03-11 18:18:36  2018-03-11 18:30:37.931962   \n",
              "4                  1      2017-04-20 08:01:08  2017-04-25 08:05:40.405383   \n",
              "\n",
              "  order_estimated_delivery_date  ... product_name_lenght  \\\n",
              "0    2017-03-15 00:00:00.000000  ...                  51   \n",
              "1    2017-10-02 00:00:00.000000  ...                  44   \n",
              "2    2017-03-07 00:00:00.000000  ...                  55   \n",
              "3    2018-04-03 00:00:00.000000  ...                  55   \n",
              "4    2017-05-24 00:00:00.000000  ...                  49   \n",
              "\n",
              "  product_description_lenght product_photos_qty  \\\n",
              "0                        625                  1   \n",
              "1                       1428                  2   \n",
              "2                        637                  1   \n",
              "3                        617                  1   \n",
              "4                        558                  2   \n",
              "\n",
              "                         product_id                         review_id  \\\n",
              "0  6cdd53843498f92890544667809f1595  b95df3cef5297e79ef709ba256518f6f   \n",
              "1  ae5cad88462eb7b7b61401e31c45618e  59af46052a799e80e2f0c665c587731d   \n",
              "2  0c9ff9d8ed9b9bdd825487b3a66e05f5  a3e6136894621db402a772c6bc72a12a   \n",
              "3  ad0a798e7941f3a5a2fb8139cb62ad78  b675ea5a618922f6e679e30531b8957b   \n",
              "4  eaf2046d4c87809247a30050ea13df03  195a8be6794c487fe6cfbb97b7c61902   \n",
              "\n",
              "   review_score  review_comment_title  \\\n",
              "0             5                   NaN   \n",
              "1             5                   NaN   \n",
              "2             5                   NaN   \n",
              "3             4                   NaN   \n",
              "4             5                   NaN   \n",
              "\n",
              "                              review_comment_message  \\\n",
              "0                                                NaN   \n",
              "1  entrega em 2 dias produto c boa qualidade otim...   \n",
              "2  produto veio antes do prazo informado muito ob...   \n",
              "3                                                NaN   \n",
              "4                                                NaN   \n",
              "\n",
              "         review_creation_date    review_answer_timestamp  \n",
              "0  2017-02-07 00:00:00.000000  2017-02-09 02:37:37+00:00  \n",
              "1  2017-09-14 00:00:00.000000  2017-09-15 03:43:47+00:00  \n",
              "2  2017-02-07 00:00:00.000000  2017-02-10 14:18:53+00:00  \n",
              "3  2018-04-04 00:00:00.000000  2018-04-05 02:52:31+00:00  \n",
              "4  2017-05-05 00:00:00.000000  2017-05-08 15:20:18+00:00  \n",
              "\n",
              "[5 rows x 25 columns]"
            ],
            "text/html": [
              "\n",
              "  <div id=\"df-3f27b45f-7dbd-49a5-80db-7bea97e53b49\" class=\"colab-df-container\">\n",
              "    <div>\n",
              "<style scoped>\n",
              "    .dataframe tbody tr th:only-of-type {\n",
              "        vertical-align: middle;\n",
              "    }\n",
              "\n",
              "    .dataframe tbody tr th {\n",
              "        vertical-align: top;\n",
              "    }\n",
              "\n",
              "    .dataframe thead th {\n",
              "        text-align: right;\n",
              "    }\n",
              "</style>\n",
              "<table border=\"1\" class=\"dataframe\">\n",
              "  <thead>\n",
              "    <tr style=\"text-align: right;\">\n",
              "      <th></th>\n",
              "      <th>product_category_name_english</th>\n",
              "      <th>order_id</th>\n",
              "      <th>order_status</th>\n",
              "      <th>order_products_value</th>\n",
              "      <th>order_freight_value</th>\n",
              "      <th>order_items_qty</th>\n",
              "      <th>order_sellers_qty</th>\n",
              "      <th>order_purchase_timestamp</th>\n",
              "      <th>order_aproved_at</th>\n",
              "      <th>order_estimated_delivery_date</th>\n",
              "      <th>...</th>\n",
              "      <th>product_name_lenght</th>\n",
              "      <th>product_description_lenght</th>\n",
              "      <th>product_photos_qty</th>\n",
              "      <th>product_id</th>\n",
              "      <th>review_id</th>\n",
              "      <th>review_score</th>\n",
              "      <th>review_comment_title</th>\n",
              "      <th>review_comment_message</th>\n",
              "      <th>review_creation_date</th>\n",
              "      <th>review_answer_timestamp</th>\n",
              "    </tr>\n",
              "  </thead>\n",
              "  <tbody>\n",
              "    <tr>\n",
              "      <th>0</th>\n",
              "      <td>health_beauty</td>\n",
              "      <td>b95df3cef5297e79ef709ba256518f6f</td>\n",
              "      <td>delivered</td>\n",
              "      <td>349.90</td>\n",
              "      <td>13.84</td>\n",
              "      <td>1</td>\n",
              "      <td>1</td>\n",
              "      <td>2017-01-31 17:19:01</td>\n",
              "      <td>2017-02-01 02:41:21.549551</td>\n",
              "      <td>2017-03-15 00:00:00.000000</td>\n",
              "      <td>...</td>\n",
              "      <td>51</td>\n",
              "      <td>625</td>\n",
              "      <td>1</td>\n",
              "      <td>6cdd53843498f92890544667809f1595</td>\n",
              "      <td>b95df3cef5297e79ef709ba256518f6f</td>\n",
              "      <td>5</td>\n",
              "      <td>NaN</td>\n",
              "      <td>NaN</td>\n",
              "      <td>2017-02-07 00:00:00.000000</td>\n",
              "      <td>2017-02-09 02:37:37+00:00</td>\n",
              "    </tr>\n",
              "    <tr>\n",
              "      <th>1</th>\n",
              "      <td>computers_accessories</td>\n",
              "      <td>59af46052a799e80e2f0c665c587731d</td>\n",
              "      <td>delivered</td>\n",
              "      <td>15.00</td>\n",
              "      <td>15.10</td>\n",
              "      <td>1</td>\n",
              "      <td>1</td>\n",
              "      <td>2017-09-09 19:52:54</td>\n",
              "      <td>2017-09-10 20:03:31.535281</td>\n",
              "      <td>2017-10-02 00:00:00.000000</td>\n",
              "      <td>...</td>\n",
              "      <td>44</td>\n",
              "      <td>1428</td>\n",
              "      <td>2</td>\n",
              "      <td>ae5cad88462eb7b7b61401e31c45618e</td>\n",
              "      <td>59af46052a799e80e2f0c665c587731d</td>\n",
              "      <td>5</td>\n",
              "      <td>NaN</td>\n",
              "      <td>entrega em 2 dias produto c boa qualidade otim...</td>\n",
              "      <td>2017-09-14 00:00:00.000000</td>\n",
              "      <td>2017-09-15 03:43:47+00:00</td>\n",
              "    </tr>\n",
              "    <tr>\n",
              "      <th>2</th>\n",
              "      <td>auto</td>\n",
              "      <td>a3e6136894621db402a772c6bc72a12a</td>\n",
              "      <td>delivered</td>\n",
              "      <td>238.90</td>\n",
              "      <td>18.00</td>\n",
              "      <td>1</td>\n",
              "      <td>1</td>\n",
              "      <td>2017-01-30 17:00:09</td>\n",
              "      <td>2017-01-30 17:31:25.438253</td>\n",
              "      <td>2017-03-07 00:00:00.000000</td>\n",
              "      <td>...</td>\n",
              "      <td>55</td>\n",
              "      <td>637</td>\n",
              "      <td>1</td>\n",
              "      <td>0c9ff9d8ed9b9bdd825487b3a66e05f5</td>\n",
              "      <td>a3e6136894621db402a772c6bc72a12a</td>\n",
              "      <td>5</td>\n",
              "      <td>NaN</td>\n",
              "      <td>produto veio antes do prazo informado muito ob...</td>\n",
              "      <td>2017-02-07 00:00:00.000000</td>\n",
              "      <td>2017-02-10 14:18:53+00:00</td>\n",
              "    </tr>\n",
              "    <tr>\n",
              "      <th>3</th>\n",
              "      <td>bed_bath_table</td>\n",
              "      <td>b675ea5a618922f6e679e30531b8957b</td>\n",
              "      <td>delivered</td>\n",
              "      <td>29.99</td>\n",
              "      <td>18.23</td>\n",
              "      <td>1</td>\n",
              "      <td>1</td>\n",
              "      <td>2018-03-11 18:18:36</td>\n",
              "      <td>2018-03-11 18:30:37.931962</td>\n",
              "      <td>2018-04-03 00:00:00.000000</td>\n",
              "      <td>...</td>\n",
              "      <td>55</td>\n",
              "      <td>617</td>\n",
              "      <td>1</td>\n",
              "      <td>ad0a798e7941f3a5a2fb8139cb62ad78</td>\n",
              "      <td>b675ea5a618922f6e679e30531b8957b</td>\n",
              "      <td>4</td>\n",
              "      <td>NaN</td>\n",
              "      <td>NaN</td>\n",
              "      <td>2018-04-04 00:00:00.000000</td>\n",
              "      <td>2018-04-05 02:52:31+00:00</td>\n",
              "    </tr>\n",
              "    <tr>\n",
              "      <th>4</th>\n",
              "      <td>furniture_decor</td>\n",
              "      <td>195a8be6794c487fe6cfbb97b7c61902</td>\n",
              "      <td>delivered</td>\n",
              "      <td>295.99</td>\n",
              "      <td>47.65</td>\n",
              "      <td>1</td>\n",
              "      <td>1</td>\n",
              "      <td>2017-04-20 08:01:08</td>\n",
              "      <td>2017-04-25 08:05:40.405383</td>\n",
              "      <td>2017-05-24 00:00:00.000000</td>\n",
              "      <td>...</td>\n",
              "      <td>49</td>\n",
              "      <td>558</td>\n",
              "      <td>2</td>\n",
              "      <td>eaf2046d4c87809247a30050ea13df03</td>\n",
              "      <td>195a8be6794c487fe6cfbb97b7c61902</td>\n",
              "      <td>5</td>\n",
              "      <td>NaN</td>\n",
              "      <td>NaN</td>\n",
              "      <td>2017-05-05 00:00:00.000000</td>\n",
              "      <td>2017-05-08 15:20:18+00:00</td>\n",
              "    </tr>\n",
              "  </tbody>\n",
              "</table>\n",
              "<p>5 rows × 25 columns</p>\n",
              "</div>\n",
              "    <div class=\"colab-df-buttons\">\n",
              "\n",
              "  <div class=\"colab-df-container\">\n",
              "    <button class=\"colab-df-convert\" onclick=\"convertToInteractive('df-3f27b45f-7dbd-49a5-80db-7bea97e53b49')\"\n",
              "            title=\"Convert this dataframe to an interactive table.\"\n",
              "            style=\"display:none;\">\n",
              "\n",
              "  <svg xmlns=\"http://www.w3.org/2000/svg\" height=\"24px\" viewBox=\"0 -960 960 960\">\n",
              "    <path d=\"M120-120v-720h720v720H120Zm60-500h600v-160H180v160Zm220 220h160v-160H400v160Zm0 220h160v-160H400v160ZM180-400h160v-160H180v160Zm440 0h160v-160H620v160ZM180-180h160v-160H180v160Zm440 0h160v-160H620v160Z\"/>\n",
              "  </svg>\n",
              "    </button>\n",
              "\n",
              "  <style>\n",
              "    .colab-df-container {\n",
              "      display:flex;\n",
              "      gap: 12px;\n",
              "    }\n",
              "\n",
              "    .colab-df-convert {\n",
              "      background-color: #E8F0FE;\n",
              "      border: none;\n",
              "      border-radius: 50%;\n",
              "      cursor: pointer;\n",
              "      display: none;\n",
              "      fill: #1967D2;\n",
              "      height: 32px;\n",
              "      padding: 0 0 0 0;\n",
              "      width: 32px;\n",
              "    }\n",
              "\n",
              "    .colab-df-convert:hover {\n",
              "      background-color: #E2EBFA;\n",
              "      box-shadow: 0px 1px 2px rgba(60, 64, 67, 0.3), 0px 1px 3px 1px rgba(60, 64, 67, 0.15);\n",
              "      fill: #174EA6;\n",
              "    }\n",
              "\n",
              "    .colab-df-buttons div {\n",
              "      margin-bottom: 4px;\n",
              "    }\n",
              "\n",
              "    [theme=dark] .colab-df-convert {\n",
              "      background-color: #3B4455;\n",
              "      fill: #D2E3FC;\n",
              "    }\n",
              "\n",
              "    [theme=dark] .colab-df-convert:hover {\n",
              "      background-color: #434B5C;\n",
              "      box-shadow: 0px 1px 3px 1px rgba(0, 0, 0, 0.15);\n",
              "      filter: drop-shadow(0px 1px 2px rgba(0, 0, 0, 0.3));\n",
              "      fill: #FFFFFF;\n",
              "    }\n",
              "  </style>\n",
              "\n",
              "    <script>\n",
              "      const buttonEl =\n",
              "        document.querySelector('#df-3f27b45f-7dbd-49a5-80db-7bea97e53b49 button.colab-df-convert');\n",
              "      buttonEl.style.display =\n",
              "        google.colab.kernel.accessAllowed ? 'block' : 'none';\n",
              "\n",
              "      async function convertToInteractive(key) {\n",
              "        const element = document.querySelector('#df-3f27b45f-7dbd-49a5-80db-7bea97e53b49');\n",
              "        const dataTable =\n",
              "          await google.colab.kernel.invokeFunction('convertToInteractive',\n",
              "                                                    [key], {});\n",
              "        if (!dataTable) return;\n",
              "\n",
              "        const docLinkHtml = 'Like what you see? Visit the ' +\n",
              "          '<a target=\"_blank\" href=https://colab.research.google.com/notebooks/data_table.ipynb>data table notebook</a>'\n",
              "          + ' to learn more about interactive tables.';\n",
              "        element.innerHTML = '';\n",
              "        dataTable['output_type'] = 'display_data';\n",
              "        await google.colab.output.renderOutput(dataTable, element);\n",
              "        const docLink = document.createElement('div');\n",
              "        docLink.innerHTML = docLinkHtml;\n",
              "        element.appendChild(docLink);\n",
              "      }\n",
              "    </script>\n",
              "  </div>\n",
              "\n",
              "\n",
              "<div id=\"df-0d846bfc-fa67-4a7f-b473-aa68fe0f21df\">\n",
              "  <button class=\"colab-df-quickchart\" onclick=\"quickchart('df-0d846bfc-fa67-4a7f-b473-aa68fe0f21df')\"\n",
              "            title=\"Suggest charts.\"\n",
              "            style=\"display:none;\">\n",
              "\n",
              "<svg xmlns=\"http://www.w3.org/2000/svg\" height=\"24px\"viewBox=\"0 0 24 24\"\n",
              "     width=\"24px\">\n",
              "    <g>\n",
              "        <path d=\"M19 3H5c-1.1 0-2 .9-2 2v14c0 1.1.9 2 2 2h14c1.1 0 2-.9 2-2V5c0-1.1-.9-2-2-2zM9 17H7v-7h2v7zm4 0h-2V7h2v10zm4 0h-2v-4h2v4z\"/>\n",
              "    </g>\n",
              "</svg>\n",
              "  </button>\n",
              "\n",
              "<style>\n",
              "  .colab-df-quickchart {\n",
              "    background-color: #E8F0FE;\n",
              "    border: none;\n",
              "    border-radius: 50%;\n",
              "    cursor: pointer;\n",
              "    display: none;\n",
              "    fill: #1967D2;\n",
              "    height: 32px;\n",
              "    padding: 0 0 0 0;\n",
              "    width: 32px;\n",
              "  }\n",
              "\n",
              "  .colab-df-quickchart:hover {\n",
              "    background-color: #E2EBFA;\n",
              "    box-shadow: 0px 1px 2px rgba(60, 64, 67, 0.3), 0px 1px 3px 1px rgba(60, 64, 67, 0.15);\n",
              "    fill: #174EA6;\n",
              "  }\n",
              "\n",
              "  [theme=dark] .colab-df-quickchart {\n",
              "    background-color: #3B4455;\n",
              "    fill: #D2E3FC;\n",
              "  }\n",
              "\n",
              "  [theme=dark] .colab-df-quickchart:hover {\n",
              "    background-color: #434B5C;\n",
              "    box-shadow: 0px 1px 3px 1px rgba(0, 0, 0, 0.15);\n",
              "    filter: drop-shadow(0px 1px 2px rgba(0, 0, 0, 0.3));\n",
              "    fill: #FFFFFF;\n",
              "  }\n",
              "</style>\n",
              "\n",
              "  <script>\n",
              "    async function quickchart(key) {\n",
              "      const charts = await google.colab.kernel.invokeFunction(\n",
              "          'suggestCharts', [key], {});\n",
              "    }\n",
              "    (() => {\n",
              "      let quickchartButtonEl =\n",
              "        document.querySelector('#df-0d846bfc-fa67-4a7f-b473-aa68fe0f21df button');\n",
              "      quickchartButtonEl.style.display =\n",
              "        google.colab.kernel.accessAllowed ? 'block' : 'none';\n",
              "    })();\n",
              "  </script>\n",
              "</div>\n",
              "    </div>\n",
              "  </div>\n"
            ]
          },
          "metadata": {},
          "execution_count": 60
        }
      ]
    },
    {
      "cell_type": "markdown",
      "metadata": {
        "id": "CqxO78sj_qMn"
      },
      "source": [
        "The following bar chart shows percentage of each rating for overall products."
      ]
    },
    {
      "cell_type": "code",
      "metadata": {
        "id": "F3R7aLSivwyZ",
        "outputId": "e0052ce8-383f-495c-ee7a-6139978862a7",
        "colab": {
          "base_uri": "https://localhost:8080/",
          "height": 837
        }
      },
      "source": [
        "n = order_en.groupby('review_score')['review_score'].agg(['count'])\n",
        "\n",
        "prod_count = order_en['product_id'].nunique()\n",
        "\n",
        "cust_count = cust['customer_unique_id'].nunique() - prod_count\n",
        "\n",
        "rating_count = order_en['review_score'].count() - cust_count\n",
        "\n",
        "ax = n.plot(kind='barh', legend=False, figsize=(15, 10))\n",
        "plt.title(\n",
        "    'Total pool: {:,} Products, {:,} Customers, {:,} Ratings given'.format(\n",
        "        prod_count, cust_count, rating_count),\n",
        "    fontsize=20)\n",
        "plt.axis('off')\n",
        "\n",
        "for i in range(1, 6):\n",
        "    ax.text(n.iloc[i - 1][0] / 4,\n",
        "            i - 1,\n",
        "            'Rating {}: {:.0f}%'.format(i,\n",
        "                                        n.iloc[i - 1][0] * 100 / n.sum()[0]),\n",
        "            color='white',\n",
        "            weight='bold')"
      ],
      "execution_count": 61,
      "outputs": [
        {
          "output_type": "display_data",
          "data": {
            "text/plain": [
              "<Figure size 1500x1000 with 1 Axes>"
            ],
            "image/png": "[encoded data removed]"
          },
          "metadata": {}
        }
      ]
    },
    {
      "cell_type": "markdown",
      "metadata": {
        "id": "7v5KI91AAiNI"
      },
      "source": [
        "As we can see, it is actually excellent to have 57% of the products is rated 5. However, the rate 1: 12% percentage is quite high compared to rate 2 and 3.\n",
        "\n",
        "\n",
        "---\n",
        "\n"
      ]
    },
    {
      "cell_type": "markdown",
      "metadata": {
        "id": "oY7E2QsEv6Pk"
      },
      "source": [
        "We'll take a look at the most popular product category, and we'll measure it by how many reviews has been submitted at each product category"
      ]
    },
    {
      "cell_type": "code",
      "metadata": {
        "id": "aZQTZGbdcKO3",
        "outputId": "d0273efc-9a7f-457e-e5b5-94fc45cc2345",
        "colab": {
          "base_uri": "https://localhost:8080/",
          "height": 394
        }
      },
      "source": [
        "pop_prod = pd.DataFrame(\n",
        "    order_en.groupby('product_id')['review_score'].count())\n",
        "most_popular = pop_prod.sort_values('review_score', ascending=False)\n",
        "most_popular.head(10)"
      ],
      "execution_count": 62,
      "outputs": [
        {
          "output_type": "execute_result",
          "data": {
            "text/plain": [
              "                                  review_score\n",
              "product_id                                    \n",
              "99a4788cb24856965c36a24e339b6058           653\n",
              "aca2eb7d00ea1a7b8ebd4e68314663af           615\n",
              "422879e10f46682990de24d770e7f83d           475\n",
              "d1c427060a0f73f6b889a5c7c61f2ac4           449\n",
              "389d119b48cf3043d311335e499d9c6b           435\n",
              "53759a2ecddad2bb87a079a1f1519f73           432\n",
              "53b36df67ebb7c41585e8d54d6772e08           427\n",
              "368c6c730842d78016ad823897a372db           380\n",
              "2b4609f8948be18874494203496bc318           368\n",
              "154e7e31ebfa092203795c972e5804a6           357"
            ],
            "text/html": [
              "\n",
              "  <div id=\"df-b0bb8009-0887-4c78-bce5-cf3d98dc1741\" class=\"colab-df-container\">\n",
              "    <div>\n",
              "<style scoped>\n",
              "    .dataframe tbody tr th:only-of-type {\n",
              "        vertical-align: middle;\n",
              "    }\n",
              "\n",
              "    .dataframe tbody tr th {\n",
              "        vertical-align: top;\n",
              "    }\n",
              "\n",
              "    .dataframe thead th {\n",
              "        text-align: right;\n",
              "    }\n",
              "</style>\n",
              "<table border=\"1\" class=\"dataframe\">\n",
              "  <thead>\n",
              "    <tr style=\"text-align: right;\">\n",
              "      <th></th>\n",
              "      <th>review_score</th>\n",
              "    </tr>\n",
              "    <tr>\n",
              "      <th>product_id</th>\n",
              "      <th></th>\n",
              "    </tr>\n",
              "  </thead>\n",
              "  <tbody>\n",
              "    <tr>\n",
              "      <th>99a4788cb24856965c36a24e339b6058</th>\n",
              "      <td>653</td>\n",
              "    </tr>\n",
              "    <tr>\n",
              "      <th>aca2eb7d00ea1a7b8ebd4e68314663af</th>\n",
              "      <td>615</td>\n",
              "    </tr>\n",
              "    <tr>\n",
              "      <th>422879e10f46682990de24d770e7f83d</th>\n",
              "      <td>475</td>\n",
              "    </tr>\n",
              "    <tr>\n",
              "      <th>d1c427060a0f73f6b889a5c7c61f2ac4</th>\n",
              "      <td>449</td>\n",
              "    </tr>\n",
              "    <tr>\n",
              "      <th>389d119b48cf3043d311335e499d9c6b</th>\n",
              "      <td>435</td>\n",
              "    </tr>\n",
              "    <tr>\n",
              "      <th>53759a2ecddad2bb87a079a1f1519f73</th>\n",
              "      <td>432</td>\n",
              "    </tr>\n",
              "    <tr>\n",
              "      <th>53b36df67ebb7c41585e8d54d6772e08</th>\n",
              "      <td>427</td>\n",
              "    </tr>\n",
              "    <tr>\n",
              "      <th>368c6c730842d78016ad823897a372db</th>\n",
              "      <td>380</td>\n",
              "    </tr>\n",
              "    <tr>\n",
              "      <th>2b4609f8948be18874494203496bc318</th>\n",
              "      <td>368</td>\n",
              "    </tr>\n",
              "    <tr>\n",
              "      <th>154e7e31ebfa092203795c972e5804a6</th>\n",
              "      <td>357</td>\n",
              "    </tr>\n",
              "  </tbody>\n",
              "</table>\n",
              "</div>\n",
              "    <div class=\"colab-df-buttons\">\n",
              "\n",
              "  <div class=\"colab-df-container\">\n",
              "    <button class=\"colab-df-convert\" onclick=\"convertToInteractive('df-b0bb8009-0887-4c78-bce5-cf3d98dc1741')\"\n",
              "            title=\"Convert this dataframe to an interactive table.\"\n",
              "            style=\"display:none;\">\n",
              "\n",
              "  <svg xmlns=\"http://www.w3.org/2000/svg\" height=\"24px\" viewBox=\"0 -960 960 960\">\n",
              "    <path d=\"M120-120v-720h720v720H120Zm60-500h600v-160H180v160Zm220 220h160v-160H400v160Zm0 220h160v-160H400v160ZM180-400h160v-160H180v160Zm440 0h160v-160H620v160ZM180-180h160v-160H180v160Zm440 0h160v-160H620v160Z\"/>\n",
              "  </svg>\n",
              "    </button>\n",
              "\n",
              "  <style>\n",
              "    .colab-df-container {\n",
              "      display:flex;\n",
              "      gap: 12px;\n",
              "    }\n",
              "\n",
              "    .colab-df-convert {\n",
              "      background-color: #E8F0FE;\n",
              "      border: none;\n",
              "      border-radius: 50%;\n",
              "      cursor: pointer;\n",
              "      display: none;\n",
              "      fill: #1967D2;\n",
              "      height: 32px;\n",
              "      padding: 0 0 0 0;\n",
              "      width: 32px;\n",
              "    }\n",
              "\n",
              "    .colab-df-convert:hover {\n",
              "      background-color: #E2EBFA;\n",
              "      box-shadow: 0px 1px 2px rgba(60, 64, 67, 0.3), 0px 1px 3px 1px rgba(60, 64, 67, 0.15);\n",
              "      fill: #174EA6;\n",
              "    }\n",
              "\n",
              "    .colab-df-buttons div {\n",
              "      margin-bottom: 4px;\n",
              "    }\n",
              "\n",
              "    [theme=dark] .colab-df-convert {\n",
              "      background-color: #3B4455;\n",
              "      fill: #D2E3FC;\n",
              "    }\n",
              "\n",
              "    [theme=dark] .colab-df-convert:hover {\n",
              "      background-color: #434B5C;\n",
              "      box-shadow: 0px 1px 3px 1px rgba(0, 0, 0, 0.15);\n",
              "      filter: drop-shadow(0px 1px 2px rgba(0, 0, 0, 0.3));\n",
              "      fill: #FFFFFF;\n",
              "    }\n",
              "  </style>\n",
              "\n",
              "    <script>\n",
              "      const buttonEl =\n",
              "        document.querySelector('#df-b0bb8009-0887-4c78-bce5-cf3d98dc1741 button.colab-df-convert');\n",
              "      buttonEl.style.display =\n",
              "        google.colab.kernel.accessAllowed ? 'block' : 'none';\n",
              "\n",
              "      async function convertToInteractive(key) {\n",
              "        const element = document.querySelector('#df-b0bb8009-0887-4c78-bce5-cf3d98dc1741');\n",
              "        const dataTable =\n",
              "          await google.colab.kernel.invokeFunction('convertToInteractive',\n",
              "                                                    [key], {});\n",
              "        if (!dataTable) return;\n",
              "\n",
              "        const docLinkHtml = 'Like what you see? Visit the ' +\n",
              "          '<a target=\"_blank\" href=https://colab.research.google.com/notebooks/data_table.ipynb>data table notebook</a>'\n",
              "          + ' to learn more about interactive tables.';\n",
              "        element.innerHTML = '';\n",
              "        dataTable['output_type'] = 'display_data';\n",
              "        await google.colab.output.renderOutput(dataTable, element);\n",
              "        const docLink = document.createElement('div');\n",
              "        docLink.innerHTML = docLinkHtml;\n",
              "        element.appendChild(docLink);\n",
              "      }\n",
              "    </script>\n",
              "  </div>\n",
              "\n",
              "\n",
              "<div id=\"df-b36aea31-173c-467f-bab1-92a188258a0e\">\n",
              "  <button class=\"colab-df-quickchart\" onclick=\"quickchart('df-b36aea31-173c-467f-bab1-92a188258a0e')\"\n",
              "            title=\"Suggest charts.\"\n",
              "            style=\"display:none;\">\n",
              "\n",
              "<svg xmlns=\"http://www.w3.org/2000/svg\" height=\"24px\"viewBox=\"0 0 24 24\"\n",
              "     width=\"24px\">\n",
              "    <g>\n",
              "        <path d=\"M19 3H5c-1.1 0-2 .9-2 2v14c0 1.1.9 2 2 2h14c1.1 0 2-.9 2-2V5c0-1.1-.9-2-2-2zM9 17H7v-7h2v7zm4 0h-2V7h2v10zm4 0h-2v-4h2v4z\"/>\n",
              "    </g>\n",
              "</svg>\n",
              "  </button>\n",
              "\n",
              "<style>\n",
              "  .colab-df-quickchart {\n",
              "    background-color: #E8F0FE;\n",
              "    border: none;\n",
              "    border-radius: 50%;\n",
              "    cursor: pointer;\n",
              "    display: none;\n",
              "    fill: #1967D2;\n",
              "    height: 32px;\n",
              "    padding: 0 0 0 0;\n",
              "    width: 32px;\n",
              "  }\n",
              "\n",
              "  .colab-df-quickchart:hover {\n",
              "    background-color: #E2EBFA;\n",
              "    box-shadow: 0px 1px 2px rgba(60, 64, 67, 0.3), 0px 1px 3px 1px rgba(60, 64, 67, 0.15);\n",
              "    fill: #174EA6;\n",
              "  }\n",
              "\n",
              "  [theme=dark] .colab-df-quickchart {\n",
              "    background-color: #3B4455;\n",
              "    fill: #D2E3FC;\n",
              "  }\n",
              "\n",
              "  [theme=dark] .colab-df-quickchart:hover {\n",
              "    background-color: #434B5C;\n",
              "    box-shadow: 0px 1px 3px 1px rgba(0, 0, 0, 0.15);\n",
              "    filter: drop-shadow(0px 1px 2px rgba(0, 0, 0, 0.3));\n",
              "    fill: #FFFFFF;\n",
              "  }\n",
              "</style>\n",
              "\n",
              "  <script>\n",
              "    async function quickchart(key) {\n",
              "      const charts = await google.colab.kernel.invokeFunction(\n",
              "          'suggestCharts', [key], {});\n",
              "    }\n",
              "    (() => {\n",
              "      let quickchartButtonEl =\n",
              "        document.querySelector('#df-b36aea31-173c-467f-bab1-92a188258a0e button');\n",
              "      quickchartButtonEl.style.display =\n",
              "        google.colab.kernel.accessAllowed ? 'block' : 'none';\n",
              "    })();\n",
              "  </script>\n",
              "</div>\n",
              "    </div>\n",
              "  </div>\n"
            ]
          },
          "metadata": {},
          "execution_count": 62
        }
      ]
    },
    {
      "cell_type": "markdown",
      "metadata": {
        "id": "X33RLq6FBEzJ"
      },
      "source": [
        "It would be easier if we show it in the bar chart, as shown below."
      ]
    },
    {
      "cell_type": "code",
      "metadata": {
        "id": "-PVDWjUooo9G",
        "outputId": "ccf51e93-f419-411f-fec2-74b4e4c38d42",
        "colab": {
          "base_uri": "https://localhost:8080/",
          "height": 847
        }
      },
      "source": [
        "plt.rcParams['figure.figsize'] = (10, 10)\n",
        "most_popular.head(30).plot(kind=\"barh\")"
      ],
      "execution_count": 63,
      "outputs": [
        {
          "output_type": "execute_result",
          "data": {
            "text/plain": [
              "<Axes: ylabel='product_id'>"
            ]
          },
          "metadata": {},
          "execution_count": 63
        },
        {
          "output_type": "display_data",
          "data": {
            "text/plain": [
              "<Figure size 1000x1000 with 1 Axes>"
            ],
            "image/png": "[encoded data removed]"
          },
          "metadata": {}
        }
      ]
    },
    {
      "cell_type": "markdown",
      "metadata": {
        "id": "p9Q-OCC6CZR3"
      },
      "source": [
        "Next, we need to download several dictionary needed to analyse the comment."
      ]
    },
    {
      "cell_type": "code",
      "metadata": {
        "id": "qUqB06-F5Bx0",
        "colab": {
          "base_uri": "https://localhost:8080/"
        },
        "outputId": "fd87c669-b4f7-44ab-b901-c0b17597f55a"
      },
      "source": [
        "nltk.download('punkt')\n",
        "nltk.download('stopwords')"
      ],
      "execution_count": 65,
      "outputs": [
        {
          "output_type": "stream",
          "name": "stderr",
          "text": [
            "[nltk_data] Downloading package punkt to /root/nltk_data...\n",
            "[nltk_data]   Unzipping tokenizers/punkt.zip.\n",
            "[nltk_data] Downloading package stopwords to /root/nltk_data...\n",
            "[nltk_data]   Unzipping corpora/stopwords.zip.\n"
          ]
        },
        {
          "output_type": "execute_result",
          "data": {
            "text/plain": [
              "True"
            ]
          },
          "metadata": {},
          "execution_count": 65
        }
      ]
    },
    {
      "cell_type": "markdown",
      "metadata": {
        "id": "Z-jqNXKDAesd"
      },
      "source": [
        "Next, I am gonna analyse the sentiment of the comment of each product. However, the data is still a mess, so I am gonna clean it by removing punctuation and symbols by defining its function as clean_text."
      ]
    },
    {
      "cell_type": "code",
      "metadata": {
        "id": "SJKzPm3K5EEJ"
      },
      "source": [
        "default_stemmer = PorterStemmer()\n",
        "default_stopwords = stopwords.words(\n",
        "    'english')  # or any other list of your choice\n",
        "\n",
        "\n",
        "def clean_text(text, ):\n",
        "    def tokenize_text(text):\n",
        "        return [w for s in sent_tokenize(text) for w in word_tokenize(s)]\n",
        "\n",
        "    def remove_special_characters(text,\n",
        "                                  characters=string.punctuation.replace(\n",
        "                                      '-', '')):\n",
        "        tokens = tokenize_text(text)\n",
        "        pattern = re.compile('[{}]'.format(re.escape(characters)))\n",
        "        return ' '.join(filter(None, [pattern.sub('', t) for t in tokens]))\n",
        "\n",
        "    def remove_stopwords(text, stop_words=default_stopwords):\n",
        "        tokens = [w for w in tokenize_text(text) if w not in stop_words]\n",
        "        return ' '.join(tokens)\n",
        "\n",
        "    text = text.strip(' ')  # strip whitespaces\n",
        "    text = text.lower()  # lowercase\n",
        "    text = remove_special_characters(text)  # remove punctuation and symbols\n",
        "    #text.strip(' ') # strip whitespaces again?\n",
        "\n",
        "    return text"
      ],
      "execution_count": 66,
      "outputs": []
    },
    {
      "cell_type": "markdown",
      "metadata": {
        "id": "XQivrMN6CNcP"
      },
      "source": [
        "After defining the function to clean the data, I am gonna define a function to decide the sentiment of each comment."
      ]
    },
    {
      "cell_type": "code",
      "metadata": {
        "id": "IWn1UHh04dhi"
      },
      "source": [
        "def isNaN(num):\n",
        "    return num != num\n",
        "\n",
        "\n",
        "def sentimen_en(text):\n",
        "    if isNaN(text) == True:\n",
        "        return np.nan\n",
        "    else:\n",
        "        hasil = TextBlob(text).sentiment[0]\n",
        "        return hasil"
      ],
      "execution_count": 67,
      "outputs": []
    },
    {
      "cell_type": "markdown",
      "metadata": {
        "id": "Ih3G2P0HE4jE"
      },
      "source": [
        "From the wordcloud above, we can analyse that most of negative comments are about the product, delivery, store, etc. This could be the company feedbacks to improve the company, especially in products, delivery, and store.\n",
        "\n",
        "\n",
        "---\n",
        "# *Conclusion*\n",
        "\n",
        "By analyzing the sentiment of the comment, this can be the company consideration to improve their market. Since I only focusing on the negative sentiment, I recommend for the company to:\n",
        "- Take a look at the **quality of the product** since it is the most customer concern\n",
        "- Check your **delivery performence** since it is the second most customer concern\n",
        "- Pay attention on the **store**, it may has **problems** since the customer mentioned it frequently.\n"
      ]
    },
    {
      "cell_type": "markdown",
      "metadata": {
        "id": "h8THzEYZ7U4N"
      },
      "source": [
        "#Main Focus: Product Recommendation System\n",
        "\n",
        "\n",
        "---\n",
        "\n",
        "At this section, we want to make a recommendation system for the product. If we input a product ID number, this system will recomend product for this customer.\n",
        "First, we gonna look at the order dataset."
      ]
    },
    {
      "cell_type": "code",
      "metadata": {
        "id": "lcGlNwpSth31",
        "outputId": "70b633b4-6bb7-4f6c-f8b4-82009a89e85a",
        "colab": {
          "base_uri": "https://localhost:8080/",
          "height": 359
        }
      },
      "source": [
        "order.head()"
      ],
      "execution_count": 69,
      "outputs": [
        {
          "output_type": "execute_result",
          "data": {
            "text/plain": [
              "                           order_id order_status  order_products_value  \\\n",
              "0  b95df3cef5297e79ef709ba256518f6f    delivered                349.90   \n",
              "1  59af46052a799e80e2f0c665c587731d    delivered                 15.00   \n",
              "2  a3e6136894621db402a772c6bc72a12a    delivered                238.90   \n",
              "3  b675ea5a618922f6e679e30531b8957b    delivered                 29.99   \n",
              "4  195a8be6794c487fe6cfbb97b7c61902    delivered                295.99   \n",
              "\n",
              "   order_freight_value  order_items_qty  order_sellers_qty  \\\n",
              "0                13.84                1                  1   \n",
              "1                15.10                1                  1   \n",
              "2                18.00                1                  1   \n",
              "3                18.23                1                  1   \n",
              "4                47.65                1                  1   \n",
              "\n",
              "  order_purchase_timestamp            order_aproved_at  \\\n",
              "0      2017-01-31 17:19:01  2017-02-01 02:41:21.549551   \n",
              "1      2017-09-09 19:52:54  2017-09-10 20:03:31.535281   \n",
              "2      2017-01-30 17:00:09  2017-01-30 17:31:25.438253   \n",
              "3      2018-03-11 18:18:36  2018-03-11 18:30:37.931962   \n",
              "4      2017-04-20 08:01:08  2017-04-25 08:05:40.405383   \n",
              "\n",
              "  order_estimated_delivery_date order_delivered_customer_date  ...  \\\n",
              "0    2017-03-15 00:00:00.000000    2017-02-06 11:04:24.154259  ...   \n",
              "1    2017-10-02 00:00:00.000000    2017-09-13 20:17:41.296915  ...   \n",
              "2    2017-03-07 00:00:00.000000    2017-02-06 15:43:04.758566  ...   \n",
              "3    2018-04-03 00:00:00.000000    2018-04-03 20:36:43.778451  ...   \n",
              "4    2017-05-24 00:00:00.000000    2017-05-04 18:47:45.721758  ...   \n",
              "\n",
              "  product_name_lenght product_description_lenght product_photos_qty  \\\n",
              "0                  51                        625                  1   \n",
              "1                  44                       1428                  2   \n",
              "2                  55                        637                  1   \n",
              "3                  55                        617                  1   \n",
              "4                  49                        558                  2   \n",
              "\n",
              "                         product_id                         review_id  \\\n",
              "0  6cdd53843498f92890544667809f1595  b95df3cef5297e79ef709ba256518f6f   \n",
              "1  ae5cad88462eb7b7b61401e31c45618e  59af46052a799e80e2f0c665c587731d   \n",
              "2  0c9ff9d8ed9b9bdd825487b3a66e05f5  a3e6136894621db402a772c6bc72a12a   \n",
              "3  ad0a798e7941f3a5a2fb8139cb62ad78  b675ea5a618922f6e679e30531b8957b   \n",
              "4  eaf2046d4c87809247a30050ea13df03  195a8be6794c487fe6cfbb97b7c61902   \n",
              "\n",
              "   review_score  review_comment_title  \\\n",
              "0             5                   NaN   \n",
              "1             5                   NaN   \n",
              "2             5                   NaN   \n",
              "3             4                   NaN   \n",
              "4             5                   NaN   \n",
              "\n",
              "                              review_comment_message  \\\n",
              "0                                                NaN   \n",
              "1  entrega em 2 dias produto c boa qualidade otim...   \n",
              "2  produto veio antes do prazo informado muito ob...   \n",
              "3                                                NaN   \n",
              "4                                                NaN   \n",
              "\n",
              "         review_creation_date    review_answer_timestamp  \n",
              "0  2017-02-07 00:00:00.000000  2017-02-09 02:37:37+00:00  \n",
              "1  2017-09-14 00:00:00.000000  2017-09-15 03:43:47+00:00  \n",
              "2  2017-02-07 00:00:00.000000  2017-02-10 14:18:53+00:00  \n",
              "3  2018-04-04 00:00:00.000000  2018-04-05 02:52:31+00:00  \n",
              "4  2017-05-05 00:00:00.000000  2017-05-08 15:20:18+00:00  \n",
              "\n",
              "[5 rows x 25 columns]"
            ],
            "text/html": [
              "\n",
              "  <div id=\"df-c6cbfc92-5a42-434d-a2a9-d0004e5d329d\" class=\"colab-df-container\">\n",
              "    <div>\n",
              "<style scoped>\n",
              "    .dataframe tbody tr th:only-of-type {\n",
              "        vertical-align: middle;\n",
              "    }\n",
              "\n",
              "    .dataframe tbody tr th {\n",
              "        vertical-align: top;\n",
              "    }\n",
              "\n",
              "    .dataframe thead th {\n",
              "        text-align: right;\n",
              "    }\n",
              "</style>\n",
              "<table border=\"1\" class=\"dataframe\">\n",
              "  <thead>\n",
              "    <tr style=\"text-align: right;\">\n",
              "      <th></th>\n",
              "      <th>order_id</th>\n",
              "      <th>order_status</th>\n",
              "      <th>order_products_value</th>\n",
              "      <th>order_freight_value</th>\n",
              "      <th>order_items_qty</th>\n",
              "      <th>order_sellers_qty</th>\n",
              "      <th>order_purchase_timestamp</th>\n",
              "      <th>order_aproved_at</th>\n",
              "      <th>order_estimated_delivery_date</th>\n",
              "      <th>order_delivered_customer_date</th>\n",
              "      <th>...</th>\n",
              "      <th>product_name_lenght</th>\n",
              "      <th>product_description_lenght</th>\n",
              "      <th>product_photos_qty</th>\n",
              "      <th>product_id</th>\n",
              "      <th>review_id</th>\n",
              "      <th>review_score</th>\n",
              "      <th>review_comment_title</th>\n",
              "      <th>review_comment_message</th>\n",
              "      <th>review_creation_date</th>\n",
              "      <th>review_answer_timestamp</th>\n",
              "    </tr>\n",
              "  </thead>\n",
              "  <tbody>\n",
              "    <tr>\n",
              "      <th>0</th>\n",
              "      <td>b95df3cef5297e79ef709ba256518f6f</td>\n",
              "      <td>delivered</td>\n",
              "      <td>349.90</td>\n",
              "      <td>13.84</td>\n",
              "      <td>1</td>\n",
              "      <td>1</td>\n",
              "      <td>2017-01-31 17:19:01</td>\n",
              "      <td>2017-02-01 02:41:21.549551</td>\n",
              "      <td>2017-03-15 00:00:00.000000</td>\n",
              "      <td>2017-02-06 11:04:24.154259</td>\n",
              "      <td>...</td>\n",
              "      <td>51</td>\n",
              "      <td>625</td>\n",
              "      <td>1</td>\n",
              "      <td>6cdd53843498f92890544667809f1595</td>\n",
              "      <td>b95df3cef5297e79ef709ba256518f6f</td>\n",
              "      <td>5</td>\n",
              "      <td>NaN</td>\n",
              "      <td>NaN</td>\n",
              "      <td>2017-02-07 00:00:00.000000</td>\n",
              "      <td>2017-02-09 02:37:37+00:00</td>\n",
              "    </tr>\n",
              "    <tr>\n",
              "      <th>1</th>\n",
              "      <td>59af46052a799e80e2f0c665c587731d</td>\n",
              "      <td>delivered</td>\n",
              "      <td>15.00</td>\n",
              "      <td>15.10</td>\n",
              "      <td>1</td>\n",
              "      <td>1</td>\n",
              "      <td>2017-09-09 19:52:54</td>\n",
              "      <td>2017-09-10 20:03:31.535281</td>\n",
              "      <td>2017-10-02 00:00:00.000000</td>\n",
              "      <td>2017-09-13 20:17:41.296915</td>\n",
              "      <td>...</td>\n",
              "      <td>44</td>\n",
              "      <td>1428</td>\n",
              "      <td>2</td>\n",
              "      <td>ae5cad88462eb7b7b61401e31c45618e</td>\n",
              "      <td>59af46052a799e80e2f0c665c587731d</td>\n",
              "      <td>5</td>\n",
              "      <td>NaN</td>\n",
              "      <td>entrega em 2 dias produto c boa qualidade otim...</td>\n",
              "      <td>2017-09-14 00:00:00.000000</td>\n",
              "      <td>2017-09-15 03:43:47+00:00</td>\n",
              "    </tr>\n",
              "    <tr>\n",
              "      <th>2</th>\n",
              "      <td>a3e6136894621db402a772c6bc72a12a</td>\n",
              "      <td>delivered</td>\n",
              "      <td>238.90</td>\n",
              "      <td>18.00</td>\n",
              "      <td>1</td>\n",
              "      <td>1</td>\n",
              "      <td>2017-01-30 17:00:09</td>\n",
              "      <td>2017-01-30 17:31:25.438253</td>\n",
              "      <td>2017-03-07 00:00:00.000000</td>\n",
              "      <td>2017-02-06 15:43:04.758566</td>\n",
              "      <td>...</td>\n",
              "      <td>55</td>\n",
              "      <td>637</td>\n",
              "      <td>1</td>\n",
              "      <td>0c9ff9d8ed9b9bdd825487b3a66e05f5</td>\n",
              "      <td>a3e6136894621db402a772c6bc72a12a</td>\n",
              "      <td>5</td>\n",
              "      <td>NaN</td>\n",
              "      <td>produto veio antes do prazo informado muito ob...</td>\n",
              "      <td>2017-02-07 00:00:00.000000</td>\n",
              "      <td>2017-02-10 14:18:53+00:00</td>\n",
              "    </tr>\n",
              "    <tr>\n",
              "      <th>3</th>\n",
              "      <td>b675ea5a618922f6e679e30531b8957b</td>\n",
              "      <td>delivered</td>\n",
              "      <td>29.99</td>\n",
              "      <td>18.23</td>\n",
              "      <td>1</td>\n",
              "      <td>1</td>\n",
              "      <td>2018-03-11 18:18:36</td>\n",
              "      <td>2018-03-11 18:30:37.931962</td>\n",
              "      <td>2018-04-03 00:00:00.000000</td>\n",
              "      <td>2018-04-03 20:36:43.778451</td>\n",
              "      <td>...</td>\n",
              "      <td>55</td>\n",
              "      <td>617</td>\n",
              "      <td>1</td>\n",
              "      <td>ad0a798e7941f3a5a2fb8139cb62ad78</td>\n",
              "      <td>b675ea5a618922f6e679e30531b8957b</td>\n",
              "      <td>4</td>\n",
              "      <td>NaN</td>\n",
              "      <td>NaN</td>\n",
              "      <td>2018-04-04 00:00:00.000000</td>\n",
              "      <td>2018-04-05 02:52:31+00:00</td>\n",
              "    </tr>\n",
              "    <tr>\n",
              "      <th>4</th>\n",
              "      <td>195a8be6794c487fe6cfbb97b7c61902</td>\n",
              "      <td>delivered</td>\n",
              "      <td>295.99</td>\n",
              "      <td>47.65</td>\n",
              "      <td>1</td>\n",
              "      <td>1</td>\n",
              "      <td>2017-04-20 08:01:08</td>\n",
              "      <td>2017-04-25 08:05:40.405383</td>\n",
              "      <td>2017-05-24 00:00:00.000000</td>\n",
              "      <td>2017-05-04 18:47:45.721758</td>\n",
              "      <td>...</td>\n",
              "      <td>49</td>\n",
              "      <td>558</td>\n",
              "      <td>2</td>\n",
              "      <td>eaf2046d4c87809247a30050ea13df03</td>\n",
              "      <td>195a8be6794c487fe6cfbb97b7c61902</td>\n",
              "      <td>5</td>\n",
              "      <td>NaN</td>\n",
              "      <td>NaN</td>\n",
              "      <td>2017-05-05 00:00:00.000000</td>\n",
              "      <td>2017-05-08 15:20:18+00:00</td>\n",
              "    </tr>\n",
              "  </tbody>\n",
              "</table>\n",
              "<p>5 rows × 25 columns</p>\n",
              "</div>\n",
              "    <div class=\"colab-df-buttons\">\n",
              "\n",
              "  <div class=\"colab-df-container\">\n",
              "    <button class=\"colab-df-convert\" onclick=\"convertToInteractive('df-c6cbfc92-5a42-434d-a2a9-d0004e5d329d')\"\n",
              "            title=\"Convert this dataframe to an interactive table.\"\n",
              "            style=\"display:none;\">\n",
              "\n",
              "  <svg xmlns=\"http://www.w3.org/2000/svg\" height=\"24px\" viewBox=\"0 -960 960 960\">\n",
              "    <path d=\"M120-120v-720h720v720H120Zm60-500h600v-160H180v160Zm220 220h160v-160H400v160Zm0 220h160v-160H400v160ZM180-400h160v-160H180v160Zm440 0h160v-160H620v160ZM180-180h160v-160H180v160Zm440 0h160v-160H620v160Z\"/>\n",
              "  </svg>\n",
              "    </button>\n",
              "\n",
              "  <style>\n",
              "    .colab-df-container {\n",
              "      display:flex;\n",
              "      gap: 12px;\n",
              "    }\n",
              "\n",
              "    .colab-df-convert {\n",
              "      background-color: #E8F0FE;\n",
              "      border: none;\n",
              "      border-radius: 50%;\n",
              "      cursor: pointer;\n",
              "      display: none;\n",
              "      fill: #1967D2;\n",
              "      height: 32px;\n",
              "      padding: 0 0 0 0;\n",
              "      width: 32px;\n",
              "    }\n",
              "\n",
              "    .colab-df-convert:hover {\n",
              "      background-color: #E2EBFA;\n",
              "      box-shadow: 0px 1px 2px rgba(60, 64, 67, 0.3), 0px 1px 3px 1px rgba(60, 64, 67, 0.15);\n",
              "      fill: #174EA6;\n",
              "    }\n",
              "\n",
              "    .colab-df-buttons div {\n",
              "      margin-bottom: 4px;\n",
              "    }\n",
              "\n",
              "    [theme=dark] .colab-df-convert {\n",
              "      background-color: #3B4455;\n",
              "      fill: #D2E3FC;\n",
              "    }\n",
              "\n",
              "    [theme=dark] .colab-df-convert:hover {\n",
              "      background-color: #434B5C;\n",
              "      box-shadow: 0px 1px 3px 1px rgba(0, 0, 0, 0.15);\n",
              "      filter: drop-shadow(0px 1px 2px rgba(0, 0, 0, 0.3));\n",
              "      fill: #FFFFFF;\n",
              "    }\n",
              "  </style>\n",
              "\n",
              "    <script>\n",
              "      const buttonEl =\n",
              "        document.querySelector('#df-c6cbfc92-5a42-434d-a2a9-d0004e5d329d button.colab-df-convert');\n",
              "      buttonEl.style.display =\n",
              "        google.colab.kernel.accessAllowed ? 'block' : 'none';\n",
              "\n",
              "      async function convertToInteractive(key) {\n",
              "        const element = document.querySelector('#df-c6cbfc92-5a42-434d-a2a9-d0004e5d329d');\n",
              "        const dataTable =\n",
              "          await google.colab.kernel.invokeFunction('convertToInteractive',\n",
              "                                                    [key], {});\n",
              "        if (!dataTable) return;\n",
              "\n",
              "        const docLinkHtml = 'Like what you see? Visit the ' +\n",
              "          '<a target=\"_blank\" href=https://colab.research.google.com/notebooks/data_table.ipynb>data table notebook</a>'\n",
              "          + ' to learn more about interactive tables.';\n",
              "        element.innerHTML = '';\n",
              "        dataTable['output_type'] = 'display_data';\n",
              "        await google.colab.output.renderOutput(dataTable, element);\n",
              "        const docLink = document.createElement('div');\n",
              "        docLink.innerHTML = docLinkHtml;\n",
              "        element.appendChild(docLink);\n",
              "      }\n",
              "    </script>\n",
              "  </div>\n",
              "\n",
              "\n",
              "<div id=\"df-0a105049-ef9c-4064-ba56-e8aba419eab0\">\n",
              "  <button class=\"colab-df-quickchart\" onclick=\"quickchart('df-0a105049-ef9c-4064-ba56-e8aba419eab0')\"\n",
              "            title=\"Suggest charts.\"\n",
              "            style=\"display:none;\">\n",
              "\n",
              "<svg xmlns=\"http://www.w3.org/2000/svg\" height=\"24px\"viewBox=\"0 0 24 24\"\n",
              "     width=\"24px\">\n",
              "    <g>\n",
              "        <path d=\"M19 3H5c-1.1 0-2 .9-2 2v14c0 1.1.9 2 2 2h14c1.1 0 2-.9 2-2V5c0-1.1-.9-2-2-2zM9 17H7v-7h2v7zm4 0h-2V7h2v10zm4 0h-2v-4h2v4z\"/>\n",
              "    </g>\n",
              "</svg>\n",
              "  </button>\n",
              "\n",
              "<style>\n",
              "  .colab-df-quickchart {\n",
              "    background-color: #E8F0FE;\n",
              "    border: none;\n",
              "    border-radius: 50%;\n",
              "    cursor: pointer;\n",
              "    display: none;\n",
              "    fill: #1967D2;\n",
              "    height: 32px;\n",
              "    padding: 0 0 0 0;\n",
              "    width: 32px;\n",
              "  }\n",
              "\n",
              "  .colab-df-quickchart:hover {\n",
              "    background-color: #E2EBFA;\n",
              "    box-shadow: 0px 1px 2px rgba(60, 64, 67, 0.3), 0px 1px 3px 1px rgba(60, 64, 67, 0.15);\n",
              "    fill: #174EA6;\n",
              "  }\n",
              "\n",
              "  [theme=dark] .colab-df-quickchart {\n",
              "    background-color: #3B4455;\n",
              "    fill: #D2E3FC;\n",
              "  }\n",
              "\n",
              "  [theme=dark] .colab-df-quickchart:hover {\n",
              "    background-color: #434B5C;\n",
              "    box-shadow: 0px 1px 3px 1px rgba(0, 0, 0, 0.15);\n",
              "    filter: drop-shadow(0px 1px 2px rgba(0, 0, 0, 0.3));\n",
              "    fill: #FFFFFF;\n",
              "  }\n",
              "</style>\n",
              "\n",
              "  <script>\n",
              "    async function quickchart(key) {\n",
              "      const charts = await google.colab.kernel.invokeFunction(\n",
              "          'suggestCharts', [key], {});\n",
              "    }\n",
              "    (() => {\n",
              "      let quickchartButtonEl =\n",
              "        document.querySelector('#df-0a105049-ef9c-4064-ba56-e8aba419eab0 button');\n",
              "      quickchartButtonEl.style.display =\n",
              "        google.colab.kernel.accessAllowed ? 'block' : 'none';\n",
              "    })();\n",
              "  </script>\n",
              "</div>\n",
              "    </div>\n",
              "  </div>\n"
            ]
          },
          "metadata": {},
          "execution_count": 69
        }
      ]
    },
    {
      "cell_type": "markdown",
      "metadata": {
        "id": "gCcClKWn776N"
      },
      "source": [
        "We only need particular columns, so we slice the dataset and define new dataset as order_rating."
      ]
    },
    {
      "cell_type": "code",
      "metadata": {
        "id": "E_RCIO66DWl8"
      },
      "source": [
        "order_rating = order.loc[:, ['customer_id', 'product_id', 'review_score']]"
      ],
      "execution_count": 70,
      "outputs": []
    },
    {
      "cell_type": "code",
      "metadata": {
        "id": "6iUTHIU2ATho"
      },
      "source": [
        "order_rating = order_rating[order_rating['product_id'].isin(\n",
        "    order_rating['product_id'].value_counts()[\n",
        "        order_rating['product_id'].value_counts() > 10].index)]"
      ],
      "execution_count": 71,
      "outputs": []
    },
    {
      "cell_type": "code",
      "metadata": {
        "id": "pYOUqsVfHSzP"
      },
      "source": [
        "order_rating = order_rating.reset_index()"
      ],
      "execution_count": 72,
      "outputs": []
    },
    {
      "cell_type": "markdown",
      "metadata": {
        "id": "k39R7rQi8K1o"
      },
      "source": [
        "Moreover, we want to make a matrix between customers and products, and it will have score if the customer give review to particular products. The following is the matrix between customers and products."
      ]
    },
    {
      "cell_type": "code",
      "metadata": {
        "id": "kW5CZzi_GT8T",
        "outputId": "a4459253-a1e7-42a7-a403-08496176ce67",
        "colab": {
          "base_uri": "https://localhost:8080/",
          "height": 287
        }
      },
      "source": [
        "ratings_utility_matrix = order_rating.pivot_table(values='review_score',\n",
        "                                                  index='customer_id',\n",
        "                                                  columns='product_id',\n",
        "                                                  fill_value=0)\n",
        "ratings_utility_matrix.head()"
      ],
      "execution_count": 73,
      "outputs": [
        {
          "output_type": "execute_result",
          "data": {
            "text/plain": [
              "product_id                        001b72dfd63e9833e8c02742adf472e3  \\\n",
              "customer_id                                                          \n",
              "00012a2ce6f8dcda20d059ce98491703                                 0   \n",
              "0001dad3e429b2831bf4e392170a8e8c                                 0   \n",
              "00031a627dcb899baea17e751172bef3                                 0   \n",
              "000379cdec625522490c315e70c7a9fb                                 0   \n",
              "00038477de4e0f0ac327ae1dc2f273c3                                 0   \n",
              "\n",
              "product_id                        00250175f79f584c14ab5cecd80553cd  \\\n",
              "customer_id                                                          \n",
              "00012a2ce6f8dcda20d059ce98491703                                 0   \n",
              "0001dad3e429b2831bf4e392170a8e8c                                 0   \n",
              "00031a627dcb899baea17e751172bef3                                 0   \n",
              "000379cdec625522490c315e70c7a9fb                                 0   \n",
              "00038477de4e0f0ac327ae1dc2f273c3                                 0   \n",
              "\n",
              "product_id                        005030ef108f58b46b78116f754d8d38  \\\n",
              "customer_id                                                          \n",
              "00012a2ce6f8dcda20d059ce98491703                                 0   \n",
              "0001dad3e429b2831bf4e392170a8e8c                                 0   \n",
              "00031a627dcb899baea17e751172bef3                                 0   \n",
              "000379cdec625522490c315e70c7a9fb                                 0   \n",
              "00038477de4e0f0ac327ae1dc2f273c3                                 0   \n",
              "\n",
              "product_id                        008cff0e5792219fae03e570f980b330  \\\n",
              "customer_id                                                          \n",
              "00012a2ce6f8dcda20d059ce98491703                                 0   \n",
              "0001dad3e429b2831bf4e392170a8e8c                                 0   \n",
              "00031a627dcb899baea17e751172bef3                                 0   \n",
              "000379cdec625522490c315e70c7a9fb                                 0   \n",
              "00038477de4e0f0ac327ae1dc2f273c3                                 0   \n",
              "\n",
              "product_id                        00ba6d766f0b1d7b78a5ce3e1e033263  \\\n",
              "customer_id                                                          \n",
              "00012a2ce6f8dcda20d059ce98491703                                 0   \n",
              "0001dad3e429b2831bf4e392170a8e8c                                 0   \n",
              "00031a627dcb899baea17e751172bef3                                 0   \n",
              "000379cdec625522490c315e70c7a9fb                                 0   \n",
              "00038477de4e0f0ac327ae1dc2f273c3                                 0   \n",
              "\n",
              "product_id                        00baba5b58e274d0332a0c8a0a66f877  \\\n",
              "customer_id                                                          \n",
              "00012a2ce6f8dcda20d059ce98491703                                 0   \n",
              "0001dad3e429b2831bf4e392170a8e8c                                 0   \n",
              "00031a627dcb899baea17e751172bef3                                 0   \n",
              "000379cdec625522490c315e70c7a9fb                                 0   \n",
              "00038477de4e0f0ac327ae1dc2f273c3                                 0   \n",
              "\n",
              "product_id                        00de7f393d962717eeeb2d7131a40dba  \\\n",
              "customer_id                                                          \n",
              "00012a2ce6f8dcda20d059ce98491703                                 0   \n",
              "0001dad3e429b2831bf4e392170a8e8c                                 0   \n",
              "00031a627dcb899baea17e751172bef3                                 0   \n",
              "000379cdec625522490c315e70c7a9fb                                 0   \n",
              "00038477de4e0f0ac327ae1dc2f273c3                                 0   \n",
              "\n",
              "product_id                        00faa46f36261af8bbf3a4d37fa4841b  \\\n",
              "customer_id                                                          \n",
              "00012a2ce6f8dcda20d059ce98491703                                 0   \n",
              "0001dad3e429b2831bf4e392170a8e8c                                 0   \n",
              "00031a627dcb899baea17e751172bef3                                 0   \n",
              "000379cdec625522490c315e70c7a9fb                                 0   \n",
              "00038477de4e0f0ac327ae1dc2f273c3                                 0   \n",
              "\n",
              "product_id                        0110573bc9195aa810a4384f189f48f5  \\\n",
              "customer_id                                                          \n",
              "00012a2ce6f8dcda20d059ce98491703                                 0   \n",
              "0001dad3e429b2831bf4e392170a8e8c                                 0   \n",
              "00031a627dcb899baea17e751172bef3                                 0   \n",
              "000379cdec625522490c315e70c7a9fb                                 0   \n",
              "00038477de4e0f0ac327ae1dc2f273c3                                 0   \n",
              "\n",
              "product_id                        014a8a503291921f7b004a5215bb3c36  ...  \\\n",
              "customer_id                                                         ...   \n",
              "00012a2ce6f8dcda20d059ce98491703                                 0  ...   \n",
              "0001dad3e429b2831bf4e392170a8e8c                                 0  ...   \n",
              "00031a627dcb899baea17e751172bef3                                 0  ...   \n",
              "000379cdec625522490c315e70c7a9fb                                 0  ...   \n",
              "00038477de4e0f0ac327ae1dc2f273c3                                 0  ...   \n",
              "\n",
              "product_id                        fe95eb948375116da759c8ef60295001  \\\n",
              "customer_id                                                          \n",
              "00012a2ce6f8dcda20d059ce98491703                                 0   \n",
              "0001dad3e429b2831bf4e392170a8e8c                                 0   \n",
              "00031a627dcb899baea17e751172bef3                                 0   \n",
              "000379cdec625522490c315e70c7a9fb                                 0   \n",
              "00038477de4e0f0ac327ae1dc2f273c3                                 0   \n",
              "\n",
              "product_id                        fe9dfbe7f974621789683b7b78be2a16  \\\n",
              "customer_id                                                          \n",
              "00012a2ce6f8dcda20d059ce98491703                                 0   \n",
              "0001dad3e429b2831bf4e392170a8e8c                                 0   \n",
              "00031a627dcb899baea17e751172bef3                                 0   \n",
              "000379cdec625522490c315e70c7a9fb                                 0   \n",
              "00038477de4e0f0ac327ae1dc2f273c3                                 0   \n",
              "\n",
              "product_id                        fecf6223a3494f35362f670e571d2a04  \\\n",
              "customer_id                                                          \n",
              "00012a2ce6f8dcda20d059ce98491703                                 0   \n",
              "0001dad3e429b2831bf4e392170a8e8c                                 0   \n",
              "00031a627dcb899baea17e751172bef3                                 0   \n",
              "000379cdec625522490c315e70c7a9fb                                 0   \n",
              "00038477de4e0f0ac327ae1dc2f273c3                                 0   \n",
              "\n",
              "product_id                        fed5c40c27e1c88560a9e92d82ee0825  \\\n",
              "customer_id                                                          \n",
              "00012a2ce6f8dcda20d059ce98491703                                 0   \n",
              "0001dad3e429b2831bf4e392170a8e8c                                 0   \n",
              "00031a627dcb899baea17e751172bef3                                 0   \n",
              "000379cdec625522490c315e70c7a9fb                                 0   \n",
              "00038477de4e0f0ac327ae1dc2f273c3                                 0   \n",
              "\n",
              "product_id                        feee7d52babf4002f100a79183eb7989  \\\n",
              "customer_id                                                          \n",
              "00012a2ce6f8dcda20d059ce98491703                                 0   \n",
              "0001dad3e429b2831bf4e392170a8e8c                                 0   \n",
              "00031a627dcb899baea17e751172bef3                                 0   \n",
              "000379cdec625522490c315e70c7a9fb                                 0   \n",
              "00038477de4e0f0ac327ae1dc2f273c3                                 0   \n",
              "\n",
              "product_id                        ff55834c0b3272853dfe62340f2bb91b  \\\n",
              "customer_id                                                          \n",
              "00012a2ce6f8dcda20d059ce98491703                                 0   \n",
              "0001dad3e429b2831bf4e392170a8e8c                                 0   \n",
              "00031a627dcb899baea17e751172bef3                                 0   \n",
              "000379cdec625522490c315e70c7a9fb                                 0   \n",
              "00038477de4e0f0ac327ae1dc2f273c3                                 0   \n",
              "\n",
              "product_id                        ff5f8606556b625613f069a5a9a48966  \\\n",
              "customer_id                                                          \n",
              "00012a2ce6f8dcda20d059ce98491703                                 0   \n",
              "0001dad3e429b2831bf4e392170a8e8c                                 0   \n",
              "00031a627dcb899baea17e751172bef3                                 0   \n",
              "000379cdec625522490c315e70c7a9fb                                 0   \n",
              "00038477de4e0f0ac327ae1dc2f273c3                                 0   \n",
              "\n",
              "product_id                        ff7fccf8513f360157f0660fe51d1d88  \\\n",
              "customer_id                                                          \n",
              "00012a2ce6f8dcda20d059ce98491703                                 0   \n",
              "0001dad3e429b2831bf4e392170a8e8c                                 0   \n",
              "00031a627dcb899baea17e751172bef3                                 0   \n",
              "000379cdec625522490c315e70c7a9fb                                 0   \n",
              "00038477de4e0f0ac327ae1dc2f273c3                                 0   \n",
              "\n",
              "product_id                        ffb97eb64c6fe1baada2410288c04457  \\\n",
              "customer_id                                                          \n",
              "00012a2ce6f8dcda20d059ce98491703                                 0   \n",
              "0001dad3e429b2831bf4e392170a8e8c                                 0   \n",
              "00031a627dcb899baea17e751172bef3                                 0   \n",
              "000379cdec625522490c315e70c7a9fb                                 0   \n",
              "00038477de4e0f0ac327ae1dc2f273c3                                 0   \n",
              "\n",
              "product_id                        ffc9caf33e2d1e9f44e3e06da19085f7  \n",
              "customer_id                                                         \n",
              "00012a2ce6f8dcda20d059ce98491703                                 0  \n",
              "0001dad3e429b2831bf4e392170a8e8c                                 0  \n",
              "00031a627dcb899baea17e751172bef3                                 0  \n",
              "000379cdec625522490c315e70c7a9fb                                 0  \n",
              "00038477de4e0f0ac327ae1dc2f273c3                                 0  \n",
              "\n",
              "[5 rows x 1651 columns]"
            ],
            "text/html": [
              "\n",
              "  <div id=\"df-14f7e714-a367-4ee4-8615-b9a3408a9a19\" class=\"colab-df-container\">\n",
              "    <div>\n",
              "<style scoped>\n",
              "    .dataframe tbody tr th:only-of-type {\n",
              "        vertical-align: middle;\n",
              "    }\n",
              "\n",
              "    .dataframe tbody tr th {\n",
              "        vertical-align: top;\n",
              "    }\n",
              "\n",
              "    .dataframe thead th {\n",
              "        text-align: right;\n",
              "    }\n",
              "</style>\n",
              "<table border=\"1\" class=\"dataframe\">\n",
              "  <thead>\n",
              "    <tr style=\"text-align: right;\">\n",
              "      <th>product_id</th>\n",
              "      <th>001b72dfd63e9833e8c02742adf472e3</th>\n",
              "      <th>00250175f79f584c14ab5cecd80553cd</th>\n",
              "      <th>005030ef108f58b46b78116f754d8d38</th>\n",
              "      <th>008cff0e5792219fae03e570f980b330</th>\n",
              "      <th>00ba6d766f0b1d7b78a5ce3e1e033263</th>\n",
              "      <th>00baba5b58e274d0332a0c8a0a66f877</th>\n",
              "      <th>00de7f393d962717eeeb2d7131a40dba</th>\n",
              "      <th>00faa46f36261af8bbf3a4d37fa4841b</th>\n",
              "      <th>0110573bc9195aa810a4384f189f48f5</th>\n",
              "      <th>014a8a503291921f7b004a5215bb3c36</th>\n",
              "      <th>...</th>\n",
              "      <th>fe95eb948375116da759c8ef60295001</th>\n",
              "      <th>fe9dfbe7f974621789683b7b78be2a16</th>\n",
              "      <th>fecf6223a3494f35362f670e571d2a04</th>\n",
              "      <th>fed5c40c27e1c88560a9e92d82ee0825</th>\n",
              "      <th>feee7d52babf4002f100a79183eb7989</th>\n",
              "      <th>ff55834c0b3272853dfe62340f2bb91b</th>\n",
              "      <th>ff5f8606556b625613f069a5a9a48966</th>\n",
              "      <th>ff7fccf8513f360157f0660fe51d1d88</th>\n",
              "      <th>ffb97eb64c6fe1baada2410288c04457</th>\n",
              "      <th>ffc9caf33e2d1e9f44e3e06da19085f7</th>\n",
              "    </tr>\n",
              "    <tr>\n",
              "      <th>customer_id</th>\n",
              "      <th></th>\n",
              "      <th></th>\n",
              "      <th></th>\n",
              "      <th></th>\n",
              "      <th></th>\n",
              "      <th></th>\n",
              "      <th></th>\n",
              "      <th></th>\n",
              "      <th></th>\n",
              "      <th></th>\n",
              "      <th></th>\n",
              "      <th></th>\n",
              "      <th></th>\n",
              "      <th></th>\n",
              "      <th></th>\n",
              "      <th></th>\n",
              "      <th></th>\n",
              "      <th></th>\n",
              "      <th></th>\n",
              "      <th></th>\n",
              "      <th></th>\n",
              "    </tr>\n",
              "  </thead>\n",
              "  <tbody>\n",
              "    <tr>\n",
              "      <th>00012a2ce6f8dcda20d059ce98491703</th>\n",
              "      <td>0</td>\n",
              "      <td>0</td>\n",
              "      <td>0</td>\n",
              "      <td>0</td>\n",
              "      <td>0</td>\n",
              "      <td>0</td>\n",
              "      <td>0</td>\n",
              "      <td>0</td>\n",
              "      <td>0</td>\n",
              "      <td>0</td>\n",
              "      <td>...</td>\n",
              "      <td>0</td>\n",
              "      <td>0</td>\n",
              "      <td>0</td>\n",
              "      <td>0</td>\n",
              "      <td>0</td>\n",
              "      <td>0</td>\n",
              "      <td>0</td>\n",
              "      <td>0</td>\n",
              "      <td>0</td>\n",
              "      <td>0</td>\n",
              "    </tr>\n",
              "    <tr>\n",
              "      <th>0001dad3e429b2831bf4e392170a8e8c</th>\n",
              "      <td>0</td>\n",
              "      <td>0</td>\n",
              "      <td>0</td>\n",
              "      <td>0</td>\n",
              "      <td>0</td>\n",
              "      <td>0</td>\n",
              "      <td>0</td>\n",
              "      <td>0</td>\n",
              "      <td>0</td>\n",
              "      <td>0</td>\n",
              "      <td>...</td>\n",
              "      <td>0</td>\n",
              "      <td>0</td>\n",
              "      <td>0</td>\n",
              "      <td>0</td>\n",
              "      <td>0</td>\n",
              "      <td>0</td>\n",
              "      <td>0</td>\n",
              "      <td>0</td>\n",
              "      <td>0</td>\n",
              "      <td>0</td>\n",
              "    </tr>\n",
              "    <tr>\n",
              "      <th>00031a627dcb899baea17e751172bef3</th>\n",
              "      <td>0</td>\n",
              "      <td>0</td>\n",
              "      <td>0</td>\n",
              "      <td>0</td>\n",
              "      <td>0</td>\n",
              "      <td>0</td>\n",
              "      <td>0</td>\n",
              "      <td>0</td>\n",
              "      <td>0</td>\n",
              "      <td>0</td>\n",
              "      <td>...</td>\n",
              "      <td>0</td>\n",
              "      <td>0</td>\n",
              "      <td>0</td>\n",
              "      <td>0</td>\n",
              "      <td>0</td>\n",
              "      <td>0</td>\n",
              "      <td>0</td>\n",
              "      <td>0</td>\n",
              "      <td>0</td>\n",
              "      <td>0</td>\n",
              "    </tr>\n",
              "    <tr>\n",
              "      <th>000379cdec625522490c315e70c7a9fb</th>\n",
              "      <td>0</td>\n",
              "      <td>0</td>\n",
              "      <td>0</td>\n",
              "      <td>0</td>\n",
              "      <td>0</td>\n",
              "      <td>0</td>\n",
              "      <td>0</td>\n",
              "      <td>0</td>\n",
              "      <td>0</td>\n",
              "      <td>0</td>\n",
              "      <td>...</td>\n",
              "      <td>0</td>\n",
              "      <td>0</td>\n",
              "      <td>0</td>\n",
              "      <td>0</td>\n",
              "      <td>0</td>\n",
              "      <td>0</td>\n",
              "      <td>0</td>\n",
              "      <td>0</td>\n",
              "      <td>0</td>\n",
              "      <td>0</td>\n",
              "    </tr>\n",
              "    <tr>\n",
              "      <th>00038477de4e0f0ac327ae1dc2f273c3</th>\n",
              "      <td>0</td>\n",
              "      <td>0</td>\n",
              "      <td>0</td>\n",
              "      <td>0</td>\n",
              "      <td>0</td>\n",
              "      <td>0</td>\n",
              "      <td>0</td>\n",
              "      <td>0</td>\n",
              "      <td>0</td>\n",
              "      <td>0</td>\n",
              "      <td>...</td>\n",
              "      <td>0</td>\n",
              "      <td>0</td>\n",
              "      <td>0</td>\n",
              "      <td>0</td>\n",
              "      <td>0</td>\n",
              "      <td>0</td>\n",
              "      <td>0</td>\n",
              "      <td>0</td>\n",
              "      <td>0</td>\n",
              "      <td>0</td>\n",
              "    </tr>\n",
              "  </tbody>\n",
              "</table>\n",
              "<p>5 rows × 1651 columns</p>\n",
              "</div>\n",
              "    <div class=\"colab-df-buttons\">\n",
              "\n",
              "  <div class=\"colab-df-container\">\n",
              "    <button class=\"colab-df-convert\" onclick=\"convertToInteractive('df-14f7e714-a367-4ee4-8615-b9a3408a9a19')\"\n",
              "            title=\"Convert this dataframe to an interactive table.\"\n",
              "            style=\"display:none;\">\n",
              "\n",
              "  <svg xmlns=\"http://www.w3.org/2000/svg\" height=\"24px\" viewBox=\"0 -960 960 960\">\n",
              "    <path d=\"M120-120v-720h720v720H120Zm60-500h600v-160H180v160Zm220 220h160v-160H400v160Zm0 220h160v-160H400v160ZM180-400h160v-160H180v160Zm440 0h160v-160H620v160ZM180-180h160v-160H180v160Zm440 0h160v-160H620v160Z\"/>\n",
              "  </svg>\n",
              "    </button>\n",
              "\n",
              "  <style>\n",
              "    .colab-df-container {\n",
              "      display:flex;\n",
              "      gap: 12px;\n",
              "    }\n",
              "\n",
              "    .colab-df-convert {\n",
              "      background-color: #E8F0FE;\n",
              "      border: none;\n",
              "      border-radius: 50%;\n",
              "      cursor: pointer;\n",
              "      display: none;\n",
              "      fill: #1967D2;\n",
              "      height: 32px;\n",
              "      padding: 0 0 0 0;\n",
              "      width: 32px;\n",
              "    }\n",
              "\n",
              "    .colab-df-convert:hover {\n",
              "      background-color: #E2EBFA;\n",
              "      box-shadow: 0px 1px 2px rgba(60, 64, 67, 0.3), 0px 1px 3px 1px rgba(60, 64, 67, 0.15);\n",
              "      fill: #174EA6;\n",
              "    }\n",
              "\n",
              "    .colab-df-buttons div {\n",
              "      margin-bottom: 4px;\n",
              "    }\n",
              "\n",
              "    [theme=dark] .colab-df-convert {\n",
              "      background-color: #3B4455;\n",
              "      fill: #D2E3FC;\n",
              "    }\n",
              "\n",
              "    [theme=dark] .colab-df-convert:hover {\n",
              "      background-color: #434B5C;\n",
              "      box-shadow: 0px 1px 3px 1px rgba(0, 0, 0, 0.15);\n",
              "      filter: drop-shadow(0px 1px 2px rgba(0, 0, 0, 0.3));\n",
              "      fill: #FFFFFF;\n",
              "    }\n",
              "  </style>\n",
              "\n",
              "    <script>\n",
              "      const buttonEl =\n",
              "        document.querySelector('#df-14f7e714-a367-4ee4-8615-b9a3408a9a19 button.colab-df-convert');\n",
              "      buttonEl.style.display =\n",
              "        google.colab.kernel.accessAllowed ? 'block' : 'none';\n",
              "\n",
              "      async function convertToInteractive(key) {\n",
              "        const element = document.querySelector('#df-14f7e714-a367-4ee4-8615-b9a3408a9a19');\n",
              "        const dataTable =\n",
              "          await google.colab.kernel.invokeFunction('convertToInteractive',\n",
              "                                                    [key], {});\n",
              "        if (!dataTable) return;\n",
              "\n",
              "        const docLinkHtml = 'Like what you see? Visit the ' +\n",
              "          '<a target=\"_blank\" href=https://colab.research.google.com/notebooks/data_table.ipynb>data table notebook</a>'\n",
              "          + ' to learn more about interactive tables.';\n",
              "        element.innerHTML = '';\n",
              "        dataTable['output_type'] = 'display_data';\n",
              "        await google.colab.output.renderOutput(dataTable, element);\n",
              "        const docLink = document.createElement('div');\n",
              "        docLink.innerHTML = docLinkHtml;\n",
              "        element.appendChild(docLink);\n",
              "      }\n",
              "    </script>\n",
              "  </div>\n",
              "\n",
              "\n",
              "<div id=\"df-8c680d90-118b-440b-b487-c91478f1d97a\">\n",
              "  <button class=\"colab-df-quickchart\" onclick=\"quickchart('df-8c680d90-118b-440b-b487-c91478f1d97a')\"\n",
              "            title=\"Suggest charts.\"\n",
              "            style=\"display:none;\">\n",
              "\n",
              "<svg xmlns=\"http://www.w3.org/2000/svg\" height=\"24px\"viewBox=\"0 0 24 24\"\n",
              "     width=\"24px\">\n",
              "    <g>\n",
              "        <path d=\"M19 3H5c-1.1 0-2 .9-2 2v14c0 1.1.9 2 2 2h14c1.1 0 2-.9 2-2V5c0-1.1-.9-2-2-2zM9 17H7v-7h2v7zm4 0h-2V7h2v10zm4 0h-2v-4h2v4z\"/>\n",
              "    </g>\n",
              "</svg>\n",
              "  </button>\n",
              "\n",
              "<style>\n",
              "  .colab-df-quickchart {\n",
              "    background-color: #E8F0FE;\n",
              "    border: none;\n",
              "    border-radius: 50%;\n",
              "    cursor: pointer;\n",
              "    display: none;\n",
              "    fill: #1967D2;\n",
              "    height: 32px;\n",
              "    padding: 0 0 0 0;\n",
              "    width: 32px;\n",
              "  }\n",
              "\n",
              "  .colab-df-quickchart:hover {\n",
              "    background-color: #E2EBFA;\n",
              "    box-shadow: 0px 1px 2px rgba(60, 64, 67, 0.3), 0px 1px 3px 1px rgba(60, 64, 67, 0.15);\n",
              "    fill: #174EA6;\n",
              "  }\n",
              "\n",
              "  [theme=dark] .colab-df-quickchart {\n",
              "    background-color: #3B4455;\n",
              "    fill: #D2E3FC;\n",
              "  }\n",
              "\n",
              "  [theme=dark] .colab-df-quickchart:hover {\n",
              "    background-color: #434B5C;\n",
              "    box-shadow: 0px 1px 3px 1px rgba(0, 0, 0, 0.15);\n",
              "    filter: drop-shadow(0px 1px 2px rgba(0, 0, 0, 0.3));\n",
              "    fill: #FFFFFF;\n",
              "  }\n",
              "</style>\n",
              "\n",
              "  <script>\n",
              "    async function quickchart(key) {\n",
              "      const charts = await google.colab.kernel.invokeFunction(\n",
              "          'suggestCharts', [key], {});\n",
              "    }\n",
              "    (() => {\n",
              "      let quickchartButtonEl =\n",
              "        document.querySelector('#df-8c680d90-118b-440b-b487-c91478f1d97a button');\n",
              "      quickchartButtonEl.style.display =\n",
              "        google.colab.kernel.accessAllowed ? 'block' : 'none';\n",
              "    })();\n",
              "  </script>\n",
              "</div>\n",
              "    </div>\n",
              "  </div>\n"
            ]
          },
          "metadata": {},
          "execution_count": 73
        }
      ]
    },
    {
      "cell_type": "markdown",
      "metadata": {
        "id": "eobdtLLj8da7"
      },
      "source": [
        "As we can see, the shape of the matrix is quite big."
      ]
    },
    {
      "cell_type": "code",
      "metadata": {
        "id": "91FeLQy8Jr-u",
        "outputId": "c680addd-5647-42d6-df9b-cba93f37fe0b",
        "colab": {
          "base_uri": "https://localhost:8080/"
        }
      },
      "source": [
        "ratings_utility_matrix.shape"
      ],
      "execution_count": 74,
      "outputs": [
        {
          "output_type": "execute_result",
          "data": {
            "text/plain": [
              "(50012, 1651)"
            ]
          },
          "metadata": {},
          "execution_count": 74
        }
      ]
    },
    {
      "cell_type": "markdown",
      "metadata": {
        "id": "B7bB7-Ty9EfU"
      },
      "source": [
        "For easier analysis, we want to transpose the matrix and we can see the size below."
      ]
    },
    {
      "cell_type": "code",
      "metadata": {
        "id": "5grbSW7jJuzm",
        "outputId": "1cf0ebe5-44fe-41ef-a9ab-64531fa646de",
        "colab": {
          "base_uri": "https://localhost:8080/",
          "height": 287
        }
      },
      "source": [
        "X = ratings_utility_matrix.T\n",
        "X.head()"
      ],
      "execution_count": 75,
      "outputs": [
        {
          "output_type": "execute_result",
          "data": {
            "text/plain": [
              "customer_id                       00012a2ce6f8dcda20d059ce98491703  \\\n",
              "product_id                                                           \n",
              "001b72dfd63e9833e8c02742adf472e3                               0.0   \n",
              "00250175f79f584c14ab5cecd80553cd                               0.0   \n",
              "005030ef108f58b46b78116f754d8d38                               0.0   \n",
              "008cff0e5792219fae03e570f980b330                               0.0   \n",
              "00ba6d766f0b1d7b78a5ce3e1e033263                               0.0   \n",
              "\n",
              "customer_id                       0001dad3e429b2831bf4e392170a8e8c  \\\n",
              "product_id                                                           \n",
              "001b72dfd63e9833e8c02742adf472e3                               0.0   \n",
              "00250175f79f584c14ab5cecd80553cd                               0.0   \n",
              "005030ef108f58b46b78116f754d8d38                               0.0   \n",
              "008cff0e5792219fae03e570f980b330                               0.0   \n",
              "00ba6d766f0b1d7b78a5ce3e1e033263                               0.0   \n",
              "\n",
              "customer_id                       00031a627dcb899baea17e751172bef3  \\\n",
              "product_id                                                           \n",
              "001b72dfd63e9833e8c02742adf472e3                               0.0   \n",
              "00250175f79f584c14ab5cecd80553cd                               0.0   \n",
              "005030ef108f58b46b78116f754d8d38                               0.0   \n",
              "008cff0e5792219fae03e570f980b330                               0.0   \n",
              "00ba6d766f0b1d7b78a5ce3e1e033263                               0.0   \n",
              "\n",
              "customer_id                       000379cdec625522490c315e70c7a9fb  \\\n",
              "product_id                                                           \n",
              "001b72dfd63e9833e8c02742adf472e3                               0.0   \n",
              "00250175f79f584c14ab5cecd80553cd                               0.0   \n",
              "005030ef108f58b46b78116f754d8d38                               0.0   \n",
              "008cff0e5792219fae03e570f980b330                               0.0   \n",
              "00ba6d766f0b1d7b78a5ce3e1e033263                               0.0   \n",
              "\n",
              "customer_id                       00038477de4e0f0ac327ae1dc2f273c3  \\\n",
              "product_id                                                           \n",
              "001b72dfd63e9833e8c02742adf472e3                               0.0   \n",
              "00250175f79f584c14ab5cecd80553cd                               0.0   \n",
              "005030ef108f58b46b78116f754d8d38                               0.0   \n",
              "008cff0e5792219fae03e570f980b330                               0.0   \n",
              "00ba6d766f0b1d7b78a5ce3e1e033263                               0.0   \n",
              "\n",
              "customer_id                       0004164d20a9e969af783496f3408652  \\\n",
              "product_id                                                           \n",
              "001b72dfd63e9833e8c02742adf472e3                               0.0   \n",
              "00250175f79f584c14ab5cecd80553cd                               0.0   \n",
              "005030ef108f58b46b78116f754d8d38                               0.0   \n",
              "008cff0e5792219fae03e570f980b330                               0.0   \n",
              "00ba6d766f0b1d7b78a5ce3e1e033263                               0.0   \n",
              "\n",
              "customer_id                       0004e8e0600daf29de26bd60b8feb007  \\\n",
              "product_id                                                           \n",
              "001b72dfd63e9833e8c02742adf472e3                               0.0   \n",
              "00250175f79f584c14ab5cecd80553cd                               0.0   \n",
              "005030ef108f58b46b78116f754d8d38                               0.0   \n",
              "008cff0e5792219fae03e570f980b330                               0.0   \n",
              "00ba6d766f0b1d7b78a5ce3e1e033263                               0.0   \n",
              "\n",
              "customer_id                       000c88c401a87f064691b4bea3eb86b4  \\\n",
              "product_id                                                           \n",
              "001b72dfd63e9833e8c02742adf472e3                               0.0   \n",
              "00250175f79f584c14ab5cecd80553cd                               0.0   \n",
              "005030ef108f58b46b78116f754d8d38                               0.0   \n",
              "008cff0e5792219fae03e570f980b330                               0.0   \n",
              "00ba6d766f0b1d7b78a5ce3e1e033263                               0.0   \n",
              "\n",
              "customer_id                       000e943451fc2788ca6ac98a682f2f49  \\\n",
              "product_id                                                           \n",
              "001b72dfd63e9833e8c02742adf472e3                               0.0   \n",
              "00250175f79f584c14ab5cecd80553cd                               0.0   \n",
              "005030ef108f58b46b78116f754d8d38                               0.0   \n",
              "008cff0e5792219fae03e570f980b330                               0.0   \n",
              "00ba6d766f0b1d7b78a5ce3e1e033263                               0.0   \n",
              "\n",
              "customer_id                       000eac74d62085b7026a068cfa46b3e3  ...  \\\n",
              "product_id                                                          ...   \n",
              "001b72dfd63e9833e8c02742adf472e3                               0.0  ...   \n",
              "00250175f79f584c14ab5cecd80553cd                               0.0  ...   \n",
              "005030ef108f58b46b78116f754d8d38                               0.0  ...   \n",
              "008cff0e5792219fae03e570f980b330                               0.0  ...   \n",
              "00ba6d766f0b1d7b78a5ce3e1e033263                               0.0  ...   \n",
              "\n",
              "customer_id                       fff5169e583fd07fac9fec88962f189d  \\\n",
              "product_id                                                           \n",
              "001b72dfd63e9833e8c02742adf472e3                               0.0   \n",
              "00250175f79f584c14ab5cecd80553cd                               0.0   \n",
              "005030ef108f58b46b78116f754d8d38                               0.0   \n",
              "008cff0e5792219fae03e570f980b330                               0.0   \n",
              "00ba6d766f0b1d7b78a5ce3e1e033263                               0.0   \n",
              "\n",
              "customer_id                       fff55ba8dffa552b6fdfd86c2e806459  \\\n",
              "product_id                                                           \n",
              "001b72dfd63e9833e8c02742adf472e3                               0.0   \n",
              "00250175f79f584c14ab5cecd80553cd                               0.0   \n",
              "005030ef108f58b46b78116f754d8d38                               0.0   \n",
              "008cff0e5792219fae03e570f980b330                               0.0   \n",
              "00ba6d766f0b1d7b78a5ce3e1e033263                               0.0   \n",
              "\n",
              "customer_id                       fff5ca85c16ebb7e531dbd4a08756567  \\\n",
              "product_id                                                           \n",
              "001b72dfd63e9833e8c02742adf472e3                               0.0   \n",
              "00250175f79f584c14ab5cecd80553cd                               0.0   \n",
              "005030ef108f58b46b78116f754d8d38                               0.0   \n",
              "008cff0e5792219fae03e570f980b330                               0.0   \n",
              "00ba6d766f0b1d7b78a5ce3e1e033263                               0.0   \n",
              "\n",
              "customer_id                       fff7466a253c0e59499ea943462c10f9  \\\n",
              "product_id                                                           \n",
              "001b72dfd63e9833e8c02742adf472e3                               0.0   \n",
              "00250175f79f584c14ab5cecd80553cd                               0.0   \n",
              "005030ef108f58b46b78116f754d8d38                               0.0   \n",
              "008cff0e5792219fae03e570f980b330                               0.0   \n",
              "00ba6d766f0b1d7b78a5ce3e1e033263                               0.0   \n",
              "\n",
              "customer_id                       fff9b667c8b07d8f3a9b45e60cb16e20  \\\n",
              "product_id                                                           \n",
              "001b72dfd63e9833e8c02742adf472e3                               0.0   \n",
              "00250175f79f584c14ab5cecd80553cd                               0.0   \n",
              "005030ef108f58b46b78116f754d8d38                               0.0   \n",
              "008cff0e5792219fae03e570f980b330                               0.0   \n",
              "00ba6d766f0b1d7b78a5ce3e1e033263                               0.0   \n",
              "\n",
              "customer_id                       fffbc3192c60df9a7434b4cb1695fb18  \\\n",
              "product_id                                                           \n",
              "001b72dfd63e9833e8c02742adf472e3                               0.0   \n",
              "00250175f79f584c14ab5cecd80553cd                               0.0   \n",
              "005030ef108f58b46b78116f754d8d38                               0.0   \n",
              "008cff0e5792219fae03e570f980b330                               0.0   \n",
              "00ba6d766f0b1d7b78a5ce3e1e033263                               0.0   \n",
              "\n",
              "customer_id                       fffecc9f79fd8c764f843e9951b11341  \\\n",
              "product_id                                                           \n",
              "001b72dfd63e9833e8c02742adf472e3                               0.0   \n",
              "00250175f79f584c14ab5cecd80553cd                               0.0   \n",
              "005030ef108f58b46b78116f754d8d38                               0.0   \n",
              "008cff0e5792219fae03e570f980b330                               0.0   \n",
              "00ba6d766f0b1d7b78a5ce3e1e033263                               0.0   \n",
              "\n",
              "customer_id                       ffff42319e9b2d713724ae527742af25  \\\n",
              "product_id                                                           \n",
              "001b72dfd63e9833e8c02742adf472e3                               0.0   \n",
              "00250175f79f584c14ab5cecd80553cd                               0.0   \n",
              "005030ef108f58b46b78116f754d8d38                               0.0   \n",
              "008cff0e5792219fae03e570f980b330                               0.0   \n",
              "00ba6d766f0b1d7b78a5ce3e1e033263                               0.0   \n",
              "\n",
              "customer_id                       ffffa3172527f765de70084a7e53aae8  \\\n",
              "product_id                                                           \n",
              "001b72dfd63e9833e8c02742adf472e3                               0.0   \n",
              "00250175f79f584c14ab5cecd80553cd                               0.0   \n",
              "005030ef108f58b46b78116f754d8d38                               0.0   \n",
              "008cff0e5792219fae03e570f980b330                               0.0   \n",
              "00ba6d766f0b1d7b78a5ce3e1e033263                               0.0   \n",
              "\n",
              "customer_id                       ffffdd34d58526db84c9eeb26bb38e4f  \n",
              "product_id                                                          \n",
              "001b72dfd63e9833e8c02742adf472e3                               0.0  \n",
              "00250175f79f584c14ab5cecd80553cd                               0.0  \n",
              "005030ef108f58b46b78116f754d8d38                               0.0  \n",
              "008cff0e5792219fae03e570f980b330                               0.0  \n",
              "00ba6d766f0b1d7b78a5ce3e1e033263                               0.0  \n",
              "\n",
              "[5 rows x 50012 columns]"
            ],
            "text/html": [
              "\n",
              "  <div id=\"df-6e36db5b-461a-4418-ae5c-62e7fed937f5\" class=\"colab-df-container\">\n",
              "    <div>\n",
              "<style scoped>\n",
              "    .dataframe tbody tr th:only-of-type {\n",
              "        vertical-align: middle;\n",
              "    }\n",
              "\n",
              "    .dataframe tbody tr th {\n",
              "        vertical-align: top;\n",
              "    }\n",
              "\n",
              "    .dataframe thead th {\n",
              "        text-align: right;\n",
              "    }\n",
              "</style>\n",
              "<table border=\"1\" class=\"dataframe\">\n",
              "  <thead>\n",
              "    <tr style=\"text-align: right;\">\n",
              "      <th>customer_id</th>\n",
              "      <th>00012a2ce6f8dcda20d059ce98491703</th>\n",
              "      <th>0001dad3e429b2831bf4e392170a8e8c</th>\n",
              "      <th>00031a627dcb899baea17e751172bef3</th>\n",
              "      <th>000379cdec625522490c315e70c7a9fb</th>\n",
              "      <th>00038477de4e0f0ac327ae1dc2f273c3</th>\n",
              "      <th>0004164d20a9e969af783496f3408652</th>\n",
              "      <th>0004e8e0600daf29de26bd60b8feb007</th>\n",
              "      <th>000c88c401a87f064691b4bea3eb86b4</th>\n",
              "      <th>000e943451fc2788ca6ac98a682f2f49</th>\n",
              "      <th>000eac74d62085b7026a068cfa46b3e3</th>\n",
              "      <th>...</th>\n",
              "      <th>fff5169e583fd07fac9fec88962f189d</th>\n",
              "      <th>fff55ba8dffa552b6fdfd86c2e806459</th>\n",
              "      <th>fff5ca85c16ebb7e531dbd4a08756567</th>\n",
              "      <th>fff7466a253c0e59499ea943462c10f9</th>\n",
              "      <th>fff9b667c8b07d8f3a9b45e60cb16e20</th>\n",
              "      <th>fffbc3192c60df9a7434b4cb1695fb18</th>\n",
              "      <th>fffecc9f79fd8c764f843e9951b11341</th>\n",
              "      <th>ffff42319e9b2d713724ae527742af25</th>\n",
              "      <th>ffffa3172527f765de70084a7e53aae8</th>\n",
              "      <th>ffffdd34d58526db84c9eeb26bb38e4f</th>\n",
              "    </tr>\n",
              "    <tr>\n",
              "      <th>product_id</th>\n",
              "      <th></th>\n",
              "      <th></th>\n",
              "      <th></th>\n",
              "      <th></th>\n",
              "      <th></th>\n",
              "      <th></th>\n",
              "      <th></th>\n",
              "      <th></th>\n",
              "      <th></th>\n",
              "      <th></th>\n",
              "      <th></th>\n",
              "      <th></th>\n",
              "      <th></th>\n",
              "      <th></th>\n",
              "      <th></th>\n",
              "      <th></th>\n",
              "      <th></th>\n",
              "      <th></th>\n",
              "      <th></th>\n",
              "      <th></th>\n",
              "      <th></th>\n",
              "    </tr>\n",
              "  </thead>\n",
              "  <tbody>\n",
              "    <tr>\n",
              "      <th>001b72dfd63e9833e8c02742adf472e3</th>\n",
              "      <td>0.0</td>\n",
              "      <td>0.0</td>\n",
              "      <td>0.0</td>\n",
              "      <td>0.0</td>\n",
              "      <td>0.0</td>\n",
              "      <td>0.0</td>\n",
              "      <td>0.0</td>\n",
              "      <td>0.0</td>\n",
              "      <td>0.0</td>\n",
              "      <td>0.0</td>\n",
              "      <td>...</td>\n",
              "      <td>0.0</td>\n",
              "      <td>0.0</td>\n",
              "      <td>0.0</td>\n",
              "      <td>0.0</td>\n",
              "      <td>0.0</td>\n",
              "      <td>0.0</td>\n",
              "      <td>0.0</td>\n",
              "      <td>0.0</td>\n",
              "      <td>0.0</td>\n",
              "      <td>0.0</td>\n",
              "    </tr>\n",
              "    <tr>\n",
              "      <th>00250175f79f584c14ab5cecd80553cd</th>\n",
              "      <td>0.0</td>\n",
              "      <td>0.0</td>\n",
              "      <td>0.0</td>\n",
              "      <td>0.0</td>\n",
              "      <td>0.0</td>\n",
              "      <td>0.0</td>\n",
              "      <td>0.0</td>\n",
              "      <td>0.0</td>\n",
              "      <td>0.0</td>\n",
              "      <td>0.0</td>\n",
              "      <td>...</td>\n",
              "      <td>0.0</td>\n",
              "      <td>0.0</td>\n",
              "      <td>0.0</td>\n",
              "      <td>0.0</td>\n",
              "      <td>0.0</td>\n",
              "      <td>0.0</td>\n",
              "      <td>0.0</td>\n",
              "      <td>0.0</td>\n",
              "      <td>0.0</td>\n",
              "      <td>0.0</td>\n",
              "    </tr>\n",
              "    <tr>\n",
              "      <th>005030ef108f58b46b78116f754d8d38</th>\n",
              "      <td>0.0</td>\n",
              "      <td>0.0</td>\n",
              "      <td>0.0</td>\n",
              "      <td>0.0</td>\n",
              "      <td>0.0</td>\n",
              "      <td>0.0</td>\n",
              "      <td>0.0</td>\n",
              "      <td>0.0</td>\n",
              "      <td>0.0</td>\n",
              "      <td>0.0</td>\n",
              "      <td>...</td>\n",
              "      <td>0.0</td>\n",
              "      <td>0.0</td>\n",
              "      <td>0.0</td>\n",
              "      <td>0.0</td>\n",
              "      <td>0.0</td>\n",
              "      <td>0.0</td>\n",
              "      <td>0.0</td>\n",
              "      <td>0.0</td>\n",
              "      <td>0.0</td>\n",
              "      <td>0.0</td>\n",
              "    </tr>\n",
              "    <tr>\n",
              "      <th>008cff0e5792219fae03e570f980b330</th>\n",
              "      <td>0.0</td>\n",
              "      <td>0.0</td>\n",
              "      <td>0.0</td>\n",
              "      <td>0.0</td>\n",
              "      <td>0.0</td>\n",
              "      <td>0.0</td>\n",
              "      <td>0.0</td>\n",
              "      <td>0.0</td>\n",
              "      <td>0.0</td>\n",
              "      <td>0.0</td>\n",
              "      <td>...</td>\n",
              "      <td>0.0</td>\n",
              "      <td>0.0</td>\n",
              "      <td>0.0</td>\n",
              "      <td>0.0</td>\n",
              "      <td>0.0</td>\n",
              "      <td>0.0</td>\n",
              "      <td>0.0</td>\n",
              "      <td>0.0</td>\n",
              "      <td>0.0</td>\n",
              "      <td>0.0</td>\n",
              "    </tr>\n",
              "    <tr>\n",
              "      <th>00ba6d766f0b1d7b78a5ce3e1e033263</th>\n",
              "      <td>0.0</td>\n",
              "      <td>0.0</td>\n",
              "      <td>0.0</td>\n",
              "      <td>0.0</td>\n",
              "      <td>0.0</td>\n",
              "      <td>0.0</td>\n",
              "      <td>0.0</td>\n",
              "      <td>0.0</td>\n",
              "      <td>0.0</td>\n",
              "      <td>0.0</td>\n",
              "      <td>...</td>\n",
              "      <td>0.0</td>\n",
              "      <td>0.0</td>\n",
              "      <td>0.0</td>\n",
              "      <td>0.0</td>\n",
              "      <td>0.0</td>\n",
              "      <td>0.0</td>\n",
              "      <td>0.0</td>\n",
              "      <td>0.0</td>\n",
              "      <td>0.0</td>\n",
              "      <td>0.0</td>\n",
              "    </tr>\n",
              "  </tbody>\n",
              "</table>\n",
              "<p>5 rows × 50012 columns</p>\n",
              "</div>\n",
              "    <div class=\"colab-df-buttons\">\n",
              "\n",
              "  <div class=\"colab-df-container\">\n",
              "    <button class=\"colab-df-convert\" onclick=\"convertToInteractive('df-6e36db5b-461a-4418-ae5c-62e7fed937f5')\"\n",
              "            title=\"Convert this dataframe to an interactive table.\"\n",
              "            style=\"display:none;\">\n",
              "\n",
              "  <svg xmlns=\"http://www.w3.org/2000/svg\" height=\"24px\" viewBox=\"0 -960 960 960\">\n",
              "    <path d=\"M120-120v-720h720v720H120Zm60-500h600v-160H180v160Zm220 220h160v-160H400v160Zm0 220h160v-160H400v160ZM180-400h160v-160H180v160Zm440 0h160v-160H620v160ZM180-180h160v-160H180v160Zm440 0h160v-160H620v160Z\"/>\n",
              "  </svg>\n",
              "    </button>\n",
              "\n",
              "  <style>\n",
              "    .colab-df-container {\n",
              "      display:flex;\n",
              "      gap: 12px;\n",
              "    }\n",
              "\n",
              "    .colab-df-convert {\n",
              "      background-color: #E8F0FE;\n",
              "      border: none;\n",
              "      border-radius: 50%;\n",
              "      cursor: pointer;\n",
              "      display: none;\n",
              "      fill: #1967D2;\n",
              "      height: 32px;\n",
              "      padding: 0 0 0 0;\n",
              "      width: 32px;\n",
              "    }\n",
              "\n",
              "    .colab-df-convert:hover {\n",
              "      background-color: #E2EBFA;\n",
              "      box-shadow: 0px 1px 2px rgba(60, 64, 67, 0.3), 0px 1px 3px 1px rgba(60, 64, 67, 0.15);\n",
              "      fill: #174EA6;\n",
              "    }\n",
              "\n",
              "    .colab-df-buttons div {\n",
              "      margin-bottom: 4px;\n",
              "    }\n",
              "\n",
              "    [theme=dark] .colab-df-convert {\n",
              "      background-color: #3B4455;\n",
              "      fill: #D2E3FC;\n",
              "    }\n",
              "\n",
              "    [theme=dark] .colab-df-convert:hover {\n",
              "      background-color: #434B5C;\n",
              "      box-shadow: 0px 1px 3px 1px rgba(0, 0, 0, 0.15);\n",
              "      filter: drop-shadow(0px 1px 2px rgba(0, 0, 0, 0.3));\n",
              "      fill: #FFFFFF;\n",
              "    }\n",
              "  </style>\n",
              "\n",
              "    <script>\n",
              "      const buttonEl =\n",
              "        document.querySelector('#df-6e36db5b-461a-4418-ae5c-62e7fed937f5 button.colab-df-convert');\n",
              "      buttonEl.style.display =\n",
              "        google.colab.kernel.accessAllowed ? 'block' : 'none';\n",
              "\n",
              "      async function convertToInteractive(key) {\n",
              "        const element = document.querySelector('#df-6e36db5b-461a-4418-ae5c-62e7fed937f5');\n",
              "        const dataTable =\n",
              "          await google.colab.kernel.invokeFunction('convertToInteractive',\n",
              "                                                    [key], {});\n",
              "        if (!dataTable) return;\n",
              "\n",
              "        const docLinkHtml = 'Like what you see? Visit the ' +\n",
              "          '<a target=\"_blank\" href=https://colab.research.google.com/notebooks/data_table.ipynb>data table notebook</a>'\n",
              "          + ' to learn more about interactive tables.';\n",
              "        element.innerHTML = '';\n",
              "        dataTable['output_type'] = 'display_data';\n",
              "        await google.colab.output.renderOutput(dataTable, element);\n",
              "        const docLink = document.createElement('div');\n",
              "        docLink.innerHTML = docLinkHtml;\n",
              "        element.appendChild(docLink);\n",
              "      }\n",
              "    </script>\n",
              "  </div>\n",
              "\n",
              "\n",
              "<div id=\"df-49e69174-5116-4fb6-bab5-96f51d2ce691\">\n",
              "  <button class=\"colab-df-quickchart\" onclick=\"quickchart('df-49e69174-5116-4fb6-bab5-96f51d2ce691')\"\n",
              "            title=\"Suggest charts.\"\n",
              "            style=\"display:none;\">\n",
              "\n",
              "<svg xmlns=\"http://www.w3.org/2000/svg\" height=\"24px\"viewBox=\"0 0 24 24\"\n",
              "     width=\"24px\">\n",
              "    <g>\n",
              "        <path d=\"M19 3H5c-1.1 0-2 .9-2 2v14c0 1.1.9 2 2 2h14c1.1 0 2-.9 2-2V5c0-1.1-.9-2-2-2zM9 17H7v-7h2v7zm4 0h-2V7h2v10zm4 0h-2v-4h2v4z\"/>\n",
              "    </g>\n",
              "</svg>\n",
              "  </button>\n",
              "\n",
              "<style>\n",
              "  .colab-df-quickchart {\n",
              "    background-color: #E8F0FE;\n",
              "    border: none;\n",
              "    border-radius: 50%;\n",
              "    cursor: pointer;\n",
              "    display: none;\n",
              "    fill: #1967D2;\n",
              "    height: 32px;\n",
              "    padding: 0 0 0 0;\n",
              "    width: 32px;\n",
              "  }\n",
              "\n",
              "  .colab-df-quickchart:hover {\n",
              "    background-color: #E2EBFA;\n",
              "    box-shadow: 0px 1px 2px rgba(60, 64, 67, 0.3), 0px 1px 3px 1px rgba(60, 64, 67, 0.15);\n",
              "    fill: #174EA6;\n",
              "  }\n",
              "\n",
              "  [theme=dark] .colab-df-quickchart {\n",
              "    background-color: #3B4455;\n",
              "    fill: #D2E3FC;\n",
              "  }\n",
              "\n",
              "  [theme=dark] .colab-df-quickchart:hover {\n",
              "    background-color: #434B5C;\n",
              "    box-shadow: 0px 1px 3px 1px rgba(0, 0, 0, 0.15);\n",
              "    filter: drop-shadow(0px 1px 2px rgba(0, 0, 0, 0.3));\n",
              "    fill: #FFFFFF;\n",
              "  }\n",
              "</style>\n",
              "\n",
              "  <script>\n",
              "    async function quickchart(key) {\n",
              "      const charts = await google.colab.kernel.invokeFunction(\n",
              "          'suggestCharts', [key], {});\n",
              "    }\n",
              "    (() => {\n",
              "      let quickchartButtonEl =\n",
              "        document.querySelector('#df-49e69174-5116-4fb6-bab5-96f51d2ce691 button');\n",
              "      quickchartButtonEl.style.display =\n",
              "        google.colab.kernel.accessAllowed ? 'block' : 'none';\n",
              "    })();\n",
              "  </script>\n",
              "</div>\n",
              "    </div>\n",
              "  </div>\n"
            ]
          },
          "metadata": {},
          "execution_count": 75
        }
      ]
    },
    {
      "cell_type": "code",
      "metadata": {
        "id": "R5qOhiv8JzqN",
        "outputId": "c2234aaf-1692-4053-eb3f-adf172f59abd",
        "colab": {
          "base_uri": "https://localhost:8080/"
        }
      },
      "source": [
        "X.shape"
      ],
      "execution_count": 76,
      "outputs": [
        {
          "output_type": "execute_result",
          "data": {
            "text/plain": [
              "(1651, 50012)"
            ]
          },
          "metadata": {},
          "execution_count": 76
        }
      ]
    },
    {
      "cell_type": "markdown",
      "metadata": {
        "id": "Bbs-Kk2uHfLt"
      },
      "source": [
        "Next, I am going to define a function to build a recommendation system. This function will fit the data into the model. This function build using the truncated SVD matrix reducing the components to 10. This function output will be a correlation matrix for product pairwisely."
      ]
    },
    {
      "cell_type": "code",
      "metadata": {
        "id": "KyY4tvfr-IgX"
      },
      "source": [
        "def fitsystemrecommendation(ratings_utility_matrix):\n",
        "    X = ratings_utility_matrix.T\n",
        "    SVD = TruncatedSVD(n_components=10)\n",
        "    decomposed_matrix = SVD.fit_transform(X)\n",
        "    correlation_matrix = np.corrcoef(decomposed_matrix)\n",
        "    return correlation_matrix"
      ],
      "execution_count": 77,
      "outputs": []
    },
    {
      "cell_type": "markdown",
      "metadata": {
        "id": "5yqI-l-PIEsj"
      },
      "source": [
        "Next, I am gonna fit the matrix i have transpose before to fitsystemreccomention function."
      ]
    },
    {
      "cell_type": "code",
      "metadata": {
        "id": "s0wufTZ2GO4S"
      },
      "source": [
        "correlation_matrix = fitsystemrecommendation(ratings_utility_matrix)"
      ],
      "execution_count": 78,
      "outputs": []
    },
    {
      "cell_type": "markdown",
      "metadata": {
        "id": "7PYZJ65JIQBg"
      },
      "source": [
        "Moreover, I am gonna build a system recommendation function by inputing the product id, and this function will locate the first index found. Next, the function will show you the product that have high correlation with this product."
      ]
    },
    {
      "cell_type": "code",
      "metadata": {
        "id": "gb0xn8SCFtpx"
      },
      "source": [
        "def systemrecommendation(prod_id):\n",
        "    order_rating.index[order_rating['product_id'] == prod_id].tolist()[1]\n",
        "    product_names = list(X.index)\n",
        "    product_ID = product_names.index(prod_id)\n",
        "    correlation_product_ID = correlation_matrix[product_ID]\n",
        "    Recommend = list(X.index[correlation_product_ID > 0.70])\n",
        "    Recommend.remove(prod_id)\n",
        "    return pd.DataFrame(Recommend[0:9], columns=['Recommendation'])"
      ],
      "execution_count": 79,
      "outputs": []
    },
    {
      "cell_type": "markdown",
      "metadata": {
        "id": "KRJOSwFvInT7"
      },
      "source": [
        "For example, the following program show you the recommendation if you buy product with product id: '99a4788cb24856965c36a24e339b6058'."
      ]
    },
    {
      "cell_type": "code",
      "metadata": {
        "id": "HBzfAkLeEZ3r",
        "outputId": "a5f30e95-d4aa-43a1-af84-8b974dc9bdcd",
        "colab": {
          "base_uri": "https://localhost:8080/",
          "height": 331
        }
      },
      "source": [
        "systemrecommendation('001b72dfd63e9833e8c02742adf472e3')"
      ],
      "execution_count": 80,
      "outputs": [
        {
          "output_type": "execute_result",
          "data": {
            "text/plain": [
              "                     Recommendation\n",
              "0  00baba5b58e274d0332a0c8a0a66f877\n",
              "1  017692475c1c954ff597feda05131d73\n",
              "2  060f0122cdc8f25db4a0d7359fdae7b0\n",
              "3  0705b33fb285827a578fce4899f1b921\n",
              "4  083ffd30820b592e294de7ed668ff975\n",
              "5  08c63555bbee955cad9c6a9feab9e9d4\n",
              "6  090ab1523d3fe5832c09a55b7195e32b\n",
              "7  0aabfb375647d9738ad0f7b4ea3653b1\n",
              "8  0c79aab7a6a2449f932887fb3c8d0127"
            ],
            "text/html": [
              "\n",
              "  <div id=\"df-ef22815d-714b-4d1e-ad78-7d9b6607e491\" class=\"colab-df-container\">\n",
              "    <div>\n",
              "<style scoped>\n",
              "    .dataframe tbody tr th:only-of-type {\n",
              "        vertical-align: middle;\n",
              "    }\n",
              "\n",
              "    .dataframe tbody tr th {\n",
              "        vertical-align: top;\n",
              "    }\n",
              "\n",
              "    .dataframe thead th {\n",
              "        text-align: right;\n",
              "    }\n",
              "</style>\n",
              "<table border=\"1\" class=\"dataframe\">\n",
              "  <thead>\n",
              "    <tr style=\"text-align: right;\">\n",
              "      <th></th>\n",
              "      <th>Recommendation</th>\n",
              "    </tr>\n",
              "  </thead>\n",
              "  <tbody>\n",
              "    <tr>\n",
              "      <th>0</th>\n",
              "      <td>00baba5b58e274d0332a0c8a0a66f877</td>\n",
              "    </tr>\n",
              "    <tr>\n",
              "      <th>1</th>\n",
              "      <td>017692475c1c954ff597feda05131d73</td>\n",
              "    </tr>\n",
              "    <tr>\n",
              "      <th>2</th>\n",
              "      <td>060f0122cdc8f25db4a0d7359fdae7b0</td>\n",
              "    </tr>\n",
              "    <tr>\n",
              "      <th>3</th>\n",
              "      <td>0705b33fb285827a578fce4899f1b921</td>\n",
              "    </tr>\n",
              "    <tr>\n",
              "      <th>4</th>\n",
              "      <td>083ffd30820b592e294de7ed668ff975</td>\n",
              "    </tr>\n",
              "    <tr>\n",
              "      <th>5</th>\n",
              "      <td>08c63555bbee955cad9c6a9feab9e9d4</td>\n",
              "    </tr>\n",
              "    <tr>\n",
              "      <th>6</th>\n",
              "      <td>090ab1523d3fe5832c09a55b7195e32b</td>\n",
              "    </tr>\n",
              "    <tr>\n",
              "      <th>7</th>\n",
              "      <td>0aabfb375647d9738ad0f7b4ea3653b1</td>\n",
              "    </tr>\n",
              "    <tr>\n",
              "      <th>8</th>\n",
              "      <td>0c79aab7a6a2449f932887fb3c8d0127</td>\n",
              "    </tr>\n",
              "  </tbody>\n",
              "</table>\n",
              "</div>\n",
              "    <div class=\"colab-df-buttons\">\n",
              "\n",
              "  <div class=\"colab-df-container\">\n",
              "    <button class=\"colab-df-convert\" onclick=\"convertToInteractive('df-ef22815d-714b-4d1e-ad78-7d9b6607e491')\"\n",
              "            title=\"Convert this dataframe to an interactive table.\"\n",
              "            style=\"display:none;\">\n",
              "\n",
              "  <svg xmlns=\"http://www.w3.org/2000/svg\" height=\"24px\" viewBox=\"0 -960 960 960\">\n",
              "    <path d=\"M120-120v-720h720v720H120Zm60-500h600v-160H180v160Zm220 220h160v-160H400v160Zm0 220h160v-160H400v160ZM180-400h160v-160H180v160Zm440 0h160v-160H620v160ZM180-180h160v-160H180v160Zm440 0h160v-160H620v160Z\"/>\n",
              "  </svg>\n",
              "    </button>\n",
              "\n",
              "  <style>\n",
              "    .colab-df-container {\n",
              "      display:flex;\n",
              "      gap: 12px;\n",
              "    }\n",
              "\n",
              "    .colab-df-convert {\n",
              "      background-color: #E8F0FE;\n",
              "      border: none;\n",
              "      border-radius: 50%;\n",
              "      cursor: pointer;\n",
              "      display: none;\n",
              "      fill: #1967D2;\n",
              "      height: 32px;\n",
              "      padding: 0 0 0 0;\n",
              "      width: 32px;\n",
              "    }\n",
              "\n",
              "    .colab-df-convert:hover {\n",
              "      background-color: #E2EBFA;\n",
              "      box-shadow: 0px 1px 2px rgba(60, 64, 67, 0.3), 0px 1px 3px 1px rgba(60, 64, 67, 0.15);\n",
              "      fill: #174EA6;\n",
              "    }\n",
              "\n",
              "    .colab-df-buttons div {\n",
              "      margin-bottom: 4px;\n",
              "    }\n",
              "\n",
              "    [theme=dark] .colab-df-convert {\n",
              "      background-color: #3B4455;\n",
              "      fill: #D2E3FC;\n",
              "    }\n",
              "\n",
              "    [theme=dark] .colab-df-convert:hover {\n",
              "      background-color: #434B5C;\n",
              "      box-shadow: 0px 1px 3px 1px rgba(0, 0, 0, 0.15);\n",
              "      filter: drop-shadow(0px 1px 2px rgba(0, 0, 0, 0.3));\n",
              "      fill: #FFFFFF;\n",
              "    }\n",
              "  </style>\n",
              "\n",
              "    <script>\n",
              "      const buttonEl =\n",
              "        document.querySelector('#df-ef22815d-714b-4d1e-ad78-7d9b6607e491 button.colab-df-convert');\n",
              "      buttonEl.style.display =\n",
              "        google.colab.kernel.accessAllowed ? 'block' : 'none';\n",
              "\n",
              "      async function convertToInteractive(key) {\n",
              "        const element = document.querySelector('#df-ef22815d-714b-4d1e-ad78-7d9b6607e491');\n",
              "        const dataTable =\n",
              "          await google.colab.kernel.invokeFunction('convertToInteractive',\n",
              "                                                    [key], {});\n",
              "        if (!dataTable) return;\n",
              "\n",
              "        const docLinkHtml = 'Like what you see? Visit the ' +\n",
              "          '<a target=\"_blank\" href=https://colab.research.google.com/notebooks/data_table.ipynb>data table notebook</a>'\n",
              "          + ' to learn more about interactive tables.';\n",
              "        element.innerHTML = '';\n",
              "        dataTable['output_type'] = 'display_data';\n",
              "        await google.colab.output.renderOutput(dataTable, element);\n",
              "        const docLink = document.createElement('div');\n",
              "        docLink.innerHTML = docLinkHtml;\n",
              "        element.appendChild(docLink);\n",
              "      }\n",
              "    </script>\n",
              "  </div>\n",
              "\n",
              "\n",
              "<div id=\"df-f0c5fe2f-f1af-47e9-9366-02315bb58afe\">\n",
              "  <button class=\"colab-df-quickchart\" onclick=\"quickchart('df-f0c5fe2f-f1af-47e9-9366-02315bb58afe')\"\n",
              "            title=\"Suggest charts.\"\n",
              "            style=\"display:none;\">\n",
              "\n",
              "<svg xmlns=\"http://www.w3.org/2000/svg\" height=\"24px\"viewBox=\"0 0 24 24\"\n",
              "     width=\"24px\">\n",
              "    <g>\n",
              "        <path d=\"M19 3H5c-1.1 0-2 .9-2 2v14c0 1.1.9 2 2 2h14c1.1 0 2-.9 2-2V5c0-1.1-.9-2-2-2zM9 17H7v-7h2v7zm4 0h-2V7h2v10zm4 0h-2v-4h2v4z\"/>\n",
              "    </g>\n",
              "</svg>\n",
              "  </button>\n",
              "\n",
              "<style>\n",
              "  .colab-df-quickchart {\n",
              "    background-color: #E8F0FE;\n",
              "    border: none;\n",
              "    border-radius: 50%;\n",
              "    cursor: pointer;\n",
              "    display: none;\n",
              "    fill: #1967D2;\n",
              "    height: 32px;\n",
              "    padding: 0 0 0 0;\n",
              "    width: 32px;\n",
              "  }\n",
              "\n",
              "  .colab-df-quickchart:hover {\n",
              "    background-color: #E2EBFA;\n",
              "    box-shadow: 0px 1px 2px rgba(60, 64, 67, 0.3), 0px 1px 3px 1px rgba(60, 64, 67, 0.15);\n",
              "    fill: #174EA6;\n",
              "  }\n",
              "\n",
              "  [theme=dark] .colab-df-quickchart {\n",
              "    background-color: #3B4455;\n",
              "    fill: #D2E3FC;\n",
              "  }\n",
              "\n",
              "  [theme=dark] .colab-df-quickchart:hover {\n",
              "    background-color: #434B5C;\n",
              "    box-shadow: 0px 1px 3px 1px rgba(0, 0, 0, 0.15);\n",
              "    filter: drop-shadow(0px 1px 2px rgba(0, 0, 0, 0.3));\n",
              "    fill: #FFFFFF;\n",
              "  }\n",
              "</style>\n",
              "\n",
              "  <script>\n",
              "    async function quickchart(key) {\n",
              "      const charts = await google.colab.kernel.invokeFunction(\n",
              "          'suggestCharts', [key], {});\n",
              "    }\n",
              "    (() => {\n",
              "      let quickchartButtonEl =\n",
              "        document.querySelector('#df-f0c5fe2f-f1af-47e9-9366-02315bb58afe button');\n",
              "      quickchartButtonEl.style.display =\n",
              "        google.colab.kernel.accessAllowed ? 'block' : 'none';\n",
              "    })();\n",
              "  </script>\n",
              "</div>\n",
              "    </div>\n",
              "  </div>\n"
            ]
          },
          "metadata": {},
          "execution_count": 80
        }
      ]
    },
    {
      "cell_type": "markdown",
      "metadata": {
        "id": "scKSyM6lZusA"
      },
      "source": [
        "We can see the recommendation when we input product id: '001b72dfd63e9833e8c02742adf472e3'. By using the function I have defined, this recommendation have high correlation with the product. Therefore, I suggest the company to promote this recommendation product when the product inputted is purchased of viewed."
      ]
    },
    {
      "cell_type": "markdown",
      "metadata": {
        "id": "Hs8JadebKEj-"
      },
      "source": [
        "# *Conclusion*\n",
        "\n",
        "\n",
        "---\n",
        "\n",
        "This recommendation system can be used by the company to **promote the recommended product** after the user **purchase or interested** with the **currently viewed product**. By conduct this kind of promotion, your company does not randomly promote product. On the other hand, the product promoted has high correlation. Therefore, the customer **may purchased more** since interest product appeared frequently."
      ]
    },
    {
      "cell_type": "markdown",
      "metadata": {
        "id": "RME6jUBuWzKr"
      },
      "source": [
        "---\n",
        "To sum up, the analysis above can be the recommendation for the company to improve the market."
      ]
    }
  ]
}